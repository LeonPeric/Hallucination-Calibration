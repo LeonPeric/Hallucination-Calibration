{
 "cells": [
  {
   "cell_type": "code",
   "execution_count": 1,
   "metadata": {
    "ExecuteTime": {
     "end_time": "2024-05-23T22:34:06.687600300Z",
     "start_time": "2024-05-23T22:34:06.175759Z"
    }
   },
   "outputs": [],
   "source": [
    "%load_ext autoreload\n",
    "%autoreload 2"
   ]
  },
  {
   "cell_type": "code",
   "execution_count": 2,
   "metadata": {},
   "outputs": [],
   "source": [
    "import sys\n",
    "sys.path.append('../')"
   ]
  },
  {
   "cell_type": "code",
   "execution_count": 3,
   "metadata": {
    "ExecuteTime": {
     "end_time": "2024-05-23T22:34:08.894101600Z",
     "start_time": "2024-05-23T22:34:06.727603800Z"
    }
   },
   "outputs": [],
   "source": [
    "from src.lib.fact_dataset_generator import FactDatasetGenerator\n",
    "import numpy as np\n",
    "import sys\n",
    "import pandas as pd\n",
    "import torch\n",
    "import json"
   ]
  },
  {
   "cell_type": "markdown",
   "metadata": {},
   "source": [
    "# Embeddings Experiment\n",
    "\n",
    "## 1. Visualize hallucinations in training data space\n",
    "\n",
    "## 2. Check if hallucinations are close to monofacts (closest training point)\n",
    "\n",
    "## 3. Find Areas in the training data space with clustering\n",
    "\n",
    "## 4. Check if hallucination rate is higher in the clusters with lots of monofacts"
   ]
  },
  {
   "cell_type": "markdown",
   "metadata": {
    "collapsed": false,
    "jupyter": {
     "outputs_hidden": false
    }
   },
   "source": [
    "# Loading training data embeddings"
   ]
  },
  {
   "cell_type": "code",
   "execution_count": 4,
   "metadata": {
    "ExecuteTime": {
     "end_time": "2024-05-23T22:44:00.373454Z",
     "start_time": "2024-05-23T22:43:59.831453800Z"
    },
    "collapsed": false,
    "jupyter": {
     "outputs_hidden": false
    }
   },
   "outputs": [],
   "source": [
    "loaded_monofact_embeddings = []\n",
    "loaded_normal_fact_embeddings = []\n",
    "\n",
    "\n",
    "with open(\"../src/experiment/monofact_embeddings.json\",\"r\") as f:\n",
    "    for line in f:\n",
    "        loaded_monofact_embeddings.append(json.loads(line))\n",
    "with open(\"../src/experiment/normal_fact_embeddings.json\",\"r\") as f:\n",
    "    for line in f:\n",
    "        loaded_normal_fact_embeddings.append(json.loads(line))\n"
   ]
  },
  {
   "cell_type": "code",
   "execution_count": 21,
   "metadata": {
    "ExecuteTime": {
     "end_time": "2024-05-23T22:49:26.934300100Z",
     "start_time": "2024-05-23T22:49:26.723800100Z"
    },
    "collapsed": false,
    "jupyter": {
     "outputs_hidden": false
    }
   },
   "outputs": [],
   "source": [
    "monofact_embeddings = []\n",
    "normal_fact_embeddings = []\n",
    "all_training_embeddings = []\n",
    "embedding_of = []\n",
    "embedding_of_training = []\n",
    "\n",
    "for loaded_normal_fact, loaded_normal_fact_embedding in loaded_normal_fact_embeddings:\n",
    "    normal_fact_embeddings.append((loaded_normal_fact, torch.tensor(loaded_normal_fact_embedding)))\n",
    "    all_training_embeddings.append(torch.tensor(loaded_normal_fact_embedding))\n",
    "    embedding_of.append('Popular fact')\n",
    "    embedding_of_training.append('Popular fact')\n",
    "for loaded_monofact, loaded_monofact_embedding in loaded_monofact_embeddings:\n",
    "    monofact_embeddings.append((loaded_monofact, torch.tensor(loaded_monofact_embedding)))\n",
    "    all_training_embeddings.append(torch.tensor(loaded_monofact_embedding))\n",
    "    embedding_of.append('Monofact')\n",
    "    embedding_of_training.append('Monofact')"
   ]
  },
  {
   "cell_type": "code",
   "execution_count": 6,
   "metadata": {
    "ExecuteTime": {
     "end_time": "2024-05-23T22:46:36.658057Z",
     "start_time": "2024-05-23T22:46:36.487556600Z"
    },
    "collapsed": false,
    "jupyter": {
     "outputs_hidden": false
    }
   },
   "outputs": [],
   "source": [
    "all_training_embeddings_numpy = torch.cat([a.unsqueeze(0) for a in all_training_embeddings]).detach().numpy()"
   ]
  },
  {
   "cell_type": "code",
   "execution_count": 7,
   "metadata": {
    "ExecuteTime": {
     "end_time": "2024-05-23T22:58:15.941310700Z",
     "start_time": "2024-05-23T22:58:15.850310900Z"
    },
    "collapsed": false,
    "jupyter": {
     "outputs_hidden": false
    }
   },
   "outputs": [],
   "source": [
    "torch.cuda.empty_cache()"
   ]
  },
  {
   "cell_type": "code",
   "execution_count": 8,
   "metadata": {},
   "outputs": [
    {
     "data": {
      "text/plain": [
       "(800, 1536)"
      ]
     },
     "execution_count": 8,
     "metadata": {},
     "output_type": "execute_result"
    }
   ],
   "source": [
    "all_training_embeddings_numpy.shape"
   ]
  },
  {
   "cell_type": "markdown",
   "metadata": {},
   "source": [
    "# Load embeddings of generations"
   ]
  },
  {
   "cell_type": "code",
   "execution_count": 9,
   "metadata": {},
   "outputs": [],
   "source": [
    "generated_hallucinations_embeddings = []\n",
    "with open(\"../src/experiment/hallucination_embeddings.json\",\"r\") as f:\n",
    "    for line in f:\n",
    "        generated_hallucinations_embeddings.append(json.loads(line))\n",
    "\n",
    "generated_facts_embeddings = []\n",
    "with open(\"../src/experiment/generated_fact_embeddings.json\",\"r\") as f:\n",
    "    for line in f:\n",
    "        generation = json.loads(line)\n",
    "        is_hallucination = False\n",
    "\n",
    "        # Filter out hallucinations\n",
    "        for (hallucination, _) in generated_hallucinations_embeddings:\n",
    "            if str(generation[0]) == str(hallucination):\n",
    "                is_hallucination = True\n",
    "                break\n",
    "\n",
    "        if is_hallucination is False:\n",
    "            generated_facts_embeddings.append(generation)"
   ]
  },
  {
   "cell_type": "code",
   "execution_count": 10,
   "metadata": {},
   "outputs": [
    {
     "data": {
      "text/plain": [
       "(945, 55)"
      ]
     },
     "execution_count": 10,
     "metadata": {},
     "output_type": "execute_result"
    }
   ],
   "source": [
    "len(generated_facts_embeddings), len(generated_hallucinations_embeddings)"
   ]
  },
  {
   "cell_type": "markdown",
   "metadata": {},
   "source": [
    "# 1. Visualize training and hallucinations space"
   ]
  },
  {
   "cell_type": "markdown",
   "metadata": {},
   "source": [
    "### add hallucinations to embeddings to visualize"
   ]
  },
  {
   "cell_type": "code",
   "execution_count": 11,
   "metadata": {},
   "outputs": [],
   "source": [
    "hallucinations_embeddings_numpy = torch.cat([torch.Tensor(a[1]).unsqueeze(0) for a in generated_hallucinations_embeddings]).detach().numpy()"
   ]
  },
  {
   "cell_type": "code",
   "execution_count": 12,
   "metadata": {},
   "outputs": [
    {
     "data": {
      "text/plain": [
       "(55, 1536)"
      ]
     },
     "execution_count": 12,
     "metadata": {},
     "output_type": "execute_result"
    }
   ],
   "source": [
    "hallucinations_embeddings_numpy.shape"
   ]
  },
  {
   "cell_type": "code",
   "execution_count": 13,
   "metadata": {},
   "outputs": [],
   "source": [
    "numpy_to_plot = np.concatenate([all_training_embeddings_numpy, hallucinations_embeddings_numpy])\n",
    "\n",
    "import numpy as np\n",
    "from sklearn.manifold import TSNE\n",
    "# fit tsne on training samples\n",
    "tsne = TSNE(n_components=2, learning_rate='auto',\n",
    "                  init='random', perplexity=3)\n",
    "\n",
    "X_embedded = tsne.fit_transform(numpy_to_plot)"
   ]
  },
  {
   "cell_type": "code",
   "execution_count": 14,
   "metadata": {},
   "outputs": [],
   "source": [
    "embedding_of += (['Hallucination'] * len(generated_hallucinations_embeddings))"
   ]
  },
  {
   "cell_type": "code",
   "execution_count": 15,
   "metadata": {},
   "outputs": [],
   "source": [
    "import matplotlib.pyplot as plt"
   ]
  },
  {
   "cell_type": "code",
   "execution_count": 16,
   "metadata": {},
   "outputs": [],
   "source": [
    "colors = {\n",
    "    'Hallucination': 'red',\n",
    "    'Popular fact': 'lightblue',\n",
    "    'Monofact': 'purple'\n",
    "}"
   ]
  },
  {
   "cell_type": "code",
   "execution_count": 18,
   "metadata": {},
   "outputs": [
    {
     "data": {
      "image/png": "[encoded data removed]",
      "text/plain": [
       "<Figure size 1000x700 with 1 Axes>"
      ]
     },
     "metadata": {},
     "output_type": "display_data"
    }
   ],
   "source": [
    "unique_labels = set(embedding_of)\n",
    "label_color_map = {label: colors[label] for label in unique_labels}\n",
    "\n",
    "# Create scatter plot\n",
    "plt.figure(figsize=(10, 7))\n",
    "plt.scatter(X_embedded[:, 0], X_embedded[:, 1], c=[colors[c] for c in embedding_of])\n",
    "\n",
    "# Create a list of handles (proxy artists) for the legend\n",
    "handles = [plt.Line2D([0], [0], marker='o', color='w', markerfacecolor=color, markersize=10) for label, color in label_color_map.items()]\n",
    "labels = list(label_color_map.keys())\n",
    "\n",
    "# Add legend to the plot\n",
    "plt.legend(handles, labels, title=\"Legend\")\n",
    "\n",
    "# Show the plot\n",
    "# plt.savefig('../assets/hallucination_in_space.png', dpi=500)\n",
    "plt.show()"
   ]
  },
  {
   "cell_type": "markdown",
   "metadata": {},
   "source": [
    "# 2. Check to which points hallucinations vs true generations are closest"
   ]
  },
  {
   "cell_type": "code",
   "execution_count": 19,
   "metadata": {},
   "outputs": [],
   "source": [
    "from numpy import dot\n",
    "import numpy as np\n",
    "from numpy.linalg import norm\n",
    "\n",
    "def dist(tensor_a, tensor_b):\n",
    "    a = tensor_a.detach().numpy()\n",
    "    b = tensor_b.detach().numpy()\n",
    "    # return dot(a, b)/(norm(a)*norm(b))\n",
    "    return np.linalg.norm(a-b)"
   ]
  },
  {
   "cell_type": "code",
   "execution_count": 75,
   "metadata": {},
   "outputs": [],
   "source": [
    "def closest_different_point(embedding, top_k = 3):\n",
    "    smallest_dist = 1E9\n",
    "    result = None\n",
    "\n",
    "    distances = []\n",
    "    \n",
    "    for loaded_monofact, loaded_monofact_embedding in loaded_monofact_embeddings:\n",
    "        mf_embedding = torch.tensor(loaded_monofact_embedding)\n",
    "\n",
    "        d = dist(embedding, mf_embedding)\n",
    "        distances.append({'dist': d, 'type': 'Monofact'})\n",
    "\n",
    "    for loaded_normal_fact, loaded_normal_fact_embedding in loaded_normal_fact_embeddings:\n",
    "        nf_embedding = torch.tensor(loaded_normal_fact_embedding)\n",
    "\n",
    "        d = dist(embedding, nf_embedding)\n",
    "        distances.append({'dist': d, 'type': 'Popular Fact'})\n",
    "\n",
    "    return pd.DataFrame(distances).sort_values(by='dist').reset_index(drop=True)['type'].head(top_k).value_counts()"
   ]
  },
  {
   "cell_type": "code",
   "execution_count": 81,
   "metadata": {},
   "outputs": [],
   "source": [
    "from tqdm import tqdm"
   ]
  },
  {
   "cell_type": "code",
   "execution_count": null,
   "metadata": {
    "scrolled": true
   },
   "outputs": [
    {
     "name": "stderr",
     "output_type": "stream",
     "text": [
      "  0%|▏                                                                                                                   | 2/945 [00:00<02:41,  5.82it/s]"
     ]
    },
    {
     "name": "stdout",
     "output_type": "stream",
     "text": [
      "Generated True Fact {'Monofact': 3}\n",
      "Generated True Fact {'Popular Fact': 3}\n"
     ]
    },
    {
     "name": "stderr",
     "output_type": "stream",
     "text": [
      "  0%|▍                                                                                                                   | 4/945 [00:00<02:35,  6.06it/s]"
     ]
    },
    {
     "name": "stdout",
     "output_type": "stream",
     "text": [
      "Generated True Fact {'Popular Fact': 3}\n",
      "Generated True Fact {'Monofact': 3}\n"
     ]
    },
    {
     "name": "stderr",
     "output_type": "stream",
     "text": [
      "  1%|▋                                                                                                                   | 6/945 [00:01<02:32,  6.16it/s]"
     ]
    },
    {
     "name": "stdout",
     "output_type": "stream",
     "text": [
      "Generated True Fact {'Popular Fact': 3}\n",
      "Generated True Fact {'Monofact': 3}\n"
     ]
    },
    {
     "name": "stderr",
     "output_type": "stream",
     "text": [
      "  1%|▉                                                                                                                   | 8/945 [00:01<02:33,  6.09it/s]"
     ]
    },
    {
     "name": "stdout",
     "output_type": "stream",
     "text": [
      "Generated True Fact {'Popular Fact': 3}\n",
      "Generated True Fact {'Popular Fact': 3}\n"
     ]
    },
    {
     "name": "stderr",
     "output_type": "stream",
     "text": [
      "  1%|█▏                                                                                                                 | 10/945 [00:01<02:30,  6.23it/s]"
     ]
    },
    {
     "name": "stdout",
     "output_type": "stream",
     "text": [
      "Generated True Fact {'Popular Fact': 3}\n",
      "Generated True Fact {'Popular Fact': 3}\n"
     ]
    },
    {
     "name": "stderr",
     "output_type": "stream",
     "text": [
      "  1%|█▍                                                                                                                 | 12/945 [00:02<02:41,  5.78it/s]"
     ]
    },
    {
     "name": "stdout",
     "output_type": "stream",
     "text": [
      "Generated True Fact {'Monofact': 3}\n",
      "Generated True Fact {'Popular Fact': 3}\n"
     ]
    },
    {
     "name": "stderr",
     "output_type": "stream",
     "text": [
      "  1%|█▋                                                                                                                 | 14/945 [00:02<02:36,  5.93it/s]"
     ]
    },
    {
     "name": "stdout",
     "output_type": "stream",
     "text": [
      "Generated True Fact {'Popular Fact': 3}\n",
      "Generated True Fact {'Popular Fact': 3}\n"
     ]
    },
    {
     "name": "stderr",
     "output_type": "stream",
     "text": [
      "  2%|█▉                                                                                                                 | 16/945 [00:02<02:39,  5.81it/s]"
     ]
    },
    {
     "name": "stdout",
     "output_type": "stream",
     "text": [
      "Generated True Fact {'Popular Fact': 3}\n",
      "Generated True Fact {'Monofact': 3}\n"
     ]
    },
    {
     "name": "stderr",
     "output_type": "stream",
     "text": [
      "  2%|██▏                                                                                                                | 18/945 [00:03<02:36,  5.94it/s]"
     ]
    },
    {
     "name": "stdout",
     "output_type": "stream",
     "text": [
      "Generated True Fact {'Monofact': 3}\n",
      "Generated True Fact {'Popular Fact': 3}\n"
     ]
    },
    {
     "name": "stderr",
     "output_type": "stream",
     "text": [
      "  2%|██▍                                                                                                                | 20/945 [00:03<02:37,  5.86it/s]"
     ]
    },
    {
     "name": "stdout",
     "output_type": "stream",
     "text": [
      "Generated True Fact {'Monofact': 3}\n",
      "Generated True Fact {'Popular Fact': 3}\n"
     ]
    },
    {
     "name": "stderr",
     "output_type": "stream",
     "text": [
      "  2%|██▋                                                                                                                | 22/945 [00:03<02:29,  6.18it/s]"
     ]
    },
    {
     "name": "stdout",
     "output_type": "stream",
     "text": [
      "Generated True Fact {'Monofact': 3}\n",
      "Generated True Fact {'Monofact': 3}\n"
     ]
    },
    {
     "name": "stderr",
     "output_type": "stream",
     "text": [
      "  3%|██▉                                                                                                                | 24/945 [00:04<02:29,  6.16it/s]"
     ]
    },
    {
     "name": "stdout",
     "output_type": "stream",
     "text": [
      "Generated True Fact {'Monofact': 3}\n",
      "Generated True Fact {'Monofact': 3}\n"
     ]
    },
    {
     "name": "stderr",
     "output_type": "stream",
     "text": [
      "  3%|███                                                                                                                | 25/945 [00:04<02:32,  6.02it/s]"
     ]
    },
    {
     "name": "stdout",
     "output_type": "stream",
     "text": [
      "Generated True Fact {'Popular Fact': 2, 'Monofact': 1}\n"
     ]
    },
    {
     "name": "stderr",
     "output_type": "stream",
     "text": [
      "  3%|███▎                                                                                                               | 27/945 [00:04<02:40,  5.71it/s]"
     ]
    },
    {
     "name": "stdout",
     "output_type": "stream",
     "text": [
      "Generated True Fact {'Popular Fact': 3}\n",
      "Generated True Fact {'Monofact': 3}\n"
     ]
    },
    {
     "name": "stderr",
     "output_type": "stream",
     "text": [
      "  3%|███▌                                                                                                               | 29/945 [00:04<02:33,  5.95it/s]"
     ]
    },
    {
     "name": "stdout",
     "output_type": "stream",
     "text": [
      "Generated True Fact {'Monofact': 3}\n",
      "Generated True Fact {'Popular Fact': 3}\n"
     ]
    },
    {
     "name": "stderr",
     "output_type": "stream",
     "text": [
      "  3%|███▊                                                                                                               | 31/945 [00:05<02:33,  5.97it/s]"
     ]
    },
    {
     "name": "stdout",
     "output_type": "stream",
     "text": [
      "Generated True Fact {'Popular Fact': 2, 'Monofact': 1}\n",
      "Generated True Fact {'Monofact': 3}\n"
     ]
    },
    {
     "name": "stderr",
     "output_type": "stream",
     "text": [
      "  3%|████                                                                                                               | 33/945 [00:05<02:37,  5.80it/s]"
     ]
    },
    {
     "name": "stdout",
     "output_type": "stream",
     "text": [
      "Generated True Fact {'Monofact': 3}\n",
      "Generated True Fact {'Popular Fact': 2, 'Monofact': 1}\n"
     ]
    },
    {
     "name": "stderr",
     "output_type": "stream",
     "text": [
      "  4%|████▎                                                                                                              | 35/945 [00:05<02:28,  6.13it/s]"
     ]
    },
    {
     "name": "stdout",
     "output_type": "stream",
     "text": [
      "Generated True Fact {'Monofact': 3}\n",
      "Generated True Fact {'Popular Fact': 3}\n"
     ]
    },
    {
     "name": "stderr",
     "output_type": "stream",
     "text": [
      "  4%|████▌                                                                                                              | 37/945 [00:06<02:33,  5.93it/s]"
     ]
    },
    {
     "name": "stdout",
     "output_type": "stream",
     "text": [
      "Generated True Fact {'Monofact': 3}\n",
      "Generated True Fact {'Popular Fact': 2, 'Monofact': 1}\n"
     ]
    },
    {
     "name": "stderr",
     "output_type": "stream",
     "text": [
      "  4%|████▋                                                                                                              | 39/945 [00:06<02:32,  5.95it/s]"
     ]
    },
    {
     "name": "stdout",
     "output_type": "stream",
     "text": [
      "Generated True Fact {'Popular Fact': 2, 'Monofact': 1}\n",
      "Generated True Fact {'Popular Fact': 3}\n"
     ]
    },
    {
     "name": "stderr",
     "output_type": "stream",
     "text": [
      "  4%|████▉                                                                                                              | 41/945 [00:06<02:26,  6.17it/s]"
     ]
    },
    {
     "name": "stdout",
     "output_type": "stream",
     "text": [
      "Generated True Fact {'Monofact': 3}\n",
      "Generated True Fact {'Monofact': 3}\n"
     ]
    },
    {
     "name": "stderr",
     "output_type": "stream",
     "text": [
      "  5%|█████▏                                                                                                             | 43/945 [00:07<02:27,  6.13it/s]"
     ]
    },
    {
     "name": "stdout",
     "output_type": "stream",
     "text": [
      "Generated True Fact {'Popular Fact': 3}\n",
      "Generated True Fact {'Popular Fact': 3}\n"
     ]
    },
    {
     "name": "stderr",
     "output_type": "stream",
     "text": [
      "  5%|█████▍                                                                                                             | 45/945 [00:07<02:23,  6.28it/s]"
     ]
    },
    {
     "name": "stdout",
     "output_type": "stream",
     "text": [
      "Generated True Fact {'Popular Fact': 3}\n",
      "Generated True Fact {'Monofact': 3}\n"
     ]
    },
    {
     "name": "stderr",
     "output_type": "stream",
     "text": [
      "  5%|█████▋                                                                                                             | 47/945 [00:07<02:25,  6.15it/s]"
     ]
    },
    {
     "name": "stdout",
     "output_type": "stream",
     "text": [
      "Generated True Fact {'Monofact': 3}\n",
      "Generated True Fact {'Popular Fact': 3}\n"
     ]
    },
    {
     "name": "stderr",
     "output_type": "stream",
     "text": [
      "  5%|█████▉                                                                                                             | 49/945 [00:08<02:23,  6.26it/s]"
     ]
    },
    {
     "name": "stdout",
     "output_type": "stream",
     "text": [
      "Generated True Fact {'Popular Fact': 3}\n",
      "Generated True Fact {'Monofact': 3}\n"
     ]
    },
    {
     "name": "stderr",
     "output_type": "stream",
     "text": [
      "  5%|██████▏                                                                                                            | 51/945 [00:08<02:21,  6.31it/s]"
     ]
    },
    {
     "name": "stdout",
     "output_type": "stream",
     "text": [
      "Generated True Fact {'Popular Fact': 2, 'Monofact': 1}\n",
      "Generated True Fact {'Popular Fact': 3}\n"
     ]
    },
    {
     "name": "stderr",
     "output_type": "stream",
     "text": [
      "  6%|██████▍                                                                                                            | 53/945 [00:08<02:21,  6.29it/s]"
     ]
    },
    {
     "name": "stdout",
     "output_type": "stream",
     "text": [
      "Generated True Fact {'Monofact': 3}\n",
      "Generated True Fact {'Monofact': 3}\n"
     ]
    },
    {
     "name": "stderr",
     "output_type": "stream",
     "text": [
      "  6%|██████▋                                                                                                            | 55/945 [00:09<02:23,  6.20it/s]"
     ]
    },
    {
     "name": "stdout",
     "output_type": "stream",
     "text": [
      "Generated True Fact {'Popular Fact': 3}\n",
      "Generated True Fact {'Popular Fact': 3}\n"
     ]
    },
    {
     "name": "stderr",
     "output_type": "stream",
     "text": [
      "  6%|██████▉                                                                                                            | 57/945 [00:09<02:22,  6.25it/s]"
     ]
    },
    {
     "name": "stdout",
     "output_type": "stream",
     "text": [
      "Generated True Fact {'Popular Fact': 3}\n",
      "Generated True Fact {'Popular Fact': 3}\n"
     ]
    },
    {
     "name": "stderr",
     "output_type": "stream",
     "text": [
      "  6%|███████▏                                                                                                           | 59/945 [00:09<02:19,  6.33it/s]"
     ]
    },
    {
     "name": "stdout",
     "output_type": "stream",
     "text": [
      "Generated True Fact {'Monofact': 3}\n",
      "Generated True Fact {'Popular Fact': 3}\n"
     ]
    },
    {
     "name": "stderr",
     "output_type": "stream",
     "text": [
      "  6%|███████▍                                                                                                           | 61/945 [00:10<02:19,  6.33it/s]"
     ]
    },
    {
     "name": "stdout",
     "output_type": "stream",
     "text": [
      "Generated True Fact {'Popular Fact': 2, 'Monofact': 1}\n",
      "Generated True Fact {'Monofact': 3}\n"
     ]
    },
    {
     "name": "stderr",
     "output_type": "stream",
     "text": [
      "  7%|███████▋                                                                                                           | 63/945 [00:10<02:18,  6.38it/s]"
     ]
    },
    {
     "name": "stdout",
     "output_type": "stream",
     "text": [
      "Generated True Fact {'Monofact': 3}\n",
      "Generated True Fact {'Popular Fact': 3}\n"
     ]
    },
    {
     "name": "stderr",
     "output_type": "stream",
     "text": [
      "  7%|███████▉                                                                                                           | 65/945 [00:10<02:22,  6.18it/s]"
     ]
    },
    {
     "name": "stdout",
     "output_type": "stream",
     "text": [
      "Generated True Fact {'Monofact': 3}\n",
      "Generated True Fact {'Monofact': 3}\n"
     ]
    },
    {
     "name": "stderr",
     "output_type": "stream",
     "text": [
      "  7%|████████▏                                                                                                          | 67/945 [00:11<02:23,  6.13it/s]"
     ]
    },
    {
     "name": "stdout",
     "output_type": "stream",
     "text": [
      "Generated True Fact {'Popular Fact': 3}\n",
      "Generated True Fact {'Monofact': 3}\n"
     ]
    },
    {
     "name": "stderr",
     "output_type": "stream",
     "text": [
      "  7%|████████▍                                                                                                          | 69/945 [00:11<02:26,  5.99it/s]"
     ]
    },
    {
     "name": "stdout",
     "output_type": "stream",
     "text": [
      "Generated True Fact {'Monofact': 3}\n",
      "Generated True Fact {'Monofact': 3}\n"
     ]
    },
    {
     "name": "stderr",
     "output_type": "stream",
     "text": [
      "  8%|████████▋                                                                                                          | 71/945 [00:11<02:22,  6.13it/s]"
     ]
    },
    {
     "name": "stdout",
     "output_type": "stream",
     "text": [
      "Generated True Fact {'Monofact': 3}\n",
      "Generated True Fact {'Popular Fact': 3}\n"
     ]
    },
    {
     "name": "stderr",
     "output_type": "stream",
     "text": [
      "  8%|████████▉                                                                                                          | 73/945 [00:12<02:20,  6.22it/s]"
     ]
    },
    {
     "name": "stdout",
     "output_type": "stream",
     "text": [
      "Generated True Fact {'Monofact': 3}\n",
      "Generated True Fact {'Monofact': 3}\n"
     ]
    },
    {
     "name": "stderr",
     "output_type": "stream",
     "text": [
      "  8%|█████████▏                                                                                                         | 75/945 [00:12<02:19,  6.23it/s]"
     ]
    },
    {
     "name": "stdout",
     "output_type": "stream",
     "text": [
      "Generated True Fact {'Popular Fact': 2, 'Monofact': 1}\n",
      "Generated True Fact {'Monofact': 3}\n"
     ]
    },
    {
     "name": "stderr",
     "output_type": "stream",
     "text": [
      "  8%|█████████▎                                                                                                         | 77/945 [00:12<02:20,  6.19it/s]"
     ]
    },
    {
     "name": "stdout",
     "output_type": "stream",
     "text": [
      "Generated True Fact {'Monofact': 3}\n",
      "Generated True Fact {'Monofact': 3}\n"
     ]
    },
    {
     "name": "stderr",
     "output_type": "stream",
     "text": [
      "  8%|█████████▌                                                                                                         | 79/945 [00:13<02:22,  6.09it/s]"
     ]
    },
    {
     "name": "stdout",
     "output_type": "stream",
     "text": [
      "Generated True Fact {'Monofact': 3}\n",
      "Generated True Fact {'Monofact': 3}\n"
     ]
    },
    {
     "name": "stderr",
     "output_type": "stream",
     "text": [
      "  9%|█████████▊                                                                                                         | 81/945 [00:13<02:17,  6.28it/s]"
     ]
    },
    {
     "name": "stdout",
     "output_type": "stream",
     "text": [
      "Generated True Fact {'Monofact': 3}\n",
      "Generated True Fact {'Monofact': 3}\n"
     ]
    },
    {
     "name": "stderr",
     "output_type": "stream",
     "text": [
      "  9%|██████████                                                                                                         | 83/945 [00:13<02:19,  6.19it/s]"
     ]
    },
    {
     "name": "stdout",
     "output_type": "stream",
     "text": [
      "Generated True Fact {'Monofact': 3}\n",
      "Generated True Fact {'Monofact': 3}\n"
     ]
    },
    {
     "name": "stderr",
     "output_type": "stream",
     "text": [
      "  9%|██████████▎                                                                                                        | 85/945 [00:13<02:20,  6.11it/s]"
     ]
    },
    {
     "name": "stdout",
     "output_type": "stream",
     "text": [
      "Generated True Fact {'Monofact': 3}\n",
      "Generated True Fact {'Popular Fact': 3}\n"
     ]
    },
    {
     "name": "stderr",
     "output_type": "stream",
     "text": [
      "  9%|██████████▌                                                                                                        | 87/945 [00:14<02:20,  6.11it/s]"
     ]
    },
    {
     "name": "stdout",
     "output_type": "stream",
     "text": [
      "Generated True Fact {'Monofact': 3}\n",
      "Generated True Fact {'Monofact': 3}\n"
     ]
    },
    {
     "name": "stderr",
     "output_type": "stream",
     "text": [
      "  9%|██████████▊                                                                                                        | 89/945 [00:14<02:19,  6.12it/s]"
     ]
    },
    {
     "name": "stdout",
     "output_type": "stream",
     "text": [
      "Generated True Fact {'Popular Fact': 3}\n",
      "Generated True Fact {'Popular Fact': 3}\n"
     ]
    },
    {
     "name": "stderr",
     "output_type": "stream",
     "text": [
      " 10%|███████████                                                                                                        | 91/945 [00:14<02:18,  6.16it/s]"
     ]
    },
    {
     "name": "stdout",
     "output_type": "stream",
     "text": [
      "Generated True Fact {'Popular Fact': 3}\n",
      "Generated True Fact {'Monofact': 3}\n"
     ]
    },
    {
     "name": "stderr",
     "output_type": "stream",
     "text": [
      " 10%|███████████▎                                                                                                       | 93/945 [00:15<02:19,  6.11it/s]"
     ]
    },
    {
     "name": "stdout",
     "output_type": "stream",
     "text": [
      "Generated True Fact {'Popular Fact': 3}\n",
      "Generated True Fact {'Monofact': 3}\n"
     ]
    },
    {
     "name": "stderr",
     "output_type": "stream",
     "text": [
      " 10%|███████████▌                                                                                                       | 95/945 [00:15<02:20,  6.06it/s]"
     ]
    },
    {
     "name": "stdout",
     "output_type": "stream",
     "text": [
      "Generated True Fact {'Monofact': 3}\n",
      "Generated True Fact {'Popular Fact': 3}\n"
     ]
    },
    {
     "name": "stderr",
     "output_type": "stream",
     "text": [
      " 10%|███████████▊                                                                                                       | 97/945 [00:15<02:19,  6.06it/s]"
     ]
    },
    {
     "name": "stdout",
     "output_type": "stream",
     "text": [
      "Generated True Fact {'Monofact': 3}\n",
      "Generated True Fact {'Monofact': 3}\n"
     ]
    },
    {
     "name": "stderr",
     "output_type": "stream",
     "text": [
      " 10%|████████████                                                                                                       | 99/945 [00:16<02:16,  6.19it/s]"
     ]
    },
    {
     "name": "stdout",
     "output_type": "stream",
     "text": [
      "Generated True Fact {'Monofact': 3}\n",
      "Generated True Fact {'Monofact': 3}\n"
     ]
    },
    {
     "name": "stderr",
     "output_type": "stream",
     "text": [
      " 11%|████████████▏                                                                                                     | 101/945 [00:16<02:18,  6.09it/s]"
     ]
    },
    {
     "name": "stdout",
     "output_type": "stream",
     "text": [
      "Generated True Fact {'Monofact': 3}\n",
      "Generated True Fact {'Monofact': 3}\n"
     ]
    },
    {
     "name": "stderr",
     "output_type": "stream",
     "text": [
      " 11%|████████████▍                                                                                                     | 103/945 [00:16<02:27,  5.69it/s]"
     ]
    },
    {
     "name": "stdout",
     "output_type": "stream",
     "text": [
      "Generated True Fact {'Monofact': 3}\n",
      "Generated True Fact {'Monofact': 3}\n"
     ]
    },
    {
     "name": "stderr",
     "output_type": "stream",
     "text": [
      " 11%|████████████▋                                                                                                     | 105/945 [00:17<02:20,  5.99it/s]"
     ]
    },
    {
     "name": "stdout",
     "output_type": "stream",
     "text": [
      "Generated True Fact {'Monofact': 3}\n",
      "Generated True Fact {'Popular Fact': 3}\n"
     ]
    },
    {
     "name": "stderr",
     "output_type": "stream",
     "text": [
      " 11%|████████████▉                                                                                                     | 107/945 [00:17<02:16,  6.13it/s]"
     ]
    },
    {
     "name": "stdout",
     "output_type": "stream",
     "text": [
      "Generated True Fact {'Popular Fact': 3}\n",
      "Generated True Fact {'Popular Fact': 3}\n"
     ]
    },
    {
     "name": "stderr",
     "output_type": "stream",
     "text": [
      " 12%|█████████████▏                                                                                                    | 109/945 [00:17<02:17,  6.10it/s]"
     ]
    },
    {
     "name": "stdout",
     "output_type": "stream",
     "text": [
      "Generated True Fact {'Monofact': 3}\n",
      "Generated True Fact {'Popular Fact': 3}\n"
     ]
    },
    {
     "name": "stderr",
     "output_type": "stream",
     "text": [
      " 12%|█████████████▍                                                                                                    | 111/945 [00:18<02:18,  6.01it/s]"
     ]
    },
    {
     "name": "stdout",
     "output_type": "stream",
     "text": [
      "Generated True Fact {'Monofact': 3}\n",
      "Generated True Fact {'Monofact': 3}\n"
     ]
    },
    {
     "name": "stderr",
     "output_type": "stream",
     "text": [
      " 12%|█████████████▋                                                                                                    | 113/945 [00:18<02:15,  6.15it/s]"
     ]
    },
    {
     "name": "stdout",
     "output_type": "stream",
     "text": [
      "Generated True Fact {'Monofact': 3}\n",
      "Generated True Fact {'Monofact': 3}\n"
     ]
    },
    {
     "name": "stderr",
     "output_type": "stream",
     "text": [
      " 12%|█████████████▊                                                                                                    | 115/945 [00:18<02:12,  6.26it/s]"
     ]
    },
    {
     "name": "stdout",
     "output_type": "stream",
     "text": [
      "Generated True Fact {'Popular Fact': 3}\n",
      "Generated True Fact {'Monofact': 3}\n"
     ]
    },
    {
     "name": "stderr",
     "output_type": "stream",
     "text": [
      " 12%|██████████████                                                                                                    | 117/945 [00:19<02:16,  6.08it/s]"
     ]
    },
    {
     "name": "stdout",
     "output_type": "stream",
     "text": [
      "Generated True Fact {'Popular Fact': 3}\n",
      "Generated True Fact {'Popular Fact': 3}\n"
     ]
    },
    {
     "name": "stderr",
     "output_type": "stream",
     "text": [
      " 13%|██████████████▎                                                                                                   | 119/945 [00:19<02:16,  6.03it/s]"
     ]
    },
    {
     "name": "stdout",
     "output_type": "stream",
     "text": [
      "Generated True Fact {'Monofact': 3}\n",
      "Generated True Fact {'Monofact': 3}\n"
     ]
    },
    {
     "name": "stderr",
     "output_type": "stream",
     "text": [
      " 13%|██████████████▍                                                                                                   | 120/945 [00:19<02:14,  6.12it/s]"
     ]
    },
    {
     "name": "stdout",
     "output_type": "stream",
     "text": [
      "Generated True Fact {'Monofact': 3}\n"
     ]
    },
    {
     "name": "stderr",
     "output_type": "stream",
     "text": [
      " 13%|██████████████▋                                                                                                   | 122/945 [00:20<02:36,  5.26it/s]"
     ]
    },
    {
     "name": "stdout",
     "output_type": "stream",
     "text": [
      "Generated True Fact {'Popular Fact': 3}\n",
      "Generated True Fact {'Monofact': 3}\n"
     ]
    },
    {
     "name": "stderr",
     "output_type": "stream",
     "text": [
      " 13%|██████████████▉                                                                                                   | 124/945 [00:20<02:28,  5.51it/s]"
     ]
    },
    {
     "name": "stdout",
     "output_type": "stream",
     "text": [
      "Generated True Fact {'Popular Fact': 2, 'Monofact': 1}\n",
      "Generated True Fact {'Popular Fact': 3}\n"
     ]
    },
    {
     "name": "stderr",
     "output_type": "stream",
     "text": [
      " 13%|███████████████▏                                                                                                  | 126/945 [00:20<02:27,  5.56it/s]"
     ]
    },
    {
     "name": "stdout",
     "output_type": "stream",
     "text": [
      "Generated True Fact {'Popular Fact': 3}\n",
      "Generated True Fact {'Popular Fact': 3}\n"
     ]
    },
    {
     "name": "stderr",
     "output_type": "stream",
     "text": [
      " 14%|███████████████▍                                                                                                  | 128/945 [00:21<02:18,  5.90it/s]"
     ]
    },
    {
     "name": "stdout",
     "output_type": "stream",
     "text": [
      "Generated True Fact {'Popular Fact': 3}\n",
      "Generated True Fact {'Monofact': 3}\n"
     ]
    },
    {
     "name": "stderr",
     "output_type": "stream",
     "text": [
      " 14%|███████████████▋                                                                                                  | 130/945 [00:21<02:15,  6.02it/s]"
     ]
    },
    {
     "name": "stdout",
     "output_type": "stream",
     "text": [
      "Generated True Fact {'Monofact': 3}\n",
      "Generated True Fact {'Monofact': 3}\n"
     ]
    },
    {
     "name": "stderr",
     "output_type": "stream",
     "text": [
      " 14%|███████████████▉                                                                                                  | 132/945 [00:21<02:10,  6.25it/s]"
     ]
    },
    {
     "name": "stdout",
     "output_type": "stream",
     "text": [
      "Generated True Fact {'Monofact': 3}\n",
      "Generated True Fact {'Popular Fact': 3}\n"
     ]
    },
    {
     "name": "stderr",
     "output_type": "stream",
     "text": [
      " 14%|████████████████▏                                                                                                 | 134/945 [00:22<02:11,  6.18it/s]"
     ]
    },
    {
     "name": "stdout",
     "output_type": "stream",
     "text": [
      "Generated True Fact {'Monofact': 3}\n",
      "Generated True Fact {'Monofact': 3}\n"
     ]
    },
    {
     "name": "stderr",
     "output_type": "stream",
     "text": [
      " 14%|████████████████▍                                                                                                 | 136/945 [00:22<02:14,  6.03it/s]"
     ]
    },
    {
     "name": "stdout",
     "output_type": "stream",
     "text": [
      "Generated True Fact {'Monofact': 3}\n",
      "Generated True Fact {'Monofact': 3}\n"
     ]
    },
    {
     "name": "stderr",
     "output_type": "stream",
     "text": [
      " 15%|████████████████▋                                                                                                 | 138/945 [00:22<02:14,  6.00it/s]"
     ]
    },
    {
     "name": "stdout",
     "output_type": "stream",
     "text": [
      "Generated True Fact {'Popular Fact': 3}\n",
      "Generated True Fact {'Monofact': 2, 'Popular Fact': 1}\n"
     ]
    },
    {
     "name": "stderr",
     "output_type": "stream",
     "text": [
      " 15%|████████████████▉                                                                                                 | 140/945 [00:23<02:13,  6.03it/s]"
     ]
    },
    {
     "name": "stdout",
     "output_type": "stream",
     "text": [
      "Generated True Fact {'Popular Fact': 3}\n",
      "Generated True Fact {'Monofact': 3}\n"
     ]
    },
    {
     "name": "stderr",
     "output_type": "stream",
     "text": [
      " 15%|█████████████████▏                                                                                                | 142/945 [00:23<02:12,  6.07it/s]"
     ]
    },
    {
     "name": "stdout",
     "output_type": "stream",
     "text": [
      "Generated True Fact {'Monofact': 3}\n",
      "Generated True Fact {'Monofact': 3}\n"
     ]
    },
    {
     "name": "stderr",
     "output_type": "stream",
     "text": [
      " 15%|█████████████████▎                                                                                                | 144/945 [00:23<02:12,  6.03it/s]"
     ]
    },
    {
     "name": "stdout",
     "output_type": "stream",
     "text": [
      "Generated True Fact {'Popular Fact': 3}\n",
      "Generated True Fact {'Popular Fact': 3}\n"
     ]
    },
    {
     "name": "stderr",
     "output_type": "stream",
     "text": [
      " 15%|█████████████████▌                                                                                                | 146/945 [00:24<02:13,  5.97it/s]"
     ]
    },
    {
     "name": "stdout",
     "output_type": "stream",
     "text": [
      "Generated True Fact {'Popular Fact': 2, 'Monofact': 1}\n",
      "Generated True Fact {'Popular Fact': 3}\n"
     ]
    },
    {
     "name": "stderr",
     "output_type": "stream",
     "text": [
      " 16%|█████████████████▊                                                                                                | 148/945 [00:24<02:11,  6.05it/s]"
     ]
    },
    {
     "name": "stdout",
     "output_type": "stream",
     "text": [
      "Generated True Fact {'Popular Fact': 3}\n",
      "Generated True Fact {'Popular Fact': 3}\n"
     ]
    },
    {
     "name": "stderr",
     "output_type": "stream",
     "text": [
      " 16%|██████████████████                                                                                                | 150/945 [00:24<02:09,  6.15it/s]"
     ]
    },
    {
     "name": "stdout",
     "output_type": "stream",
     "text": [
      "Generated True Fact {'Popular Fact': 3}\n",
      "Generated True Fact {'Monofact': 3}\n"
     ]
    },
    {
     "name": "stderr",
     "output_type": "stream",
     "text": [
      " 16%|██████████████████▎                                                                                               | 152/945 [00:25<02:08,  6.15it/s]"
     ]
    },
    {
     "name": "stdout",
     "output_type": "stream",
     "text": [
      "Generated True Fact {'Monofact': 3}\n",
      "Generated True Fact {'Popular Fact': 3}\n"
     ]
    },
    {
     "name": "stderr",
     "output_type": "stream",
     "text": [
      " 16%|██████████████████▌                                                                                               | 154/945 [00:25<02:09,  6.10it/s]"
     ]
    },
    {
     "name": "stdout",
     "output_type": "stream",
     "text": [
      "Generated True Fact {'Monofact': 3}\n",
      "Generated True Fact {'Popular Fact': 3}\n"
     ]
    },
    {
     "name": "stderr",
     "output_type": "stream",
     "text": [
      " 17%|██████████████████▊                                                                                               | 156/945 [00:25<02:11,  6.01it/s]"
     ]
    },
    {
     "name": "stdout",
     "output_type": "stream",
     "text": [
      "Generated True Fact {'Popular Fact': 3}\n",
      "Generated True Fact {'Monofact': 3}\n"
     ]
    },
    {
     "name": "stderr",
     "output_type": "stream",
     "text": [
      " 17%|███████████████████                                                                                               | 158/945 [00:26<02:06,  6.24it/s]"
     ]
    },
    {
     "name": "stdout",
     "output_type": "stream",
     "text": [
      "Generated True Fact {'Popular Fact': 3}\n",
      "Generated True Fact {'Monofact': 3}\n"
     ]
    },
    {
     "name": "stderr",
     "output_type": "stream",
     "text": [
      " 17%|███████████████████▎                                                                                              | 160/945 [00:26<02:07,  6.17it/s]"
     ]
    },
    {
     "name": "stdout",
     "output_type": "stream",
     "text": [
      "Generated True Fact {'Monofact': 3}\n",
      "Generated True Fact {'Popular Fact': 2, 'Monofact': 1}\n"
     ]
    },
    {
     "name": "stderr",
     "output_type": "stream",
     "text": [
      " 17%|███████████████████▌                                                                                              | 162/945 [00:26<02:05,  6.26it/s]"
     ]
    },
    {
     "name": "stdout",
     "output_type": "stream",
     "text": [
      "Generated True Fact {'Monofact': 3}\n",
      "Generated True Fact {'Popular Fact': 3}\n"
     ]
    },
    {
     "name": "stderr",
     "output_type": "stream",
     "text": [
      " 17%|███████████████████▊                                                                                              | 164/945 [00:27<02:07,  6.14it/s]"
     ]
    },
    {
     "name": "stdout",
     "output_type": "stream",
     "text": [
      "Generated True Fact {'Monofact': 3}\n",
      "Generated True Fact {'Monofact': 3}\n"
     ]
    },
    {
     "name": "stderr",
     "output_type": "stream",
     "text": [
      " 18%|████████████████████                                                                                              | 166/945 [00:27<02:05,  6.19it/s]"
     ]
    },
    {
     "name": "stdout",
     "output_type": "stream",
     "text": [
      "Generated True Fact {'Monofact': 3}\n",
      "Generated True Fact {'Monofact': 3}\n"
     ]
    },
    {
     "name": "stderr",
     "output_type": "stream",
     "text": [
      " 18%|████████████████████▎                                                                                             | 168/945 [00:27<02:05,  6.17it/s]"
     ]
    },
    {
     "name": "stdout",
     "output_type": "stream",
     "text": [
      "Generated True Fact {'Monofact': 3}\n",
      "Generated True Fact {'Monofact': 3}\n"
     ]
    },
    {
     "name": "stderr",
     "output_type": "stream",
     "text": [
      " 18%|████████████████████▌                                                                                             | 170/945 [00:28<02:09,  5.96it/s]"
     ]
    },
    {
     "name": "stdout",
     "output_type": "stream",
     "text": [
      "Generated True Fact {'Monofact': 3}\n",
      "Generated True Fact {'Popular Fact': 3}\n"
     ]
    },
    {
     "name": "stderr",
     "output_type": "stream",
     "text": [
      " 18%|████████████████████▋                                                                                             | 172/945 [00:28<02:06,  6.10it/s]"
     ]
    },
    {
     "name": "stdout",
     "output_type": "stream",
     "text": [
      "Generated True Fact {'Popular Fact': 3}\n",
      "Generated True Fact {'Popular Fact': 3}\n"
     ]
    },
    {
     "name": "stderr",
     "output_type": "stream",
     "text": [
      " 18%|████████████████████▉                                                                                             | 174/945 [00:28<02:04,  6.17it/s]"
     ]
    },
    {
     "name": "stdout",
     "output_type": "stream",
     "text": [
      "Generated True Fact {'Monofact': 3}\n",
      "Generated True Fact {'Monofact': 3}\n"
     ]
    },
    {
     "name": "stderr",
     "output_type": "stream",
     "text": [
      " 19%|█████████████████████▏                                                                                            | 176/945 [00:29<02:09,  5.95it/s]"
     ]
    },
    {
     "name": "stdout",
     "output_type": "stream",
     "text": [
      "Generated True Fact {'Popular Fact': 3}\n",
      "Generated True Fact {'Popular Fact': 3}\n"
     ]
    },
    {
     "name": "stderr",
     "output_type": "stream",
     "text": [
      " 19%|█████████████████████▍                                                                                            | 178/945 [00:29<02:03,  6.22it/s]"
     ]
    },
    {
     "name": "stdout",
     "output_type": "stream",
     "text": [
      "Generated True Fact {'Monofact': 3}\n",
      "Generated True Fact {'Popular Fact': 3}\n"
     ]
    },
    {
     "name": "stderr",
     "output_type": "stream",
     "text": [
      " 19%|█████████████████████▋                                                                                            | 180/945 [00:29<02:01,  6.30it/s]"
     ]
    },
    {
     "name": "stdout",
     "output_type": "stream",
     "text": [
      "Generated True Fact {'Monofact': 3}\n",
      "Generated True Fact {'Monofact': 3}\n"
     ]
    },
    {
     "name": "stderr",
     "output_type": "stream",
     "text": [
      " 19%|█████████████████████▉                                                                                            | 182/945 [00:30<02:02,  6.25it/s]"
     ]
    },
    {
     "name": "stdout",
     "output_type": "stream",
     "text": [
      "Generated True Fact {'Popular Fact': 3}\n",
      "Generated True Fact {'Monofact': 3}\n"
     ]
    },
    {
     "name": "stderr",
     "output_type": "stream",
     "text": [
      " 19%|██████████████████████▏                                                                                           | 184/945 [00:30<02:02,  6.20it/s]"
     ]
    },
    {
     "name": "stdout",
     "output_type": "stream",
     "text": [
      "Generated True Fact {'Monofact': 3}\n",
      "Generated True Fact {'Popular Fact': 3}\n"
     ]
    },
    {
     "name": "stderr",
     "output_type": "stream",
     "text": [
      " 20%|██████████████████████▍                                                                                           | 186/945 [00:30<02:00,  6.29it/s]"
     ]
    },
    {
     "name": "stdout",
     "output_type": "stream",
     "text": [
      "Generated True Fact {'Monofact': 3}\n",
      "Generated True Fact {'Monofact': 3}\n"
     ]
    },
    {
     "name": "stderr",
     "output_type": "stream",
     "text": [
      " 20%|██████████████████████▋                                                                                           | 188/945 [00:31<02:03,  6.12it/s]"
     ]
    },
    {
     "name": "stdout",
     "output_type": "stream",
     "text": [
      "Generated True Fact {'Monofact': 3}\n",
      "Generated True Fact {'Monofact': 3}\n"
     ]
    },
    {
     "name": "stderr",
     "output_type": "stream",
     "text": [
      " 20%|██████████████████████▉                                                                                           | 190/945 [00:31<02:08,  5.86it/s]"
     ]
    },
    {
     "name": "stdout",
     "output_type": "stream",
     "text": [
      "Generated True Fact {'Monofact': 3}\n",
      "Generated True Fact {'Monofact': 3}\n"
     ]
    },
    {
     "name": "stderr",
     "output_type": "stream",
     "text": [
      " 20%|███████████████████████▏                                                                                          | 192/945 [00:31<02:04,  6.04it/s]"
     ]
    },
    {
     "name": "stdout",
     "output_type": "stream",
     "text": [
      "Generated True Fact {'Monofact': 3}\n",
      "Generated True Fact {'Popular Fact': 3}\n"
     ]
    },
    {
     "name": "stderr",
     "output_type": "stream",
     "text": [
      " 21%|███████████████████████▍                                                                                          | 194/945 [00:32<02:04,  6.02it/s]"
     ]
    },
    {
     "name": "stdout",
     "output_type": "stream",
     "text": [
      "Generated True Fact {'Monofact': 3}\n",
      "Generated True Fact {'Monofact': 3}\n"
     ]
    },
    {
     "name": "stderr",
     "output_type": "stream",
     "text": [
      " 21%|███████████████████████▋                                                                                          | 196/945 [00:32<02:02,  6.12it/s]"
     ]
    },
    {
     "name": "stdout",
     "output_type": "stream",
     "text": [
      "Generated True Fact {'Monofact': 3}\n",
      "Generated True Fact {'Monofact': 3}\n"
     ]
    },
    {
     "name": "stderr",
     "output_type": "stream",
     "text": [
      " 21%|███████████████████████▊                                                                                          | 197/945 [00:32<02:02,  6.13it/s]"
     ]
    }
   ],
   "source": [
    "result = []\n",
    "\n",
    "for embedding in tqdm(generated_facts_embeddings):\n",
    "    embedding = torch.Tensor(embedding[1])\n",
    "    closest = dict(closest_different_point(embedding, top_k=3))\n",
    "\n",
    "    closest_point = {'Monofact': 0, 'Hallucination': 0, 'Popular fact': 0}\n",
    "    closest_point.update(**closest)\n",
    "\n",
    "    closest_point['Point'] = 'Generated True Fact'\n",
    "\n",
    "    print('Generated True Fact', closest)\n",
    "\n",
    "    result.append(closest_point)"
   ]
  },
  {
   "cell_type": "code",
   "execution_count": null,
   "metadata": {},
   "outputs": [],
   "source": [
    "closest_to_true_facts = pd.DataFrame(result).groupby(by='Point').sum() / len(generated_facts_embeddings)\n",
    "closest_to_true_facts "
   ]
  },
  {
   "cell_type": "code",
   "execution_count": null,
   "metadata": {},
   "outputs": [],
   "source": [
    "result = []\n",
    "\n",
    "for embedding in tqdm(generated_hallucination_embeddings):\n",
    "    embedding = torch.Tensor(embedding[1])\n",
    "    closest = dict(closest_different_point(embedding, top_k=3))\n",
    "\n",
    "    closest_point = {'Monofact': 0, 'Hallucination': 0, 'Popular fact': 0}\n",
    "    closest_point.update(**closest)\n",
    "\n",
    "    closest_point['Point'] = 'Generated True Fact'\n",
    "\n",
    "    print('Generated True Fact', closest)\n",
    "\n",
    "    result.append(closest_point)"
   ]
  },
  {
   "cell_type": "code",
   "execution_count": null,
   "metadata": {},
   "outputs": [],
   "source": [
    "closest_to_hallucinations = pd.DataFrame(result).groupby(by='Point').sum() / len(generated_hallucination_embeddings)\n",
    "closest_to_hallucinations"
   ]
  },
  {
   "cell_type": "markdown",
   "metadata": {},
   "source": [
    "# 3. Find Areas in the training space with clustering"
   ]
  },
  {
   "cell_type": "code",
   "execution_count": 20,
   "metadata": {},
   "outputs": [],
   "source": [
    "from sklearn.cluster import KMeans"
   ]
  },
  {
   "cell_type": "code",
   "execution_count": 57,
   "metadata": {},
   "outputs": [],
   "source": [
    "def get_clustering_stats(n_clusters = 3):\n",
    "    kmeans = KMeans(n_clusters=n_clusters, random_state=0).fit(all_training_embeddings_numpy)\n",
    "    \n",
    "    training_labels = kmeans.labels_\n",
    "    hallucination_labels = kmeans.predict(hallucinations_embeddings_numpy)\n",
    "\n",
    "    cluster_stats = pd.DataFrame({'cluster': training_labels, 'monofact_count': [int(m == 'Monofact') for m in embedding_of_training], 'count': 1})\n",
    "    cluster_stats_grouped = cluster_stats.groupby(by='cluster').sum()\n",
    "    cluster_stats_grouped['monofact_rate'] = cluster_stats_grouped['monofact_count'] / cluster_stats_grouped['count']\n",
    "    cluster_stats_grouped['hallucination_count'] = cluster_stats_grouped.reset_index()['cluster'].apply(lambda x: pd.Series(hallucination_labels).value_counts().to_dict().get(x, 0))\n",
    "\n",
    "    hallucinations_to_training_size = len(generated_hallucinations_embeddings) / (len(normal_fact_embeddings) + len(monofact_embeddings))\n",
    "\n",
    "    cluster_stats_grouped['expected_hallucination_count'] = cluster_stats_grouped['count'] * hallucinations_to_training_size\n",
    "\n",
    "    monofact_rate = len(monofact_embeddings) / (len(normal_fact_embeddings) + len(monofact_embeddings))\n",
    "\n",
    "    cluster_stats_grouped['more_hallucinations_than_expected'] = cluster_stats_grouped['hallucination_count'] > cluster_stats_grouped['expected_hallucination_count']\n",
    "    cluster_stats_grouped['higher_monofact_rate_than_average'] = cluster_stats_grouped['monofact_rate'] > monofact_rate\n",
    "    \n",
    "    display(cluster_stats_grouped.sort_values(by='monofact_rate', ascending=False))\n",
    "\n",
    "\n",
    "    # PLOT CLUSTERS\n",
    "\n",
    "    import numpy as np\n",
    "    from sklearn.manifold import TSNE\n",
    "    # fit tsne on training samples\n",
    "    tsne = TSNE(n_components=2, learning_rate='auto',\n",
    "                      init='random', perplexity=3)\n",
    "    \n",
    "    X_embedded = tsne.fit_transform(all_training_embeddings_numpy)\n",
    "    \n",
    "    # Create scatter plot\n",
    "    plt.figure(figsize=(10, 7))\n",
    "    plt.scatter(X_embedded[:, 0], X_embedded[:, 1], c=[plt.get_cmap('tab10')(c) for c in training_labels])\n",
    "    \n",
    "    # Create a list of handles (proxy artists) for the legend\n",
    "    handles = [plt.Line2D([0], [0], marker='o', color='w', markerfacecolor=plt.get_cmap('tab10')(c), markersize=10) for c in range(len(cluster_stats_grouped))]\n",
    "    labels = list(range(len(cluster_stats_grouped)))\n",
    "    \n",
    "    # Add legend to the plot\n",
    "    plt.legend(handles, labels, title=\"Legend\")\n",
    "    \n",
    "    # Show the plot\n",
    "    plt.savefig(f'../assets/{n_clusters}_clusters.png', dpi=500)\n",
    "    plt.show()"
   ]
  },
  {
   "cell_type": "code",
   "execution_count": 58,
   "metadata": {},
   "outputs": [
    {
     "name": "stderr",
     "output_type": "stream",
     "text": [
      "/home/technet/miniconda3/envs/technet/lib/python3.11/site-packages/sklearn/cluster/_kmeans.py:1416: FutureWarning: The default value of `n_init` will change from 10 to 'auto' in 1.4. Set the value of `n_init` explicitly to suppress the warning\n",
      "  super()._check_params_vs_input(X, default_n_init=10)\n"
     ]
    },
    {
     "data": {
      "text/html": [
       "<div>\n",
       "<style scoped>\n",
       "    .dataframe tbody tr th:only-of-type {\n",
       "        vertical-align: middle;\n",
       "    }\n",
       "\n",
       "    .dataframe tbody tr th {\n",
       "        vertical-align: top;\n",
       "    }\n",
       "\n",
       "    .dataframe thead th {\n",
       "        text-align: right;\n",
       "    }\n",
       "</style>\n",
       "<table border=\"1\" class=\"dataframe\">\n",
       "  <thead>\n",
       "    <tr style=\"text-align: right;\">\n",
       "      <th></th>\n",
       "      <th>monofact_count</th>\n",
       "      <th>count</th>\n",
       "      <th>monofact_rate</th>\n",
       "      <th>hallucination_count</th>\n",
       "      <th>expected_hallucination_count</th>\n",
       "      <th>more_hallucinations_than_expected</th>\n",
       "      <th>higher_monofact_rate_than_average</th>\n",
       "    </tr>\n",
       "    <tr>\n",
       "      <th>cluster</th>\n",
       "      <th></th>\n",
       "      <th></th>\n",
       "      <th></th>\n",
       "      <th></th>\n",
       "      <th></th>\n",
       "      <th></th>\n",
       "      <th></th>\n",
       "    </tr>\n",
       "  </thead>\n",
       "  <tbody>\n",
       "    <tr>\n",
       "      <th>2</th>\n",
       "      <td>239</td>\n",
       "      <td>291</td>\n",
       "      <td>0.821306</td>\n",
       "      <td>24</td>\n",
       "      <td>20.00625</td>\n",
       "      <td>True</td>\n",
       "      <td>True</td>\n",
       "    </tr>\n",
       "    <tr>\n",
       "      <th>1</th>\n",
       "      <td>219</td>\n",
       "      <td>417</td>\n",
       "      <td>0.525180</td>\n",
       "      <td>30</td>\n",
       "      <td>28.66875</td>\n",
       "      <td>True</td>\n",
       "      <td>False</td>\n",
       "    </tr>\n",
       "    <tr>\n",
       "      <th>0</th>\n",
       "      <td>2</td>\n",
       "      <td>92</td>\n",
       "      <td>0.021739</td>\n",
       "      <td>1</td>\n",
       "      <td>6.32500</td>\n",
       "      <td>False</td>\n",
       "      <td>False</td>\n",
       "    </tr>\n",
       "  </tbody>\n",
       "</table>\n",
       "</div>"
      ],
      "text/plain": [
       "         monofact_count  count  monofact_rate  hallucination_count  \\\n",
       "cluster                                                              \n",
       "2                   239    291       0.821306                   24   \n",
       "1                   219    417       0.525180                   30   \n",
       "0                     2     92       0.021739                    1   \n",
       "\n",
       "         expected_hallucination_count  more_hallucinations_than_expected  \\\n",
       "cluster                                                                    \n",
       "2                            20.00625                               True   \n",
       "1                            28.66875                               True   \n",
       "0                             6.32500                              False   \n",
       "\n",
       "         higher_monofact_rate_than_average  \n",
       "cluster                                     \n",
       "2                                     True  \n",
       "1                                    False  \n",
       "0                                    False  "
      ]
     },
     "metadata": {},
     "output_type": "display_data"
    },
    {
     "data": {
      "image/png": "[encoded data removed]",
      "text/plain": [
       "<Figure size 1000x700 with 1 Axes>"
      ]
     },
     "metadata": {},
     "output_type": "display_data"
    }
   ],
   "source": [
    "get_clustering_stats(3)"
   ]
  },
  {
   "cell_type": "code",
   "execution_count": 59,
   "metadata": {},
   "outputs": [
    {
     "name": "stderr",
     "output_type": "stream",
     "text": [
      "/home/technet/miniconda3/envs/technet/lib/python3.11/site-packages/sklearn/cluster/_kmeans.py:1416: FutureWarning: The default value of `n_init` will change from 10 to 'auto' in 1.4. Set the value of `n_init` explicitly to suppress the warning\n",
      "  super()._check_params_vs_input(X, default_n_init=10)\n"
     ]
    },
    {
     "data": {
      "text/html": [
       "<div>\n",
       "<style scoped>\n",
       "    .dataframe tbody tr th:only-of-type {\n",
       "        vertical-align: middle;\n",
       "    }\n",
       "\n",
       "    .dataframe tbody tr th {\n",
       "        vertical-align: top;\n",
       "    }\n",
       "\n",
       "    .dataframe thead th {\n",
       "        text-align: right;\n",
       "    }\n",
       "</style>\n",
       "<table border=\"1\" class=\"dataframe\">\n",
       "  <thead>\n",
       "    <tr style=\"text-align: right;\">\n",
       "      <th></th>\n",
       "      <th>monofact_count</th>\n",
       "      <th>count</th>\n",
       "      <th>monofact_rate</th>\n",
       "      <th>hallucination_count</th>\n",
       "      <th>expected_hallucination_count</th>\n",
       "      <th>more_hallucinations_than_expected</th>\n",
       "      <th>higher_monofact_rate_than_average</th>\n",
       "    </tr>\n",
       "    <tr>\n",
       "      <th>cluster</th>\n",
       "      <th></th>\n",
       "      <th></th>\n",
       "      <th></th>\n",
       "      <th></th>\n",
       "      <th></th>\n",
       "      <th></th>\n",
       "      <th></th>\n",
       "    </tr>\n",
       "  </thead>\n",
       "  <tbody>\n",
       "    <tr>\n",
       "      <th>2</th>\n",
       "      <td>235</td>\n",
       "      <td>287</td>\n",
       "      <td>0.818815</td>\n",
       "      <td>24</td>\n",
       "      <td>19.73125</td>\n",
       "      <td>True</td>\n",
       "      <td>True</td>\n",
       "    </tr>\n",
       "    <tr>\n",
       "      <th>3</th>\n",
       "      <td>197</td>\n",
       "      <td>330</td>\n",
       "      <td>0.596970</td>\n",
       "      <td>29</td>\n",
       "      <td>22.68750</td>\n",
       "      <td>True</td>\n",
       "      <td>True</td>\n",
       "    </tr>\n",
       "    <tr>\n",
       "      <th>0</th>\n",
       "      <td>26</td>\n",
       "      <td>91</td>\n",
       "      <td>0.285714</td>\n",
       "      <td>1</td>\n",
       "      <td>6.25625</td>\n",
       "      <td>False</td>\n",
       "      <td>False</td>\n",
       "    </tr>\n",
       "    <tr>\n",
       "      <th>1</th>\n",
       "      <td>2</td>\n",
       "      <td>92</td>\n",
       "      <td>0.021739</td>\n",
       "      <td>1</td>\n",
       "      <td>6.32500</td>\n",
       "      <td>False</td>\n",
       "      <td>False</td>\n",
       "    </tr>\n",
       "  </tbody>\n",
       "</table>\n",
       "</div>"
      ],
      "text/plain": [
       "         monofact_count  count  monofact_rate  hallucination_count  \\\n",
       "cluster                                                              \n",
       "2                   235    287       0.818815                   24   \n",
       "3                   197    330       0.596970                   29   \n",
       "0                    26     91       0.285714                    1   \n",
       "1                     2     92       0.021739                    1   \n",
       "\n",
       "         expected_hallucination_count  more_hallucinations_than_expected  \\\n",
       "cluster                                                                    \n",
       "2                            19.73125                               True   \n",
       "3                            22.68750                               True   \n",
       "0                             6.25625                              False   \n",
       "1                             6.32500                              False   \n",
       "\n",
       "         higher_monofact_rate_than_average  \n",
       "cluster                                     \n",
       "2                                     True  \n",
       "3                                     True  \n",
       "0                                    False  \n",
       "1                                    False  "
      ]
     },
     "metadata": {},
     "output_type": "display_data"
    },
    {
     "data": {
      "image/png": "[encoded data removed]",
      "text/plain": [
       "<Figure size 1000x700 with 1 Axes>"
      ]
     },
     "metadata": {},
     "output_type": "display_data"
    }
   ],
   "source": [
    "get_clustering_stats(4)"
   ]
  },
  {
   "cell_type": "code",
   "execution_count": null,
   "metadata": {},
   "outputs": [
    {
     "name": "stderr",
     "output_type": "stream",
     "text": [
      "/home/technet/miniconda3/envs/technet/lib/python3.11/site-packages/sklearn/cluster/_kmeans.py:1416: FutureWarning: The default value of `n_init` will change from 10 to 'auto' in 1.4. Set the value of `n_init` explicitly to suppress the warning\n",
      "  super()._check_params_vs_input(X, default_n_init=10)\n"
     ]
    },
    {
     "data": {
      "text/html": [
       "<div>\n",
       "<style scoped>\n",
       "    .dataframe tbody tr th:only-of-type {\n",
       "        vertical-align: middle;\n",
       "    }\n",
       "\n",
       "    .dataframe tbody tr th {\n",
       "        vertical-align: top;\n",
       "    }\n",
       "\n",
       "    .dataframe thead th {\n",
       "        text-align: right;\n",
       "    }\n",
       "</style>\n",
       "<table border=\"1\" class=\"dataframe\">\n",
       "  <thead>\n",
       "    <tr style=\"text-align: right;\">\n",
       "      <th></th>\n",
       "      <th>monofact_count</th>\n",
       "      <th>count</th>\n",
       "      <th>monofact_rate</th>\n",
       "      <th>hallucination_count</th>\n",
       "      <th>expected_hallucination_count</th>\n",
       "      <th>more_hallucinations_than_expected</th>\n",
       "      <th>higher_monofact_rate_than_average</th>\n",
       "    </tr>\n",
       "    <tr>\n",
       "      <th>cluster</th>\n",
       "      <th></th>\n",
       "      <th></th>\n",
       "      <th></th>\n",
       "      <th></th>\n",
       "      <th></th>\n",
       "      <th></th>\n",
       "      <th></th>\n",
       "    </tr>\n",
       "  </thead>\n",
       "  <tbody>\n",
       "    <tr>\n",
       "      <th>0</th>\n",
       "      <td>75</td>\n",
       "      <td>84</td>\n",
       "      <td>0.892857</td>\n",
       "      <td>8</td>\n",
       "      <td>5.77500</td>\n",
       "      <td>True</td>\n",
       "      <td>True</td>\n",
       "    </tr>\n",
       "    <tr>\n",
       "      <th>4</th>\n",
       "      <td>163</td>\n",
       "      <td>211</td>\n",
       "      <td>0.772512</td>\n",
       "      <td>17</td>\n",
       "      <td>14.50625</td>\n",
       "      <td>True</td>\n",
       "      <td>True</td>\n",
       "    </tr>\n",
       "    <tr>\n",
       "      <th>1</th>\n",
       "      <td>194</td>\n",
       "      <td>322</td>\n",
       "      <td>0.602484</td>\n",
       "      <td>28</td>\n",
       "      <td>22.13750</td>\n",
       "      <td>True</td>\n",
       "      <td>True</td>\n",
       "    </tr>\n",
       "    <tr>\n",
       "      <th>3</th>\n",
       "      <td>26</td>\n",
       "      <td>91</td>\n",
       "      <td>0.285714</td>\n",
       "      <td>1</td>\n",
       "      <td>6.25625</td>\n",
       "      <td>False</td>\n",
       "      <td>False</td>\n",
       "    </tr>\n",
       "    <tr>\n",
       "      <th>2</th>\n",
       "      <td>2</td>\n",
       "      <td>92</td>\n",
       "      <td>0.021739</td>\n",
       "      <td>1</td>\n",
       "      <td>6.32500</td>\n",
       "      <td>False</td>\n",
       "      <td>False</td>\n",
       "    </tr>\n",
       "  </tbody>\n",
       "</table>\n",
       "</div>"
      ],
      "text/plain": [
       "         monofact_count  count  monofact_rate  hallucination_count  \\\n",
       "cluster                                                              \n",
       "0                    75     84       0.892857                    8   \n",
       "4                   163    211       0.772512                   17   \n",
       "1                   194    322       0.602484                   28   \n",
       "3                    26     91       0.285714                    1   \n",
       "2                     2     92       0.021739                    1   \n",
       "\n",
       "         expected_hallucination_count  more_hallucinations_than_expected  \\\n",
       "cluster                                                                    \n",
       "0                             5.77500                               True   \n",
       "4                            14.50625                               True   \n",
       "1                            22.13750                               True   \n",
       "3                             6.25625                              False   \n",
       "2                             6.32500                              False   \n",
       "\n",
       "         higher_monofact_rate_than_average  \n",
       "cluster                                     \n",
       "0                                     True  \n",
       "4                                     True  \n",
       "1                                     True  \n",
       "3                                    False  \n",
       "2                                    False  "
      ]
     },
     "metadata": {},
     "output_type": "display_data"
    }
   ],
   "source": [
    "get_clustering_stats(5)"
   ]
  },
  {
   "cell_type": "code",
   "execution_count": null,
   "metadata": {},
   "outputs": [],
   "source": [
    "get_clustering_stats(6)"
   ]
  },
  {
   "cell_type": "code",
   "execution_count": null,
   "metadata": {},
   "outputs": [],
   "source": [
    "get_clustering_stats(7)"
   ]
  }
 ],
 "metadata": {
  "kernelspec": {
   "display_name": "Python 3 (ipykernel)",
   "language": "python",
   "name": "python3"
  },
  "language_info": {
   "codemirror_mode": {
    "name": "ipython",
    "version": 3
   },
   "file_extension": ".py",
   "mimetype": "text/x-python",
   "name": "python",
   "nbconvert_exporter": "python",
   "pygments_lexer": "ipython3",
   "version": "3.11.5"
  }
 },
 "nbformat": 4,
 "nbformat_minor": 4
}
