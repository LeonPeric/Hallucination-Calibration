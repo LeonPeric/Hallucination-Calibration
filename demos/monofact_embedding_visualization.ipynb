{
 "cells": [
  {
   "cell_type": "code",
   "execution_count": 1,
   "metadata": {
    "ExecuteTime": {
     "end_time": "2024-05-23T22:34:06.687600300Z",
     "start_time": "2024-05-23T22:34:06.175759Z"
    }
   },
   "outputs": [],
   "source": [
    "%load_ext autoreload\n",
    "%autoreload 2"
   ]
  },
  {
   "cell_type": "code",
   "execution_count": 2,
   "metadata": {},
   "outputs": [],
   "source": [
    "import sys\n",
    "sys.path.append('../')"
   ]
  },
  {
   "cell_type": "code",
   "execution_count": 3,
   "metadata": {
    "ExecuteTime": {
     "end_time": "2024-05-23T22:34:08.894101600Z",
     "start_time": "2024-05-23T22:34:06.727603800Z"
    }
   },
   "outputs": [],
   "source": [
    "from src.lib.fact_dataset_generator import FactDatasetGenerator\n",
    "import numpy as np\n",
    "import sys\n",
    "import pandas as pd\n",
    "import torch\n",
    "import json"
   ]
  },
  {
   "cell_type": "markdown",
   "metadata": {},
   "source": [
    "# Embeddings Experiment"
   ]
  },
  {
   "cell_type": "markdown",
   "metadata": {
    "collapsed": false,
    "jupyter": {
     "outputs_hidden": false
    }
   },
   "source": [
    "### Loading training data embeddings"
   ]
  },
  {
   "cell_type": "code",
   "execution_count": 4,
   "metadata": {
    "ExecuteTime": {
     "end_time": "2024-05-23T22:44:00.373454Z",
     "start_time": "2024-05-23T22:43:59.831453800Z"
    },
    "collapsed": false,
    "jupyter": {
     "outputs_hidden": false
    }
   },
   "outputs": [],
   "source": [
    "loaded_monofact_embeddings = []\n",
    "loaded_normal_fact_embeddings = []\n",
    "\n",
    "\n",
    "with open(\"../src/experiment/monofact_embeddings.json\",\"r\") as f:\n",
    "    for line in f:\n",
    "        loaded_monofact_embeddings.append(json.loads(line))\n",
    "# with open(\"../src/experiment/hallucination_embeddings.json\",\"r\") as f:\n",
    "#     for line in f:\n",
    "#         loaded_hallucination_embeddings.append(json.loads(line))\n",
    "with open(\"../src/experiment/normal_fact_embeddings.json\",\"r\") as f:\n",
    "    for line in f:\n",
    "        loaded_normal_fact_embeddings.append(json.loads(line))\n"
   ]
  },
  {
   "cell_type": "code",
   "execution_count": 5,
   "metadata": {
    "ExecuteTime": {
     "end_time": "2024-05-23T22:49:26.934300100Z",
     "start_time": "2024-05-23T22:49:26.723800100Z"
    },
    "collapsed": false,
    "jupyter": {
     "outputs_hidden": false
    }
   },
   "outputs": [],
   "source": [
    "monofact_embeddings = []\n",
    "# hallucination_embeddings = []\n",
    "normal_fact_embeddings = []\n",
    "all_embeddings = []\n",
    "embedding_of = []\n",
    "\n",
    "for loaded_normal_fact, loaded_normal_fact_embedding in loaded_normal_fact_embeddings:\n",
    "    normal_fact_embeddings.append((loaded_normal_fact, torch.tensor(loaded_normal_fact_embedding)))\n",
    "    all_embeddings.append(torch.tensor(loaded_normal_fact_embedding))\n",
    "    embedding_of.append('Popular fact')\n",
    "for loaded_monofact, loaded_monofact_embedding in loaded_monofact_embeddings:\n",
    "    monofact_embeddings.append((loaded_monofact, torch.tensor(loaded_monofact_embedding)))\n",
    "    all_embeddings.append(torch.tensor(loaded_monofact_embedding))\n",
    "    embedding_of.append('Monofact')\n",
    "# for loaded_hallucination, loaded_hallucination_embedding in loaded_hallucination_embeddings:\n",
    "#     hallucination_embeddings.append((loaded_hallucination, torch.tensor(loaded_hallucination_embedding)))\n",
    "#     all_embeddings.append(torch.tensor(loaded_hallucination_embedding))\n",
    "#     embedding_of.append('Hallucination')"
   ]
  },
  {
   "cell_type": "code",
   "execution_count": 6,
   "metadata": {
    "ExecuteTime": {
     "end_time": "2024-05-23T22:46:36.658057Z",
     "start_time": "2024-05-23T22:46:36.487556600Z"
    },
    "collapsed": false,
    "jupyter": {
     "outputs_hidden": false
    }
   },
   "outputs": [],
   "source": [
    "all_embeddings = torch.cat([a.unsqueeze(0) for a in all_embeddings])"
   ]
  },
  {
   "cell_type": "code",
   "execution_count": 7,
   "metadata": {},
   "outputs": [
    {
     "data": {
      "text/plain": [
       "torch.Size([1536])"
      ]
     },
     "execution_count": 7,
     "metadata": {},
     "output_type": "execute_result"
    }
   ],
   "source": [
    "monofact_embeddings[0][1].shape"
   ]
  },
  {
   "cell_type": "code",
   "execution_count": 8,
   "metadata": {
    "ExecuteTime": {
     "end_time": "2024-05-23T22:58:15.941310700Z",
     "start_time": "2024-05-23T22:58:15.850310900Z"
    },
    "collapsed": false,
    "jupyter": {
     "outputs_hidden": false
    }
   },
   "outputs": [],
   "source": [
    "torch.cuda.empty_cache()"
   ]
  },
  {
   "cell_type": "code",
   "execution_count": 9,
   "metadata": {},
   "outputs": [
    {
     "data": {
      "text/plain": [
       "torch.Size([800, 1536])"
      ]
     },
     "execution_count": 9,
     "metadata": {},
     "output_type": "execute_result"
    }
   ],
   "source": [
    "all_embeddings.shape"
   ]
  },
  {
   "cell_type": "code",
   "execution_count": 10,
   "metadata": {
    "collapsed": false,
    "jupyter": {
     "outputs_hidden": false
    }
   },
   "outputs": [],
   "source": [
    "all_embeddings_numpy = all_embeddings.detach().numpy()"
   ]
  },
  {
   "cell_type": "code",
   "execution_count": 11,
   "metadata": {},
   "outputs": [
    {
     "data": {
      "text/plain": [
       "array([[ 0.5362337 , -0.03913231,  4.460196  , ...,  1.669704  ,\n",
       "        -1.2950296 ,  0.02972578],\n",
       "       [ 0.5362337 , -0.03913231,  4.460196  , ...,  0.03552325,\n",
       "         3.2620003 ,  0.0574283 ],\n",
       "       [ 0.5362337 , -0.03913231,  4.460196  , ...,  0.15969001,\n",
       "        -1.3031412 ,  1.4547727 ],\n",
       "       ...,\n",
       "       [ 0.5362337 , -0.03913231,  4.460196  , ...,  1.0443217 ,\n",
       "        -1.7883364 ,  0.27224025],\n",
       "       [ 0.5362337 , -0.03913231,  4.460196  , ..., -0.25991872,\n",
       "        -0.74759036, -0.49933898],\n",
       "       [ 0.5362337 , -0.03913231,  4.460196  , ...,  0.33873427,\n",
       "        -1.3436941 , -1.7039269 ]], dtype=float32)"
      ]
     },
     "execution_count": 11,
     "metadata": {},
     "output_type": "execute_result"
    }
   ],
   "source": [
    "all_embeddings_numpy"
   ]
  },
  {
   "cell_type": "code",
   "execution_count": 12,
   "metadata": {},
   "outputs": [
    {
     "data": {
      "text/plain": [
       "(800, 2)"
      ]
     },
     "execution_count": 12,
     "metadata": {},
     "output_type": "execute_result"
    }
   ],
   "source": [
    "import numpy as np\n",
    "from sklearn.manifold import TSNE\n",
    "X_embedded = TSNE(n_components=2, learning_rate='auto',\n",
    "                  init='random', perplexity=3).fit_transform(all_embeddings_numpy)\n",
    "X_embedded.shape"
   ]
  },
  {
   "cell_type": "code",
   "execution_count": 13,
   "metadata": {},
   "outputs": [],
   "source": [
    "import matplotlib.pyplot as plt"
   ]
  },
  {
   "cell_type": "code",
   "execution_count": 14,
   "metadata": {},
   "outputs": [],
   "source": [
    "colors = {\n",
    "    'Hallucination': 'red',\n",
    "    'Popular fact': 'lightblue',\n",
    "    'Monofact': 'purple'\n",
    "}"
   ]
  },
  {
   "cell_type": "code",
   "execution_count": 15,
   "metadata": {},
   "outputs": [
    {
     "data": {
      "image/png": "[encoded data removed]",
      "text/plain": [
       "<Figure size 1000x700 with 1 Axes>"
      ]
     },
     "metadata": {},
     "output_type": "display_data"
    }
   ],
   "source": [
    "unique_labels = set(embedding_of)\n",
    "label_color_map = {label: colors[label] for label in unique_labels}\n",
    "\n",
    "# Create scatter plot\n",
    "plt.figure(figsize=(10, 7))\n",
    "plt.scatter(X_embedded[:, 0], X_embedded[:, 1], c=[colors[c] for c in embedding_of])\n",
    "\n",
    "# Create a list of handles (proxy artists) for the legend\n",
    "handles = [plt.Line2D([0], [0], marker='o', color='w', markerfacecolor=color, markersize=10) for label, color in label_color_map.items()]\n",
    "labels = list(label_color_map.keys())\n",
    "\n",
    "# Add legend to the plot\n",
    "plt.legend(handles, labels, title=\"Legend\")\n",
    "\n",
    "# Show the plot\n",
    "# plt.savefig('figure.png', dpi=500)\n",
    "plt.show()"
   ]
  },
  {
   "cell_type": "markdown",
   "metadata": {},
   "source": [
    "## Load generated embeddings"
   ]
  },
  {
   "cell_type": "code",
   "execution_count": 30,
   "metadata": {},
   "outputs": [
    {
     "name": "stdout",
     "output_type": "stream",
     "text": [
      "[0, 197, 14]\n"
     ]
    }
   ],
   "source": [
    "generated_hallucinations_embeddings = []\n",
    "with open(\"../src/experiment/hallucination_embeddings.json\",\"r\") as f:\n",
    "    for line in f:\n",
    "        generated_hallucinations_embeddings.append(json.loads(line))\n",
    "\n",
    "generated_facts_embeddings = []\n",
    "with open(\"../src/experiment/generated_fact_embeddings.json\",\"r\") as f:\n",
    "    for line in f:\n",
    "        generation = json.loads(line)\n",
    "        is_hallucination = False\n",
    "\n",
    "        # Filter out hallucinations\n",
    "        for (hallucination, _) in generated_hallucinations_embeddings:\n",
    "            if str(generation[0]) == str(hallucination):\n",
    "                is_hallucination = True\n",
    "                print(str(generation[0]))\n",
    "                break\n",
    "\n",
    "        if is_hallucination is False:\n",
    "            generated_facts_embeddings.append(generation)"
   ]
  },
  {
   "cell_type": "code",
   "execution_count": 33,
   "metadata": {},
   "outputs": [
    {
     "data": {
      "text/plain": [
       "999"
      ]
     },
     "execution_count": 33,
     "metadata": {},
     "output_type": "execute_result"
    }
   ],
   "source": [
    "len(generated_facts_embeddings)"
   ]
  },
  {
   "cell_type": "code",
   "execution_count": 34,
   "metadata": {},
   "outputs": [
    {
     "data": {
      "text/plain": [
       "34"
      ]
     },
     "execution_count": 34,
     "metadata": {},
     "output_type": "execute_result"
    }
   ],
   "source": [
    "len(generated_hallucinations_embeddings)"
   ]
  },
  {
   "cell_type": "code",
   "execution_count": 35,
   "metadata": {},
   "outputs": [],
   "source": [
    "from numpy import dot\n",
    "import numpy as np\n",
    "from numpy.linalg import norm\n",
    "\n",
    "def dist(tensor_a, tensor_b):\n",
    "    a = tensor_a.detach().numpy()\n",
    "    b = tensor_b.detach().numpy()\n",
    "    # return dot(a, b)/(norm(a)*norm(b))\n",
    "    return np.linalg.norm(a-b)"
   ]
  },
  {
   "cell_type": "code",
   "execution_count": 46,
   "metadata": {},
   "outputs": [],
   "source": [
    "def closest_different_point(embedding, top_k = 3):\n",
    "    smallest_dist = 1E9\n",
    "    result = None\n",
    "\n",
    "    distances = []\n",
    "    \n",
    "    for loaded_monofact, loaded_monofact_embedding in loaded_monofact_embeddings:\n",
    "        mf_embedding = torch.tensor(loaded_monofact_embedding)\n",
    "\n",
    "        d = dist(embedding, mf_embedding)\n",
    "        distances.append({'dist': d, 'type': 'Monofact'})\n",
    "    # for loaded_hallucination, loaded_hallucination_embedding in loaded_hallucination_embeddings:\n",
    "    #     hf_embedding = torch.tensor(loaded_hallucination_embedding)\n",
    "\n",
    "    #     d = dist(embedding, hf_embedding)\n",
    "    #     distances.append({'dist': d, 'type': 'Hallucination'})\n",
    "\n",
    "    for loaded_normal_fact, loaded_normal_fact_embedding in loaded_normal_fact_embeddings:\n",
    "        nf_embedding = torch.tensor(loaded_normal_fact_embedding)\n",
    "\n",
    "        d = dist(embedding, nf_embedding)\n",
    "        distances.append({'dist': d, 'type': 'Popular Fact'})\n",
    "\n",
    "    return pd.DataFrame(distances).sort_values(by='dist').reset_index(drop=True)['type'].head(top_k).value_counts()"
   ]
  },
  {
   "cell_type": "code",
   "execution_count": 47,
   "metadata": {},
   "outputs": [],
   "source": [
    "from tqdm import tqdm"
   ]
  },
  {
   "cell_type": "code",
   "execution_count": 49,
   "metadata": {
    "scrolled": true
   },
   "outputs": [
    {
     "name": "stderr",
     "output_type": "stream",
     "text": [
      "  0%|▎                                                                                                                                  | 2/999 [00:00<02:40,  6.21it/s]"
     ]
    },
    {
     "name": "stdout",
     "output_type": "stream",
     "text": [
      "Generated True Fact {'Monofact': 2, 'Popular Fact': 1}\n",
      "Generated True Fact {'Monofact': 3}\n"
     ]
    },
    {
     "name": "stderr",
     "output_type": "stream",
     "text": [
      "  0%|▌                                                                                                                                  | 4/999 [00:00<02:37,  6.32it/s]"
     ]
    },
    {
     "name": "stdout",
     "output_type": "stream",
     "text": [
      "Generated True Fact {'Monofact': 2, 'Popular Fact': 1}\n",
      "Generated True Fact {'Monofact': 3}\n"
     ]
    },
    {
     "name": "stderr",
     "output_type": "stream",
     "text": [
      "  1%|▊                                                                                                                                  | 6/999 [00:00<02:35,  6.40it/s]"
     ]
    },
    {
     "name": "stdout",
     "output_type": "stream",
     "text": [
      "Generated True Fact {'Monofact': 3}\n",
      "Generated True Fact {'Monofact': 3}\n"
     ]
    },
    {
     "name": "stderr",
     "output_type": "stream",
     "text": [
      "  1%|█                                                                                                                                  | 8/999 [00:01<02:35,  6.37it/s]"
     ]
    },
    {
     "name": "stdout",
     "output_type": "stream",
     "text": [
      "Generated True Fact {'Popular Fact': 3}\n",
      "Generated True Fact {'Popular Fact': 3}\n"
     ]
    },
    {
     "name": "stderr",
     "output_type": "stream",
     "text": [
      "  1%|█▎                                                                                                                                | 10/999 [00:01<02:35,  6.36it/s]"
     ]
    },
    {
     "name": "stdout",
     "output_type": "stream",
     "text": [
      "Generated True Fact {'Popular Fact': 3}\n",
      "Generated True Fact {'Monofact': 2, 'Popular Fact': 1}\n"
     ]
    },
    {
     "name": "stderr",
     "output_type": "stream",
     "text": [
      "  1%|█▌                                                                                                                                | 12/999 [00:01<02:33,  6.42it/s]"
     ]
    },
    {
     "name": "stdout",
     "output_type": "stream",
     "text": [
      "Generated True Fact {'Monofact': 3}\n",
      "Generated True Fact {'Popular Fact': 3}\n"
     ]
    },
    {
     "name": "stderr",
     "output_type": "stream",
     "text": [
      "  1%|█▊                                                                                                                                | 14/999 [00:02<02:32,  6.45it/s]"
     ]
    },
    {
     "name": "stdout",
     "output_type": "stream",
     "text": [
      "Generated True Fact {'Popular Fact': 3}\n",
      "Generated True Fact {'Monofact': 2, 'Popular Fact': 1}\n"
     ]
    },
    {
     "name": "stderr",
     "output_type": "stream",
     "text": [
      "  2%|██                                                                                                                                | 16/999 [00:02<02:32,  6.43it/s]"
     ]
    },
    {
     "name": "stdout",
     "output_type": "stream",
     "text": [
      "Generated True Fact {'Monofact': 3}\n",
      "Generated True Fact {'Monofact': 3}\n"
     ]
    },
    {
     "name": "stderr",
     "output_type": "stream",
     "text": [
      "  2%|██▏                                                                                                                               | 17/999 [00:02<02:37,  6.22it/s]"
     ]
    },
    {
     "name": "stdout",
     "output_type": "stream",
     "text": [
      "Generated True Fact {'Popular Fact': 3}\n"
     ]
    },
    {
     "name": "stderr",
     "output_type": "stream",
     "text": [
      "  2%|██▎                                                                                                                               | 18/999 [00:02<02:53,  5.65it/s]"
     ]
    },
    {
     "name": "stdout",
     "output_type": "stream",
     "text": [
      "Generated True Fact {'Monofact': 3}\n"
     ]
    },
    {
     "name": "stderr",
     "output_type": "stream",
     "text": [
      "  2%|██▌                                                                                                                               | 20/999 [00:03<03:03,  5.33it/s]"
     ]
    },
    {
     "name": "stdout",
     "output_type": "stream",
     "text": [
      "Generated True Fact {'Monofact': 3}\n",
      "Generated True Fact {'Monofact': 3}\n"
     ]
    },
    {
     "name": "stderr",
     "output_type": "stream",
     "text": [
      "  2%|██▊                                                                                                                               | 22/999 [00:03<02:51,  5.68it/s]"
     ]
    },
    {
     "name": "stdout",
     "output_type": "stream",
     "text": [
      "Generated True Fact {'Monofact': 3}\n",
      "Generated True Fact {'Monofact': 3}\n"
     ]
    },
    {
     "name": "stderr",
     "output_type": "stream",
     "text": [
      "  2%|███                                                                                                                               | 24/999 [00:03<02:42,  5.98it/s]"
     ]
    },
    {
     "name": "stdout",
     "output_type": "stream",
     "text": [
      "Generated True Fact {'Monofact': 3}\n",
      "Generated True Fact {'Popular Fact': 3}\n"
     ]
    },
    {
     "name": "stderr",
     "output_type": "stream",
     "text": [
      "  3%|███▍                                                                                                                              | 26/999 [00:04<02:52,  5.65it/s]"
     ]
    },
    {
     "name": "stdout",
     "output_type": "stream",
     "text": [
      "Generated True Fact {'Popular Fact': 2, 'Monofact': 1}\n",
      "Generated True Fact {'Monofact': 3}\n"
     ]
    },
    {
     "name": "stderr",
     "output_type": "stream",
     "text": [
      "  3%|███▋                                                                                                                              | 28/999 [00:04<02:51,  5.67it/s]"
     ]
    },
    {
     "name": "stdout",
     "output_type": "stream",
     "text": [
      "Generated True Fact {'Popular Fact': 2, 'Monofact': 1}\n",
      "Generated True Fact {'Popular Fact': 3}\n"
     ]
    },
    {
     "name": "stderr",
     "output_type": "stream",
     "text": [
      "  3%|███▉                                                                                                                              | 30/999 [00:05<02:43,  5.94it/s]"
     ]
    },
    {
     "name": "stdout",
     "output_type": "stream",
     "text": [
      "Generated True Fact {'Monofact': 3}\n",
      "Generated True Fact {'Monofact': 2, 'Popular Fact': 1}\n"
     ]
    },
    {
     "name": "stderr",
     "output_type": "stream",
     "text": [
      "  3%|████▏                                                                                                                             | 32/999 [00:05<02:42,  5.94it/s]"
     ]
    },
    {
     "name": "stdout",
     "output_type": "stream",
     "text": [
      "Generated True Fact {'Popular Fact': 3}\n",
      "Generated True Fact {'Monofact': 3}\n"
     ]
    },
    {
     "name": "stderr",
     "output_type": "stream",
     "text": [
      "  3%|████▍                                                                                                                             | 34/999 [00:05<02:41,  5.96it/s]"
     ]
    },
    {
     "name": "stdout",
     "output_type": "stream",
     "text": [
      "Generated True Fact {'Monofact': 3}\n",
      "Generated True Fact {'Monofact': 3}\n"
     ]
    },
    {
     "name": "stderr",
     "output_type": "stream",
     "text": [
      "  4%|████▋                                                                                                                             | 36/999 [00:06<02:37,  6.13it/s]"
     ]
    },
    {
     "name": "stdout",
     "output_type": "stream",
     "text": [
      "Generated True Fact {'Popular Fact': 2, 'Monofact': 1}\n",
      "Generated True Fact {'Monofact': 3}\n"
     ]
    },
    {
     "name": "stderr",
     "output_type": "stream",
     "text": [
      "  4%|████▉                                                                                                                             | 38/999 [00:06<02:36,  6.14it/s]"
     ]
    },
    {
     "name": "stdout",
     "output_type": "stream",
     "text": [
      "Generated True Fact {'Monofact': 3}\n",
      "Generated True Fact {'Monofact': 3}\n"
     ]
    },
    {
     "name": "stderr",
     "output_type": "stream",
     "text": [
      "  4%|█████▏                                                                                                                            | 40/999 [00:06<02:35,  6.16it/s]"
     ]
    },
    {
     "name": "stdout",
     "output_type": "stream",
     "text": [
      "Generated True Fact {'Popular Fact': 2, 'Monofact': 1}\n",
      "Generated True Fact {'Popular Fact': 2, 'Monofact': 1}\n"
     ]
    },
    {
     "name": "stderr",
     "output_type": "stream",
     "text": [
      "  4%|█████▍                                                                                                                            | 42/999 [00:06<02:37,  6.08it/s]"
     ]
    },
    {
     "name": "stdout",
     "output_type": "stream",
     "text": [
      "Generated True Fact {'Monofact': 3}\n",
      "Generated True Fact {'Popular Fact': 3}\n"
     ]
    },
    {
     "name": "stderr",
     "output_type": "stream",
     "text": [
      "  4%|█████▌                                                                                                                            | 43/999 [00:07<02:36,  6.12it/s]"
     ]
    },
    {
     "name": "stdout",
     "output_type": "stream",
     "text": [
      "Generated True Fact {'Monofact': 3}\n"
     ]
    },
    {
     "name": "stderr",
     "output_type": "stream",
     "text": [
      "  4%|█████▋                                                                                                                            | 44/999 [00:07<03:00,  5.29it/s]"
     ]
    },
    {
     "name": "stdout",
     "output_type": "stream",
     "text": [
      "Generated True Fact {'Popular Fact': 3}\n"
     ]
    },
    {
     "name": "stderr",
     "output_type": "stream",
     "text": [
      "  5%|█████▊                                                                                                                            | 45/999 [00:07<03:04,  5.18it/s]"
     ]
    },
    {
     "name": "stdout",
     "output_type": "stream",
     "text": [
      "Generated True Fact {'Popular Fact': 2, 'Monofact': 1}\n"
     ]
    },
    {
     "name": "stderr",
     "output_type": "stream",
     "text": [
      "  5%|█████▉                                                                                                                            | 46/999 [00:07<03:20,  4.74it/s]"
     ]
    },
    {
     "name": "stdout",
     "output_type": "stream",
     "text": [
      "Generated True Fact {'Monofact': 3}\n"
     ]
    },
    {
     "name": "stderr",
     "output_type": "stream",
     "text": [
      "  5%|██████▏                                                                                                                           | 48/999 [00:08<03:16,  4.85it/s]"
     ]
    },
    {
     "name": "stdout",
     "output_type": "stream",
     "text": [
      "Generated True Fact {'Popular Fact': 2, 'Monofact': 1}\n",
      "Generated True Fact {'Monofact': 3}\n"
     ]
    },
    {
     "name": "stderr",
     "output_type": "stream",
     "text": [
      "  5%|██████▌                                                                                                                           | 50/999 [00:08<02:56,  5.37it/s]"
     ]
    },
    {
     "name": "stdout",
     "output_type": "stream",
     "text": [
      "Generated True Fact {'Monofact': 3}\n",
      "Generated True Fact {'Popular Fact': 3}\n"
     ]
    },
    {
     "name": "stderr",
     "output_type": "stream",
     "text": [
      "  5%|██████▊                                                                                                                           | 52/999 [00:08<02:40,  5.89it/s]"
     ]
    },
    {
     "name": "stdout",
     "output_type": "stream",
     "text": [
      "Generated True Fact {'Monofact': 3}\n",
      "Generated True Fact {'Popular Fact': 3}\n"
     ]
    },
    {
     "name": "stderr",
     "output_type": "stream",
     "text": [
      "  5%|███████                                                                                                                           | 54/999 [00:09<02:32,  6.18it/s]"
     ]
    },
    {
     "name": "stdout",
     "output_type": "stream",
     "text": [
      "Generated True Fact {'Popular Fact': 2, 'Monofact': 1}\n",
      "Generated True Fact {'Monofact': 3}\n"
     ]
    },
    {
     "name": "stderr",
     "output_type": "stream",
     "text": [
      "  6%|███████▎                                                                                                                          | 56/999 [00:09<02:30,  6.26it/s]"
     ]
    },
    {
     "name": "stdout",
     "output_type": "stream",
     "text": [
      "Generated True Fact {'Monofact': 3}\n",
      "Generated True Fact {'Popular Fact': 3}\n"
     ]
    },
    {
     "name": "stderr",
     "output_type": "stream",
     "text": [
      "  6%|███████▌                                                                                                                          | 58/999 [00:09<02:28,  6.33it/s]"
     ]
    },
    {
     "name": "stdout",
     "output_type": "stream",
     "text": [
      "Generated True Fact {'Popular Fact': 2, 'Monofact': 1}\n",
      "Generated True Fact {'Popular Fact': 3}\n"
     ]
    },
    {
     "name": "stderr",
     "output_type": "stream",
     "text": [
      "  6%|███████▊                                                                                                                          | 60/999 [00:10<02:31,  6.19it/s]"
     ]
    },
    {
     "name": "stdout",
     "output_type": "stream",
     "text": [
      "Generated True Fact {'Popular Fact': 3}\n",
      "Generated True Fact {'Monofact': 3}\n"
     ]
    },
    {
     "name": "stderr",
     "output_type": "stream",
     "text": [
      "  6%|████████                                                                                                                          | 62/999 [00:10<02:30,  6.24it/s]"
     ]
    },
    {
     "name": "stdout",
     "output_type": "stream",
     "text": [
      "Generated True Fact {'Monofact': 2, 'Popular Fact': 1}\n",
      "Generated True Fact {'Popular Fact': 3}\n"
     ]
    },
    {
     "name": "stderr",
     "output_type": "stream",
     "text": [
      "  6%|████████▎                                                                                                                         | 64/999 [00:10<02:28,  6.32it/s]"
     ]
    },
    {
     "name": "stdout",
     "output_type": "stream",
     "text": [
      "Generated True Fact {'Monofact': 3}\n",
      "Generated True Fact {'Monofact': 3}\n"
     ]
    },
    {
     "name": "stderr",
     "output_type": "stream",
     "text": [
      "  7%|████████▌                                                                                                                         | 66/999 [00:11<03:04,  5.05it/s]"
     ]
    },
    {
     "name": "stdout",
     "output_type": "stream",
     "text": [
      "Generated True Fact {'Popular Fact': 2, 'Monofact': 1}\n",
      "Generated True Fact {'Monofact': 3}\n"
     ]
    },
    {
     "name": "stderr",
     "output_type": "stream",
     "text": [
      "  7%|████████▊                                                                                                                         | 68/999 [00:11<02:47,  5.55it/s]"
     ]
    },
    {
     "name": "stdout",
     "output_type": "stream",
     "text": [
      "Generated True Fact {'Popular Fact': 2, 'Monofact': 1}\n",
      "Generated True Fact {'Popular Fact': 3}\n"
     ]
    },
    {
     "name": "stderr",
     "output_type": "stream",
     "text": [
      "  7%|████████▉                                                                                                                         | 69/999 [00:11<03:05,  5.02it/s]"
     ]
    },
    {
     "name": "stdout",
     "output_type": "stream",
     "text": [
      "Generated True Fact {'Monofact': 3}\n"
     ]
    },
    {
     "name": "stderr",
     "output_type": "stream",
     "text": [
      "  7%|█████████▏                                                                                                                        | 71/999 [00:12<02:55,  5.29it/s]"
     ]
    },
    {
     "name": "stdout",
     "output_type": "stream",
     "text": [
      "Generated True Fact {'Monofact': 3}\n",
      "Generated True Fact {'Popular Fact': 2, 'Monofact': 1}\n"
     ]
    },
    {
     "name": "stderr",
     "output_type": "stream",
     "text": [
      "  7%|█████████▍                                                                                                                        | 73/999 [00:12<02:38,  5.83it/s]"
     ]
    },
    {
     "name": "stdout",
     "output_type": "stream",
     "text": [
      "Generated True Fact {'Monofact': 3}\n",
      "Generated True Fact {'Popular Fact': 3}\n"
     ]
    },
    {
     "name": "stderr",
     "output_type": "stream",
     "text": [
      "  8%|█████████▊                                                                                                                        | 75/999 [00:12<02:34,  5.97it/s]"
     ]
    },
    {
     "name": "stdout",
     "output_type": "stream",
     "text": [
      "Generated True Fact {'Popular Fact': 2, 'Monofact': 1}\n",
      "Generated True Fact {'Monofact': 3}\n"
     ]
    },
    {
     "name": "stderr",
     "output_type": "stream",
     "text": [
      "  8%|██████████                                                                                                                        | 77/999 [00:13<02:28,  6.22it/s]"
     ]
    },
    {
     "name": "stdout",
     "output_type": "stream",
     "text": [
      "Generated True Fact {'Popular Fact': 3}\n",
      "Generated True Fact {'Monofact': 3}\n"
     ]
    },
    {
     "name": "stderr",
     "output_type": "stream",
     "text": [
      "  8%|██████████▎                                                                                                                       | 79/999 [00:13<02:24,  6.38it/s]"
     ]
    },
    {
     "name": "stdout",
     "output_type": "stream",
     "text": [
      "Generated True Fact {'Monofact': 3}\n",
      "Generated True Fact {'Monofact': 3}\n"
     ]
    },
    {
     "name": "stderr",
     "output_type": "stream",
     "text": [
      "  8%|██████████▌                                                                                                                       | 81/999 [00:13<02:23,  6.41it/s]"
     ]
    },
    {
     "name": "stdout",
     "output_type": "stream",
     "text": [
      "Generated True Fact {'Monofact': 3}\n",
      "Generated True Fact {'Popular Fact': 3}\n"
     ]
    },
    {
     "name": "stderr",
     "output_type": "stream",
     "text": [
      "  8%|██████████▊                                                                                                                       | 83/999 [00:14<02:42,  5.64it/s]"
     ]
    },
    {
     "name": "stdout",
     "output_type": "stream",
     "text": [
      "Generated True Fact {'Popular Fact': 3}\n",
      "Generated True Fact {'Monofact': 3}\n"
     ]
    },
    {
     "name": "stderr",
     "output_type": "stream",
     "text": [
      "  9%|███████████                                                                                                                       | 85/999 [00:14<02:33,  5.96it/s]"
     ]
    },
    {
     "name": "stdout",
     "output_type": "stream",
     "text": [
      "Generated True Fact {'Popular Fact': 3}\n",
      "Generated True Fact {'Monofact': 3}\n"
     ]
    },
    {
     "name": "stderr",
     "output_type": "stream",
     "text": [
      "  9%|███████████▎                                                                                                                      | 87/999 [00:14<02:32,  5.98it/s]"
     ]
    },
    {
     "name": "stdout",
     "output_type": "stream",
     "text": [
      "Generated True Fact {'Monofact': 3}\n",
      "Generated True Fact {'Monofact': 3}\n"
     ]
    },
    {
     "name": "stderr",
     "output_type": "stream",
     "text": [
      "  9%|███████████▌                                                                                                                      | 89/999 [00:15<02:34,  5.88it/s]"
     ]
    },
    {
     "name": "stdout",
     "output_type": "stream",
     "text": [
      "Generated True Fact {'Monofact': 2, 'Popular Fact': 1}\n",
      "Generated True Fact {'Monofact': 3}\n"
     ]
    },
    {
     "name": "stderr",
     "output_type": "stream",
     "text": [
      "  9%|███████████▊                                                                                                                      | 91/999 [00:15<02:29,  6.09it/s]"
     ]
    },
    {
     "name": "stdout",
     "output_type": "stream",
     "text": [
      "Generated True Fact {'Monofact': 3}\n",
      "Generated True Fact {'Monofact': 2, 'Popular Fact': 1}\n"
     ]
    },
    {
     "name": "stderr",
     "output_type": "stream",
     "text": [
      "  9%|████████████                                                                                                                      | 93/999 [00:15<02:27,  6.14it/s]"
     ]
    },
    {
     "name": "stdout",
     "output_type": "stream",
     "text": [
      "Generated True Fact {'Popular Fact': 2, 'Monofact': 1}\n",
      "Generated True Fact {'Popular Fact': 3}\n"
     ]
    },
    {
     "name": "stderr",
     "output_type": "stream",
     "text": [
      " 10%|████████████▎                                                                                                                     | 95/999 [00:16<02:26,  6.18it/s]"
     ]
    },
    {
     "name": "stdout",
     "output_type": "stream",
     "text": [
      "Generated True Fact {'Monofact': 3}\n",
      "Generated True Fact {'Popular Fact': 3}\n"
     ]
    },
    {
     "name": "stderr",
     "output_type": "stream",
     "text": [
      " 10%|████████████▌                                                                                                                     | 97/999 [00:16<02:23,  6.27it/s]"
     ]
    },
    {
     "name": "stdout",
     "output_type": "stream",
     "text": [
      "Generated True Fact {'Monofact': 3}\n",
      "Generated True Fact {'Monofact': 3}\n"
     ]
    },
    {
     "name": "stderr",
     "output_type": "stream",
     "text": [
      " 10%|████████████▉                                                                                                                     | 99/999 [00:16<02:25,  6.20it/s]"
     ]
    },
    {
     "name": "stdout",
     "output_type": "stream",
     "text": [
      "Generated True Fact {'Popular Fact': 3}\n",
      "Generated True Fact {'Monofact': 2, 'Popular Fact': 1}\n"
     ]
    },
    {
     "name": "stderr",
     "output_type": "stream",
     "text": [
      " 10%|█████████████                                                                                                                    | 101/999 [00:17<02:27,  6.11it/s]"
     ]
    },
    {
     "name": "stdout",
     "output_type": "stream",
     "text": [
      "Generated True Fact {'Monofact': 3}\n",
      "Generated True Fact {'Monofact': 3}\n"
     ]
    },
    {
     "name": "stderr",
     "output_type": "stream",
     "text": [
      " 10%|█████████████▎                                                                                                                   | 103/999 [00:17<02:24,  6.19it/s]"
     ]
    },
    {
     "name": "stdout",
     "output_type": "stream",
     "text": [
      "Generated True Fact {'Monofact': 2, 'Popular Fact': 1}\n",
      "Generated True Fact {'Monofact': 3}\n"
     ]
    },
    {
     "name": "stderr",
     "output_type": "stream",
     "text": [
      " 11%|█████████████▌                                                                                                                   | 105/999 [00:17<02:28,  6.00it/s]"
     ]
    },
    {
     "name": "stdout",
     "output_type": "stream",
     "text": [
      "Generated True Fact {'Monofact': 3}\n",
      "Generated True Fact {'Popular Fact': 2, 'Monofact': 1}\n"
     ]
    },
    {
     "name": "stderr",
     "output_type": "stream",
     "text": [
      " 11%|█████████████▊                                                                                                                   | 107/999 [00:18<02:24,  6.16it/s]"
     ]
    },
    {
     "name": "stdout",
     "output_type": "stream",
     "text": [
      "Generated True Fact {'Monofact': 3}\n",
      "Generated True Fact {'Monofact': 2, 'Popular Fact': 1}\n"
     ]
    },
    {
     "name": "stderr",
     "output_type": "stream",
     "text": [
      " 11%|██████████████                                                                                                                   | 109/999 [00:18<02:29,  5.94it/s]"
     ]
    },
    {
     "name": "stdout",
     "output_type": "stream",
     "text": [
      "Generated True Fact {'Popular Fact': 3}\n",
      "Generated True Fact {'Popular Fact': 3}\n"
     ]
    },
    {
     "name": "stderr",
     "output_type": "stream",
     "text": [
      " 11%|██████████████▎                                                                                                                  | 111/999 [00:18<02:29,  5.92it/s]"
     ]
    },
    {
     "name": "stdout",
     "output_type": "stream",
     "text": [
      "Generated True Fact {'Monofact': 3}\n",
      "Generated True Fact {'Popular Fact': 3}\n"
     ]
    },
    {
     "name": "stderr",
     "output_type": "stream",
     "text": [
      " 11%|██████████████▌                                                                                                                  | 113/999 [00:19<02:22,  6.21it/s]"
     ]
    },
    {
     "name": "stdout",
     "output_type": "stream",
     "text": [
      "Generated True Fact {'Monofact': 2, 'Popular Fact': 1}\n",
      "Generated True Fact {'Popular Fact': 3}\n"
     ]
    },
    {
     "name": "stderr",
     "output_type": "stream",
     "text": [
      " 12%|██████████████▊                                                                                                                  | 115/999 [00:19<02:18,  6.37it/s]"
     ]
    },
    {
     "name": "stdout",
     "output_type": "stream",
     "text": [
      "Generated True Fact {'Monofact': 3}\n",
      "Generated True Fact {'Monofact': 3}\n"
     ]
    },
    {
     "name": "stderr",
     "output_type": "stream",
     "text": [
      " 12%|███████████████                                                                                                                  | 117/999 [00:19<02:16,  6.46it/s]"
     ]
    },
    {
     "name": "stdout",
     "output_type": "stream",
     "text": [
      "Generated True Fact {'Popular Fact': 2, 'Monofact': 1}\n",
      "Generated True Fact {'Monofact': 3}\n"
     ]
    },
    {
     "name": "stderr",
     "output_type": "stream",
     "text": [
      " 12%|███████████████▎                                                                                                                 | 119/999 [00:20<02:24,  6.10it/s]"
     ]
    },
    {
     "name": "stdout",
     "output_type": "stream",
     "text": [
      "Generated True Fact {'Monofact': 3}\n",
      "Generated True Fact {'Popular Fact': 3}\n"
     ]
    },
    {
     "name": "stderr",
     "output_type": "stream",
     "text": [
      " 12%|███████████████▌                                                                                                                 | 121/999 [00:20<02:18,  6.36it/s]"
     ]
    },
    {
     "name": "stdout",
     "output_type": "stream",
     "text": [
      "Generated True Fact {'Popular Fact': 3}\n",
      "Generated True Fact {'Popular Fact': 2, 'Monofact': 1}\n"
     ]
    },
    {
     "name": "stderr",
     "output_type": "stream",
     "text": [
      " 12%|███████████████▉                                                                                                                 | 123/999 [00:20<02:16,  6.43it/s]"
     ]
    },
    {
     "name": "stdout",
     "output_type": "stream",
     "text": [
      "Generated True Fact {'Monofact': 3}\n",
      "Generated True Fact {'Popular Fact': 2, 'Monofact': 1}\n"
     ]
    },
    {
     "name": "stderr",
     "output_type": "stream",
     "text": [
      " 13%|████████████████▏                                                                                                                | 125/999 [00:21<02:14,  6.49it/s]"
     ]
    },
    {
     "name": "stdout",
     "output_type": "stream",
     "text": [
      "Generated True Fact {'Monofact': 3}\n",
      "Generated True Fact {'Monofact': 2, 'Popular Fact': 1}\n"
     ]
    },
    {
     "name": "stderr",
     "output_type": "stream",
     "text": [
      " 13%|████████████████▍                                                                                                                | 127/999 [00:21<02:13,  6.54it/s]"
     ]
    },
    {
     "name": "stdout",
     "output_type": "stream",
     "text": [
      "Generated True Fact {'Popular Fact': 2, 'Monofact': 1}\n",
      "Generated True Fact {'Monofact': 3}\n"
     ]
    },
    {
     "name": "stderr",
     "output_type": "stream",
     "text": [
      " 13%|████████████████▋                                                                                                                | 129/999 [00:21<02:12,  6.57it/s]"
     ]
    },
    {
     "name": "stdout",
     "output_type": "stream",
     "text": [
      "Generated True Fact {'Popular Fact': 2, 'Monofact': 1}\n",
      "Generated True Fact {'Monofact': 3}\n"
     ]
    },
    {
     "name": "stderr",
     "output_type": "stream",
     "text": [
      " 13%|████████████████▉                                                                                                                | 131/999 [00:21<02:13,  6.49it/s]"
     ]
    },
    {
     "name": "stdout",
     "output_type": "stream",
     "text": [
      "Generated True Fact {'Monofact': 3}\n",
      "Generated True Fact {'Monofact': 2, 'Popular Fact': 1}\n"
     ]
    },
    {
     "name": "stderr",
     "output_type": "stream",
     "text": [
      " 13%|█████████████████▏                                                                                                               | 133/999 [00:22<02:17,  6.30it/s]"
     ]
    },
    {
     "name": "stdout",
     "output_type": "stream",
     "text": [
      "Generated True Fact {'Popular Fact': 3}\n",
      "Generated True Fact {'Monofact': 3}\n"
     ]
    },
    {
     "name": "stderr",
     "output_type": "stream",
     "text": [
      " 14%|█████████████████▍                                                                                                               | 135/999 [00:22<02:13,  6.47it/s]"
     ]
    },
    {
     "name": "stdout",
     "output_type": "stream",
     "text": [
      "Generated True Fact {'Monofact': 2, 'Popular Fact': 1}\n",
      "Generated True Fact {'Monofact': 3}\n"
     ]
    },
    {
     "name": "stderr",
     "output_type": "stream",
     "text": [
      " 14%|█████████████████▋                                                                                                               | 137/999 [00:22<02:12,  6.51it/s]"
     ]
    },
    {
     "name": "stdout",
     "output_type": "stream",
     "text": [
      "Generated True Fact {'Monofact': 3}\n",
      "Generated True Fact {'Monofact': 2, 'Popular Fact': 1}\n"
     ]
    },
    {
     "name": "stderr",
     "output_type": "stream",
     "text": [
      " 14%|█████████████████▉                                                                                                               | 139/999 [00:23<02:11,  6.52it/s]"
     ]
    },
    {
     "name": "stdout",
     "output_type": "stream",
     "text": [
      "Generated True Fact {'Monofact': 3}\n",
      "Generated True Fact {'Popular Fact': 2, 'Monofact': 1}\n"
     ]
    },
    {
     "name": "stderr",
     "output_type": "stream",
     "text": [
      " 14%|██████████████████▏                                                                                                              | 141/999 [00:23<02:10,  6.58it/s]"
     ]
    },
    {
     "name": "stdout",
     "output_type": "stream",
     "text": [
      "Generated True Fact {'Monofact': 3}\n",
      "Generated True Fact {'Monofact': 3}\n"
     ]
    },
    {
     "name": "stderr",
     "output_type": "stream",
     "text": [
      " 14%|██████████████████▍                                                                                                              | 143/999 [00:23<02:13,  6.41it/s]"
     ]
    },
    {
     "name": "stdout",
     "output_type": "stream",
     "text": [
      "Generated True Fact {'Popular Fact': 3}\n",
      "Generated True Fact {'Popular Fact': 3}\n"
     ]
    },
    {
     "name": "stderr",
     "output_type": "stream",
     "text": [
      " 15%|██████████████████▋                                                                                                              | 145/999 [00:24<02:24,  5.90it/s]"
     ]
    },
    {
     "name": "stdout",
     "output_type": "stream",
     "text": [
      "Generated True Fact {'Monofact': 3}\n",
      "Generated True Fact {'Monofact': 2, 'Popular Fact': 1}\n"
     ]
    },
    {
     "name": "stderr",
     "output_type": "stream",
     "text": [
      " 15%|██████████████████▉                                                                                                              | 147/999 [00:24<02:19,  6.11it/s]"
     ]
    },
    {
     "name": "stdout",
     "output_type": "stream",
     "text": [
      "Generated True Fact {'Popular Fact': 3}\n",
      "Generated True Fact {'Popular Fact': 2, 'Monofact': 1}\n"
     ]
    },
    {
     "name": "stderr",
     "output_type": "stream",
     "text": [
      " 15%|███████████████████▏                                                                                                             | 149/999 [00:24<02:16,  6.21it/s]"
     ]
    },
    {
     "name": "stdout",
     "output_type": "stream",
     "text": [
      "Generated True Fact {'Popular Fact': 3}\n",
      "Generated True Fact {'Monofact': 2, 'Popular Fact': 1}\n"
     ]
    },
    {
     "name": "stderr",
     "output_type": "stream",
     "text": [
      " 15%|███████████████████▍                                                                                                             | 151/999 [00:25<02:14,  6.28it/s]"
     ]
    },
    {
     "name": "stdout",
     "output_type": "stream",
     "text": [
      "Generated True Fact {'Popular Fact': 3}\n",
      "Generated True Fact {'Monofact': 2, 'Popular Fact': 1}\n"
     ]
    },
    {
     "name": "stderr",
     "output_type": "stream",
     "text": [
      " 15%|███████████████████▊                                                                                                             | 153/999 [00:25<02:12,  6.38it/s]"
     ]
    },
    {
     "name": "stdout",
     "output_type": "stream",
     "text": [
      "Generated True Fact {'Popular Fact': 3}\n",
      "Generated True Fact {'Popular Fact': 3}\n"
     ]
    },
    {
     "name": "stderr",
     "output_type": "stream",
     "text": [
      " 16%|████████████████████                                                                                                             | 155/999 [00:25<02:11,  6.43it/s]"
     ]
    },
    {
     "name": "stdout",
     "output_type": "stream",
     "text": [
      "Generated True Fact {'Popular Fact': 3}\n",
      "Generated True Fact {'Monofact': 2, 'Popular Fact': 1}\n"
     ]
    },
    {
     "name": "stderr",
     "output_type": "stream",
     "text": [
      " 16%|████████████████████▎                                                                                                            | 157/999 [00:26<02:11,  6.38it/s]"
     ]
    },
    {
     "name": "stdout",
     "output_type": "stream",
     "text": [
      "Generated True Fact {'Monofact': 3}\n",
      "Generated True Fact {'Popular Fact': 2, 'Monofact': 1}\n"
     ]
    },
    {
     "name": "stderr",
     "output_type": "stream",
     "text": [
      " 16%|████████████████████▌                                                                                                            | 159/999 [00:26<02:11,  6.40it/s]"
     ]
    },
    {
     "name": "stdout",
     "output_type": "stream",
     "text": [
      "Generated True Fact {'Popular Fact': 2, 'Monofact': 1}\n",
      "Generated True Fact {'Monofact': 2, 'Popular Fact': 1}\n"
     ]
    },
    {
     "name": "stderr",
     "output_type": "stream",
     "text": [
      " 16%|████████████████████▊                                                                                                            | 161/999 [00:26<02:09,  6.48it/s]"
     ]
    },
    {
     "name": "stdout",
     "output_type": "stream",
     "text": [
      "Generated True Fact {'Monofact': 3}\n",
      "Generated True Fact {'Popular Fact': 2, 'Monofact': 1}\n"
     ]
    },
    {
     "name": "stderr",
     "output_type": "stream",
     "text": [
      " 16%|█████████████████████                                                                                                            | 163/999 [00:26<02:08,  6.52it/s]"
     ]
    },
    {
     "name": "stdout",
     "output_type": "stream",
     "text": [
      "Generated True Fact {'Popular Fact': 3}\n",
      "Generated True Fact {'Monofact': 3}\n"
     ]
    },
    {
     "name": "stderr",
     "output_type": "stream",
     "text": [
      " 17%|█████████████████████▎                                                                                                           | 165/999 [00:27<02:07,  6.53it/s]"
     ]
    },
    {
     "name": "stdout",
     "output_type": "stream",
     "text": [
      "Generated True Fact {'Popular Fact': 3}\n",
      "Generated True Fact {'Monofact': 3}\n"
     ]
    },
    {
     "name": "stderr",
     "output_type": "stream",
     "text": [
      " 17%|█████████████████████▌                                                                                                           | 167/999 [00:27<02:07,  6.51it/s]"
     ]
    },
    {
     "name": "stdout",
     "output_type": "stream",
     "text": [
      "Generated True Fact {'Monofact': 3}\n",
      "Generated True Fact {'Popular Fact': 2, 'Monofact': 1}\n"
     ]
    },
    {
     "name": "stderr",
     "output_type": "stream",
     "text": [
      " 17%|█████████████████████▊                                                                                                           | 169/999 [00:27<02:07,  6.53it/s]"
     ]
    },
    {
     "name": "stdout",
     "output_type": "stream",
     "text": [
      "Generated True Fact {'Monofact': 2, 'Popular Fact': 1}\n",
      "Generated True Fact {'Popular Fact': 3}\n"
     ]
    },
    {
     "name": "stderr",
     "output_type": "stream",
     "text": [
      " 17%|██████████████████████                                                                                                           | 171/999 [00:28<02:09,  6.42it/s]"
     ]
    },
    {
     "name": "stdout",
     "output_type": "stream",
     "text": [
      "Generated True Fact {'Monofact': 2, 'Popular Fact': 1}\n",
      "Generated True Fact {'Popular Fact': 3}\n"
     ]
    },
    {
     "name": "stderr",
     "output_type": "stream",
     "text": [
      " 17%|██████████████████████▎                                                                                                          | 173/999 [00:28<02:07,  6.49it/s]"
     ]
    },
    {
     "name": "stdout",
     "output_type": "stream",
     "text": [
      "Generated True Fact {'Popular Fact': 3}\n",
      "Generated True Fact {'Monofact': 3}\n"
     ]
    },
    {
     "name": "stderr",
     "output_type": "stream",
     "text": [
      " 18%|██████████████████████▌                                                                                                          | 175/999 [00:28<02:06,  6.51it/s]"
     ]
    },
    {
     "name": "stdout",
     "output_type": "stream",
     "text": [
      "Generated True Fact {'Monofact': 3}\n",
      "Generated True Fact {'Monofact': 3}\n"
     ]
    },
    {
     "name": "stderr",
     "output_type": "stream",
     "text": [
      " 18%|██████████████████████▊                                                                                                          | 177/999 [00:29<02:06,  6.52it/s]"
     ]
    },
    {
     "name": "stdout",
     "output_type": "stream",
     "text": [
      "Generated True Fact {'Monofact': 3}\n",
      "Generated True Fact {'Monofact': 2, 'Popular Fact': 1}\n"
     ]
    },
    {
     "name": "stderr",
     "output_type": "stream",
     "text": [
      " 18%|███████████████████████                                                                                                          | 179/999 [00:29<02:05,  6.53it/s]"
     ]
    },
    {
     "name": "stdout",
     "output_type": "stream",
     "text": [
      "Generated True Fact {'Monofact': 3}\n",
      "Generated True Fact {'Popular Fact': 3}\n"
     ]
    },
    {
     "name": "stderr",
     "output_type": "stream",
     "text": [
      " 18%|███████████████████████▏                                                                                                         | 180/999 [00:29<02:08,  6.39it/s]"
     ]
    },
    {
     "name": "stdout",
     "output_type": "stream",
     "text": [
      "Generated True Fact {'Monofact': 2, 'Popular Fact': 1}\n"
     ]
    },
    {
     "name": "stderr",
     "output_type": "stream",
     "text": [
      " 18%|███████████████████████▌                                                                                                         | 182/999 [00:29<02:17,  5.95it/s]"
     ]
    },
    {
     "name": "stdout",
     "output_type": "stream",
     "text": [
      "Generated True Fact {'Monofact': 3}\n",
      "Generated True Fact {'Monofact': 3}\n"
     ]
    },
    {
     "name": "stderr",
     "output_type": "stream",
     "text": [
      " 18%|███████████████████████▊                                                                                                         | 184/999 [00:30<02:13,  6.12it/s]"
     ]
    },
    {
     "name": "stdout",
     "output_type": "stream",
     "text": [
      "Generated True Fact {'Popular Fact': 3}\n",
      "Generated True Fact {'Popular Fact': 3}\n"
     ]
    },
    {
     "name": "stderr",
     "output_type": "stream",
     "text": [
      " 19%|████████████████████████                                                                                                         | 186/999 [00:30<02:11,  6.18it/s]"
     ]
    },
    {
     "name": "stdout",
     "output_type": "stream",
     "text": [
      "Generated True Fact {'Monofact': 3}\n",
      "Generated True Fact {'Monofact': 2, 'Popular Fact': 1}\n"
     ]
    },
    {
     "name": "stderr",
     "output_type": "stream",
     "text": [
      " 19%|████████████████████████▎                                                                                                        | 188/999 [00:30<02:07,  6.35it/s]"
     ]
    },
    {
     "name": "stdout",
     "output_type": "stream",
     "text": [
      "Generated True Fact {'Monofact': 3}\n",
      "Generated True Fact {'Monofact': 3}\n"
     ]
    },
    {
     "name": "stderr",
     "output_type": "stream",
     "text": [
      " 19%|████████████████████████▌                                                                                                        | 190/999 [00:31<02:17,  5.90it/s]"
     ]
    },
    {
     "name": "stdout",
     "output_type": "stream",
     "text": [
      "Generated True Fact {'Popular Fact': 2, 'Monofact': 1}\n",
      "Generated True Fact {'Popular Fact': 2, 'Monofact': 1}\n"
     ]
    },
    {
     "name": "stderr",
     "output_type": "stream",
     "text": [
      " 19%|████████████████████████▊                                                                                                        | 192/999 [00:31<02:17,  5.87it/s]"
     ]
    },
    {
     "name": "stdout",
     "output_type": "stream",
     "text": [
      "Generated True Fact {'Monofact': 3}\n",
      "Generated True Fact {'Monofact': 2, 'Popular Fact': 1}\n"
     ]
    },
    {
     "name": "stderr",
     "output_type": "stream",
     "text": [
      " 19%|█████████████████████████                                                                                                        | 194/999 [00:31<02:09,  6.19it/s]"
     ]
    },
    {
     "name": "stdout",
     "output_type": "stream",
     "text": [
      "Generated True Fact {'Monofact': 3}\n",
      "Generated True Fact {'Monofact': 3}\n"
     ]
    },
    {
     "name": "stderr",
     "output_type": "stream",
     "text": [
      " 20%|█████████████████████████▎                                                                                                       | 196/999 [00:32<02:06,  6.34it/s]"
     ]
    },
    {
     "name": "stdout",
     "output_type": "stream",
     "text": [
      "Generated True Fact {'Monofact': 3}\n",
      "Generated True Fact {'Monofact': 2, 'Popular Fact': 1}\n"
     ]
    },
    {
     "name": "stderr",
     "output_type": "stream",
     "text": [
      " 20%|█████████████████████████▌                                                                                                       | 198/999 [00:32<02:05,  6.38it/s]"
     ]
    },
    {
     "name": "stdout",
     "output_type": "stream",
     "text": [
      "Generated True Fact {'Monofact': 3}\n",
      "Generated True Fact {'Popular Fact': 2, 'Monofact': 1}\n"
     ]
    },
    {
     "name": "stderr",
     "output_type": "stream",
     "text": [
      " 20%|█████████████████████████▊                                                                                                       | 200/999 [00:32<02:03,  6.44it/s]"
     ]
    },
    {
     "name": "stdout",
     "output_type": "stream",
     "text": [
      "Generated True Fact {'Popular Fact': 2, 'Monofact': 1}\n",
      "Generated True Fact {'Popular Fact': 3}\n"
     ]
    },
    {
     "name": "stderr",
     "output_type": "stream",
     "text": [
      " 20%|██████████████████████████                                                                                                       | 202/999 [00:33<02:02,  6.50it/s]"
     ]
    },
    {
     "name": "stdout",
     "output_type": "stream",
     "text": [
      "Generated True Fact {'Monofact': 3}\n",
      "Generated True Fact {'Monofact': 3}\n"
     ]
    },
    {
     "name": "stderr",
     "output_type": "stream",
     "text": [
      " 20%|██████████████████████████▎                                                                                                      | 204/999 [00:33<02:02,  6.47it/s]"
     ]
    },
    {
     "name": "stdout",
     "output_type": "stream",
     "text": [
      "Generated True Fact {'Popular Fact': 2, 'Monofact': 1}\n",
      "Generated True Fact {'Monofact': 3}\n"
     ]
    },
    {
     "name": "stderr",
     "output_type": "stream",
     "text": [
      " 21%|██████████████████████████▌                                                                                                      | 206/999 [00:33<02:03,  6.41it/s]"
     ]
    },
    {
     "name": "stdout",
     "output_type": "stream",
     "text": [
      "Generated True Fact {'Popular Fact': 2, 'Monofact': 1}\n",
      "Generated True Fact {'Monofact': 3}\n"
     ]
    },
    {
     "name": "stderr",
     "output_type": "stream",
     "text": [
      " 21%|██████████████████████████▊                                                                                                      | 208/999 [00:34<02:08,  6.15it/s]"
     ]
    },
    {
     "name": "stdout",
     "output_type": "stream",
     "text": [
      "Generated True Fact {'Popular Fact': 3}\n",
      "Generated True Fact {'Monofact': 3}\n"
     ]
    },
    {
     "name": "stderr",
     "output_type": "stream",
     "text": [
      " 21%|███████████████████████████                                                                                                      | 210/999 [00:34<02:05,  6.31it/s]"
     ]
    },
    {
     "name": "stdout",
     "output_type": "stream",
     "text": [
      "Generated True Fact {'Monofact': 2, 'Popular Fact': 1}\n",
      "Generated True Fact {'Monofact': 3}\n"
     ]
    },
    {
     "name": "stderr",
     "output_type": "stream",
     "text": [
      " 21%|███████████████████████████▍                                                                                                     | 212/999 [00:34<02:02,  6.41it/s]"
     ]
    },
    {
     "name": "stdout",
     "output_type": "stream",
     "text": [
      "Generated True Fact {'Monofact': 3}\n",
      "Generated True Fact {'Popular Fact': 3}\n"
     ]
    },
    {
     "name": "stderr",
     "output_type": "stream",
     "text": [
      " 21%|███████████████████████████▋                                                                                                     | 214/999 [00:35<02:02,  6.41it/s]"
     ]
    },
    {
     "name": "stdout",
     "output_type": "stream",
     "text": [
      "Generated True Fact {'Monofact': 2, 'Popular Fact': 1}\n",
      "Generated True Fact {'Monofact': 3}\n"
     ]
    },
    {
     "name": "stderr",
     "output_type": "stream",
     "text": [
      " 22%|███████████████████████████▉                                                                                                     | 216/999 [00:35<02:00,  6.50it/s]"
     ]
    },
    {
     "name": "stdout",
     "output_type": "stream",
     "text": [
      "Generated True Fact {'Popular Fact': 3}\n",
      "Generated True Fact {'Monofact': 2, 'Popular Fact': 1}\n"
     ]
    },
    {
     "name": "stderr",
     "output_type": "stream",
     "text": [
      " 22%|████████████████████████████▏                                                                                                    | 218/999 [00:35<02:00,  6.47it/s]"
     ]
    },
    {
     "name": "stdout",
     "output_type": "stream",
     "text": [
      "Generated True Fact {'Popular Fact': 3}\n",
      "Generated True Fact {'Popular Fact': 3}\n"
     ]
    },
    {
     "name": "stderr",
     "output_type": "stream",
     "text": [
      " 22%|████████████████████████████▍                                                                                                    | 220/999 [00:35<01:59,  6.52it/s]"
     ]
    },
    {
     "name": "stdout",
     "output_type": "stream",
     "text": [
      "Generated True Fact {'Monofact': 3}\n",
      "Generated True Fact {'Monofact': 3}\n"
     ]
    },
    {
     "name": "stderr",
     "output_type": "stream",
     "text": [
      " 22%|████████████████████████████▋                                                                                                    | 222/999 [00:36<01:58,  6.55it/s]"
     ]
    },
    {
     "name": "stdout",
     "output_type": "stream",
     "text": [
      "Generated True Fact {'Monofact': 3}\n",
      "Generated True Fact {'Monofact': 2, 'Popular Fact': 1}\n"
     ]
    },
    {
     "name": "stderr",
     "output_type": "stream",
     "text": [
      " 22%|████████████████████████████▉                                                                                                    | 224/999 [00:36<01:58,  6.54it/s]"
     ]
    },
    {
     "name": "stdout",
     "output_type": "stream",
     "text": [
      "Generated True Fact {'Popular Fact': 2, 'Monofact': 1}\n",
      "Generated True Fact {'Monofact': 3}\n"
     ]
    },
    {
     "name": "stderr",
     "output_type": "stream",
     "text": [
      " 23%|█████████████████████████████▏                                                                                                   | 226/999 [00:36<01:58,  6.51it/s]"
     ]
    },
    {
     "name": "stdout",
     "output_type": "stream",
     "text": [
      "Generated True Fact {'Monofact': 3}\n",
      "Generated True Fact {'Monofact': 3}\n"
     ]
    },
    {
     "name": "stderr",
     "output_type": "stream",
     "text": [
      " 23%|█████████████████████████████▍                                                                                                   | 228/999 [00:37<01:58,  6.53it/s]"
     ]
    },
    {
     "name": "stdout",
     "output_type": "stream",
     "text": [
      "Generated True Fact {'Monofact': 3}\n",
      "Generated True Fact {'Popular Fact': 3}\n"
     ]
    },
    {
     "name": "stderr",
     "output_type": "stream",
     "text": [
      " 23%|█████████████████████████████▋                                                                                                   | 230/999 [00:37<01:58,  6.47it/s]"
     ]
    },
    {
     "name": "stdout",
     "output_type": "stream",
     "text": [
      "Generated True Fact {'Monofact': 3}\n",
      "Generated True Fact {'Popular Fact': 3}\n"
     ]
    },
    {
     "name": "stderr",
     "output_type": "stream",
     "text": [
      " 23%|█████████████████████████████▉                                                                                                   | 232/999 [00:37<01:57,  6.53it/s]"
     ]
    },
    {
     "name": "stdout",
     "output_type": "stream",
     "text": [
      "Generated True Fact {'Popular Fact': 2, 'Monofact': 1}\n",
      "Generated True Fact {'Popular Fact': 3}\n"
     ]
    },
    {
     "name": "stderr",
     "output_type": "stream",
     "text": [
      " 23%|██████████████████████████████▏                                                                                                  | 234/999 [00:38<02:01,  6.27it/s]"
     ]
    },
    {
     "name": "stdout",
     "output_type": "stream",
     "text": [
      "Generated True Fact {'Monofact': 3}\n",
      "Generated True Fact {'Monofact': 3}\n"
     ]
    },
    {
     "name": "stderr",
     "output_type": "stream",
     "text": [
      " 24%|██████████████████████████████▍                                                                                                  | 236/999 [00:38<01:58,  6.44it/s]"
     ]
    },
    {
     "name": "stdout",
     "output_type": "stream",
     "text": [
      "Generated True Fact {'Popular Fact': 2, 'Monofact': 1}\n",
      "Generated True Fact {'Monofact': 3}\n"
     ]
    },
    {
     "name": "stderr",
     "output_type": "stream",
     "text": [
      " 24%|██████████████████████████████▋                                                                                                  | 238/999 [00:38<02:00,  6.34it/s]"
     ]
    },
    {
     "name": "stdout",
     "output_type": "stream",
     "text": [
      "Generated True Fact {'Popular Fact': 3}\n",
      "Generated True Fact {'Monofact': 3}\n"
     ]
    },
    {
     "name": "stderr",
     "output_type": "stream",
     "text": [
      " 24%|██████████████████████████████▉                                                                                                  | 240/999 [00:39<01:57,  6.47it/s]"
     ]
    },
    {
     "name": "stdout",
     "output_type": "stream",
     "text": [
      "Generated True Fact {'Monofact': 2, 'Popular Fact': 1}\n",
      "Generated True Fact {'Popular Fact': 3}\n"
     ]
    },
    {
     "name": "stderr",
     "output_type": "stream",
     "text": [
      " 24%|███████████████████████████████▏                                                                                                 | 242/999 [00:39<01:56,  6.52it/s]"
     ]
    },
    {
     "name": "stdout",
     "output_type": "stream",
     "text": [
      "Generated True Fact {'Popular Fact': 3}\n",
      "Generated True Fact {'Popular Fact': 3}\n"
     ]
    },
    {
     "name": "stderr",
     "output_type": "stream",
     "text": [
      " 24%|███████████████████████████████▌                                                                                                 | 244/999 [00:39<01:55,  6.56it/s]"
     ]
    },
    {
     "name": "stdout",
     "output_type": "stream",
     "text": [
      "Generated True Fact {'Popular Fact': 3}\n",
      "Generated True Fact {'Monofact': 3}\n"
     ]
    },
    {
     "name": "stderr",
     "output_type": "stream",
     "text": [
      " 25%|███████████████████████████████▊                                                                                                 | 246/999 [00:39<01:54,  6.59it/s]"
     ]
    },
    {
     "name": "stdout",
     "output_type": "stream",
     "text": [
      "Generated True Fact {'Monofact': 3}\n",
      "Generated True Fact {'Monofact': 3}\n"
     ]
    },
    {
     "name": "stderr",
     "output_type": "stream",
     "text": [
      " 25%|████████████████████████████████                                                                                                 | 248/999 [00:40<01:55,  6.52it/s]"
     ]
    },
    {
     "name": "stdout",
     "output_type": "stream",
     "text": [
      "Generated True Fact {'Popular Fact': 2, 'Monofact': 1}\n",
      "Generated True Fact {'Popular Fact': 2, 'Monofact': 1}\n"
     ]
    },
    {
     "name": "stderr",
     "output_type": "stream",
     "text": [
      " 25%|████████████████████████████████▎                                                                                                | 250/999 [00:40<01:54,  6.53it/s]"
     ]
    },
    {
     "name": "stdout",
     "output_type": "stream",
     "text": [
      "Generated True Fact {'Popular Fact': 3}\n",
      "Generated True Fact {'Monofact': 3}\n"
     ]
    },
    {
     "name": "stderr",
     "output_type": "stream",
     "text": [
      " 25%|████████████████████████████████▌                                                                                                | 252/999 [00:40<01:53,  6.57it/s]"
     ]
    },
    {
     "name": "stdout",
     "output_type": "stream",
     "text": [
      "Generated True Fact {'Monofact': 3}\n",
      "Generated True Fact {'Popular Fact': 3}\n"
     ]
    },
    {
     "name": "stderr",
     "output_type": "stream",
     "text": [
      " 25%|████████████████████████████████▊                                                                                                | 254/999 [00:41<01:53,  6.55it/s]"
     ]
    },
    {
     "name": "stdout",
     "output_type": "stream",
     "text": [
      "Generated True Fact {'Monofact': 2, 'Popular Fact': 1}\n",
      "Generated True Fact {'Monofact': 3}\n"
     ]
    },
    {
     "name": "stderr",
     "output_type": "stream",
     "text": [
      " 26%|█████████████████████████████████                                                                                                | 256/999 [00:41<01:53,  6.57it/s]"
     ]
    },
    {
     "name": "stdout",
     "output_type": "stream",
     "text": [
      "Generated True Fact {'Monofact': 2, 'Popular Fact': 1}\n",
      "Generated True Fact {'Popular Fact': 2, 'Monofact': 1}\n"
     ]
    },
    {
     "name": "stderr",
     "output_type": "stream",
     "text": [
      " 26%|█████████████████████████████████▎                                                                                               | 258/999 [00:41<01:55,  6.41it/s]"
     ]
    },
    {
     "name": "stdout",
     "output_type": "stream",
     "text": [
      "Generated True Fact {'Monofact': 3}\n",
      "Generated True Fact {'Monofact': 3}\n"
     ]
    },
    {
     "name": "stderr",
     "output_type": "stream",
     "text": [
      " 26%|█████████████████████████████████▌                                                                                               | 260/999 [00:42<01:54,  6.47it/s]"
     ]
    },
    {
     "name": "stdout",
     "output_type": "stream",
     "text": [
      "Generated True Fact {'Monofact': 3}\n",
      "Generated True Fact {'Monofact': 2, 'Popular Fact': 1}\n"
     ]
    },
    {
     "name": "stderr",
     "output_type": "stream",
     "text": [
      " 26%|█████████████████████████████████▊                                                                                               | 262/999 [00:42<01:56,  6.34it/s]"
     ]
    },
    {
     "name": "stdout",
     "output_type": "stream",
     "text": [
      "Generated True Fact {'Monofact': 2, 'Popular Fact': 1}\n",
      "Generated True Fact {'Monofact': 3}\n"
     ]
    },
    {
     "name": "stderr",
     "output_type": "stream",
     "text": [
      " 26%|██████████████████████████████████                                                                                               | 264/999 [00:42<01:53,  6.47it/s]"
     ]
    },
    {
     "name": "stdout",
     "output_type": "stream",
     "text": [
      "Generated True Fact {'Popular Fact': 3}\n",
      "Generated True Fact {'Popular Fact': 2, 'Monofact': 1}\n"
     ]
    },
    {
     "name": "stderr",
     "output_type": "stream",
     "text": [
      " 27%|██████████████████████████████████▎                                                                                              | 266/999 [00:43<01:55,  6.34it/s]"
     ]
    },
    {
     "name": "stdout",
     "output_type": "stream",
     "text": [
      "Generated True Fact {'Popular Fact': 3}\n",
      "Generated True Fact {'Monofact': 3}\n"
     ]
    },
    {
     "name": "stderr",
     "output_type": "stream",
     "text": [
      " 27%|██████████████████████████████████▌                                                                                              | 268/999 [00:43<01:55,  6.33it/s]"
     ]
    },
    {
     "name": "stdout",
     "output_type": "stream",
     "text": [
      "Generated True Fact {'Monofact': 2, 'Popular Fact': 1}\n",
      "Generated True Fact {'Monofact': 3}\n"
     ]
    },
    {
     "name": "stderr",
     "output_type": "stream",
     "text": [
      " 27%|██████████████████████████████████▊                                                                                              | 270/999 [00:43<01:55,  6.33it/s]"
     ]
    },
    {
     "name": "stdout",
     "output_type": "stream",
     "text": [
      "Generated True Fact {'Monofact': 3}\n",
      "Generated True Fact {'Monofact': 3}\n"
     ]
    },
    {
     "name": "stderr",
     "output_type": "stream",
     "text": [
      " 27%|███████████████████████████████████                                                                                              | 272/999 [00:44<01:56,  6.26it/s]"
     ]
    },
    {
     "name": "stdout",
     "output_type": "stream",
     "text": [
      "Generated True Fact {'Monofact': 3}\n",
      "Generated True Fact {'Monofact': 3}\n"
     ]
    },
    {
     "name": "stderr",
     "output_type": "stream",
     "text": [
      " 27%|███████████████████████████████████▍                                                                                             | 274/999 [00:44<01:55,  6.30it/s]"
     ]
    },
    {
     "name": "stdout",
     "output_type": "stream",
     "text": [
      "Generated True Fact {'Popular Fact': 2, 'Monofact': 1}\n",
      "Generated True Fact {'Monofact': 2, 'Popular Fact': 1}\n"
     ]
    },
    {
     "name": "stderr",
     "output_type": "stream",
     "text": [
      " 28%|███████████████████████████████████▋                                                                                             | 276/999 [00:44<01:54,  6.32it/s]"
     ]
    },
    {
     "name": "stdout",
     "output_type": "stream",
     "text": [
      "Generated True Fact {'Popular Fact': 3}\n",
      "Generated True Fact {'Popular Fact': 2, 'Monofact': 1}\n"
     ]
    },
    {
     "name": "stderr",
     "output_type": "stream",
     "text": [
      " 28%|███████████████████████████████████▉                                                                                             | 278/999 [00:44<01:54,  6.32it/s]"
     ]
    },
    {
     "name": "stdout",
     "output_type": "stream",
     "text": [
      "Generated True Fact {'Monofact': 3}\n",
      "Generated True Fact {'Monofact': 3}\n"
     ]
    },
    {
     "name": "stderr",
     "output_type": "stream",
     "text": [
      " 28%|████████████████████████████████████▏                                                                                            | 280/999 [00:45<01:56,  6.19it/s]"
     ]
    },
    {
     "name": "stdout",
     "output_type": "stream",
     "text": [
      "Generated True Fact {'Popular Fact': 2, 'Monofact': 1}\n",
      "Generated True Fact {'Monofact': 3}\n"
     ]
    },
    {
     "name": "stderr",
     "output_type": "stream",
     "text": [
      " 28%|████████████████████████████████████▍                                                                                            | 282/999 [00:45<01:54,  6.27it/s]"
     ]
    },
    {
     "name": "stdout",
     "output_type": "stream",
     "text": [
      "Generated True Fact {'Monofact': 3}\n",
      "Generated True Fact {'Popular Fact': 3}\n"
     ]
    },
    {
     "name": "stderr",
     "output_type": "stream",
     "text": [
      " 28%|████████████████████████████████████▋                                                                                            | 284/999 [00:45<01:53,  6.30it/s]"
     ]
    },
    {
     "name": "stdout",
     "output_type": "stream",
     "text": [
      "Generated True Fact {'Popular Fact': 2, 'Monofact': 1}\n",
      "Generated True Fact {'Monofact': 3}\n"
     ]
    },
    {
     "name": "stderr",
     "output_type": "stream",
     "text": [
      " 29%|████████████████████████████████████▉                                                                                            | 286/999 [00:46<01:56,  6.13it/s]"
     ]
    },
    {
     "name": "stdout",
     "output_type": "stream",
     "text": [
      "Generated True Fact {'Monofact': 2, 'Popular Fact': 1}\n",
      "Generated True Fact {'Monofact': 3}\n"
     ]
    },
    {
     "name": "stderr",
     "output_type": "stream",
     "text": [
      " 29%|█████████████████████████████████████                                                                                            | 287/999 [00:46<01:58,  6.02it/s]"
     ]
    },
    {
     "name": "stdout",
     "output_type": "stream",
     "text": [
      "Generated True Fact {'Popular Fact': 2, 'Monofact': 1}\n"
     ]
    },
    {
     "name": "stderr",
     "output_type": "stream",
     "text": [
      " 29%|█████████████████████████████████████▎                                                                                           | 289/999 [00:46<02:01,  5.83it/s]"
     ]
    },
    {
     "name": "stdout",
     "output_type": "stream",
     "text": [
      "Generated True Fact {'Popular Fact': 3}\n",
      "Generated True Fact {'Monofact': 3}\n"
     ]
    },
    {
     "name": "stderr",
     "output_type": "stream",
     "text": [
      " 29%|█████████████████████████████████████▌                                                                                           | 291/999 [00:47<01:55,  6.11it/s]"
     ]
    },
    {
     "name": "stdout",
     "output_type": "stream",
     "text": [
      "Generated True Fact {'Popular Fact': 2, 'Monofact': 1}\n",
      "Generated True Fact {'Monofact': 3}\n"
     ]
    },
    {
     "name": "stderr",
     "output_type": "stream",
     "text": [
      " 29%|█████████████████████████████████████▊                                                                                           | 293/999 [00:47<01:51,  6.31it/s]"
     ]
    },
    {
     "name": "stdout",
     "output_type": "stream",
     "text": [
      "Generated True Fact {'Popular Fact': 2, 'Monofact': 1}\n",
      "Generated True Fact {'Monofact': 2, 'Popular Fact': 1}\n"
     ]
    },
    {
     "name": "stderr",
     "output_type": "stream",
     "text": [
      " 30%|██████████████████████████████████████                                                                                           | 295/999 [00:47<01:49,  6.40it/s]"
     ]
    },
    {
     "name": "stdout",
     "output_type": "stream",
     "text": [
      "Generated True Fact {'Popular Fact': 3}\n",
      "Generated True Fact {'Monofact': 3}\n"
     ]
    },
    {
     "name": "stderr",
     "output_type": "stream",
     "text": [
      " 30%|██████████████████████████████████████▎                                                                                          | 297/999 [00:48<01:49,  6.44it/s]"
     ]
    },
    {
     "name": "stdout",
     "output_type": "stream",
     "text": [
      "Generated True Fact {'Popular Fact': 3}\n",
      "Generated True Fact {'Monofact': 3}\n"
     ]
    },
    {
     "name": "stderr",
     "output_type": "stream",
     "text": [
      " 30%|██████████████████████████████████████▌                                                                                          | 299/999 [00:48<01:48,  6.47it/s]"
     ]
    },
    {
     "name": "stdout",
     "output_type": "stream",
     "text": [
      "Generated True Fact {'Popular Fact': 2, 'Monofact': 1}\n",
      "Generated True Fact {'Monofact': 3}\n"
     ]
    },
    {
     "name": "stderr",
     "output_type": "stream",
     "text": [
      " 30%|██████████████████████████████████████▊                                                                                          | 301/999 [00:48<01:52,  6.23it/s]"
     ]
    },
    {
     "name": "stdout",
     "output_type": "stream",
     "text": [
      "Generated True Fact {'Monofact': 3}\n",
      "Generated True Fact {'Monofact': 3}\n"
     ]
    },
    {
     "name": "stderr",
     "output_type": "stream",
     "text": [
      " 30%|███████████████████████████████████████▏                                                                                         | 303/999 [00:48<01:49,  6.35it/s]"
     ]
    },
    {
     "name": "stdout",
     "output_type": "stream",
     "text": [
      "Generated True Fact {'Monofact': 3}\n",
      "Generated True Fact {'Monofact': 3}\n"
     ]
    },
    {
     "name": "stderr",
     "output_type": "stream",
     "text": [
      " 31%|███████████████████████████████████████▍                                                                                         | 305/999 [00:49<01:49,  6.36it/s]"
     ]
    },
    {
     "name": "stdout",
     "output_type": "stream",
     "text": [
      "Generated True Fact {'Popular Fact': 3}\n",
      "Generated True Fact {'Popular Fact': 3}\n"
     ]
    },
    {
     "name": "stderr",
     "output_type": "stream",
     "text": [
      " 31%|███████████████████████████████████████▋                                                                                         | 307/999 [00:49<01:49,  6.32it/s]"
     ]
    },
    {
     "name": "stdout",
     "output_type": "stream",
     "text": [
      "Generated True Fact {'Monofact': 3}\n",
      "Generated True Fact {'Monofact': 3}\n"
     ]
    },
    {
     "name": "stderr",
     "output_type": "stream",
     "text": [
      " 31%|███████████████████████████████████████▉                                                                                         | 309/999 [00:49<01:49,  6.29it/s]"
     ]
    },
    {
     "name": "stdout",
     "output_type": "stream",
     "text": [
      "Generated True Fact {'Popular Fact': 2, 'Monofact': 1}\n",
      "Generated True Fact {'Monofact': 2, 'Popular Fact': 1}\n"
     ]
    },
    {
     "name": "stderr",
     "output_type": "stream",
     "text": [
      " 31%|████████████████████████████████████████▏                                                                                        | 311/999 [00:50<01:49,  6.30it/s]"
     ]
    },
    {
     "name": "stdout",
     "output_type": "stream",
     "text": [
      "Generated True Fact {'Popular Fact': 2, 'Monofact': 1}\n",
      "Generated True Fact {'Monofact': 3}\n"
     ]
    },
    {
     "name": "stderr",
     "output_type": "stream",
     "text": [
      " 31%|████████████████████████████████████████▍                                                                                        | 313/999 [00:50<01:49,  6.25it/s]"
     ]
    },
    {
     "name": "stdout",
     "output_type": "stream",
     "text": [
      "Generated True Fact {'Monofact': 3}\n",
      "Generated True Fact {'Popular Fact': 2, 'Monofact': 1}\n"
     ]
    },
    {
     "name": "stderr",
     "output_type": "stream",
     "text": [
      " 32%|████████████████████████████████████████▋                                                                                        | 315/999 [00:50<01:49,  6.22it/s]"
     ]
    },
    {
     "name": "stdout",
     "output_type": "stream",
     "text": [
      "Generated True Fact {'Popular Fact': 3}\n",
      "Generated True Fact {'Monofact': 3}\n"
     ]
    },
    {
     "name": "stderr",
     "output_type": "stream",
     "text": [
      " 32%|████████████████████████████████████████▉                                                                                        | 317/999 [00:51<01:50,  6.15it/s]"
     ]
    },
    {
     "name": "stdout",
     "output_type": "stream",
     "text": [
      "Generated True Fact {'Monofact': 3}\n",
      "Generated True Fact {'Popular Fact': 3}\n"
     ]
    },
    {
     "name": "stderr",
     "output_type": "stream",
     "text": [
      " 32%|█████████████████████████████████████████▏                                                                                       | 319/999 [00:51<01:47,  6.32it/s]"
     ]
    },
    {
     "name": "stdout",
     "output_type": "stream",
     "text": [
      "Generated True Fact {'Monofact': 2, 'Popular Fact': 1}\n",
      "Generated True Fact {'Popular Fact': 3}\n"
     ]
    },
    {
     "name": "stderr",
     "output_type": "stream",
     "text": [
      " 32%|█████████████████████████████████████████▍                                                                                       | 321/999 [00:51<01:45,  6.40it/s]"
     ]
    },
    {
     "name": "stdout",
     "output_type": "stream",
     "text": [
      "Generated True Fact {'Popular Fact': 3}\n",
      "Generated True Fact {'Monofact': 2, 'Popular Fact': 1}\n"
     ]
    },
    {
     "name": "stderr",
     "output_type": "stream",
     "text": [
      " 32%|█████████████████████████████████████████▋                                                                                       | 323/999 [00:52<01:45,  6.43it/s]"
     ]
    },
    {
     "name": "stdout",
     "output_type": "stream",
     "text": [
      "Generated True Fact {'Monofact': 3}\n",
      "Generated True Fact {'Monofact': 3}\n"
     ]
    },
    {
     "name": "stderr",
     "output_type": "stream",
     "text": [
      " 33%|█████████████████████████████████████████▉                                                                                       | 325/999 [00:52<01:45,  6.40it/s]"
     ]
    },
    {
     "name": "stdout",
     "output_type": "stream",
     "text": [
      "Generated True Fact {'Monofact': 3}\n",
      "Generated True Fact {'Popular Fact': 3}\n"
     ]
    },
    {
     "name": "stderr",
     "output_type": "stream",
     "text": [
      " 33%|██████████████████████████████████████████▏                                                                                      | 327/999 [00:52<01:44,  6.42it/s]"
     ]
    },
    {
     "name": "stdout",
     "output_type": "stream",
     "text": [
      "Generated True Fact {'Popular Fact': 3}\n",
      "Generated True Fact {'Popular Fact': 3}\n"
     ]
    },
    {
     "name": "stderr",
     "output_type": "stream",
     "text": [
      " 33%|██████████████████████████████████████████▍                                                                                      | 329/999 [00:53<01:44,  6.40it/s]"
     ]
    },
    {
     "name": "stdout",
     "output_type": "stream",
     "text": [
      "Generated True Fact {'Popular Fact': 3}\n",
      "Generated True Fact {'Popular Fact': 3}\n"
     ]
    },
    {
     "name": "stderr",
     "output_type": "stream",
     "text": [
      " 33%|██████████████████████████████████████████▋                                                                                      | 331/999 [00:53<01:43,  6.44it/s]"
     ]
    },
    {
     "name": "stdout",
     "output_type": "stream",
     "text": [
      "Generated True Fact {'Popular Fact': 3}\n",
      "Generated True Fact {'Popular Fact': 2, 'Monofact': 1}\n"
     ]
    },
    {
     "name": "stderr",
     "output_type": "stream",
     "text": [
      " 33%|███████████████████████████████████████████                                                                                      | 333/999 [00:53<01:43,  6.40it/s]"
     ]
    },
    {
     "name": "stdout",
     "output_type": "stream",
     "text": [
      "Generated True Fact {'Monofact': 3}\n",
      "Generated True Fact {'Monofact': 3}\n"
     ]
    },
    {
     "name": "stderr",
     "output_type": "stream",
     "text": [
      " 34%|███████████████████████████████████████████▎                                                                                     | 335/999 [00:54<01:44,  6.37it/s]"
     ]
    },
    {
     "name": "stdout",
     "output_type": "stream",
     "text": [
      "Generated True Fact {'Monofact': 3}\n",
      "Generated True Fact {'Popular Fact': 2, 'Monofact': 1}\n"
     ]
    },
    {
     "name": "stderr",
     "output_type": "stream",
     "text": [
      " 34%|███████████████████████████████████████████▌                                                                                     | 337/999 [00:54<01:43,  6.41it/s]"
     ]
    },
    {
     "name": "stdout",
     "output_type": "stream",
     "text": [
      "Generated True Fact {'Monofact': 3}\n",
      "Generated True Fact {'Popular Fact': 3}\n"
     ]
    },
    {
     "name": "stderr",
     "output_type": "stream",
     "text": [
      " 34%|███████████████████████████████████████████▋                                                                                     | 338/999 [00:54<01:43,  6.41it/s]"
     ]
    },
    {
     "name": "stdout",
     "output_type": "stream",
     "text": [
      "Generated True Fact {'Popular Fact': 2, 'Monofact': 1}\n"
     ]
    },
    {
     "name": "stderr",
     "output_type": "stream",
     "text": [
      " 34%|███████████████████████████████████████████▉                                                                                     | 340/999 [00:54<01:51,  5.94it/s]"
     ]
    },
    {
     "name": "stdout",
     "output_type": "stream",
     "text": [
      "Generated True Fact {'Monofact': 3}\n",
      "Generated True Fact {'Popular Fact': 2, 'Monofact': 1}\n"
     ]
    },
    {
     "name": "stderr",
     "output_type": "stream",
     "text": [
      " 34%|████████████████████████████████████████████▏                                                                                    | 342/999 [00:55<01:45,  6.21it/s]"
     ]
    },
    {
     "name": "stdout",
     "output_type": "stream",
     "text": [
      "Generated True Fact {'Monofact': 2, 'Popular Fact': 1}\n",
      "Generated True Fact {'Popular Fact': 3}\n"
     ]
    },
    {
     "name": "stderr",
     "output_type": "stream",
     "text": [
      " 34%|████████████████████████████████████████████▍                                                                                    | 344/999 [00:55<01:49,  5.98it/s]"
     ]
    },
    {
     "name": "stdout",
     "output_type": "stream",
     "text": [
      "Generated True Fact {'Monofact': 2, 'Popular Fact': 1}\n",
      "Generated True Fact {'Popular Fact': 3}\n"
     ]
    },
    {
     "name": "stderr",
     "output_type": "stream",
     "text": [
      " 35%|████████████████████████████████████████████▋                                                                                    | 346/999 [00:55<01:47,  6.05it/s]"
     ]
    },
    {
     "name": "stdout",
     "output_type": "stream",
     "text": [
      "Generated True Fact {'Monofact': 3}\n",
      "Generated True Fact {'Monofact': 3}\n"
     ]
    },
    {
     "name": "stderr",
     "output_type": "stream",
     "text": [
      " 35%|████████████████████████████████████████████▉                                                                                    | 348/999 [00:56<01:43,  6.27it/s]"
     ]
    },
    {
     "name": "stdout",
     "output_type": "stream",
     "text": [
      "Generated True Fact {'Popular Fact': 3}\n",
      "Generated True Fact {'Popular Fact': 3}\n"
     ]
    },
    {
     "name": "stderr",
     "output_type": "stream",
     "text": [
      " 35%|█████████████████████████████████████████████▏                                                                                   | 350/999 [00:56<01:43,  6.29it/s]"
     ]
    },
    {
     "name": "stdout",
     "output_type": "stream",
     "text": [
      "Generated True Fact {'Monofact': 3}\n",
      "Generated True Fact {'Monofact': 3}\n"
     ]
    },
    {
     "name": "stderr",
     "output_type": "stream",
     "text": [
      " 35%|█████████████████████████████████████████████▍                                                                                   | 352/999 [00:56<01:40,  6.42it/s]"
     ]
    },
    {
     "name": "stdout",
     "output_type": "stream",
     "text": [
      "Generated True Fact {'Popular Fact': 2, 'Monofact': 1}\n",
      "Generated True Fact {'Monofact': 2, 'Popular Fact': 1}\n"
     ]
    },
    {
     "name": "stderr",
     "output_type": "stream",
     "text": [
      " 35%|█████████████████████████████████████████████▋                                                                                   | 354/999 [00:57<01:41,  6.37it/s]"
     ]
    },
    {
     "name": "stdout",
     "output_type": "stream",
     "text": [
      "Generated True Fact {'Monofact': 3}\n",
      "Generated True Fact {'Popular Fact': 3}\n"
     ]
    },
    {
     "name": "stderr",
     "output_type": "stream",
     "text": [
      " 36%|█████████████████████████████████████████████▉                                                                                   | 356/999 [00:57<01:41,  6.33it/s]"
     ]
    },
    {
     "name": "stdout",
     "output_type": "stream",
     "text": [
      "Generated True Fact {'Monofact': 3}\n",
      "Generated True Fact {'Monofact': 3}\n"
     ]
    },
    {
     "name": "stderr",
     "output_type": "stream",
     "text": [
      " 36%|██████████████████████████████████████████████▏                                                                                  | 358/999 [00:57<01:40,  6.36it/s]"
     ]
    },
    {
     "name": "stdout",
     "output_type": "stream",
     "text": [
      "Generated True Fact {'Monofact': 3}\n",
      "Generated True Fact {'Monofact': 3}\n"
     ]
    },
    {
     "name": "stderr",
     "output_type": "stream",
     "text": [
      " 36%|██████████████████████████████████████████████▍                                                                                  | 360/999 [00:58<01:39,  6.42it/s]"
     ]
    },
    {
     "name": "stdout",
     "output_type": "stream",
     "text": [
      "Generated True Fact {'Monofact': 2, 'Popular Fact': 1}\n",
      "Generated True Fact {'Monofact': 3}\n"
     ]
    },
    {
     "name": "stderr",
     "output_type": "stream",
     "text": [
      " 36%|██████████████████████████████████████████████▋                                                                                  | 362/999 [00:58<01:41,  6.26it/s]"
     ]
    },
    {
     "name": "stdout",
     "output_type": "stream",
     "text": [
      "Generated True Fact {'Monofact': 3}\n",
      "Generated True Fact {'Popular Fact': 2, 'Monofact': 1}\n"
     ]
    },
    {
     "name": "stderr",
     "output_type": "stream",
     "text": [
      " 36%|███████████████████████████████████████████████                                                                                  | 364/999 [00:58<01:43,  6.11it/s]"
     ]
    },
    {
     "name": "stdout",
     "output_type": "stream",
     "text": [
      "Generated True Fact {'Popular Fact': 3}\n",
      "Generated True Fact {'Popular Fact': 3}\n"
     ]
    },
    {
     "name": "stderr",
     "output_type": "stream",
     "text": [
      " 37%|███████████████████████████████████████████████▎                                                                                 | 366/999 [00:59<01:54,  5.52it/s]"
     ]
    },
    {
     "name": "stdout",
     "output_type": "stream",
     "text": [
      "Generated True Fact {'Monofact': 2, 'Popular Fact': 1}\n",
      "Generated True Fact {'Monofact': 3}\n"
     ]
    },
    {
     "name": "stderr",
     "output_type": "stream",
     "text": [
      " 37%|███████████████████████████████████████████████▌                                                                                 | 368/999 [00:59<01:47,  5.87it/s]"
     ]
    },
    {
     "name": "stdout",
     "output_type": "stream",
     "text": [
      "Generated True Fact {'Monofact': 3}\n",
      "Generated True Fact {'Popular Fact': 2, 'Monofact': 1}\n"
     ]
    },
    {
     "name": "stderr",
     "output_type": "stream",
     "text": [
      " 37%|███████████████████████████████████████████████▊                                                                                 | 370/999 [00:59<01:43,  6.06it/s]"
     ]
    },
    {
     "name": "stdout",
     "output_type": "stream",
     "text": [
      "Generated True Fact {'Popular Fact': 2, 'Monofact': 1}\n",
      "Generated True Fact {'Monofact': 3}\n"
     ]
    },
    {
     "name": "stderr",
     "output_type": "stream",
     "text": [
      " 37%|████████████████████████████████████████████████                                                                                 | 372/999 [01:00<01:44,  5.99it/s]"
     ]
    },
    {
     "name": "stdout",
     "output_type": "stream",
     "text": [
      "Generated True Fact {'Monofact': 3}\n",
      "Generated True Fact {'Popular Fact': 2, 'Monofact': 1}\n"
     ]
    },
    {
     "name": "stderr",
     "output_type": "stream",
     "text": [
      " 37%|████████████████████████████████████████████████▎                                                                                | 374/999 [01:00<01:40,  6.20it/s]"
     ]
    },
    {
     "name": "stdout",
     "output_type": "stream",
     "text": [
      "Generated True Fact {'Monofact': 3}\n",
      "Generated True Fact {'Monofact': 3}\n"
     ]
    },
    {
     "name": "stderr",
     "output_type": "stream",
     "text": [
      " 38%|████████████████████████████████████████████████▌                                                                                | 376/999 [01:00<01:39,  6.24it/s]"
     ]
    },
    {
     "name": "stdout",
     "output_type": "stream",
     "text": [
      "Generated True Fact {'Popular Fact': 2, 'Monofact': 1}\n",
      "Generated True Fact {'Monofact': 3}\n"
     ]
    },
    {
     "name": "stderr",
     "output_type": "stream",
     "text": [
      " 38%|████████████████████████████████████████████████▊                                                                                | 378/999 [01:01<01:40,  6.17it/s]"
     ]
    },
    {
     "name": "stdout",
     "output_type": "stream",
     "text": [
      "Generated True Fact {'Popular Fact': 3}\n",
      "Generated True Fact {'Monofact': 3}\n"
     ]
    },
    {
     "name": "stderr",
     "output_type": "stream",
     "text": [
      " 38%|█████████████████████████████████████████████████                                                                                | 380/999 [01:01<01:38,  6.31it/s]"
     ]
    },
    {
     "name": "stdout",
     "output_type": "stream",
     "text": [
      "Generated True Fact {'Popular Fact': 2, 'Monofact': 1}\n",
      "Generated True Fact {'Monofact': 3}\n"
     ]
    },
    {
     "name": "stderr",
     "output_type": "stream",
     "text": [
      " 38%|█████████████████████████████████████████████████▎                                                                               | 382/999 [01:01<01:50,  5.58it/s]"
     ]
    },
    {
     "name": "stdout",
     "output_type": "stream",
     "text": [
      "Generated True Fact {'Popular Fact': 2, 'Monofact': 1}\n",
      "Generated True Fact {'Monofact': 3}\n"
     ]
    },
    {
     "name": "stderr",
     "output_type": "stream",
     "text": [
      " 38%|█████████████████████████████████████████████████▌                                                                               | 384/999 [01:02<01:57,  5.26it/s]"
     ]
    },
    {
     "name": "stdout",
     "output_type": "stream",
     "text": [
      "Generated True Fact {'Popular Fact': 3}\n",
      "Generated True Fact {'Monofact': 2, 'Popular Fact': 1}\n"
     ]
    },
    {
     "name": "stderr",
     "output_type": "stream",
     "text": [
      " 39%|█████████████████████████████████████████████████▊                                                                               | 386/999 [01:02<01:59,  5.12it/s]"
     ]
    },
    {
     "name": "stdout",
     "output_type": "stream",
     "text": [
      "Generated True Fact {'Monofact': 2, 'Popular Fact': 1}\n",
      "Generated True Fact {'Popular Fact': 2, 'Monofact': 1}\n"
     ]
    },
    {
     "name": "stderr",
     "output_type": "stream",
     "text": [
      " 39%|██████████████████████████████████████████████████                                                                               | 388/999 [01:02<01:51,  5.48it/s]"
     ]
    },
    {
     "name": "stdout",
     "output_type": "stream",
     "text": [
      "Generated True Fact {'Monofact': 3}\n",
      "Generated True Fact {'Popular Fact': 3}\n"
     ]
    },
    {
     "name": "stderr",
     "output_type": "stream",
     "text": [
      " 39%|██████████████████████████████████████████████████▎                                                                              | 390/999 [01:03<01:47,  5.64it/s]"
     ]
    },
    {
     "name": "stdout",
     "output_type": "stream",
     "text": [
      "Generated True Fact {'Popular Fact': 3}\n",
      "Generated True Fact {'Monofact': 3}\n"
     ]
    },
    {
     "name": "stderr",
     "output_type": "stream",
     "text": [
      " 39%|██████████████████████████████████████████████████▌                                                                              | 392/999 [01:03<01:44,  5.79it/s]"
     ]
    },
    {
     "name": "stdout",
     "output_type": "stream",
     "text": [
      "Generated True Fact {'Popular Fact': 3}\n",
      "Generated True Fact {'Monofact': 3}\n"
     ]
    },
    {
     "name": "stderr",
     "output_type": "stream",
     "text": [
      " 39%|██████████████████████████████████████████████████▉                                                                              | 394/999 [01:03<01:42,  5.91it/s]"
     ]
    },
    {
     "name": "stdout",
     "output_type": "stream",
     "text": [
      "Generated True Fact {'Monofact': 3}\n",
      "Generated True Fact {'Monofact': 3}\n"
     ]
    },
    {
     "name": "stderr",
     "output_type": "stream",
     "text": [
      " 40%|███████████████████████████████████████████████████▏                                                                             | 396/999 [01:04<01:38,  6.12it/s]"
     ]
    },
    {
     "name": "stdout",
     "output_type": "stream",
     "text": [
      "Generated True Fact {'Popular Fact': 3}\n",
      "Generated True Fact {'Monofact': 3}\n"
     ]
    },
    {
     "name": "stderr",
     "output_type": "stream",
     "text": [
      " 40%|███████████████████████████████████████████████████▍                                                                             | 398/999 [01:04<01:44,  5.74it/s]"
     ]
    },
    {
     "name": "stdout",
     "output_type": "stream",
     "text": [
      "Generated True Fact {'Popular Fact': 2, 'Monofact': 1}\n",
      "Generated True Fact {'Monofact': 2, 'Popular Fact': 1}\n"
     ]
    },
    {
     "name": "stderr",
     "output_type": "stream",
     "text": [
      " 40%|███████████████████████████████████████████████████▋                                                                             | 400/999 [01:04<01:42,  5.86it/s]"
     ]
    },
    {
     "name": "stdout",
     "output_type": "stream",
     "text": [
      "Generated True Fact {'Monofact': 2, 'Popular Fact': 1}\n",
      "Generated True Fact {'Popular Fact': 2, 'Monofact': 1}\n"
     ]
    },
    {
     "name": "stderr",
     "output_type": "stream",
     "text": [
      " 40%|███████████████████████████████████████████████████▉                                                                             | 402/999 [01:05<01:43,  5.76it/s]"
     ]
    },
    {
     "name": "stdout",
     "output_type": "stream",
     "text": [
      "Generated True Fact {'Popular Fact': 2, 'Monofact': 1}\n",
      "Generated True Fact {'Popular Fact': 3}\n"
     ]
    },
    {
     "name": "stderr",
     "output_type": "stream",
     "text": [
      " 40%|████████████████████████████████████████████████████▏                                                                            | 404/999 [01:05<01:40,  5.92it/s]"
     ]
    },
    {
     "name": "stdout",
     "output_type": "stream",
     "text": [
      "Generated True Fact {'Popular Fact': 3}\n",
      "Generated True Fact {'Monofact': 3}\n"
     ]
    },
    {
     "name": "stderr",
     "output_type": "stream",
     "text": [
      " 41%|████████████████████████████████████████████████████▎                                                                            | 405/999 [01:05<01:43,  5.75it/s]"
     ]
    },
    {
     "name": "stdout",
     "output_type": "stream",
     "text": [
      "Generated True Fact {'Monofact': 3}\n"
     ]
    },
    {
     "name": "stderr",
     "output_type": "stream",
     "text": [
      " 41%|████████████████████████████████████████████████████▌                                                                            | 407/999 [01:06<01:45,  5.60it/s]"
     ]
    },
    {
     "name": "stdout",
     "output_type": "stream",
     "text": [
      "Generated True Fact {'Popular Fact': 3}\n",
      "Generated True Fact {'Popular Fact': 2, 'Monofact': 1}\n"
     ]
    },
    {
     "name": "stderr",
     "output_type": "stream",
     "text": [
      " 41%|████████████████████████████████████████████████████▊                                                                            | 409/999 [01:06<01:39,  5.95it/s]"
     ]
    },
    {
     "name": "stdout",
     "output_type": "stream",
     "text": [
      "Generated True Fact {'Monofact': 3}\n",
      "Generated True Fact {'Monofact': 2, 'Popular Fact': 1}\n"
     ]
    },
    {
     "name": "stderr",
     "output_type": "stream",
     "text": [
      " 41%|█████████████████████████████████████████████████████                                                                            | 411/999 [01:06<01:54,  5.14it/s]"
     ]
    },
    {
     "name": "stdout",
     "output_type": "stream",
     "text": [
      "Generated True Fact {'Monofact': 2, 'Popular Fact': 1}\n",
      "Generated True Fact {'Monofact': 3}\n"
     ]
    },
    {
     "name": "stderr",
     "output_type": "stream",
     "text": [
      " 41%|█████████████████████████████████████████████████████▎                                                                           | 413/999 [01:07<01:51,  5.25it/s]"
     ]
    },
    {
     "name": "stdout",
     "output_type": "stream",
     "text": [
      "Generated True Fact {'Monofact': 2, 'Popular Fact': 1}\n",
      "Generated True Fact {'Popular Fact': 3}\n"
     ]
    },
    {
     "name": "stderr",
     "output_type": "stream",
     "text": [
      " 42%|█████████████████████████████████████████████████████▌                                                                           | 415/999 [01:07<01:42,  5.71it/s]"
     ]
    },
    {
     "name": "stdout",
     "output_type": "stream",
     "text": [
      "Generated True Fact {'Monofact': 3}\n",
      "Generated True Fact {'Popular Fact': 3}\n"
     ]
    },
    {
     "name": "stderr",
     "output_type": "stream",
     "text": [
      " 42%|█████████████████████████████████████████████████████▊                                                                           | 417/999 [01:08<01:38,  5.90it/s]"
     ]
    },
    {
     "name": "stdout",
     "output_type": "stream",
     "text": [
      "Generated True Fact {'Monofact': 3}\n",
      "Generated True Fact {'Monofact': 2, 'Popular Fact': 1}\n"
     ]
    },
    {
     "name": "stderr",
     "output_type": "stream",
     "text": [
      " 42%|██████████████████████████████████████████████████████                                                                           | 419/999 [01:08<01:34,  6.14it/s]"
     ]
    },
    {
     "name": "stdout",
     "output_type": "stream",
     "text": [
      "Generated True Fact {'Popular Fact': 2, 'Monofact': 1}\n",
      "Generated True Fact {'Popular Fact': 3}\n"
     ]
    },
    {
     "name": "stderr",
     "output_type": "stream",
     "text": [
      " 42%|██████████████████████████████████████████████████████▎                                                                          | 421/999 [01:08<01:31,  6.32it/s]"
     ]
    },
    {
     "name": "stdout",
     "output_type": "stream",
     "text": [
      "Generated True Fact {'Monofact': 3}\n",
      "Generated True Fact {'Monofact': 3}\n"
     ]
    },
    {
     "name": "stderr",
     "output_type": "stream",
     "text": [
      " 42%|██████████████████████████████████████████████████████▍                                                                          | 422/999 [01:08<01:31,  6.33it/s]"
     ]
    },
    {
     "name": "stdout",
     "output_type": "stream",
     "text": [
      "Generated True Fact {'Monofact': 3}\n"
     ]
    },
    {
     "name": "stderr",
     "output_type": "stream",
     "text": [
      " 42%|██████████████████████████████████████████████████████▊                                                                          | 424/999 [01:09<01:44,  5.49it/s]"
     ]
    },
    {
     "name": "stdout",
     "output_type": "stream",
     "text": [
      "Generated True Fact {'Monofact': 2, 'Popular Fact': 1}\n",
      "Generated True Fact {'Monofact': 2, 'Popular Fact': 1}\n"
     ]
    },
    {
     "name": "stderr",
     "output_type": "stream",
     "text": [
      " 43%|███████████████████████████████████████████████████████                                                                          | 426/999 [01:09<01:41,  5.62it/s]"
     ]
    },
    {
     "name": "stdout",
     "output_type": "stream",
     "text": [
      "Generated True Fact {'Popular Fact': 2, 'Monofact': 1}\n",
      "Generated True Fact {'Monofact': 3}\n"
     ]
    },
    {
     "name": "stderr",
     "output_type": "stream",
     "text": [
      " 43%|███████████████████████████████████████████████████████▎                                                                         | 428/999 [01:09<01:36,  5.94it/s]"
     ]
    },
    {
     "name": "stdout",
     "output_type": "stream",
     "text": [
      "Generated True Fact {'Monofact': 2, 'Popular Fact': 1}\n",
      "Generated True Fact {'Monofact': 3}\n"
     ]
    },
    {
     "name": "stderr",
     "output_type": "stream",
     "text": [
      " 43%|███████████████████████████████████████████████████████▌                                                                         | 430/999 [01:10<01:31,  6.22it/s]"
     ]
    },
    {
     "name": "stdout",
     "output_type": "stream",
     "text": [
      "Generated True Fact {'Monofact': 2, 'Popular Fact': 1}\n",
      "Generated True Fact {'Monofact': 3}\n"
     ]
    },
    {
     "name": "stderr",
     "output_type": "stream",
     "text": [
      " 43%|███████████████████████████████████████████████████████▊                                                                         | 432/999 [01:10<01:28,  6.42it/s]"
     ]
    },
    {
     "name": "stdout",
     "output_type": "stream",
     "text": [
      "Generated True Fact {'Popular Fact': 2, 'Monofact': 1}\n",
      "Generated True Fact {'Popular Fact': 3}\n"
     ]
    },
    {
     "name": "stderr",
     "output_type": "stream",
     "text": [
      " 43%|████████████████████████████████████████████████████████                                                                         | 434/999 [01:10<01:26,  6.51it/s]"
     ]
    },
    {
     "name": "stdout",
     "output_type": "stream",
     "text": [
      "Generated True Fact {'Monofact': 2, 'Popular Fact': 1}\n",
      "Generated True Fact {'Popular Fact': 2, 'Monofact': 1}\n"
     ]
    },
    {
     "name": "stderr",
     "output_type": "stream",
     "text": [
      " 44%|████████████████████████████████████████████████████████▎                                                                        | 436/999 [01:11<01:25,  6.57it/s]"
     ]
    },
    {
     "name": "stdout",
     "output_type": "stream",
     "text": [
      "Generated True Fact {'Monofact': 3}\n",
      "Generated True Fact {'Popular Fact': 3}\n"
     ]
    },
    {
     "name": "stderr",
     "output_type": "stream",
     "text": [
      " 44%|████████████████████████████████████████████████████████▌                                                                        | 438/999 [01:11<01:28,  6.35it/s]"
     ]
    },
    {
     "name": "stdout",
     "output_type": "stream",
     "text": [
      "Generated True Fact {'Monofact': 3}\n",
      "Generated True Fact {'Monofact': 3}\n"
     ]
    },
    {
     "name": "stderr",
     "output_type": "stream",
     "text": [
      " 44%|████████████████████████████████████████████████████████▊                                                                        | 440/999 [01:11<01:27,  6.40it/s]"
     ]
    },
    {
     "name": "stdout",
     "output_type": "stream",
     "text": [
      "Generated True Fact {'Popular Fact': 3}\n",
      "Generated True Fact {'Popular Fact': 3}\n"
     ]
    },
    {
     "name": "stderr",
     "output_type": "stream",
     "text": [
      " 44%|█████████████████████████████████████████████████████████                                                                        | 442/999 [01:12<01:29,  6.23it/s]"
     ]
    },
    {
     "name": "stdout",
     "output_type": "stream",
     "text": [
      "Generated True Fact {'Monofact': 2, 'Popular Fact': 1}\n",
      "Generated True Fact {'Monofact': 3}\n"
     ]
    },
    {
     "name": "stderr",
     "output_type": "stream",
     "text": [
      " 44%|█████████████████████████████████████████████████████████▎                                                                       | 444/999 [01:12<01:27,  6.38it/s]"
     ]
    },
    {
     "name": "stdout",
     "output_type": "stream",
     "text": [
      "Generated True Fact {'Popular Fact': 3}\n",
      "Generated True Fact {'Popular Fact': 3}\n"
     ]
    },
    {
     "name": "stderr",
     "output_type": "stream",
     "text": [
      " 45%|█████████████████████████████████████████████████████████▌                                                                       | 446/999 [01:12<01:28,  6.26it/s]"
     ]
    },
    {
     "name": "stdout",
     "output_type": "stream",
     "text": [
      "Generated True Fact {'Monofact': 2, 'Popular Fact': 1}\n",
      "Generated True Fact {'Monofact': 2, 'Popular Fact': 1}\n"
     ]
    },
    {
     "name": "stderr",
     "output_type": "stream",
     "text": [
      " 45%|█████████████████████████████████████████████████████████▊                                                                       | 448/999 [01:13<01:26,  6.35it/s]"
     ]
    },
    {
     "name": "stdout",
     "output_type": "stream",
     "text": [
      "Generated True Fact {'Monofact': 3}\n",
      "Generated True Fact {'Monofact': 3}\n"
     ]
    },
    {
     "name": "stderr",
     "output_type": "stream",
     "text": [
      " 45%|██████████████████████████████████████████████████████████                                                                       | 450/999 [01:13<01:30,  6.10it/s]"
     ]
    },
    {
     "name": "stdout",
     "output_type": "stream",
     "text": [
      "Generated True Fact {'Monofact': 3}\n",
      "Generated True Fact {'Monofact': 2, 'Popular Fact': 1}\n"
     ]
    },
    {
     "name": "stderr",
     "output_type": "stream",
     "text": [
      " 45%|██████████████████████████████████████████████████████████▎                                                                      | 452/999 [01:13<01:29,  6.11it/s]"
     ]
    },
    {
     "name": "stdout",
     "output_type": "stream",
     "text": [
      "Generated True Fact {'Popular Fact': 2, 'Monofact': 1}\n",
      "Generated True Fact {'Monofact': 3}\n"
     ]
    },
    {
     "name": "stderr",
     "output_type": "stream",
     "text": [
      " 45%|██████████████████████████████████████████████████████████▌                                                                      | 454/999 [01:14<01:30,  6.01it/s]"
     ]
    },
    {
     "name": "stdout",
     "output_type": "stream",
     "text": [
      "Generated True Fact {'Monofact': 3}\n",
      "Generated True Fact {'Popular Fact': 3}\n"
     ]
    },
    {
     "name": "stderr",
     "output_type": "stream",
     "text": [
      " 46%|██████████████████████████████████████████████████████████▉                                                                      | 456/999 [01:14<01:32,  5.89it/s]"
     ]
    },
    {
     "name": "stdout",
     "output_type": "stream",
     "text": [
      "Generated True Fact {'Monofact': 3}\n",
      "Generated True Fact {'Monofact': 3}\n"
     ]
    },
    {
     "name": "stderr",
     "output_type": "stream",
     "text": [
      " 46%|███████████████████████████████████████████████████████████▏                                                                     | 458/999 [01:14<01:30,  5.96it/s]"
     ]
    },
    {
     "name": "stdout",
     "output_type": "stream",
     "text": [
      "Generated True Fact {'Monofact': 3}\n",
      "Generated True Fact {'Popular Fact': 2, 'Monofact': 1}\n"
     ]
    },
    {
     "name": "stderr",
     "output_type": "stream",
     "text": [
      " 46%|███████████████████████████████████████████████████████████▍                                                                     | 460/999 [01:15<01:28,  6.12it/s]"
     ]
    },
    {
     "name": "stdout",
     "output_type": "stream",
     "text": [
      "Generated True Fact {'Popular Fact': 2, 'Monofact': 1}\n",
      "Generated True Fact {'Monofact': 3}\n"
     ]
    },
    {
     "name": "stderr",
     "output_type": "stream",
     "text": [
      " 46%|███████████████████████████████████████████████████████████▋                                                                     | 462/999 [01:15<01:29,  6.00it/s]"
     ]
    },
    {
     "name": "stdout",
     "output_type": "stream",
     "text": [
      "Generated True Fact {'Monofact': 3}\n",
      "Generated True Fact {'Monofact': 3}\n"
     ]
    },
    {
     "name": "stderr",
     "output_type": "stream",
     "text": [
      " 46%|███████████████████████████████████████████████████████████▉                                                                     | 464/999 [01:15<01:25,  6.26it/s]"
     ]
    },
    {
     "name": "stdout",
     "output_type": "stream",
     "text": [
      "Generated True Fact {'Popular Fact': 3}\n",
      "Generated True Fact {'Popular Fact': 3}\n"
     ]
    },
    {
     "name": "stderr",
     "output_type": "stream",
     "text": [
      " 47%|████████████████████████████████████████████████████████████▏                                                                    | 466/999 [01:15<01:22,  6.43it/s]"
     ]
    },
    {
     "name": "stdout",
     "output_type": "stream",
     "text": [
      "Generated True Fact {'Popular Fact': 2, 'Monofact': 1}\n",
      "Generated True Fact {'Popular Fact': 2, 'Monofact': 1}\n"
     ]
    },
    {
     "name": "stderr",
     "output_type": "stream",
     "text": [
      " 47%|████████████████████████████████████████████████████████████▍                                                                    | 468/999 [01:16<01:21,  6.49it/s]"
     ]
    },
    {
     "name": "stdout",
     "output_type": "stream",
     "text": [
      "Generated True Fact {'Monofact': 2, 'Popular Fact': 1}\n",
      "Generated True Fact {'Popular Fact': 3}\n"
     ]
    },
    {
     "name": "stderr",
     "output_type": "stream",
     "text": [
      " 47%|████████████████████████████████████████████████████████████▋                                                                    | 470/999 [01:16<01:20,  6.53it/s]"
     ]
    },
    {
     "name": "stdout",
     "output_type": "stream",
     "text": [
      "Generated True Fact {'Monofact': 3}\n",
      "Generated True Fact {'Monofact': 3}\n"
     ]
    },
    {
     "name": "stderr",
     "output_type": "stream",
     "text": [
      " 47%|████████████████████████████████████████████████████████████▉                                                                    | 472/999 [01:16<01:32,  5.67it/s]"
     ]
    },
    {
     "name": "stdout",
     "output_type": "stream",
     "text": [
      "Generated True Fact {'Popular Fact': 3}\n",
      "Generated True Fact {'Popular Fact': 2, 'Monofact': 1}\n"
     ]
    },
    {
     "name": "stderr",
     "output_type": "stream",
     "text": [
      " 47%|█████████████████████████████████████████████████████████████▏                                                                   | 474/999 [01:17<01:28,  5.91it/s]"
     ]
    },
    {
     "name": "stdout",
     "output_type": "stream",
     "text": [
      "Generated True Fact {'Monofact': 3}\n",
      "Generated True Fact {'Popular Fact': 2, 'Monofact': 1}\n"
     ]
    },
    {
     "name": "stderr",
     "output_type": "stream",
     "text": [
      " 48%|█████████████████████████████████████████████████████████████▍                                                                   | 476/999 [01:17<01:24,  6.19it/s]"
     ]
    },
    {
     "name": "stdout",
     "output_type": "stream",
     "text": [
      "Generated True Fact {'Popular Fact': 2, 'Monofact': 1}\n",
      "Generated True Fact {'Popular Fact': 2, 'Monofact': 1}\n"
     ]
    },
    {
     "name": "stderr",
     "output_type": "stream",
     "text": [
      " 48%|█████████████████████████████████████████████████████████████▋                                                                   | 478/999 [01:17<01:27,  5.93it/s]"
     ]
    },
    {
     "name": "stdout",
     "output_type": "stream",
     "text": [
      "Generated True Fact {'Popular Fact': 2, 'Monofact': 1}\n",
      "Generated True Fact {'Popular Fact': 3}\n"
     ]
    },
    {
     "name": "stderr",
     "output_type": "stream",
     "text": [
      " 48%|█████████████████████████████████████████████████████████████▉                                                                   | 480/999 [01:18<01:24,  6.17it/s]"
     ]
    },
    {
     "name": "stdout",
     "output_type": "stream",
     "text": [
      "Generated True Fact {'Monofact': 2, 'Popular Fact': 1}\n",
      "Generated True Fact {'Popular Fact': 3}\n"
     ]
    },
    {
     "name": "stderr",
     "output_type": "stream",
     "text": [
      " 48%|██████████████████████████████████████████████████████████████▏                                                                  | 482/999 [01:18<01:21,  6.31it/s]"
     ]
    },
    {
     "name": "stdout",
     "output_type": "stream",
     "text": [
      "Generated True Fact {'Popular Fact': 3}\n",
      "Generated True Fact {'Popular Fact': 3}\n"
     ]
    },
    {
     "name": "stderr",
     "output_type": "stream",
     "text": [
      " 48%|██████████████████████████████████████████████████████████████▍                                                                  | 484/999 [01:18<01:22,  6.28it/s]"
     ]
    },
    {
     "name": "stdout",
     "output_type": "stream",
     "text": [
      "Generated True Fact {'Popular Fact': 3}\n",
      "Generated True Fact {'Popular Fact': 2, 'Monofact': 1}\n"
     ]
    },
    {
     "name": "stderr",
     "output_type": "stream",
     "text": [
      " 49%|██████████████████████████████████████████████████████████████▊                                                                  | 486/999 [01:19<01:22,  6.22it/s]"
     ]
    },
    {
     "name": "stdout",
     "output_type": "stream",
     "text": [
      "Generated True Fact {'Monofact': 2, 'Popular Fact': 1}\n",
      "Generated True Fact {'Monofact': 3}\n"
     ]
    },
    {
     "name": "stderr",
     "output_type": "stream",
     "text": [
      " 49%|███████████████████████████████████████████████████████████████                                                                  | 488/999 [01:19<01:24,  6.08it/s]"
     ]
    },
    {
     "name": "stdout",
     "output_type": "stream",
     "text": [
      "Generated True Fact {'Monofact': 3}\n",
      "Generated True Fact {'Monofact': 3}\n"
     ]
    },
    {
     "name": "stderr",
     "output_type": "stream",
     "text": [
      " 49%|███████████████████████████████████████████████████████████████▎                                                                 | 490/999 [01:19<01:25,  5.97it/s]"
     ]
    },
    {
     "name": "stdout",
     "output_type": "stream",
     "text": [
      "Generated True Fact {'Monofact': 3}\n",
      "Generated True Fact {'Popular Fact': 2, 'Monofact': 1}\n"
     ]
    },
    {
     "name": "stderr",
     "output_type": "stream",
     "text": [
      " 49%|███████████████████████████████████████████████████████████████▌                                                                 | 492/999 [01:20<01:23,  6.09it/s]"
     ]
    },
    {
     "name": "stdout",
     "output_type": "stream",
     "text": [
      "Generated True Fact {'Popular Fact': 3}\n",
      "Generated True Fact {'Monofact': 3}\n"
     ]
    },
    {
     "name": "stderr",
     "output_type": "stream",
     "text": [
      " 49%|███████████████████████████████████████████████████████████████▊                                                                 | 494/999 [01:20<01:22,  6.15it/s]"
     ]
    },
    {
     "name": "stdout",
     "output_type": "stream",
     "text": [
      "Generated True Fact {'Popular Fact': 3}\n",
      "Generated True Fact {'Popular Fact': 2, 'Monofact': 1}\n"
     ]
    },
    {
     "name": "stderr",
     "output_type": "stream",
     "text": [
      " 50%|████████████████████████████████████████████████████████████████                                                                 | 496/999 [01:20<01:20,  6.24it/s]"
     ]
    },
    {
     "name": "stdout",
     "output_type": "stream",
     "text": [
      "Generated True Fact {'Popular Fact': 3}\n",
      "Generated True Fact {'Popular Fact': 3}\n"
     ]
    },
    {
     "name": "stderr",
     "output_type": "stream",
     "text": [
      " 50%|████████████████████████████████████████████████████████████████▎                                                                | 498/999 [01:21<01:23,  6.00it/s]"
     ]
    },
    {
     "name": "stdout",
     "output_type": "stream",
     "text": [
      "Generated True Fact {'Monofact': 3}\n",
      "Generated True Fact {'Monofact': 3}\n"
     ]
    },
    {
     "name": "stderr",
     "output_type": "stream",
     "text": [
      " 50%|████████████████████████████████████████████████████████████████▌                                                                | 500/999 [01:21<01:27,  5.71it/s]"
     ]
    },
    {
     "name": "stdout",
     "output_type": "stream",
     "text": [
      "Generated True Fact {'Monofact': 3}\n",
      "Generated True Fact {'Monofact': 3}\n"
     ]
    },
    {
     "name": "stderr",
     "output_type": "stream",
     "text": [
      " 50%|████████████████████████████████████████████████████████████████▊                                                                | 502/999 [01:21<01:26,  5.75it/s]"
     ]
    },
    {
     "name": "stdout",
     "output_type": "stream",
     "text": [
      "Generated True Fact {'Popular Fact': 3}\n",
      "Generated True Fact {'Popular Fact': 2, 'Monofact': 1}\n"
     ]
    },
    {
     "name": "stderr",
     "output_type": "stream",
     "text": [
      " 50%|████████████████████████████████████████████████████████████████▉                                                                | 503/999 [01:22<01:31,  5.42it/s]"
     ]
    },
    {
     "name": "stdout",
     "output_type": "stream",
     "text": [
      "Generated True Fact {'Popular Fact': 3}\n"
     ]
    },
    {
     "name": "stderr",
     "output_type": "stream",
     "text": [
      " 51%|█████████████████████████████████████████████████████████████████▏                                                               | 505/999 [01:22<01:28,  5.56it/s]"
     ]
    },
    {
     "name": "stdout",
     "output_type": "stream",
     "text": [
      "Generated True Fact {'Popular Fact': 3}\n",
      "Generated True Fact {'Monofact': 2, 'Popular Fact': 1}\n"
     ]
    },
    {
     "name": "stderr",
     "output_type": "stream",
     "text": [
      " 51%|█████████████████████████████████████████████████████████████████▍                                                               | 507/999 [01:22<01:23,  5.86it/s]"
     ]
    },
    {
     "name": "stdout",
     "output_type": "stream",
     "text": [
      "Generated True Fact {'Popular Fact': 3}\n",
      "Generated True Fact {'Monofact': 3}\n"
     ]
    },
    {
     "name": "stderr",
     "output_type": "stream",
     "text": [
      " 51%|█████████████████████████████████████████████████████████████████▋                                                               | 509/999 [01:23<01:22,  5.97it/s]"
     ]
    },
    {
     "name": "stdout",
     "output_type": "stream",
     "text": [
      "Generated True Fact {'Monofact': 2, 'Popular Fact': 1}\n",
      "Generated True Fact {'Monofact': 3}\n"
     ]
    },
    {
     "name": "stderr",
     "output_type": "stream",
     "text": [
      " 51%|█████████████████████████████████████████████████████████████████▉                                                               | 511/999 [01:23<01:19,  6.16it/s]"
     ]
    },
    {
     "name": "stdout",
     "output_type": "stream",
     "text": [
      "Generated True Fact {'Monofact': 3}\n",
      "Generated True Fact {'Monofact': 2, 'Popular Fact': 1}\n"
     ]
    },
    {
     "name": "stderr",
     "output_type": "stream",
     "text": [
      " 51%|██████████████████████████████████████████████████████████████████▏                                                              | 513/999 [01:23<01:17,  6.30it/s]"
     ]
    },
    {
     "name": "stdout",
     "output_type": "stream",
     "text": [
      "Generated True Fact {'Popular Fact': 3}\n",
      "Generated True Fact {'Monofact': 2, 'Popular Fact': 1}\n"
     ]
    },
    {
     "name": "stderr",
     "output_type": "stream",
     "text": [
      " 52%|██████████████████████████████████████████████████████████████████▌                                                              | 515/999 [01:24<01:17,  6.28it/s]"
     ]
    },
    {
     "name": "stdout",
     "output_type": "stream",
     "text": [
      "Generated True Fact {'Popular Fact': 3}\n",
      "Generated True Fact {'Popular Fact': 2, 'Monofact': 1}\n"
     ]
    },
    {
     "name": "stderr",
     "output_type": "stream",
     "text": [
      " 52%|██████████████████████████████████████████████████████████████████▊                                                              | 517/999 [01:24<01:16,  6.27it/s]"
     ]
    },
    {
     "name": "stdout",
     "output_type": "stream",
     "text": [
      "Generated True Fact {'Popular Fact': 2, 'Monofact': 1}\n",
      "Generated True Fact {'Popular Fact': 3}\n"
     ]
    },
    {
     "name": "stderr",
     "output_type": "stream",
     "text": [
      " 52%|███████████████████████████████████████████████████████████████████                                                              | 519/999 [01:24<01:16,  6.26it/s]"
     ]
    },
    {
     "name": "stdout",
     "output_type": "stream",
     "text": [
      "Generated True Fact {'Monofact': 3}\n",
      "Generated True Fact {'Popular Fact': 2, 'Monofact': 1}\n"
     ]
    },
    {
     "name": "stderr",
     "output_type": "stream",
     "text": [
      " 52%|███████████████████████████████████████████████████████████████████▎                                                             | 521/999 [01:25<01:21,  5.86it/s]"
     ]
    },
    {
     "name": "stdout",
     "output_type": "stream",
     "text": [
      "Generated True Fact {'Popular Fact': 2, 'Monofact': 1}\n",
      "Generated True Fact {'Monofact': 3}\n"
     ]
    },
    {
     "name": "stderr",
     "output_type": "stream",
     "text": [
      " 52%|███████████████████████████████████████████████████████████████████▌                                                             | 523/999 [01:25<01:17,  6.13it/s]"
     ]
    },
    {
     "name": "stdout",
     "output_type": "stream",
     "text": [
      "Generated True Fact {'Monofact': 3}\n",
      "Generated True Fact {'Popular Fact': 3}\n"
     ]
    },
    {
     "name": "stderr",
     "output_type": "stream",
     "text": [
      " 53%|███████████████████████████████████████████████████████████████████▊                                                             | 525/999 [01:25<01:15,  6.24it/s]"
     ]
    },
    {
     "name": "stdout",
     "output_type": "stream",
     "text": [
      "Generated True Fact {'Popular Fact': 3}\n",
      "Generated True Fact {'Popular Fact': 3}\n"
     ]
    },
    {
     "name": "stderr",
     "output_type": "stream",
     "text": [
      " 53%|████████████████████████████████████████████████████████████████████                                                             | 527/999 [01:26<01:18,  6.00it/s]"
     ]
    },
    {
     "name": "stdout",
     "output_type": "stream",
     "text": [
      "Generated True Fact {'Popular Fact': 3}\n",
      "Generated True Fact {'Monofact': 3}\n"
     ]
    },
    {
     "name": "stderr",
     "output_type": "stream",
     "text": [
      " 53%|████████████████████████████████████████████████████████████████████▎                                                            | 529/999 [01:26<01:21,  5.76it/s]"
     ]
    },
    {
     "name": "stdout",
     "output_type": "stream",
     "text": [
      "Generated True Fact {'Monofact': 3}\n",
      "Generated True Fact {'Monofact': 3}\n"
     ]
    },
    {
     "name": "stderr",
     "output_type": "stream",
     "text": [
      " 53%|████████████████████████████████████████████████████████████████████▌                                                            | 531/999 [01:26<01:16,  6.10it/s]"
     ]
    },
    {
     "name": "stdout",
     "output_type": "stream",
     "text": [
      "Generated True Fact {'Popular Fact': 3}\n",
      "Generated True Fact {'Popular Fact': 2, 'Monofact': 1}\n"
     ]
    },
    {
     "name": "stderr",
     "output_type": "stream",
     "text": [
      " 53%|████████████████████████████████████████████████████████████████████▊                                                            | 533/999 [01:27<01:16,  6.11it/s]"
     ]
    },
    {
     "name": "stdout",
     "output_type": "stream",
     "text": [
      "Generated True Fact {'Popular Fact': 2, 'Monofact': 1}\n",
      "Generated True Fact {'Monofact': 3}\n"
     ]
    },
    {
     "name": "stderr",
     "output_type": "stream",
     "text": [
      " 54%|█████████████████████████████████████████████████████████████████████                                                            | 535/999 [01:27<01:16,  6.10it/s]"
     ]
    },
    {
     "name": "stdout",
     "output_type": "stream",
     "text": [
      "Generated True Fact {'Popular Fact': 2, 'Monofact': 1}\n",
      "Generated True Fact {'Popular Fact': 3}\n"
     ]
    },
    {
     "name": "stderr",
     "output_type": "stream",
     "text": [
      " 54%|█████████████████████████████████████████████████████████████████████▎                                                           | 537/999 [01:27<01:19,  5.85it/s]"
     ]
    },
    {
     "name": "stdout",
     "output_type": "stream",
     "text": [
      "Generated True Fact {'Monofact': 3}\n",
      "Generated True Fact {'Monofact': 3}\n"
     ]
    },
    {
     "name": "stderr",
     "output_type": "stream",
     "text": [
      " 54%|█████████████████████████████████████████████████████████████████████▌                                                           | 539/999 [01:28<01:16,  6.04it/s]"
     ]
    },
    {
     "name": "stdout",
     "output_type": "stream",
     "text": [
      "Generated True Fact {'Monofact': 3}\n",
      "Generated True Fact {'Popular Fact': 2, 'Monofact': 1}\n"
     ]
    },
    {
     "name": "stderr",
     "output_type": "stream",
     "text": [
      " 54%|█████████████████████████████████████████████████████████████████████▊                                                           | 541/999 [01:28<01:16,  6.00it/s]"
     ]
    },
    {
     "name": "stdout",
     "output_type": "stream",
     "text": [
      "Generated True Fact {'Popular Fact': 2, 'Monofact': 1}\n",
      "Generated True Fact {'Monofact': 3}\n"
     ]
    },
    {
     "name": "stderr",
     "output_type": "stream",
     "text": [
      " 54%|██████████████████████████████████████████████████████████████████████                                                           | 543/999 [01:28<01:16,  5.99it/s]"
     ]
    },
    {
     "name": "stdout",
     "output_type": "stream",
     "text": [
      "Generated True Fact {'Popular Fact': 2, 'Monofact': 1}\n",
      "Generated True Fact {'Monofact': 3}\n"
     ]
    },
    {
     "name": "stderr",
     "output_type": "stream",
     "text": [
      " 55%|██████████████████████████████████████████████████████████████████████▍                                                          | 545/999 [01:29<01:20,  5.66it/s]"
     ]
    },
    {
     "name": "stdout",
     "output_type": "stream",
     "text": [
      "Generated True Fact {'Monofact': 2, 'Popular Fact': 1}\n",
      "Generated True Fact {'Monofact': 3}\n"
     ]
    },
    {
     "name": "stderr",
     "output_type": "stream",
     "text": [
      " 55%|██████████████████████████████████████████████████████████████████████▋                                                          | 547/999 [01:29<01:17,  5.82it/s]"
     ]
    },
    {
     "name": "stdout",
     "output_type": "stream",
     "text": [
      "Generated True Fact {'Monofact': 3}\n",
      "Generated True Fact {'Popular Fact': 2, 'Monofact': 1}\n"
     ]
    },
    {
     "name": "stderr",
     "output_type": "stream",
     "text": [
      " 55%|██████████████████████████████████████████████████████████████████████▉                                                          | 549/999 [01:29<01:15,  5.92it/s]"
     ]
    },
    {
     "name": "stdout",
     "output_type": "stream",
     "text": [
      "Generated True Fact {'Monofact': 3}\n",
      "Generated True Fact {'Popular Fact': 2, 'Monofact': 1}\n"
     ]
    },
    {
     "name": "stderr",
     "output_type": "stream",
     "text": [
      " 55%|███████████████████████████████████████████████████████████████████████▏                                                         | 551/999 [01:30<01:15,  5.94it/s]"
     ]
    },
    {
     "name": "stdout",
     "output_type": "stream",
     "text": [
      "Generated True Fact {'Monofact': 3}\n",
      "Generated True Fact {'Monofact': 3}\n"
     ]
    },
    {
     "name": "stderr",
     "output_type": "stream",
     "text": [
      " 55%|███████████████████████████████████████████████████████████████████████▎                                                         | 552/999 [01:30<01:20,  5.58it/s]"
     ]
    },
    {
     "name": "stdout",
     "output_type": "stream",
     "text": [
      "Generated True Fact {'Popular Fact': 2, 'Monofact': 1}\n"
     ]
    },
    {
     "name": "stderr",
     "output_type": "stream",
     "text": [
      " 55%|███████████████████████████████████████████████████████████████████████▌                                                         | 554/999 [01:30<01:23,  5.35it/s]"
     ]
    },
    {
     "name": "stdout",
     "output_type": "stream",
     "text": [
      "Generated True Fact {'Monofact': 2, 'Popular Fact': 1}\n",
      "Generated True Fact {'Popular Fact': 3}\n"
     ]
    },
    {
     "name": "stderr",
     "output_type": "stream",
     "text": [
      " 56%|███████████████████████████████████████████████████████████████████████▋                                                         | 555/999 [01:30<01:21,  5.45it/s]"
     ]
    },
    {
     "name": "stdout",
     "output_type": "stream",
     "text": [
      "Generated True Fact {'Popular Fact': 3}\n"
     ]
    },
    {
     "name": "stderr",
     "output_type": "stream",
     "text": [
      " 56%|███████████████████████████████████████████████████████████████████████▉                                                         | 557/999 [01:31<01:29,  4.92it/s]"
     ]
    },
    {
     "name": "stdout",
     "output_type": "stream",
     "text": [
      "Generated True Fact {'Popular Fact': 2, 'Monofact': 1}\n",
      "Generated True Fact {'Monofact': 3}\n"
     ]
    },
    {
     "name": "stderr",
     "output_type": "stream",
     "text": [
      " 56%|████████████████████████████████████████████████████████████████████████▏                                                        | 559/999 [01:31<01:21,  5.41it/s]"
     ]
    },
    {
     "name": "stdout",
     "output_type": "stream",
     "text": [
      "Generated True Fact {'Monofact': 3}\n",
      "Generated True Fact {'Monofact': 3}\n"
     ]
    },
    {
     "name": "stderr",
     "output_type": "stream",
     "text": [
      " 56%|████████████████████████████████████████████████████████████████████████▍                                                        | 561/999 [01:32<01:15,  5.83it/s]"
     ]
    },
    {
     "name": "stdout",
     "output_type": "stream",
     "text": [
      "Generated True Fact {'Monofact': 2, 'Popular Fact': 1}\n",
      "Generated True Fact {'Popular Fact': 3}\n"
     ]
    },
    {
     "name": "stderr",
     "output_type": "stream",
     "text": [
      " 56%|████████████████████████████████████████████████████████████████████████▋                                                        | 563/999 [01:32<01:15,  5.77it/s]"
     ]
    },
    {
     "name": "stdout",
     "output_type": "stream",
     "text": [
      "Generated True Fact {'Popular Fact': 3}\n",
      "Generated True Fact {'Popular Fact': 3}\n"
     ]
    },
    {
     "name": "stderr",
     "output_type": "stream",
     "text": [
      " 57%|████████████████████████████████████████████████████████████████████████▉                                                        | 565/999 [01:32<01:12,  5.97it/s]"
     ]
    },
    {
     "name": "stdout",
     "output_type": "stream",
     "text": [
      "Generated True Fact {'Popular Fact': 2, 'Monofact': 1}\n",
      "Generated True Fact {'Monofact': 2, 'Popular Fact': 1}\n"
     ]
    },
    {
     "name": "stderr",
     "output_type": "stream",
     "text": [
      " 57%|█████████████████████████████████████████████████████████████████████████▏                                                       | 567/999 [01:33<01:10,  6.14it/s]"
     ]
    },
    {
     "name": "stdout",
     "output_type": "stream",
     "text": [
      "Generated True Fact {'Monofact': 3}\n",
      "Generated True Fact {'Monofact': 3}\n"
     ]
    },
    {
     "name": "stderr",
     "output_type": "stream",
     "text": [
      " 57%|█████████████████████████████████████████████████████████████████████████▍                                                       | 569/999 [01:33<01:07,  6.36it/s]"
     ]
    },
    {
     "name": "stdout",
     "output_type": "stream",
     "text": [
      "Generated True Fact {'Monofact': 3}\n",
      "Generated True Fact {'Monofact': 3}\n"
     ]
    },
    {
     "name": "stderr",
     "output_type": "stream",
     "text": [
      " 57%|█████████████████████████████████████████████████████████████████████████▋                                                       | 571/999 [01:33<01:07,  6.35it/s]"
     ]
    },
    {
     "name": "stdout",
     "output_type": "stream",
     "text": [
      "Generated True Fact {'Monofact': 3}\n",
      "Generated True Fact {'Monofact': 3}\n"
     ]
    },
    {
     "name": "stderr",
     "output_type": "stream",
     "text": [
      " 57%|█████████████████████████████████████████████████████████████████████████▉                                                       | 573/999 [01:33<01:06,  6.41it/s]"
     ]
    },
    {
     "name": "stdout",
     "output_type": "stream",
     "text": [
      "Generated True Fact {'Monofact': 3}\n",
      "Generated True Fact {'Monofact': 3}\n"
     ]
    },
    {
     "name": "stderr",
     "output_type": "stream",
     "text": [
      " 57%|██████████████████████████████████████████████████████████████████████████                                                       | 574/999 [01:34<01:09,  6.10it/s]"
     ]
    },
    {
     "name": "stdout",
     "output_type": "stream",
     "text": [
      "Generated True Fact {'Popular Fact': 2, 'Monofact': 1}\n"
     ]
    },
    {
     "name": "stderr",
     "output_type": "stream",
     "text": [
      "\n"
     ]
    },
    {
     "ename": "KeyboardInterrupt",
     "evalue": "",
     "output_type": "error",
     "traceback": [
      "\u001b[0;31m---------------------------------------------------------------------------\u001b[0m",
      "\u001b[0;31mKeyboardInterrupt\u001b[0m                         Traceback (most recent call last)",
      "Cell \u001b[0;32mIn[49], line 5\u001b[0m\n\u001b[1;32m      3\u001b[0m \u001b[38;5;28;01mfor\u001b[39;00m embedding \u001b[38;5;129;01min\u001b[39;00m tqdm(generated_facts_embeddings):\n\u001b[1;32m      4\u001b[0m     embedding \u001b[38;5;241m=\u001b[39m torch\u001b[38;5;241m.\u001b[39mTensor(embedding[\u001b[38;5;241m1\u001b[39m])\n\u001b[0;32m----> 5\u001b[0m     closest \u001b[38;5;241m=\u001b[39m \u001b[38;5;28mdict\u001b[39m(\u001b[43mclosest_different_point\u001b[49m\u001b[43m(\u001b[49m\u001b[43membedding\u001b[49m\u001b[43m,\u001b[49m\u001b[43m \u001b[49m\u001b[43mtop_k\u001b[49m\u001b[38;5;241;43m=\u001b[39;49m\u001b[38;5;241;43m3\u001b[39;49m\u001b[43m)\u001b[49m)\n\u001b[1;32m      7\u001b[0m     closest_point \u001b[38;5;241m=\u001b[39m {\u001b[38;5;124m'\u001b[39m\u001b[38;5;124mMonofact\u001b[39m\u001b[38;5;124m'\u001b[39m: \u001b[38;5;241m0\u001b[39m, \u001b[38;5;124m'\u001b[39m\u001b[38;5;124mHallucination\u001b[39m\u001b[38;5;124m'\u001b[39m: \u001b[38;5;241m0\u001b[39m, \u001b[38;5;124m'\u001b[39m\u001b[38;5;124mPopular fact\u001b[39m\u001b[38;5;124m'\u001b[39m: \u001b[38;5;241m0\u001b[39m}\n\u001b[1;32m      8\u001b[0m     closest_point\u001b[38;5;241m.\u001b[39mupdate(\u001b[38;5;241m*\u001b[39m\u001b[38;5;241m*\u001b[39mclosest)\n",
      "Cell \u001b[0;32mIn[46], line 8\u001b[0m, in \u001b[0;36mclosest_different_point\u001b[0;34m(embedding, top_k)\u001b[0m\n\u001b[1;32m      5\u001b[0m distances \u001b[38;5;241m=\u001b[39m []\n\u001b[1;32m      7\u001b[0m \u001b[38;5;28;01mfor\u001b[39;00m loaded_monofact, loaded_monofact_embedding \u001b[38;5;129;01min\u001b[39;00m loaded_monofact_embeddings:\n\u001b[0;32m----> 8\u001b[0m     mf_embedding \u001b[38;5;241m=\u001b[39m \u001b[43mtorch\u001b[49m\u001b[38;5;241;43m.\u001b[39;49m\u001b[43mtensor\u001b[49m\u001b[43m(\u001b[49m\u001b[43mloaded_monofact_embedding\u001b[49m\u001b[43m)\u001b[49m\n\u001b[1;32m     10\u001b[0m     d \u001b[38;5;241m=\u001b[39m dist(embedding, mf_embedding)\n\u001b[1;32m     11\u001b[0m     distances\u001b[38;5;241m.\u001b[39mappend({\u001b[38;5;124m'\u001b[39m\u001b[38;5;124mdist\u001b[39m\u001b[38;5;124m'\u001b[39m: d, \u001b[38;5;124m'\u001b[39m\u001b[38;5;124mtype\u001b[39m\u001b[38;5;124m'\u001b[39m: \u001b[38;5;124m'\u001b[39m\u001b[38;5;124mMonofact\u001b[39m\u001b[38;5;124m'\u001b[39m})\n",
      "\u001b[0;31mKeyboardInterrupt\u001b[0m: "
     ]
    }
   ],
   "source": [
    "result = []\n",
    "\n",
    "for embedding in tqdm(generated_facts_embeddings):\n",
    "    embedding = torch.Tensor(embedding[1])\n",
    "    closest = dict(closest_different_point(embedding, top_k=3))\n",
    "\n",
    "    closest_point = {'Monofact': 0, 'Hallucination': 0, 'Popular fact': 0}\n",
    "    closest_point.update(**closest)\n",
    "\n",
    "    closest_point['Point'] = 'Generated True Fact'\n",
    "\n",
    "    print('Generated True Fact', closest)\n",
    "\n",
    "    result.append(closest_point)"
   ]
  },
  {
   "cell_type": "code",
   "execution_count": 51,
   "metadata": {},
   "outputs": [
    {
     "data": {
      "text/html": [
       "<div>\n",
       "<style scoped>\n",
       "    .dataframe tbody tr th:only-of-type {\n",
       "        vertical-align: middle;\n",
       "    }\n",
       "\n",
       "    .dataframe tbody tr th {\n",
       "        vertical-align: top;\n",
       "    }\n",
       "\n",
       "    .dataframe thead th {\n",
       "        text-align: right;\n",
       "    }\n",
       "</style>\n",
       "<table border=\"1\" class=\"dataframe\">\n",
       "  <thead>\n",
       "    <tr style=\"text-align: right;\">\n",
       "      <th></th>\n",
       "      <th>Monofact</th>\n",
       "      <th>Hallucination</th>\n",
       "      <th>Popular fact</th>\n",
       "      <th>Popular Fact</th>\n",
       "    </tr>\n",
       "    <tr>\n",
       "      <th>Point</th>\n",
       "      <th></th>\n",
       "      <th></th>\n",
       "      <th></th>\n",
       "      <th></th>\n",
       "    </tr>\n",
       "  </thead>\n",
       "  <tbody>\n",
       "    <tr>\n",
       "      <th>Generated True Fact</th>\n",
       "      <td>1017</td>\n",
       "      <td>0</td>\n",
       "      <td>0</td>\n",
       "      <td>705.0</td>\n",
       "    </tr>\n",
       "  </tbody>\n",
       "</table>\n",
       "</div>"
      ],
      "text/plain": [
       "                     Monofact  Hallucination  Popular fact  Popular Fact\n",
       "Point                                                                   \n",
       "Generated True Fact      1017              0             0         705.0"
      ]
     },
     "execution_count": 51,
     "metadata": {},
     "output_type": "execute_result"
    }
   ],
   "source": [
    "# For every point how many times Monofact was the closest, Hallucination was the closest and Popular Fact was the closest\n",
    "pd.DataFrame(result).groupby(by='Point').sum()"
   ]
  },
  {
   "cell_type": "code",
   "execution_count": null,
   "metadata": {},
   "outputs": [],
   "source": []
  }
 ],
 "metadata": {
  "kernelspec": {
   "display_name": "Python 3 (ipykernel)",
   "language": "python",
   "name": "python3"
  },
  "language_info": {
   "codemirror_mode": {
    "name": "ipython",
    "version": 3
   },
   "file_extension": ".py",
   "mimetype": "text/x-python",
   "name": "python",
   "nbconvert_exporter": "python",
   "pygments_lexer": "ipython3",
   "version": "3.11.5"
  }
 },
 "nbformat": 4,
 "nbformat_minor": 4
}
