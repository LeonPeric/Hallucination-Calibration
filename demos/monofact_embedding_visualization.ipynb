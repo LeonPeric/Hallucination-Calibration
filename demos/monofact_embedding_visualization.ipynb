{
 "cells": [
  {
   "cell_type": "code",
   "execution_count": 1,
   "metadata": {
    "ExecuteTime": {
     "end_time": "2024-05-23T22:34:06.687600300Z",
     "start_time": "2024-05-23T22:34:06.175759Z"
    }
   },
   "outputs": [],
   "source": [
    "%load_ext autoreload\n",
    "%autoreload 2"
   ]
  },
  {
   "cell_type": "code",
   "execution_count": 3,
   "metadata": {},
   "outputs": [],
   "source": [
    "import sys\n",
    "sys.path.append('../')"
   ]
  },
  {
   "cell_type": "code",
   "execution_count": 4,
   "metadata": {
    "ExecuteTime": {
     "end_time": "2024-05-23T22:34:08.894101600Z",
     "start_time": "2024-05-23T22:34:06.727603800Z"
    }
   },
   "outputs": [],
   "source": [
    "from src.lib.fact_dataset_generator import FactDatasetGenerator\n",
    "import numpy as np\n",
    "import sys\n",
    "import pandas as pd\n",
    "import torch\n",
    "import json"
   ]
  },
  {
   "cell_type": "markdown",
   "metadata": {},
   "source": [
    "# Embeddings Experiment"
   ]
  },
  {
   "cell_type": "markdown",
   "metadata": {
    "collapsed": false,
    "jupyter": {
     "outputs_hidden": false
    }
   },
   "source": [
    "### Loading embeddings"
   ]
  },
  {
   "cell_type": "code",
   "execution_count": 7,
   "metadata": {
    "ExecuteTime": {
     "end_time": "2024-05-23T22:44:00.373454Z",
     "start_time": "2024-05-23T22:43:59.831453800Z"
    },
    "collapsed": false,
    "jupyter": {
     "outputs_hidden": false
    }
   },
   "outputs": [],
   "source": [
    "loaded_monofact_embeddings = []\n",
    "loaded_normal_fact_embeddings = []\n",
    "loaded_hallucination_embeddings = []\n",
    "\n",
    "\n",
    "with open(\"../src/experiment/monofact_embeddings.json\",\"r\") as f:\n",
    "    for line in f:\n",
    "        loaded_monofact_embeddings.append(json.loads(line))\n",
    "with open(\"../src/experiment/hallucination_embeddings.json\",\"r\") as f:\n",
    "    for line in f:\n",
    "        loaded_hallucination_embeddings.append(json.loads(line))\n",
    "with open(\"../src/experiment/normal_fact_embeddings.json\",\"r\") as f:\n",
    "    for line in f:\n",
    "        loaded_normal_fact_embeddings.append(json.loads(line))\n"
   ]
  },
  {
   "cell_type": "code",
   "execution_count": 79,
   "metadata": {
    "ExecuteTime": {
     "end_time": "2024-05-23T22:49:26.934300100Z",
     "start_time": "2024-05-23T22:49:26.723800100Z"
    },
    "collapsed": false,
    "jupyter": {
     "outputs_hidden": false
    }
   },
   "outputs": [],
   "source": [
    "monofact_embeddings = []\n",
    "hallucination_embeddings = []\n",
    "normal_fact_embeddings = []\n",
    "all_embeddings = []\n",
    "embedding_of = []\n",
    "\n",
    "for loaded_normal_fact, loaded_normal_fact_embedding in loaded_normal_fact_embeddings:\n",
    "    normal_fact_embeddings.append((loaded_normal_fact, torch.tensor(loaded_normal_fact_embedding)))\n",
    "    all_embeddings.append(torch.tensor(loaded_normal_fact_embedding))\n",
    "    embedding_of.append('Popular fact')\n",
    "for loaded_monofact, loaded_monofact_embedding in loaded_monofact_embeddings:\n",
    "    monofact_embeddings.append((loaded_monofact, torch.tensor(loaded_monofact_embedding)))\n",
    "    all_embeddings.append(torch.tensor(loaded_monofact_embedding))\n",
    "    embedding_of.append('Monofact')\n",
    "for loaded_hallucination, loaded_hallucination_embedding in loaded_hallucination_embeddings:\n",
    "    hallucination_embeddings.append((loaded_hallucination, torch.tensor(loaded_hallucination_embedding)))\n",
    "    all_embeddings.append(torch.tensor(loaded_hallucination_embedding))\n",
    "    embedding_of.append('Hallucination')"
   ]
  },
  {
   "cell_type": "code",
   "execution_count": 80,
   "metadata": {
    "ExecuteTime": {
     "end_time": "2024-05-23T22:46:36.658057Z",
     "start_time": "2024-05-23T22:46:36.487556600Z"
    },
    "collapsed": false,
    "jupyter": {
     "outputs_hidden": false
    }
   },
   "outputs": [],
   "source": [
    "all_embeddings = torch.cat([a.unsqueeze(0) for a in all_embeddings])"
   ]
  },
  {
   "cell_type": "code",
   "execution_count": 81,
   "metadata": {},
   "outputs": [
    {
     "data": {
      "text/plain": [
       "torch.Size([1536])"
      ]
     },
     "execution_count": 81,
     "metadata": {},
     "output_type": "execute_result"
    }
   ],
   "source": [
    "monofact_embeddings[0][1].shape"
   ]
  },
  {
   "cell_type": "code",
   "execution_count": 82,
   "metadata": {
    "ExecuteTime": {
     "end_time": "2024-05-23T22:58:15.941310700Z",
     "start_time": "2024-05-23T22:58:15.850310900Z"
    },
    "collapsed": false,
    "jupyter": {
     "outputs_hidden": false
    }
   },
   "outputs": [],
   "source": [
    "torch.cuda.empty_cache()"
   ]
  },
  {
   "cell_type": "code",
   "execution_count": 83,
   "metadata": {},
   "outputs": [
    {
     "data": {
      "text/plain": [
       "torch.Size([834, 1536])"
      ]
     },
     "execution_count": 83,
     "metadata": {},
     "output_type": "execute_result"
    }
   ],
   "source": [
    "all_embeddings.shape"
   ]
  },
  {
   "cell_type": "code",
   "execution_count": 84,
   "metadata": {
    "collapsed": false,
    "jupyter": {
     "outputs_hidden": false
    }
   },
   "outputs": [],
   "source": [
    "all_embeddings_numpy = all_embeddings.detach().numpy()"
   ]
  },
  {
   "cell_type": "code",
   "execution_count": 85,
   "metadata": {},
   "outputs": [
    {
     "data": {
      "text/plain": [
       "array([[ 0.5362337 , -0.03913231,  4.460196  , ...,  1.669704  ,\n",
       "        -1.2950296 ,  0.02972578],\n",
       "       [ 0.5362337 , -0.03913231,  4.460196  , ...,  0.03552325,\n",
       "         3.2620003 ,  0.0574283 ],\n",
       "       [ 0.5362337 , -0.03913231,  4.460196  , ...,  0.15969001,\n",
       "        -1.3031412 ,  1.4547727 ],\n",
       "       ...,\n",
       "       [ 0.5362337 , -0.03913231,  4.460196  , ..., -0.08100768,\n",
       "         3.340527  ,  0.17142652],\n",
       "       [ 0.5362337 , -0.03913231,  4.460196  , ...,  0.2333981 ,\n",
       "        -1.3022641 , -0.12915558],\n",
       "       [ 0.5362337 , -0.03913231,  4.460196  , ..., -0.1235887 ,\n",
       "        -2.9214263 ,  0.42203456]], dtype=float32)"
      ]
     },
     "execution_count": 85,
     "metadata": {},
     "output_type": "execute_result"
    }
   ],
   "source": [
    "all_embeddings_numpy"
   ]
  },
  {
   "cell_type": "code",
   "execution_count": 86,
   "metadata": {},
   "outputs": [
    {
     "data": {
      "text/plain": [
       "(834, 2)"
      ]
     },
     "execution_count": 86,
     "metadata": {},
     "output_type": "execute_result"
    }
   ],
   "source": [
    "import numpy as np\n",
    "from sklearn.manifold import TSNE\n",
    "X_embedded = TSNE(n_components=2, learning_rate='auto',\n",
    "                  init='random', perplexity=3).fit_transform(all_embeddings_numpy)\n",
    "X_embedded.shape"
   ]
  },
  {
   "cell_type": "code",
   "execution_count": 87,
   "metadata": {},
   "outputs": [],
   "source": [
    "import matplotlib.pyplot as plt"
   ]
  },
  {
   "cell_type": "code",
   "execution_count": 88,
   "metadata": {},
   "outputs": [],
   "source": [
    "colors = {\n",
    "    'Hallucination': 'red',\n",
    "    'Popular fact': 'lightblue',\n",
    "    'Monofact': 'purple'\n",
    "}"
   ]
  },
  {
   "cell_type": "code",
   "execution_count": 95,
   "metadata": {},
   "outputs": [
    {
     "data": {
      "image/png": "[encoded data removed]",
      "text/plain": [
       "<Figure size 1000x700 with 1 Axes>"
      ]
     },
     "metadata": {},
     "output_type": "display_data"
    }
   ],
   "source": [
    "unique_labels = set(embedding_of)\n",
    "label_color_map = {label: colors[label] for label in unique_labels}\n",
    "\n",
    "# Create scatter plot\n",
    "plt.figure(figsize=(10, 7))\n",
    "plt.scatter(X_embedded[:, 0], X_embedded[:, 1], c=[colors[c] for c in embedding_of])\n",
    "\n",
    "# Create a list of handles (proxy artists) for the legend\n",
    "handles = [plt.Line2D([0], [0], marker='o', color='w', markerfacecolor=color, markersize=10) for label, color in label_color_map.items()]\n",
    "labels = list(label_color_map.keys())\n",
    "\n",
    "# Add legend to the plot\n",
    "plt.legend(handles, labels, title=\"Legend\")\n",
    "\n",
    "# Show the plot\n",
    "plt.savefig('figure.png', dpi=500)\n",
    "plt.show()"
   ]
  },
  {
   "cell_type": "code",
   "execution_count": 102,
   "metadata": {},
   "outputs": [],
   "source": [
    "from numpy import dot\n",
    "import numpy as np\n",
    "from numpy.linalg import norm\n",
    "\n",
    "def dist(tensor_a, tensor_b):\n",
    "    a = tensor_a.detach().numpy()\n",
    "    b = tensor_b.detach().numpy()\n",
    "    # return dot(a, b)/(norm(a)*norm(b))\n",
    "    return np.linalg.norm(a-b)"
   ]
  },
  {
   "cell_type": "code",
   "execution_count": 135,
   "metadata": {},
   "outputs": [],
   "source": [
    "def closest_different_point(embedding, top_k = 3):\n",
    "    smallest_dist = 1E9\n",
    "    result = None\n",
    "\n",
    "    distances = []\n",
    "    \n",
    "    for loaded_monofact, loaded_monofact_embedding in loaded_monofact_embeddings:\n",
    "        mf_embedding = torch.tensor(loaded_monofact_embedding)\n",
    "\n",
    "        d = dist(embedding, mf_embedding)\n",
    "        distances.append({'dist': d, 'type': 'Monofact'})\n",
    "    for loaded_hallucination, loaded_hallucination_embedding in loaded_hallucination_embeddings:\n",
    "        hf_embedding = torch.tensor(loaded_hallucination_embedding)\n",
    "\n",
    "        d = dist(embedding, hf_embedding)\n",
    "        distances.append({'dist': d, 'type': 'Hallucination'})\n",
    "\n",
    "    for loaded_normal_fact, loaded_normal_fact_embedding in loaded_normal_fact_embeddings:\n",
    "        nf_embedding = torch.tensor(loaded_normal_fact_embedding)\n",
    "\n",
    "        d = dist(embedding, nf_embedding)\n",
    "        distances.append({'dist': d, 'type': 'Popular Fact'})\n",
    "\n",
    "    return pd.DataFrame(distances).sort_values(by='dist').reset_index(drop=True)['type'].iloc[1:(top_k + 1)].value_counts()"
   ]
  },
  {
   "cell_type": "code",
   "execution_count": 136,
   "metadata": {},
   "outputs": [],
   "source": [
    "from tqdm import tqdm"
   ]
  },
  {
   "cell_type": "code",
   "execution_count": 138,
   "metadata": {
    "scrolled": true
   },
   "outputs": [
    {
     "name": "stderr",
     "output_type": "stream",
     "text": [
      "2it [00:00,  6.11it/s]"
     ]
    },
    {
     "name": "stdout",
     "output_type": "stream",
     "text": [
      "0 Popular fact {'Monofact': 2, 'Popular Fact': 1}\n",
      "1 Popular fact {'Popular Fact': 3}\n"
     ]
    },
    {
     "name": "stderr",
     "output_type": "stream",
     "text": [
      "4it [00:00,  6.17it/s]"
     ]
    },
    {
     "name": "stdout",
     "output_type": "stream",
     "text": [
      "2 Popular fact {'Popular Fact': 3}\n",
      "3 Popular fact {'Popular Fact': 3}\n"
     ]
    },
    {
     "name": "stderr",
     "output_type": "stream",
     "text": [
      "6it [00:00,  6.15it/s]"
     ]
    },
    {
     "name": "stdout",
     "output_type": "stream",
     "text": [
      "4 Popular fact {'Popular Fact': 3}\n",
      "5 Popular fact {'Popular Fact': 3}\n"
     ]
    },
    {
     "name": "stderr",
     "output_type": "stream",
     "text": [
      "8it [00:01,  6.15it/s]"
     ]
    },
    {
     "name": "stdout",
     "output_type": "stream",
     "text": [
      "6 Popular fact {'Popular Fact': 2, 'Monofact': 1}\n",
      "7 Popular fact {'Monofact': 2, 'Popular Fact': 1}\n"
     ]
    },
    {
     "name": "stderr",
     "output_type": "stream",
     "text": [
      "10it [00:01,  6.19it/s]"
     ]
    },
    {
     "name": "stdout",
     "output_type": "stream",
     "text": [
      "8 Popular fact {'Popular Fact': 3}\n",
      "9 Popular fact {'Popular Fact': 3}\n"
     ]
    },
    {
     "name": "stderr",
     "output_type": "stream",
     "text": [
      "12it [00:01,  6.14it/s]"
     ]
    },
    {
     "name": "stdout",
     "output_type": "stream",
     "text": [
      "10 Popular fact {'Popular Fact': 3}\n",
      "11 Popular fact {'Monofact': 2, 'Popular Fact': 1}\n"
     ]
    },
    {
     "name": "stderr",
     "output_type": "stream",
     "text": [
      "14it [00:02,  6.17it/s]"
     ]
    },
    {
     "name": "stdout",
     "output_type": "stream",
     "text": [
      "12 Popular fact {'Popular Fact': 2, 'Monofact': 1}\n",
      "13 Popular fact {'Popular Fact': 2, 'Monofact': 1}\n"
     ]
    },
    {
     "name": "stderr",
     "output_type": "stream",
     "text": [
      "16it [00:02,  6.19it/s]"
     ]
    },
    {
     "name": "stdout",
     "output_type": "stream",
     "text": [
      "14 Popular fact {'Popular Fact': 3}\n",
      "15 Popular fact {'Popular Fact': 3}\n"
     ]
    },
    {
     "name": "stderr",
     "output_type": "stream",
     "text": [
      "18it [00:02,  6.20it/s]"
     ]
    },
    {
     "name": "stdout",
     "output_type": "stream",
     "text": [
      "16 Popular fact {'Popular Fact': 3}\n",
      "17 Popular fact {'Popular Fact': 3}\n"
     ]
    },
    {
     "name": "stderr",
     "output_type": "stream",
     "text": [
      "20it [00:03,  6.02it/s]"
     ]
    },
    {
     "name": "stdout",
     "output_type": "stream",
     "text": [
      "18 Popular fact {'Popular Fact': 3}\n",
      "19 Popular fact {'Popular Fact': 3}\n"
     ]
    },
    {
     "name": "stderr",
     "output_type": "stream",
     "text": [
      "22it [00:03,  6.05it/s]"
     ]
    },
    {
     "name": "stdout",
     "output_type": "stream",
     "text": [
      "20 Popular fact {'Popular Fact': 3}\n",
      "21 Popular fact {'Popular Fact': 2, 'Monofact': 1}\n"
     ]
    },
    {
     "name": "stderr",
     "output_type": "stream",
     "text": [
      "24it [00:03,  6.08it/s]"
     ]
    },
    {
     "name": "stdout",
     "output_type": "stream",
     "text": [
      "22 Popular fact {'Popular Fact': 3}\n",
      "23 Popular fact {'Popular Fact': 3}\n"
     ]
    },
    {
     "name": "stderr",
     "output_type": "stream",
     "text": [
      "26it [00:04,  6.19it/s]"
     ]
    },
    {
     "name": "stdout",
     "output_type": "stream",
     "text": [
      "24 Popular fact {'Popular Fact': 3}\n",
      "25 Popular fact {'Popular Fact': 3}\n"
     ]
    },
    {
     "name": "stderr",
     "output_type": "stream",
     "text": [
      "28it [00:04,  6.24it/s]"
     ]
    },
    {
     "name": "stdout",
     "output_type": "stream",
     "text": [
      "26 Popular fact {'Popular Fact': 3}\n",
      "27 Popular fact {'Popular Fact': 3}\n"
     ]
    },
    {
     "name": "stderr",
     "output_type": "stream",
     "text": [
      "30it [00:04,  6.26it/s]"
     ]
    },
    {
     "name": "stdout",
     "output_type": "stream",
     "text": [
      "28 Popular fact {'Popular Fact': 2, 'Monofact': 1}\n",
      "29 Popular fact {'Popular Fact': 2, 'Monofact': 1}\n"
     ]
    },
    {
     "name": "stderr",
     "output_type": "stream",
     "text": [
      "32it [00:05,  5.91it/s]"
     ]
    },
    {
     "name": "stdout",
     "output_type": "stream",
     "text": [
      "30 Popular fact {'Popular Fact': 3}\n",
      "31 Popular fact {'Monofact': 2, 'Popular Fact': 1}\n"
     ]
    },
    {
     "name": "stderr",
     "output_type": "stream",
     "text": [
      "34it [00:05,  6.08it/s]"
     ]
    },
    {
     "name": "stdout",
     "output_type": "stream",
     "text": [
      "32 Popular fact {'Popular Fact': 3}\n",
      "33 Popular fact {'Popular Fact': 3}\n"
     ]
    },
    {
     "name": "stderr",
     "output_type": "stream",
     "text": [
      "36it [00:05,  6.19it/s]"
     ]
    },
    {
     "name": "stdout",
     "output_type": "stream",
     "text": [
      "34 Popular fact {'Popular Fact': 3}\n",
      "35 Popular fact {'Popular Fact': 3}\n"
     ]
    },
    {
     "name": "stderr",
     "output_type": "stream",
     "text": [
      "38it [00:06,  6.24it/s]"
     ]
    },
    {
     "name": "stdout",
     "output_type": "stream",
     "text": [
      "36 Popular fact {'Popular Fact': 2, 'Monofact': 1}\n",
      "37 Popular fact {'Popular Fact': 3}\n"
     ]
    },
    {
     "name": "stderr",
     "output_type": "stream",
     "text": [
      "40it [00:06,  6.24it/s]"
     ]
    },
    {
     "name": "stdout",
     "output_type": "stream",
     "text": [
      "38 Popular fact {'Popular Fact': 3}\n",
      "39 Popular fact {'Monofact': 2, 'Popular Fact': 1}\n"
     ]
    },
    {
     "name": "stderr",
     "output_type": "stream",
     "text": [
      "42it [00:06,  6.27it/s]"
     ]
    },
    {
     "name": "stdout",
     "output_type": "stream",
     "text": [
      "40 Popular fact {'Popular Fact': 3}\n",
      "41 Popular fact {'Popular Fact': 3}\n"
     ]
    },
    {
     "name": "stderr",
     "output_type": "stream",
     "text": [
      "44it [00:07,  6.27it/s]"
     ]
    },
    {
     "name": "stdout",
     "output_type": "stream",
     "text": [
      "42 Popular fact {'Popular Fact': 3}\n",
      "43 Popular fact {'Popular Fact': 3}\n"
     ]
    },
    {
     "name": "stderr",
     "output_type": "stream",
     "text": [
      "46it [00:07,  6.29it/s]"
     ]
    },
    {
     "name": "stdout",
     "output_type": "stream",
     "text": [
      "44 Popular fact {'Popular Fact': 1, 'Monofact': 1, 'Hallucination': 1}\n",
      "45 Popular fact {'Popular Fact': 2, 'Monofact': 1}\n"
     ]
    },
    {
     "name": "stderr",
     "output_type": "stream",
     "text": [
      "48it [00:07,  6.28it/s]"
     ]
    },
    {
     "name": "stdout",
     "output_type": "stream",
     "text": [
      "46 Popular fact {'Popular Fact': 3}\n",
      "47 Popular fact {'Popular Fact': 3}\n"
     ]
    },
    {
     "name": "stderr",
     "output_type": "stream",
     "text": [
      "50it [00:08,  6.28it/s]"
     ]
    },
    {
     "name": "stdout",
     "output_type": "stream",
     "text": [
      "48 Popular fact {'Popular Fact': 3}\n",
      "49 Popular fact {'Popular Fact': 3}\n"
     ]
    },
    {
     "name": "stderr",
     "output_type": "stream",
     "text": [
      "52it [00:08,  6.18it/s]"
     ]
    },
    {
     "name": "stdout",
     "output_type": "stream",
     "text": [
      "50 Popular fact {'Popular Fact': 2, 'Monofact': 1}\n",
      "51 Popular fact {'Popular Fact': 3}\n"
     ]
    },
    {
     "name": "stderr",
     "output_type": "stream",
     "text": [
      "54it [00:08,  6.24it/s]"
     ]
    },
    {
     "name": "stdout",
     "output_type": "stream",
     "text": [
      "52 Popular fact {'Popular Fact': 3}\n",
      "53 Popular fact {'Popular Fact': 3}\n"
     ]
    },
    {
     "name": "stderr",
     "output_type": "stream",
     "text": [
      "56it [00:09,  6.27it/s]"
     ]
    },
    {
     "name": "stdout",
     "output_type": "stream",
     "text": [
      "54 Popular fact {'Popular Fact': 3}\n",
      "55 Popular fact {'Popular Fact': 3}\n"
     ]
    },
    {
     "name": "stderr",
     "output_type": "stream",
     "text": [
      "58it [00:09,  6.28it/s]"
     ]
    },
    {
     "name": "stdout",
     "output_type": "stream",
     "text": [
      "56 Popular fact {'Popular Fact': 3}\n",
      "57 Popular fact {'Popular Fact': 2, 'Monofact': 1}\n"
     ]
    },
    {
     "name": "stderr",
     "output_type": "stream",
     "text": [
      "60it [00:09,  6.25it/s]"
     ]
    },
    {
     "name": "stdout",
     "output_type": "stream",
     "text": [
      "58 Popular fact {'Popular Fact': 3}\n",
      "59 Popular fact {'Popular Fact': 2, 'Monofact': 1}\n"
     ]
    },
    {
     "name": "stderr",
     "output_type": "stream",
     "text": [
      "62it [00:10,  6.07it/s]"
     ]
    },
    {
     "name": "stdout",
     "output_type": "stream",
     "text": [
      "60 Popular fact {'Popular Fact': 3}\n",
      "61 Popular fact {'Popular Fact': 3}\n"
     ]
    },
    {
     "name": "stderr",
     "output_type": "stream",
     "text": [
      "64it [00:10,  5.86it/s]"
     ]
    },
    {
     "name": "stdout",
     "output_type": "stream",
     "text": [
      "62 Popular fact {'Popular Fact': 3}\n",
      "63 Popular fact {'Popular Fact': 3}\n"
     ]
    },
    {
     "name": "stderr",
     "output_type": "stream",
     "text": [
      "65it [00:10,  5.72it/s]"
     ]
    },
    {
     "name": "stdout",
     "output_type": "stream",
     "text": [
      "64 Popular fact {'Popular Fact': 3}\n"
     ]
    },
    {
     "name": "stderr",
     "output_type": "stream",
     "text": [
      "66it [00:10,  4.86it/s]"
     ]
    },
    {
     "name": "stdout",
     "output_type": "stream",
     "text": [
      "65 Popular fact {'Popular Fact': 3}\n"
     ]
    },
    {
     "name": "stderr",
     "output_type": "stream",
     "text": [
      "68it [00:11,  4.96it/s]"
     ]
    },
    {
     "name": "stdout",
     "output_type": "stream",
     "text": [
      "66 Popular fact {'Popular Fact': 3}\n",
      "67 Popular fact {'Popular Fact': 3}\n"
     ]
    },
    {
     "name": "stderr",
     "output_type": "stream",
     "text": [
      "70it [00:11,  5.30it/s]"
     ]
    },
    {
     "name": "stdout",
     "output_type": "stream",
     "text": [
      "68 Popular fact {'Popular Fact': 3}\n",
      "69 Popular fact {'Popular Fact': 3}\n"
     ]
    },
    {
     "name": "stderr",
     "output_type": "stream",
     "text": [
      "72it [00:11,  5.75it/s]"
     ]
    },
    {
     "name": "stdout",
     "output_type": "stream",
     "text": [
      "70 Popular fact {'Popular Fact': 3}\n",
      "71 Popular fact {'Popular Fact': 2, 'Monofact': 1}\n"
     ]
    },
    {
     "name": "stderr",
     "output_type": "stream",
     "text": [
      "74it [00:12,  5.71it/s]"
     ]
    },
    {
     "name": "stdout",
     "output_type": "stream",
     "text": [
      "72 Popular fact {'Popular Fact': 3}\n",
      "73 Popular fact {'Popular Fact': 3}\n"
     ]
    },
    {
     "name": "stderr",
     "output_type": "stream",
     "text": [
      "76it [00:12,  5.99it/s]"
     ]
    },
    {
     "name": "stdout",
     "output_type": "stream",
     "text": [
      "74 Popular fact {'Popular Fact': 3}\n",
      "75 Popular fact {'Popular Fact': 3}\n"
     ]
    },
    {
     "name": "stderr",
     "output_type": "stream",
     "text": [
      "78it [00:12,  6.17it/s]"
     ]
    },
    {
     "name": "stdout",
     "output_type": "stream",
     "text": [
      "76 Popular fact {'Popular Fact': 2, 'Monofact': 1}\n",
      "77 Popular fact {'Popular Fact': 3}\n"
     ]
    },
    {
     "name": "stderr",
     "output_type": "stream",
     "text": [
      "80it [00:13,  6.25it/s]"
     ]
    },
    {
     "name": "stdout",
     "output_type": "stream",
     "text": [
      "78 Popular fact {'Popular Fact': 3}\n",
      "79 Popular fact {'Monofact': 2, 'Popular Fact': 1}\n"
     ]
    },
    {
     "name": "stderr",
     "output_type": "stream",
     "text": [
      "82it [00:13,  6.27it/s]"
     ]
    },
    {
     "name": "stdout",
     "output_type": "stream",
     "text": [
      "80 Popular fact {'Popular Fact': 3}\n",
      "81 Popular fact {'Popular Fact': 3}\n"
     ]
    },
    {
     "name": "stderr",
     "output_type": "stream",
     "text": [
      "84it [00:13,  5.97it/s]"
     ]
    },
    {
     "name": "stdout",
     "output_type": "stream",
     "text": [
      "82 Popular fact {'Popular Fact': 3}\n",
      "83 Popular fact {'Popular Fact': 3}\n"
     ]
    },
    {
     "name": "stderr",
     "output_type": "stream",
     "text": [
      "86it [00:14,  6.00it/s]"
     ]
    },
    {
     "name": "stdout",
     "output_type": "stream",
     "text": [
      "84 Popular fact {'Popular Fact': 2, 'Monofact': 1}\n",
      "85 Popular fact {'Monofact': 2, 'Popular Fact': 1}\n"
     ]
    },
    {
     "name": "stderr",
     "output_type": "stream",
     "text": [
      "88it [00:14,  6.00it/s]"
     ]
    },
    {
     "name": "stdout",
     "output_type": "stream",
     "text": [
      "86 Popular fact {'Popular Fact': 3}\n",
      "87 Popular fact {'Popular Fact': 3}\n"
     ]
    },
    {
     "name": "stderr",
     "output_type": "stream",
     "text": [
      "90it [00:14,  6.10it/s]"
     ]
    },
    {
     "name": "stdout",
     "output_type": "stream",
     "text": [
      "88 Popular fact {'Popular Fact': 3}\n",
      "89 Popular fact {'Popular Fact': 3}\n"
     ]
    },
    {
     "name": "stderr",
     "output_type": "stream",
     "text": [
      "92it [00:15,  6.09it/s]"
     ]
    },
    {
     "name": "stdout",
     "output_type": "stream",
     "text": [
      "90 Popular fact {'Popular Fact': 3}\n",
      "91 Popular fact {'Popular Fact': 3}\n"
     ]
    },
    {
     "name": "stderr",
     "output_type": "stream",
     "text": [
      "94it [00:15,  6.17it/s]"
     ]
    },
    {
     "name": "stdout",
     "output_type": "stream",
     "text": [
      "92 Popular fact {'Popular Fact': 3}\n",
      "93 Popular fact {'Popular Fact': 3}\n"
     ]
    },
    {
     "name": "stderr",
     "output_type": "stream",
     "text": [
      "96it [00:15,  6.21it/s]"
     ]
    },
    {
     "name": "stdout",
     "output_type": "stream",
     "text": [
      "94 Popular fact {'Popular Fact': 3}\n",
      "95 Popular fact {'Popular Fact': 2, 'Monofact': 1}\n"
     ]
    },
    {
     "name": "stderr",
     "output_type": "stream",
     "text": [
      "98it [00:16,  6.24it/s]"
     ]
    },
    {
     "name": "stdout",
     "output_type": "stream",
     "text": [
      "96 Popular fact {'Popular Fact': 3}\n",
      "97 Popular fact {'Popular Fact': 3}\n"
     ]
    },
    {
     "name": "stderr",
     "output_type": "stream",
     "text": [
      "100it [00:16,  6.16it/s]"
     ]
    },
    {
     "name": "stdout",
     "output_type": "stream",
     "text": [
      "98 Popular fact {'Popular Fact': 3}\n",
      "99 Popular fact {'Popular Fact': 3}\n"
     ]
    },
    {
     "name": "stderr",
     "output_type": "stream",
     "text": [
      "102it [00:16,  6.22it/s]"
     ]
    },
    {
     "name": "stdout",
     "output_type": "stream",
     "text": [
      "100 Popular fact {'Popular Fact': 3}\n",
      "101 Popular fact {'Popular Fact': 3}\n"
     ]
    },
    {
     "name": "stderr",
     "output_type": "stream",
     "text": [
      "104it [00:17,  6.10it/s]"
     ]
    },
    {
     "name": "stdout",
     "output_type": "stream",
     "text": [
      "102 Popular fact {'Popular Fact': 3}\n",
      "103 Popular fact {'Popular Fact': 3}\n"
     ]
    },
    {
     "name": "stderr",
     "output_type": "stream",
     "text": [
      "106it [00:17,  6.18it/s]"
     ]
    },
    {
     "name": "stdout",
     "output_type": "stream",
     "text": [
      "104 Popular fact {'Popular Fact': 3}\n",
      "105 Popular fact {'Popular Fact': 3}\n"
     ]
    },
    {
     "name": "stderr",
     "output_type": "stream",
     "text": [
      "108it [00:17,  6.28it/s]"
     ]
    },
    {
     "name": "stdout",
     "output_type": "stream",
     "text": [
      "106 Popular fact {'Popular Fact': 3}\n",
      "107 Popular fact {'Popular Fact': 3}\n"
     ]
    },
    {
     "name": "stderr",
     "output_type": "stream",
     "text": [
      "110it [00:18,  6.26it/s]"
     ]
    },
    {
     "name": "stdout",
     "output_type": "stream",
     "text": [
      "108 Popular fact {'Popular Fact': 3}\n",
      "109 Popular fact {'Popular Fact': 3}\n"
     ]
    },
    {
     "name": "stderr",
     "output_type": "stream",
     "text": [
      "112it [00:18,  6.31it/s]"
     ]
    },
    {
     "name": "stdout",
     "output_type": "stream",
     "text": [
      "110 Popular fact {'Popular Fact': 2, 'Monofact': 1}\n",
      "111 Popular fact {'Popular Fact': 2, 'Monofact': 1}\n"
     ]
    },
    {
     "name": "stderr",
     "output_type": "stream",
     "text": [
      "114it [00:18,  6.33it/s]"
     ]
    },
    {
     "name": "stdout",
     "output_type": "stream",
     "text": [
      "112 Popular fact {'Popular Fact': 2, 'Monofact': 1}\n",
      "113 Popular fact {'Popular Fact': 3}\n"
     ]
    },
    {
     "name": "stderr",
     "output_type": "stream",
     "text": [
      "116it [00:19,  6.33it/s]"
     ]
    },
    {
     "name": "stdout",
     "output_type": "stream",
     "text": [
      "114 Popular fact {'Popular Fact': 3}\n",
      "115 Popular fact {'Popular Fact': 2, 'Monofact': 1}\n"
     ]
    },
    {
     "name": "stderr",
     "output_type": "stream",
     "text": [
      "118it [00:19,  6.34it/s]"
     ]
    },
    {
     "name": "stdout",
     "output_type": "stream",
     "text": [
      "116 Popular fact {'Popular Fact': 3}\n",
      "117 Popular fact {'Popular Fact': 3}\n"
     ]
    },
    {
     "name": "stderr",
     "output_type": "stream",
     "text": [
      "120it [00:19,  6.32it/s]"
     ]
    },
    {
     "name": "stdout",
     "output_type": "stream",
     "text": [
      "118 Popular fact {'Popular Fact': 2, 'Monofact': 1}\n",
      "119 Popular fact {'Popular Fact': 3}\n"
     ]
    },
    {
     "name": "stderr",
     "output_type": "stream",
     "text": [
      "122it [00:20,  6.35it/s]"
     ]
    },
    {
     "name": "stdout",
     "output_type": "stream",
     "text": [
      "120 Popular fact {'Popular Fact': 3}\n",
      "121 Popular fact {'Popular Fact': 3}\n"
     ]
    },
    {
     "name": "stderr",
     "output_type": "stream",
     "text": [
      "124it [00:20,  6.35it/s]"
     ]
    },
    {
     "name": "stdout",
     "output_type": "stream",
     "text": [
      "122 Popular fact {'Popular Fact': 3}\n",
      "123 Popular fact {'Popular Fact': 3}\n"
     ]
    },
    {
     "name": "stderr",
     "output_type": "stream",
     "text": [
      "126it [00:20,  6.15it/s]"
     ]
    },
    {
     "name": "stdout",
     "output_type": "stream",
     "text": [
      "124 Popular fact {'Popular Fact': 3}\n",
      "125 Popular fact {'Popular Fact': 3}\n"
     ]
    },
    {
     "name": "stderr",
     "output_type": "stream",
     "text": [
      "128it [00:20,  6.17it/s]"
     ]
    },
    {
     "name": "stdout",
     "output_type": "stream",
     "text": [
      "126 Popular fact {'Popular Fact': 3}\n",
      "127 Popular fact {'Popular Fact': 2, 'Monofact': 1}\n"
     ]
    },
    {
     "name": "stderr",
     "output_type": "stream",
     "text": [
      "130it [00:21,  6.23it/s]"
     ]
    },
    {
     "name": "stdout",
     "output_type": "stream",
     "text": [
      "128 Popular fact {'Popular Fact': 2, 'Monofact': 1}\n",
      "129 Popular fact {'Popular Fact': 3}\n"
     ]
    },
    {
     "name": "stderr",
     "output_type": "stream",
     "text": [
      "132it [00:21,  6.24it/s]"
     ]
    },
    {
     "name": "stdout",
     "output_type": "stream",
     "text": [
      "130 Popular fact {'Popular Fact': 3}\n",
      "131 Popular fact {'Popular Fact': 3}\n"
     ]
    },
    {
     "name": "stderr",
     "output_type": "stream",
     "text": [
      "134it [00:21,  6.27it/s]"
     ]
    },
    {
     "name": "stdout",
     "output_type": "stream",
     "text": [
      "132 Popular fact {'Popular Fact': 3}\n",
      "133 Popular fact {'Popular Fact': 2, 'Monofact': 1}\n"
     ]
    },
    {
     "name": "stderr",
     "output_type": "stream",
     "text": [
      "136it [00:22,  6.24it/s]"
     ]
    },
    {
     "name": "stdout",
     "output_type": "stream",
     "text": [
      "134 Popular fact {'Popular Fact': 3}\n",
      "135 Popular fact {'Monofact': 2, 'Popular Fact': 1}\n"
     ]
    },
    {
     "name": "stderr",
     "output_type": "stream",
     "text": [
      "138it [00:22,  6.26it/s]"
     ]
    },
    {
     "name": "stdout",
     "output_type": "stream",
     "text": [
      "136 Popular fact {'Popular Fact': 3}\n",
      "137 Popular fact {'Popular Fact': 3}\n"
     ]
    },
    {
     "name": "stderr",
     "output_type": "stream",
     "text": [
      "140it [00:22,  6.30it/s]"
     ]
    },
    {
     "name": "stdout",
     "output_type": "stream",
     "text": [
      "138 Popular fact {'Popular Fact': 3}\n",
      "139 Popular fact {'Popular Fact': 2, 'Monofact': 1}\n"
     ]
    },
    {
     "name": "stderr",
     "output_type": "stream",
     "text": [
      "142it [00:23,  6.33it/s]"
     ]
    },
    {
     "name": "stdout",
     "output_type": "stream",
     "text": [
      "140 Popular fact {'Popular Fact': 3}\n",
      "141 Popular fact {'Popular Fact': 1, 'Monofact': 1, 'Hallucination': 1}\n"
     ]
    },
    {
     "name": "stderr",
     "output_type": "stream",
     "text": [
      "144it [00:23,  6.10it/s]"
     ]
    },
    {
     "name": "stdout",
     "output_type": "stream",
     "text": [
      "142 Popular fact {'Popular Fact': 3}\n",
      "143 Popular fact {'Popular Fact': 3}\n"
     ]
    },
    {
     "name": "stderr",
     "output_type": "stream",
     "text": [
      "146it [00:23,  6.15it/s]"
     ]
    },
    {
     "name": "stdout",
     "output_type": "stream",
     "text": [
      "144 Popular fact {'Popular Fact': 3}\n",
      "145 Popular fact {'Popular Fact': 3}\n"
     ]
    },
    {
     "name": "stderr",
     "output_type": "stream",
     "text": [
      "148it [00:24,  6.23it/s]"
     ]
    },
    {
     "name": "stdout",
     "output_type": "stream",
     "text": [
      "146 Popular fact {'Popular Fact': 3}\n",
      "147 Popular fact {'Popular Fact': 2, 'Monofact': 1}\n"
     ]
    },
    {
     "name": "stderr",
     "output_type": "stream",
     "text": [
      "150it [00:24,  6.27it/s]"
     ]
    },
    {
     "name": "stdout",
     "output_type": "stream",
     "text": [
      "148 Popular fact {'Popular Fact': 3}\n",
      "149 Popular fact {'Popular Fact': 3}\n"
     ]
    },
    {
     "name": "stderr",
     "output_type": "stream",
     "text": [
      "152it [00:24,  6.28it/s]"
     ]
    },
    {
     "name": "stdout",
     "output_type": "stream",
     "text": [
      "150 Popular fact {'Monofact': 2, 'Popular Fact': 1}\n",
      "151 Popular fact {'Popular Fact': 3}\n"
     ]
    },
    {
     "name": "stderr",
     "output_type": "stream",
     "text": [
      "154it [00:25,  6.30it/s]"
     ]
    },
    {
     "name": "stdout",
     "output_type": "stream",
     "text": [
      "152 Popular fact {'Monofact': 2, 'Popular Fact': 1}\n",
      "153 Popular fact {'Popular Fact': 3}\n"
     ]
    },
    {
     "name": "stderr",
     "output_type": "stream",
     "text": [
      "156it [00:25,  6.14it/s]"
     ]
    },
    {
     "name": "stdout",
     "output_type": "stream",
     "text": [
      "154 Popular fact {'Popular Fact': 3}\n",
      "155 Popular fact {'Popular Fact': 3}\n"
     ]
    },
    {
     "name": "stderr",
     "output_type": "stream",
     "text": [
      "158it [00:25,  6.23it/s]"
     ]
    },
    {
     "name": "stdout",
     "output_type": "stream",
     "text": [
      "156 Popular fact {'Popular Fact': 3}\n",
      "157 Popular fact {'Popular Fact': 3}\n"
     ]
    },
    {
     "name": "stderr",
     "output_type": "stream",
     "text": [
      "160it [00:26,  6.29it/s]"
     ]
    },
    {
     "name": "stdout",
     "output_type": "stream",
     "text": [
      "158 Popular fact {'Popular Fact': 3}\n",
      "159 Popular fact {'Popular Fact': 3}\n"
     ]
    },
    {
     "name": "stderr",
     "output_type": "stream",
     "text": [
      "162it [00:26,  5.90it/s]"
     ]
    },
    {
     "name": "stdout",
     "output_type": "stream",
     "text": [
      "160 Popular fact {'Popular Fact': 3}\n",
      "161 Popular fact {'Popular Fact': 3}\n"
     ]
    },
    {
     "name": "stderr",
     "output_type": "stream",
     "text": [
      "164it [00:26,  6.12it/s]"
     ]
    },
    {
     "name": "stdout",
     "output_type": "stream",
     "text": [
      "162 Popular fact {'Popular Fact': 3}\n",
      "163 Popular fact {'Popular Fact': 3}\n"
     ]
    },
    {
     "name": "stderr",
     "output_type": "stream",
     "text": [
      "166it [00:27,  6.22it/s]"
     ]
    },
    {
     "name": "stdout",
     "output_type": "stream",
     "text": [
      "164 Popular fact {'Popular Fact': 3}\n",
      "165 Popular fact {'Popular Fact': 3}\n"
     ]
    },
    {
     "name": "stderr",
     "output_type": "stream",
     "text": [
      "168it [00:27,  6.27it/s]"
     ]
    },
    {
     "name": "stdout",
     "output_type": "stream",
     "text": [
      "166 Popular fact {'Popular Fact': 3}\n",
      "167 Popular fact {'Popular Fact': 3}\n"
     ]
    },
    {
     "name": "stderr",
     "output_type": "stream",
     "text": [
      "170it [00:27,  6.16it/s]"
     ]
    },
    {
     "name": "stdout",
     "output_type": "stream",
     "text": [
      "168 Popular fact {'Popular Fact': 3}\n",
      "169 Popular fact {'Popular Fact': 3}\n"
     ]
    },
    {
     "name": "stderr",
     "output_type": "stream",
     "text": [
      "172it [00:28,  6.24it/s]"
     ]
    },
    {
     "name": "stdout",
     "output_type": "stream",
     "text": [
      "170 Popular fact {'Popular Fact': 3}\n",
      "171 Popular fact {'Popular Fact': 2, 'Monofact': 1}\n"
     ]
    },
    {
     "name": "stderr",
     "output_type": "stream",
     "text": [
      "174it [00:28,  6.29it/s]"
     ]
    },
    {
     "name": "stdout",
     "output_type": "stream",
     "text": [
      "172 Popular fact {'Popular Fact': 2, 'Monofact': 1}\n",
      "173 Popular fact {'Popular Fact': 3}\n"
     ]
    },
    {
     "name": "stderr",
     "output_type": "stream",
     "text": [
      "176it [00:28,  6.29it/s]"
     ]
    },
    {
     "name": "stdout",
     "output_type": "stream",
     "text": [
      "174 Popular fact {'Popular Fact': 2, 'Monofact': 1}\n",
      "175 Popular fact {'Popular Fact': 3}\n"
     ]
    },
    {
     "name": "stderr",
     "output_type": "stream",
     "text": [
      "178it [00:29,  6.18it/s]"
     ]
    },
    {
     "name": "stdout",
     "output_type": "stream",
     "text": [
      "176 Popular fact {'Popular Fact': 3}\n",
      "177 Popular fact {'Popular Fact': 3}\n"
     ]
    },
    {
     "name": "stderr",
     "output_type": "stream",
     "text": [
      "180it [00:29,  6.18it/s]"
     ]
    },
    {
     "name": "stdout",
     "output_type": "stream",
     "text": [
      "178 Popular fact {'Popular Fact': 2, 'Monofact': 1}\n",
      "179 Popular fact {'Popular Fact': 3}\n"
     ]
    },
    {
     "name": "stderr",
     "output_type": "stream",
     "text": [
      "182it [00:29,  6.24it/s]"
     ]
    },
    {
     "name": "stdout",
     "output_type": "stream",
     "text": [
      "180 Popular fact {'Monofact': 2, 'Popular Fact': 1}\n",
      "181 Popular fact {'Popular Fact': 3}\n"
     ]
    },
    {
     "name": "stderr",
     "output_type": "stream",
     "text": [
      "184it [00:29,  6.25it/s]"
     ]
    },
    {
     "name": "stdout",
     "output_type": "stream",
     "text": [
      "182 Popular fact {'Popular Fact': 3}\n",
      "183 Popular fact {'Popular Fact': 3}\n"
     ]
    },
    {
     "name": "stderr",
     "output_type": "stream",
     "text": [
      "186it [00:30,  6.31it/s]"
     ]
    },
    {
     "name": "stdout",
     "output_type": "stream",
     "text": [
      "184 Popular fact {'Popular Fact': 3}\n",
      "185 Popular fact {'Popular Fact': 3}\n"
     ]
    },
    {
     "name": "stderr",
     "output_type": "stream",
     "text": [
      "188it [00:30,  6.31it/s]"
     ]
    },
    {
     "name": "stdout",
     "output_type": "stream",
     "text": [
      "186 Popular fact {'Popular Fact': 3}\n",
      "187 Popular fact {'Popular Fact': 3}\n"
     ]
    },
    {
     "name": "stderr",
     "output_type": "stream",
     "text": [
      "190it [00:30,  6.13it/s]"
     ]
    },
    {
     "name": "stdout",
     "output_type": "stream",
     "text": [
      "188 Popular fact {'Popular Fact': 3}\n",
      "189 Popular fact {'Popular Fact': 3}\n"
     ]
    },
    {
     "name": "stderr",
     "output_type": "stream",
     "text": [
      "192it [00:31,  6.25it/s]"
     ]
    },
    {
     "name": "stdout",
     "output_type": "stream",
     "text": [
      "190 Popular fact {'Popular Fact': 3}\n",
      "191 Popular fact {'Monofact': 2, 'Popular Fact': 1}\n"
     ]
    },
    {
     "name": "stderr",
     "output_type": "stream",
     "text": [
      "194it [00:31,  6.29it/s]"
     ]
    },
    {
     "name": "stdout",
     "output_type": "stream",
     "text": [
      "192 Popular fact {'Popular Fact': 3}\n",
      "193 Popular fact {'Popular Fact': 3}\n"
     ]
    },
    {
     "name": "stderr",
     "output_type": "stream",
     "text": [
      "196it [00:31,  6.30it/s]"
     ]
    },
    {
     "name": "stdout",
     "output_type": "stream",
     "text": [
      "194 Popular fact {'Popular Fact': 3}\n",
      "195 Popular fact {'Popular Fact': 3}\n"
     ]
    },
    {
     "name": "stderr",
     "output_type": "stream",
     "text": [
      "198it [00:32,  6.33it/s]"
     ]
    },
    {
     "name": "stdout",
     "output_type": "stream",
     "text": [
      "196 Popular fact {'Popular Fact': 3}\n",
      "197 Popular fact {'Popular Fact': 3}\n"
     ]
    },
    {
     "name": "stderr",
     "output_type": "stream",
     "text": [
      "200it [00:32,  6.34it/s]"
     ]
    },
    {
     "name": "stdout",
     "output_type": "stream",
     "text": [
      "198 Popular fact {'Popular Fact': 3}\n",
      "199 Popular fact {'Popular Fact': 3}\n"
     ]
    },
    {
     "name": "stderr",
     "output_type": "stream",
     "text": [
      "202it [00:32,  6.33it/s]"
     ]
    },
    {
     "name": "stdout",
     "output_type": "stream",
     "text": [
      "200 Popular fact {'Popular Fact': 3}\n",
      "201 Popular fact {'Popular Fact': 3}\n"
     ]
    },
    {
     "name": "stderr",
     "output_type": "stream",
     "text": [
      "204it [00:33,  6.35it/s]"
     ]
    },
    {
     "name": "stdout",
     "output_type": "stream",
     "text": [
      "202 Popular fact {'Popular Fact': 3}\n",
      "203 Popular fact {'Popular Fact': 3}\n"
     ]
    },
    {
     "name": "stderr",
     "output_type": "stream",
     "text": [
      "206it [00:33,  6.35it/s]"
     ]
    },
    {
     "name": "stdout",
     "output_type": "stream",
     "text": [
      "204 Popular fact {'Popular Fact': 2, 'Monofact': 1}\n",
      "205 Popular fact {'Popular Fact': 3}\n"
     ]
    },
    {
     "name": "stderr",
     "output_type": "stream",
     "text": [
      "208it [00:33,  6.33it/s]"
     ]
    },
    {
     "name": "stdout",
     "output_type": "stream",
     "text": [
      "206 Popular fact {'Popular Fact': 2, 'Monofact': 1}\n",
      "207 Popular fact {'Popular Fact': 3}\n"
     ]
    },
    {
     "name": "stderr",
     "output_type": "stream",
     "text": [
      "210it [00:34,  6.34it/s]"
     ]
    },
    {
     "name": "stdout",
     "output_type": "stream",
     "text": [
      "208 Popular fact {'Popular Fact': 3}\n",
      "209 Popular fact {'Popular Fact': 3}\n"
     ]
    },
    {
     "name": "stderr",
     "output_type": "stream",
     "text": [
      "212it [00:34,  6.35it/s]"
     ]
    },
    {
     "name": "stdout",
     "output_type": "stream",
     "text": [
      "210 Popular fact {'Popular Fact': 3}\n",
      "211 Popular fact {'Popular Fact': 3}\n"
     ]
    },
    {
     "name": "stderr",
     "output_type": "stream",
     "text": [
      "214it [00:34,  6.33it/s]"
     ]
    },
    {
     "name": "stdout",
     "output_type": "stream",
     "text": [
      "212 Popular fact {'Popular Fact': 3}\n",
      "213 Popular fact {'Popular Fact': 3}\n"
     ]
    },
    {
     "name": "stderr",
     "output_type": "stream",
     "text": [
      "216it [00:35,  6.34it/s]"
     ]
    },
    {
     "name": "stdout",
     "output_type": "stream",
     "text": [
      "214 Popular fact {'Popular Fact': 3}\n",
      "215 Popular fact {'Monofact': 2, 'Popular Fact': 1}\n"
     ]
    },
    {
     "name": "stderr",
     "output_type": "stream",
     "text": [
      "218it [00:35,  6.34it/s]"
     ]
    },
    {
     "name": "stdout",
     "output_type": "stream",
     "text": [
      "216 Popular fact {'Popular Fact': 3}\n",
      "217 Popular fact {'Popular Fact': 2, 'Monofact': 1}\n"
     ]
    },
    {
     "name": "stderr",
     "output_type": "stream",
     "text": [
      "220it [00:35,  5.98it/s]"
     ]
    },
    {
     "name": "stdout",
     "output_type": "stream",
     "text": [
      "218 Popular fact {'Monofact': 2, 'Popular Fact': 1}\n",
      "219 Popular fact {'Popular Fact': 3}\n"
     ]
    },
    {
     "name": "stderr",
     "output_type": "stream",
     "text": [
      "222it [00:36,  6.17it/s]"
     ]
    },
    {
     "name": "stdout",
     "output_type": "stream",
     "text": [
      "220 Popular fact {'Popular Fact': 1, 'Hallucination': 1, 'Monofact': 1}\n",
      "221 Popular fact {'Popular Fact': 3}\n"
     ]
    },
    {
     "name": "stderr",
     "output_type": "stream",
     "text": [
      "224it [00:36,  6.28it/s]"
     ]
    },
    {
     "name": "stdout",
     "output_type": "stream",
     "text": [
      "222 Popular fact {'Popular Fact': 3}\n",
      "223 Popular fact {'Popular Fact': 3}\n"
     ]
    },
    {
     "name": "stderr",
     "output_type": "stream",
     "text": [
      "226it [00:36,  6.31it/s]"
     ]
    },
    {
     "name": "stdout",
     "output_type": "stream",
     "text": [
      "224 Popular fact {'Popular Fact': 1, 'Monofact': 1, 'Hallucination': 1}\n",
      "225 Popular fact {'Popular Fact': 3}\n"
     ]
    },
    {
     "name": "stderr",
     "output_type": "stream",
     "text": [
      "228it [00:36,  6.33it/s]"
     ]
    },
    {
     "name": "stdout",
     "output_type": "stream",
     "text": [
      "226 Popular fact {'Popular Fact': 3}\n",
      "227 Popular fact {'Popular Fact': 3}\n"
     ]
    },
    {
     "name": "stderr",
     "output_type": "stream",
     "text": [
      "230it [00:37,  6.32it/s]"
     ]
    },
    {
     "name": "stdout",
     "output_type": "stream",
     "text": [
      "228 Popular fact {'Monofact': 2, 'Popular Fact': 1}\n",
      "229 Popular fact {'Popular Fact': 3}\n"
     ]
    },
    {
     "name": "stderr",
     "output_type": "stream",
     "text": [
      "232it [00:37,  6.35it/s]"
     ]
    },
    {
     "name": "stdout",
     "output_type": "stream",
     "text": [
      "230 Popular fact {'Popular Fact': 3}\n",
      "231 Popular fact {'Popular Fact': 3}\n"
     ]
    },
    {
     "name": "stderr",
     "output_type": "stream",
     "text": [
      "234it [00:37,  6.33it/s]"
     ]
    },
    {
     "name": "stdout",
     "output_type": "stream",
     "text": [
      "232 Popular fact {'Popular Fact': 3}\n",
      "233 Popular fact {'Popular Fact': 3}\n"
     ]
    },
    {
     "name": "stderr",
     "output_type": "stream",
     "text": [
      "236it [00:38,  6.35it/s]"
     ]
    },
    {
     "name": "stdout",
     "output_type": "stream",
     "text": [
      "234 Popular fact {'Popular Fact': 3}\n",
      "235 Popular fact {'Popular Fact': 3}\n"
     ]
    },
    {
     "name": "stderr",
     "output_type": "stream",
     "text": [
      "238it [00:38,  6.35it/s]"
     ]
    },
    {
     "name": "stdout",
     "output_type": "stream",
     "text": [
      "236 Popular fact {'Popular Fact': 3}\n",
      "237 Popular fact {'Popular Fact': 2, 'Monofact': 1}\n"
     ]
    },
    {
     "name": "stderr",
     "output_type": "stream",
     "text": [
      "240it [00:38,  6.34it/s]"
     ]
    },
    {
     "name": "stdout",
     "output_type": "stream",
     "text": [
      "238 Popular fact {'Popular Fact': 2, 'Monofact': 1}\n",
      "239 Popular fact {'Popular Fact': 3}\n"
     ]
    },
    {
     "name": "stderr",
     "output_type": "stream",
     "text": [
      "242it [00:39,  6.33it/s]"
     ]
    },
    {
     "name": "stdout",
     "output_type": "stream",
     "text": [
      "240 Popular fact {'Popular Fact': 3}\n",
      "241 Popular fact {'Popular Fact': 3}\n"
     ]
    },
    {
     "name": "stderr",
     "output_type": "stream",
     "text": [
      "244it [00:39,  6.33it/s]"
     ]
    },
    {
     "name": "stdout",
     "output_type": "stream",
     "text": [
      "242 Popular fact {'Popular Fact': 3}\n",
      "243 Popular fact {'Popular Fact': 3}\n"
     ]
    },
    {
     "name": "stderr",
     "output_type": "stream",
     "text": [
      "246it [00:39,  6.34it/s]"
     ]
    },
    {
     "name": "stdout",
     "output_type": "stream",
     "text": [
      "244 Popular fact {'Popular Fact': 3}\n",
      "245 Popular fact {'Popular Fact': 3}\n"
     ]
    },
    {
     "name": "stderr",
     "output_type": "stream",
     "text": [
      "248it [00:40,  6.34it/s]"
     ]
    },
    {
     "name": "stdout",
     "output_type": "stream",
     "text": [
      "246 Popular fact {'Popular Fact': 3}\n",
      "247 Popular fact {'Popular Fact': 3}\n"
     ]
    },
    {
     "name": "stderr",
     "output_type": "stream",
     "text": [
      "250it [00:40,  6.35it/s]"
     ]
    },
    {
     "name": "stdout",
     "output_type": "stream",
     "text": [
      "248 Popular fact {'Popular Fact': 3}\n",
      "249 Popular fact {'Popular Fact': 2, 'Monofact': 1}\n"
     ]
    },
    {
     "name": "stderr",
     "output_type": "stream",
     "text": [
      "252it [00:40,  6.33it/s]"
     ]
    },
    {
     "name": "stdout",
     "output_type": "stream",
     "text": [
      "250 Popular fact {'Popular Fact': 3}\n",
      "251 Popular fact {'Popular Fact': 3}\n"
     ]
    },
    {
     "name": "stderr",
     "output_type": "stream",
     "text": [
      "254it [00:41,  6.35it/s]"
     ]
    },
    {
     "name": "stdout",
     "output_type": "stream",
     "text": [
      "252 Popular fact {'Popular Fact': 3}\n",
      "253 Popular fact {'Popular Fact': 3}\n"
     ]
    },
    {
     "name": "stderr",
     "output_type": "stream",
     "text": [
      "256it [00:41,  6.35it/s]"
     ]
    },
    {
     "name": "stdout",
     "output_type": "stream",
     "text": [
      "254 Popular fact {'Popular Fact': 3}\n",
      "255 Popular fact {'Popular Fact': 1, 'Hallucination': 1, 'Monofact': 1}\n"
     ]
    },
    {
     "name": "stderr",
     "output_type": "stream",
     "text": [
      "258it [00:41,  6.34it/s]"
     ]
    },
    {
     "name": "stdout",
     "output_type": "stream",
     "text": [
      "256 Popular fact {'Popular Fact': 3}\n",
      "257 Popular fact {'Popular Fact': 2, 'Monofact': 1}\n"
     ]
    },
    {
     "name": "stderr",
     "output_type": "stream",
     "text": [
      "260it [00:42,  6.34it/s]"
     ]
    },
    {
     "name": "stdout",
     "output_type": "stream",
     "text": [
      "258 Popular fact {'Popular Fact': 3}\n",
      "259 Popular fact {'Popular Fact': 3}\n"
     ]
    },
    {
     "name": "stderr",
     "output_type": "stream",
     "text": [
      "262it [00:42,  6.36it/s]"
     ]
    },
    {
     "name": "stdout",
     "output_type": "stream",
     "text": [
      "260 Popular fact {'Popular Fact': 2, 'Monofact': 1}\n",
      "261 Popular fact {'Popular Fact': 3}\n"
     ]
    },
    {
     "name": "stderr",
     "output_type": "stream",
     "text": [
      "264it [00:42,  6.26it/s]"
     ]
    },
    {
     "name": "stdout",
     "output_type": "stream",
     "text": [
      "262 Popular fact {'Monofact': 2, 'Popular Fact': 1}\n",
      "263 Popular fact {'Popular Fact': 3}\n"
     ]
    },
    {
     "name": "stderr",
     "output_type": "stream",
     "text": [
      "266it [00:42,  6.32it/s]"
     ]
    },
    {
     "name": "stdout",
     "output_type": "stream",
     "text": [
      "264 Popular fact {'Popular Fact': 3}\n",
      "265 Popular fact {'Popular Fact': 3}\n"
     ]
    },
    {
     "name": "stderr",
     "output_type": "stream",
     "text": [
      "268it [00:43,  6.34it/s]"
     ]
    },
    {
     "name": "stdout",
     "output_type": "stream",
     "text": [
      "266 Popular fact {'Popular Fact': 3}\n",
      "267 Popular fact {'Popular Fact': 3}\n"
     ]
    },
    {
     "name": "stderr",
     "output_type": "stream",
     "text": [
      "270it [00:43,  6.28it/s]"
     ]
    },
    {
     "name": "stdout",
     "output_type": "stream",
     "text": [
      "268 Popular fact {'Monofact': 2, 'Popular Fact': 1}\n",
      "269 Popular fact {'Popular Fact': 3}\n"
     ]
    },
    {
     "name": "stderr",
     "output_type": "stream",
     "text": [
      "272it [00:43,  6.32it/s]"
     ]
    },
    {
     "name": "stdout",
     "output_type": "stream",
     "text": [
      "270 Popular fact {'Popular Fact': 3}\n",
      "271 Popular fact {'Popular Fact': 3}\n"
     ]
    },
    {
     "name": "stderr",
     "output_type": "stream",
     "text": [
      "274it [00:44,  6.34it/s]"
     ]
    },
    {
     "name": "stdout",
     "output_type": "stream",
     "text": [
      "272 Popular fact {'Popular Fact': 3}\n",
      "273 Popular fact {'Popular Fact': 3}\n"
     ]
    },
    {
     "name": "stderr",
     "output_type": "stream",
     "text": [
      "276it [00:44,  6.30it/s]"
     ]
    },
    {
     "name": "stdout",
     "output_type": "stream",
     "text": [
      "274 Popular fact {'Popular Fact': 3}\n",
      "275 Popular fact {'Popular Fact': 3}\n"
     ]
    },
    {
     "name": "stderr",
     "output_type": "stream",
     "text": [
      "278it [00:44,  6.30it/s]"
     ]
    },
    {
     "name": "stdout",
     "output_type": "stream",
     "text": [
      "276 Popular fact {'Popular Fact': 3}\n",
      "277 Popular fact {'Popular Fact': 2, 'Monofact': 1}\n"
     ]
    },
    {
     "name": "stderr",
     "output_type": "stream",
     "text": [
      "280it [00:45,  6.29it/s]"
     ]
    },
    {
     "name": "stdout",
     "output_type": "stream",
     "text": [
      "278 Popular fact {'Popular Fact': 3}\n",
      "279 Popular fact {'Popular Fact': 3}\n"
     ]
    },
    {
     "name": "stderr",
     "output_type": "stream",
     "text": [
      "282it [00:45,  6.09it/s]"
     ]
    },
    {
     "name": "stdout",
     "output_type": "stream",
     "text": [
      "280 Popular fact {'Popular Fact': 3}\n",
      "281 Popular fact {'Monofact': 2, 'Popular Fact': 1}\n"
     ]
    },
    {
     "name": "stderr",
     "output_type": "stream",
     "text": [
      "284it [00:45,  6.19it/s]"
     ]
    },
    {
     "name": "stdout",
     "output_type": "stream",
     "text": [
      "282 Popular fact {'Popular Fact': 3}\n",
      "283 Popular fact {'Popular Fact': 3}\n"
     ]
    },
    {
     "name": "stderr",
     "output_type": "stream",
     "text": [
      "286it [00:46,  6.22it/s]"
     ]
    },
    {
     "name": "stdout",
     "output_type": "stream",
     "text": [
      "284 Popular fact {'Monofact': 2, 'Popular Fact': 1}\n",
      "285 Popular fact {'Popular Fact': 3}\n"
     ]
    },
    {
     "name": "stderr",
     "output_type": "stream",
     "text": [
      "288it [00:46,  6.09it/s]"
     ]
    },
    {
     "name": "stdout",
     "output_type": "stream",
     "text": [
      "286 Popular fact {'Popular Fact': 3}\n",
      "287 Popular fact {'Popular Fact': 3}\n"
     ]
    },
    {
     "name": "stderr",
     "output_type": "stream",
     "text": [
      "290it [00:46,  6.12it/s]"
     ]
    },
    {
     "name": "stdout",
     "output_type": "stream",
     "text": [
      "288 Popular fact {'Popular Fact': 1, 'Monofact': 1, 'Hallucination': 1}\n",
      "289 Popular fact {'Popular Fact': 3}\n"
     ]
    },
    {
     "name": "stderr",
     "output_type": "stream",
     "text": [
      "292it [00:47,  6.25it/s]"
     ]
    },
    {
     "name": "stdout",
     "output_type": "stream",
     "text": [
      "290 Popular fact {'Popular Fact': 3}\n",
      "291 Popular fact {'Popular Fact': 3}\n"
     ]
    },
    {
     "name": "stderr",
     "output_type": "stream",
     "text": [
      "294it [00:47,  6.26it/s]"
     ]
    },
    {
     "name": "stdout",
     "output_type": "stream",
     "text": [
      "292 Popular fact {'Popular Fact': 3}\n",
      "293 Popular fact {'Popular Fact': 3}\n"
     ]
    },
    {
     "name": "stderr",
     "output_type": "stream",
     "text": [
      "296it [00:47,  6.32it/s]"
     ]
    },
    {
     "name": "stdout",
     "output_type": "stream",
     "text": [
      "294 Popular fact {'Popular Fact': 3}\n",
      "295 Popular fact {'Popular Fact': 3}\n"
     ]
    },
    {
     "name": "stderr",
     "output_type": "stream",
     "text": [
      "298it [00:48,  6.31it/s]"
     ]
    },
    {
     "name": "stdout",
     "output_type": "stream",
     "text": [
      "296 Popular fact {'Popular Fact': 3}\n",
      "297 Popular fact {'Popular Fact': 3}\n"
     ]
    },
    {
     "name": "stderr",
     "output_type": "stream",
     "text": [
      "300it [00:48,  6.34it/s]"
     ]
    },
    {
     "name": "stdout",
     "output_type": "stream",
     "text": [
      "298 Popular fact {'Popular Fact': 3}\n",
      "299 Popular fact {'Monofact': 2, 'Popular Fact': 1}\n"
     ]
    },
    {
     "name": "stderr",
     "output_type": "stream",
     "text": [
      "302it [00:48,  6.33it/s]"
     ]
    },
    {
     "name": "stdout",
     "output_type": "stream",
     "text": [
      "300 Popular fact {'Popular Fact': 3}\n",
      "301 Popular fact {'Popular Fact': 3}\n"
     ]
    },
    {
     "name": "stderr",
     "output_type": "stream",
     "text": [
      "304it [00:49,  6.36it/s]"
     ]
    },
    {
     "name": "stdout",
     "output_type": "stream",
     "text": [
      "302 Popular fact {'Popular Fact': 3}\n",
      "303 Popular fact {'Popular Fact': 3}\n"
     ]
    },
    {
     "name": "stderr",
     "output_type": "stream",
     "text": [
      "306it [00:49,  6.31it/s]"
     ]
    },
    {
     "name": "stdout",
     "output_type": "stream",
     "text": [
      "304 Popular fact {'Monofact': 2, 'Popular Fact': 1}\n",
      "305 Popular fact {'Popular Fact': 3}\n"
     ]
    },
    {
     "name": "stderr",
     "output_type": "stream",
     "text": [
      "308it [00:49,  6.30it/s]"
     ]
    },
    {
     "name": "stdout",
     "output_type": "stream",
     "text": [
      "306 Popular fact {'Popular Fact': 3}\n",
      "307 Popular fact {'Popular Fact': 3}\n"
     ]
    },
    {
     "name": "stderr",
     "output_type": "stream",
     "text": [
      "310it [00:49,  6.29it/s]"
     ]
    },
    {
     "name": "stdout",
     "output_type": "stream",
     "text": [
      "308 Popular fact {'Popular Fact': 3}\n",
      "309 Popular fact {'Popular Fact': 3}\n"
     ]
    },
    {
     "name": "stderr",
     "output_type": "stream",
     "text": [
      "312it [00:50,  6.23it/s]"
     ]
    },
    {
     "name": "stdout",
     "output_type": "stream",
     "text": [
      "310 Popular fact {'Popular Fact': 3}\n",
      "311 Popular fact {'Popular Fact': 3}\n"
     ]
    },
    {
     "name": "stderr",
     "output_type": "stream",
     "text": [
      "314it [00:50,  6.28it/s]"
     ]
    },
    {
     "name": "stdout",
     "output_type": "stream",
     "text": [
      "312 Popular fact {'Popular Fact': 2, 'Monofact': 1}\n",
      "313 Popular fact {'Popular Fact': 3}\n"
     ]
    },
    {
     "name": "stderr",
     "output_type": "stream",
     "text": [
      "316it [00:50,  6.30it/s]"
     ]
    },
    {
     "name": "stdout",
     "output_type": "stream",
     "text": [
      "314 Popular fact {'Popular Fact': 2, 'Monofact': 1}\n",
      "315 Popular fact {'Monofact': 2, 'Popular Fact': 1}\n"
     ]
    },
    {
     "name": "stderr",
     "output_type": "stream",
     "text": [
      "318it [00:51,  6.31it/s]"
     ]
    },
    {
     "name": "stdout",
     "output_type": "stream",
     "text": [
      "316 Popular fact {'Popular Fact': 3}\n",
      "317 Popular fact {'Monofact': 2, 'Popular Fact': 1}\n"
     ]
    },
    {
     "name": "stderr",
     "output_type": "stream",
     "text": [
      "320it [00:51,  6.30it/s]"
     ]
    },
    {
     "name": "stdout",
     "output_type": "stream",
     "text": [
      "318 Popular fact {'Popular Fact': 3}\n",
      "319 Popular fact {'Popular Fact': 3}\n"
     ]
    },
    {
     "name": "stderr",
     "output_type": "stream",
     "text": [
      "322it [00:51,  6.34it/s]"
     ]
    },
    {
     "name": "stdout",
     "output_type": "stream",
     "text": [
      "320 Popular fact {'Popular Fact': 3}\n",
      "321 Popular fact {'Popular Fact': 3}\n"
     ]
    },
    {
     "name": "stderr",
     "output_type": "stream",
     "text": [
      "324it [00:52,  6.33it/s]"
     ]
    },
    {
     "name": "stdout",
     "output_type": "stream",
     "text": [
      "322 Popular fact {'Popular Fact': 3}\n",
      "323 Popular fact {'Popular Fact': 2, 'Monofact': 1}\n"
     ]
    },
    {
     "name": "stderr",
     "output_type": "stream",
     "text": [
      "326it [00:52,  6.27it/s]"
     ]
    },
    {
     "name": "stdout",
     "output_type": "stream",
     "text": [
      "324 Popular fact {'Popular Fact': 2, 'Monofact': 1}\n",
      "325 Popular fact {'Popular Fact': 3}\n"
     ]
    },
    {
     "name": "stderr",
     "output_type": "stream",
     "text": [
      "328it [00:52,  6.26it/s]"
     ]
    },
    {
     "name": "stdout",
     "output_type": "stream",
     "text": [
      "326 Popular fact {'Popular Fact': 3}\n",
      "327 Popular fact {'Popular Fact': 2, 'Monofact': 1}\n"
     ]
    },
    {
     "name": "stderr",
     "output_type": "stream",
     "text": [
      "330it [00:53,  6.04it/s]"
     ]
    },
    {
     "name": "stdout",
     "output_type": "stream",
     "text": [
      "328 Popular fact {'Popular Fact': 3}\n",
      "329 Popular fact {'Popular Fact': 3}\n"
     ]
    },
    {
     "name": "stderr",
     "output_type": "stream",
     "text": [
      "331it [00:53,  5.87it/s]"
     ]
    },
    {
     "name": "stdout",
     "output_type": "stream",
     "text": [
      "330 Popular fact {'Popular Fact': 2, 'Monofact': 1}\n"
     ]
    },
    {
     "name": "stderr",
     "output_type": "stream",
     "text": [
      "333it [00:53,  5.34it/s]"
     ]
    },
    {
     "name": "stdout",
     "output_type": "stream",
     "text": [
      "331 Popular fact {'Popular Fact': 3}\n",
      "332 Popular fact {'Popular Fact': 3}\n"
     ]
    },
    {
     "name": "stderr",
     "output_type": "stream",
     "text": [
      "335it [00:54,  5.49it/s]"
     ]
    },
    {
     "name": "stdout",
     "output_type": "stream",
     "text": [
      "333 Popular fact {'Popular Fact': 3}\n",
      "334 Popular fact {'Popular Fact': 3}\n"
     ]
    },
    {
     "name": "stderr",
     "output_type": "stream",
     "text": [
      "337it [00:54,  5.41it/s]"
     ]
    },
    {
     "name": "stdout",
     "output_type": "stream",
     "text": [
      "335 Popular fact {'Popular Fact': 3}\n",
      "336 Popular fact {'Popular Fact': 3}\n"
     ]
    },
    {
     "name": "stderr",
     "output_type": "stream",
     "text": [
      "339it [00:54,  5.54it/s]"
     ]
    },
    {
     "name": "stdout",
     "output_type": "stream",
     "text": [
      "337 Popular fact {'Popular Fact': 3}\n",
      "338 Popular fact {'Popular Fact': 2, 'Monofact': 1}\n"
     ]
    },
    {
     "name": "stderr",
     "output_type": "stream",
     "text": [
      "341it [00:55,  5.64it/s]"
     ]
    },
    {
     "name": "stdout",
     "output_type": "stream",
     "text": [
      "339 Popular fact {'Popular Fact': 3}\n",
      "340 Popular fact {'Popular Fact': 3}\n"
     ]
    },
    {
     "name": "stderr",
     "output_type": "stream",
     "text": [
      "343it [00:55,  5.68it/s]"
     ]
    },
    {
     "name": "stdout",
     "output_type": "stream",
     "text": [
      "341 Popular fact {'Popular Fact': 3}\n",
      "342 Popular fact {'Popular Fact': 3}\n"
     ]
    },
    {
     "name": "stderr",
     "output_type": "stream",
     "text": [
      "345it [00:55,  5.88it/s]"
     ]
    },
    {
     "name": "stdout",
     "output_type": "stream",
     "text": [
      "343 Popular fact {'Popular Fact': 3}\n",
      "344 Popular fact {'Popular Fact': 2, 'Monofact': 1}\n"
     ]
    },
    {
     "name": "stderr",
     "output_type": "stream",
     "text": [
      "347it [00:56,  5.93it/s]"
     ]
    },
    {
     "name": "stdout",
     "output_type": "stream",
     "text": [
      "345 Popular fact {'Popular Fact': 3}\n",
      "346 Popular fact {'Popular Fact': 3}\n"
     ]
    },
    {
     "name": "stderr",
     "output_type": "stream",
     "text": [
      "349it [00:56,  5.95it/s]"
     ]
    },
    {
     "name": "stdout",
     "output_type": "stream",
     "text": [
      "347 Popular fact {'Popular Fact': 2, 'Monofact': 1}\n",
      "348 Popular fact {'Popular Fact': 3}\n"
     ]
    },
    {
     "name": "stderr",
     "output_type": "stream",
     "text": [
      "351it [00:56,  5.67it/s]"
     ]
    },
    {
     "name": "stdout",
     "output_type": "stream",
     "text": [
      "349 Popular fact {'Popular Fact': 3}\n",
      "350 Popular fact {'Popular Fact': 3}\n"
     ]
    },
    {
     "name": "stderr",
     "output_type": "stream",
     "text": [
      "353it [00:57,  5.46it/s]"
     ]
    },
    {
     "name": "stdout",
     "output_type": "stream",
     "text": [
      "351 Popular fact {'Popular Fact': 3}\n",
      "352 Popular fact {'Popular Fact': 3}\n"
     ]
    },
    {
     "name": "stderr",
     "output_type": "stream",
     "text": [
      "355it [00:57,  5.56it/s]"
     ]
    },
    {
     "name": "stdout",
     "output_type": "stream",
     "text": [
      "353 Popular fact {'Popular Fact': 3}\n",
      "354 Popular fact {'Popular Fact': 3}\n"
     ]
    },
    {
     "name": "stderr",
     "output_type": "stream",
     "text": [
      "357it [00:58,  5.72it/s]"
     ]
    },
    {
     "name": "stdout",
     "output_type": "stream",
     "text": [
      "355 Popular fact {'Popular Fact': 3}\n",
      "356 Popular fact {'Popular Fact': 3}\n"
     ]
    },
    {
     "name": "stderr",
     "output_type": "stream",
     "text": [
      "359it [00:58,  5.90it/s]"
     ]
    },
    {
     "name": "stdout",
     "output_type": "stream",
     "text": [
      "357 Popular fact {'Monofact': 2, 'Popular Fact': 1}\n",
      "358 Popular fact {'Popular Fact': 2, 'Monofact': 1}\n"
     ]
    },
    {
     "name": "stderr",
     "output_type": "stream",
     "text": [
      "361it [00:58,  6.06it/s]"
     ]
    },
    {
     "name": "stdout",
     "output_type": "stream",
     "text": [
      "359 Popular fact {'Popular Fact': 3}\n",
      "360 Popular fact {'Popular Fact': 3}\n"
     ]
    },
    {
     "name": "stderr",
     "output_type": "stream",
     "text": [
      "363it [00:58,  6.15it/s]"
     ]
    },
    {
     "name": "stdout",
     "output_type": "stream",
     "text": [
      "361 Popular fact {'Popular Fact': 1, 'Monofact': 1, 'Hallucination': 1}\n",
      "362 Popular fact {'Popular Fact': 3}\n"
     ]
    },
    {
     "name": "stderr",
     "output_type": "stream",
     "text": [
      "365it [00:59,  6.21it/s]"
     ]
    },
    {
     "name": "stdout",
     "output_type": "stream",
     "text": [
      "363 Popular fact {'Popular Fact': 3}\n",
      "364 Popular fact {'Popular Fact': 2, 'Monofact': 1}\n"
     ]
    },
    {
     "name": "stderr",
     "output_type": "stream",
     "text": [
      "367it [00:59,  6.25it/s]"
     ]
    },
    {
     "name": "stdout",
     "output_type": "stream",
     "text": [
      "365 Popular fact {'Popular Fact': 3}\n",
      "366 Popular fact {'Popular Fact': 3}\n"
     ]
    },
    {
     "name": "stderr",
     "output_type": "stream",
     "text": [
      "369it [00:59,  6.27it/s]"
     ]
    },
    {
     "name": "stdout",
     "output_type": "stream",
     "text": [
      "367 Popular fact {'Popular Fact': 3}\n",
      "368 Popular fact {'Popular Fact': 2, 'Monofact': 1}\n"
     ]
    },
    {
     "name": "stderr",
     "output_type": "stream",
     "text": [
      "371it [01:00,  6.24it/s]"
     ]
    },
    {
     "name": "stdout",
     "output_type": "stream",
     "text": [
      "369 Popular fact {'Popular Fact': 3}\n",
      "370 Popular fact {'Monofact': 2, 'Popular Fact': 1}\n"
     ]
    },
    {
     "name": "stderr",
     "output_type": "stream",
     "text": [
      "373it [01:00,  6.23it/s]"
     ]
    },
    {
     "name": "stdout",
     "output_type": "stream",
     "text": [
      "371 Popular fact {'Popular Fact': 3}\n",
      "372 Popular fact {'Popular Fact': 3}\n"
     ]
    },
    {
     "name": "stderr",
     "output_type": "stream",
     "text": [
      "375it [01:00,  6.21it/s]"
     ]
    },
    {
     "name": "stdout",
     "output_type": "stream",
     "text": [
      "373 Popular fact {'Popular Fact': 2, 'Monofact': 1}\n",
      "374 Popular fact {'Popular Fact': 1, 'Monofact': 1, 'Hallucination': 1}\n"
     ]
    },
    {
     "name": "stderr",
     "output_type": "stream",
     "text": [
      "377it [01:01,  6.15it/s]"
     ]
    },
    {
     "name": "stdout",
     "output_type": "stream",
     "text": [
      "375 Popular fact {'Popular Fact': 3}\n",
      "376 Popular fact {'Monofact': 2, 'Popular Fact': 1}\n"
     ]
    },
    {
     "name": "stderr",
     "output_type": "stream",
     "text": [
      "379it [01:01,  6.23it/s]"
     ]
    },
    {
     "name": "stdout",
     "output_type": "stream",
     "text": [
      "377 Popular fact {'Popular Fact': 3}\n",
      "378 Popular fact {'Popular Fact': 3}\n"
     ]
    },
    {
     "name": "stderr",
     "output_type": "stream",
     "text": [
      "381it [01:01,  6.19it/s]"
     ]
    },
    {
     "name": "stdout",
     "output_type": "stream",
     "text": [
      "379 Popular fact {'Popular Fact': 3}\n",
      "380 Popular fact {'Popular Fact': 3}\n"
     ]
    },
    {
     "name": "stderr",
     "output_type": "stream",
     "text": [
      "383it [01:02,  6.10it/s]"
     ]
    },
    {
     "name": "stdout",
     "output_type": "stream",
     "text": [
      "381 Popular fact {'Popular Fact': 3}\n",
      "382 Popular fact {'Popular Fact': 2, 'Monofact': 1}\n"
     ]
    },
    {
     "name": "stderr",
     "output_type": "stream",
     "text": [
      "385it [01:02,  6.06it/s]"
     ]
    },
    {
     "name": "stdout",
     "output_type": "stream",
     "text": [
      "383 Popular fact {'Popular Fact': 3}\n",
      "384 Popular fact {'Popular Fact': 3}\n"
     ]
    },
    {
     "name": "stderr",
     "output_type": "stream",
     "text": [
      "387it [01:02,  6.04it/s]"
     ]
    },
    {
     "name": "stdout",
     "output_type": "stream",
     "text": [
      "385 Popular fact {'Popular Fact': 2, 'Monofact': 1}\n",
      "386 Popular fact {'Popular Fact': 3}\n"
     ]
    },
    {
     "name": "stderr",
     "output_type": "stream",
     "text": [
      "389it [01:03,  6.02it/s]"
     ]
    },
    {
     "name": "stdout",
     "output_type": "stream",
     "text": [
      "387 Popular fact {'Popular Fact': 3}\n",
      "388 Popular fact {'Popular Fact': 2, 'Monofact': 1}\n"
     ]
    },
    {
     "name": "stderr",
     "output_type": "stream",
     "text": [
      "391it [01:03,  5.95it/s]"
     ]
    },
    {
     "name": "stdout",
     "output_type": "stream",
     "text": [
      "389 Popular fact {'Monofact': 2, 'Popular Fact': 1}\n",
      "390 Popular fact {'Popular Fact': 3}\n"
     ]
    },
    {
     "name": "stderr",
     "output_type": "stream",
     "text": [
      "393it [01:03,  5.98it/s]"
     ]
    },
    {
     "name": "stdout",
     "output_type": "stream",
     "text": [
      "391 Popular fact {'Popular Fact': 3}\n",
      "392 Popular fact {'Popular Fact': 3}\n"
     ]
    },
    {
     "name": "stderr",
     "output_type": "stream",
     "text": [
      "395it [01:04,  5.84it/s]"
     ]
    },
    {
     "name": "stdout",
     "output_type": "stream",
     "text": [
      "393 Popular fact {'Popular Fact': 3}\n",
      "394 Popular fact {'Popular Fact': 3}\n"
     ]
    },
    {
     "name": "stderr",
     "output_type": "stream",
     "text": [
      "397it [01:04,  5.98it/s]"
     ]
    },
    {
     "name": "stdout",
     "output_type": "stream",
     "text": [
      "395 Popular fact {'Popular Fact': 3}\n",
      "396 Popular fact {'Popular Fact': 3}\n"
     ]
    },
    {
     "name": "stderr",
     "output_type": "stream",
     "text": [
      "399it [01:04,  6.12it/s]"
     ]
    },
    {
     "name": "stdout",
     "output_type": "stream",
     "text": [
      "397 Popular fact {'Popular Fact': 3}\n",
      "398 Popular fact {'Popular Fact': 3}\n"
     ]
    },
    {
     "name": "stderr",
     "output_type": "stream",
     "text": [
      "401it [01:05,  6.15it/s]"
     ]
    },
    {
     "name": "stdout",
     "output_type": "stream",
     "text": [
      "399 Popular fact {'Popular Fact': 3}\n",
      "400 Popular fact {'Popular Fact': 3}\n"
     ]
    },
    {
     "name": "stderr",
     "output_type": "stream",
     "text": [
      "403it [01:05,  6.23it/s]"
     ]
    },
    {
     "name": "stdout",
     "output_type": "stream",
     "text": [
      "401 Popular fact {'Popular Fact': 3}\n",
      "402 Popular fact {'Popular Fact': 3}\n"
     ]
    },
    {
     "name": "stderr",
     "output_type": "stream",
     "text": [
      "405it [01:05,  6.27it/s]"
     ]
    },
    {
     "name": "stdout",
     "output_type": "stream",
     "text": [
      "403 Popular fact {'Popular Fact': 3}\n",
      "404 Popular fact {'Popular Fact': 2, 'Monofact': 1}\n"
     ]
    },
    {
     "name": "stderr",
     "output_type": "stream",
     "text": [
      "407it [01:06,  6.28it/s]"
     ]
    },
    {
     "name": "stdout",
     "output_type": "stream",
     "text": [
      "405 Popular fact {'Popular Fact': 2, 'Monofact': 1}\n",
      "406 Popular fact {'Popular Fact': 3}\n"
     ]
    },
    {
     "name": "stderr",
     "output_type": "stream",
     "text": [
      "409it [01:06,  6.28it/s]"
     ]
    },
    {
     "name": "stdout",
     "output_type": "stream",
     "text": [
      "407 Popular fact {'Popular Fact': 3}\n",
      "408 Popular fact {'Monofact': 2, 'Popular Fact': 1}\n"
     ]
    },
    {
     "name": "stderr",
     "output_type": "stream",
     "text": [
      "411it [01:06,  6.22it/s]"
     ]
    },
    {
     "name": "stdout",
     "output_type": "stream",
     "text": [
      "409 Popular fact {'Popular Fact': 3}\n",
      "410 Popular fact {'Popular Fact': 3}\n"
     ]
    },
    {
     "name": "stderr",
     "output_type": "stream",
     "text": [
      "413it [01:07,  6.04it/s]"
     ]
    },
    {
     "name": "stdout",
     "output_type": "stream",
     "text": [
      "411 Popular fact {'Popular Fact': 3}\n",
      "412 Popular fact {'Popular Fact': 3}\n"
     ]
    },
    {
     "name": "stderr",
     "output_type": "stream",
     "text": [
      "415it [01:07,  6.02it/s]"
     ]
    },
    {
     "name": "stdout",
     "output_type": "stream",
     "text": [
      "413 Popular fact {'Popular Fact': 2, 'Monofact': 1}\n",
      "414 Popular fact {'Popular Fact': 3}\n"
     ]
    },
    {
     "name": "stderr",
     "output_type": "stream",
     "text": [
      "417it [01:07,  6.04it/s]"
     ]
    },
    {
     "name": "stdout",
     "output_type": "stream",
     "text": [
      "415 Popular fact {'Popular Fact': 3}\n",
      "416 Popular fact {'Popular Fact': 2, 'Monofact': 1}\n"
     ]
    },
    {
     "name": "stderr",
     "output_type": "stream",
     "text": [
      "419it [01:08,  6.01it/s]"
     ]
    },
    {
     "name": "stdout",
     "output_type": "stream",
     "text": [
      "417 Popular fact {'Popular Fact': 3}\n",
      "418 Popular fact {'Popular Fact': 3}\n"
     ]
    },
    {
     "name": "stderr",
     "output_type": "stream",
     "text": [
      "421it [01:08,  5.94it/s]"
     ]
    },
    {
     "name": "stdout",
     "output_type": "stream",
     "text": [
      "419 Popular fact {'Popular Fact': 3}\n",
      "420 Popular fact {'Popular Fact': 2, 'Monofact': 1}\n"
     ]
    },
    {
     "name": "stderr",
     "output_type": "stream",
     "text": [
      "423it [01:08,  5.91it/s]"
     ]
    },
    {
     "name": "stdout",
     "output_type": "stream",
     "text": [
      "421 Popular fact {'Popular Fact': 3}\n",
      "422 Popular fact {'Popular Fact': 3}\n"
     ]
    },
    {
     "name": "stderr",
     "output_type": "stream",
     "text": [
      "425it [01:09,  5.94it/s]"
     ]
    },
    {
     "name": "stdout",
     "output_type": "stream",
     "text": [
      "423 Popular fact {'Popular Fact': 3}\n",
      "424 Popular fact {'Popular Fact': 3}\n"
     ]
    },
    {
     "name": "stderr",
     "output_type": "stream",
     "text": [
      "427it [01:09,  5.84it/s]"
     ]
    },
    {
     "name": "stdout",
     "output_type": "stream",
     "text": [
      "425 Popular fact {'Popular Fact': 3}\n",
      "426 Popular fact {'Popular Fact': 3}\n"
     ]
    },
    {
     "name": "stderr",
     "output_type": "stream",
     "text": [
      "429it [01:09,  6.05it/s]"
     ]
    },
    {
     "name": "stdout",
     "output_type": "stream",
     "text": [
      "427 Popular fact {'Popular Fact': 2, 'Monofact': 1}\n",
      "428 Popular fact {'Popular Fact': 3}\n"
     ]
    },
    {
     "name": "stderr",
     "output_type": "stream",
     "text": [
      "431it [01:10,  6.16it/s]"
     ]
    },
    {
     "name": "stdout",
     "output_type": "stream",
     "text": [
      "429 Popular fact {'Popular Fact': 3}\n",
      "430 Popular fact {'Popular Fact': 3}\n"
     ]
    },
    {
     "name": "stderr",
     "output_type": "stream",
     "text": [
      "433it [01:10,  6.18it/s]"
     ]
    },
    {
     "name": "stdout",
     "output_type": "stream",
     "text": [
      "431 Popular fact {'Popular Fact': 3}\n",
      "432 Popular fact {'Popular Fact': 3}\n"
     ]
    },
    {
     "name": "stderr",
     "output_type": "stream",
     "text": [
      "435it [01:10,  6.18it/s]"
     ]
    },
    {
     "name": "stdout",
     "output_type": "stream",
     "text": [
      "433 Popular fact {'Popular Fact': 3}\n",
      "434 Popular fact {'Monofact': 2, 'Popular Fact': 1}\n"
     ]
    },
    {
     "name": "stderr",
     "output_type": "stream",
     "text": [
      "437it [01:11,  6.09it/s]"
     ]
    },
    {
     "name": "stdout",
     "output_type": "stream",
     "text": [
      "435 Popular fact {'Popular Fact': 2, 'Monofact': 1}\n",
      "436 Popular fact {'Monofact': 2, 'Popular Fact': 1}\n"
     ]
    },
    {
     "name": "stderr",
     "output_type": "stream",
     "text": [
      "439it [01:11,  6.08it/s]"
     ]
    },
    {
     "name": "stdout",
     "output_type": "stream",
     "text": [
      "437 Popular fact {'Popular Fact': 3}\n",
      "438 Popular fact {'Popular Fact': 3}\n"
     ]
    },
    {
     "name": "stderr",
     "output_type": "stream",
     "text": [
      "441it [01:11,  6.17it/s]"
     ]
    },
    {
     "name": "stdout",
     "output_type": "stream",
     "text": [
      "439 Popular fact {'Popular Fact': 2, 'Monofact': 1}\n",
      "440 Popular fact {'Popular Fact': 3}\n"
     ]
    },
    {
     "name": "stderr",
     "output_type": "stream",
     "text": [
      "443it [01:12,  6.19it/s]"
     ]
    },
    {
     "name": "stdout",
     "output_type": "stream",
     "text": [
      "441 Popular fact {'Popular Fact': 3}\n",
      "442 Popular fact {'Popular Fact': 2, 'Monofact': 1}\n"
     ]
    },
    {
     "name": "stderr",
     "output_type": "stream",
     "text": [
      "445it [01:12,  6.20it/s]"
     ]
    },
    {
     "name": "stdout",
     "output_type": "stream",
     "text": [
      "443 Popular fact {'Popular Fact': 3}\n",
      "444 Popular fact {'Popular Fact': 3}\n"
     ]
    },
    {
     "name": "stderr",
     "output_type": "stream",
     "text": [
      "447it [01:12,  6.06it/s]"
     ]
    },
    {
     "name": "stdout",
     "output_type": "stream",
     "text": [
      "445 Popular fact {'Popular Fact': 3}\n",
      "446 Popular fact {'Popular Fact': 3}\n"
     ]
    },
    {
     "name": "stderr",
     "output_type": "stream",
     "text": [
      "449it [01:13,  6.11it/s]"
     ]
    },
    {
     "name": "stdout",
     "output_type": "stream",
     "text": [
      "447 Popular fact {'Popular Fact': 3}\n",
      "448 Popular fact {'Popular Fact': 3}\n"
     ]
    },
    {
     "name": "stderr",
     "output_type": "stream",
     "text": [
      "451it [01:13,  6.19it/s]"
     ]
    },
    {
     "name": "stdout",
     "output_type": "stream",
     "text": [
      "449 Monofact {'Hallucination': 2, 'Monofact': 1}\n",
      "450 Monofact {'Monofact': 3}\n"
     ]
    },
    {
     "name": "stderr",
     "output_type": "stream",
     "text": [
      "453it [01:13,  6.21it/s]"
     ]
    },
    {
     "name": "stdout",
     "output_type": "stream",
     "text": [
      "451 Monofact {'Popular Fact': 3}\n",
      "452 Monofact {'Monofact': 3}\n"
     ]
    },
    {
     "name": "stderr",
     "output_type": "stream",
     "text": [
      "454it [01:13,  6.20it/s]"
     ]
    },
    {
     "name": "stdout",
     "output_type": "stream",
     "text": [
      "453 Monofact {'Monofact': 2, 'Hallucination': 1}\n"
     ]
    },
    {
     "name": "stderr",
     "output_type": "stream",
     "text": [
      "456it [01:14,  5.19it/s]"
     ]
    },
    {
     "name": "stdout",
     "output_type": "stream",
     "text": [
      "454 Monofact {'Monofact': 2, 'Hallucination': 1}\n",
      "455 Monofact {'Monofact': 2, 'Popular Fact': 1}\n"
     ]
    },
    {
     "name": "stderr",
     "output_type": "stream",
     "text": [
      "458it [01:14,  4.71it/s]"
     ]
    },
    {
     "name": "stdout",
     "output_type": "stream",
     "text": [
      "456 Monofact {'Monofact': 2, 'Hallucination': 1}\n",
      "457 Monofact {'Monofact': 3}\n"
     ]
    },
    {
     "name": "stderr",
     "output_type": "stream",
     "text": [
      "460it [01:15,  5.15it/s]"
     ]
    },
    {
     "name": "stdout",
     "output_type": "stream",
     "text": [
      "458 Monofact {'Popular Fact': 2, 'Monofact': 1}\n",
      "459 Monofact {'Monofact': 3}\n"
     ]
    },
    {
     "name": "stderr",
     "output_type": "stream",
     "text": [
      "461it [01:15,  5.40it/s]"
     ]
    },
    {
     "name": "stdout",
     "output_type": "stream",
     "text": [
      "460 Monofact {'Monofact': 3}\n"
     ]
    },
    {
     "name": "stderr",
     "output_type": "stream",
     "text": [
      "463it [01:15,  5.43it/s]"
     ]
    },
    {
     "name": "stdout",
     "output_type": "stream",
     "text": [
      "461 Monofact {'Monofact': 3}\n",
      "462 Monofact {'Monofact': 3}\n"
     ]
    },
    {
     "name": "stderr",
     "output_type": "stream",
     "text": [
      "465it [01:16,  5.81it/s]"
     ]
    },
    {
     "name": "stdout",
     "output_type": "stream",
     "text": [
      "463 Monofact {'Monofact': 3}\n",
      "464 Monofact {'Popular Fact': 2, 'Monofact': 1}\n"
     ]
    },
    {
     "name": "stderr",
     "output_type": "stream",
     "text": [
      "467it [01:16,  6.03it/s]"
     ]
    },
    {
     "name": "stdout",
     "output_type": "stream",
     "text": [
      "465 Monofact {'Monofact': 3}\n",
      "466 Monofact {'Monofact': 3}\n"
     ]
    },
    {
     "name": "stderr",
     "output_type": "stream",
     "text": [
      "469it [01:16,  6.01it/s]"
     ]
    },
    {
     "name": "stdout",
     "output_type": "stream",
     "text": [
      "467 Monofact {'Popular Fact': 3}\n",
      "468 Monofact {'Popular Fact': 3}\n"
     ]
    },
    {
     "name": "stderr",
     "output_type": "stream",
     "text": [
      "471it [01:17,  6.10it/s]"
     ]
    },
    {
     "name": "stdout",
     "output_type": "stream",
     "text": [
      "469 Monofact {'Monofact': 3}\n",
      "470 Monofact {'Popular Fact': 2, 'Monofact': 1}\n"
     ]
    },
    {
     "name": "stderr",
     "output_type": "stream",
     "text": [
      "473it [01:17,  6.00it/s]"
     ]
    },
    {
     "name": "stdout",
     "output_type": "stream",
     "text": [
      "471 Monofact {'Hallucination': 2, 'Monofact': 1}\n",
      "472 Monofact {'Monofact': 3}\n"
     ]
    },
    {
     "name": "stderr",
     "output_type": "stream",
     "text": [
      "475it [01:17,  6.10it/s]"
     ]
    },
    {
     "name": "stdout",
     "output_type": "stream",
     "text": [
      "473 Monofact {'Monofact': 3}\n",
      "474 Monofact {'Monofact': 3}\n"
     ]
    },
    {
     "name": "stderr",
     "output_type": "stream",
     "text": [
      "477it [01:18,  6.09it/s]"
     ]
    },
    {
     "name": "stdout",
     "output_type": "stream",
     "text": [
      "475 Monofact {'Monofact': 2, 'Hallucination': 1}\n",
      "476 Monofact {'Monofact': 2, 'Popular Fact': 1}\n"
     ]
    },
    {
     "name": "stderr",
     "output_type": "stream",
     "text": [
      "479it [01:18,  5.98it/s]"
     ]
    },
    {
     "name": "stdout",
     "output_type": "stream",
     "text": [
      "477 Monofact {'Monofact': 3}\n",
      "478 Monofact {'Monofact': 3}\n"
     ]
    },
    {
     "name": "stderr",
     "output_type": "stream",
     "text": [
      "481it [01:18,  5.55it/s]"
     ]
    },
    {
     "name": "stdout",
     "output_type": "stream",
     "text": [
      "479 Monofact {'Popular Fact': 2, 'Hallucination': 1}\n",
      "480 Monofact {'Monofact': 3}\n"
     ]
    },
    {
     "name": "stderr",
     "output_type": "stream",
     "text": [
      "482it [01:18,  5.35it/s]"
     ]
    },
    {
     "name": "stdout",
     "output_type": "stream",
     "text": [
      "481 Monofact {'Popular Fact': 3}\n"
     ]
    },
    {
     "name": "stderr",
     "output_type": "stream",
     "text": [
      "484it [01:19,  5.39it/s]"
     ]
    },
    {
     "name": "stdout",
     "output_type": "stream",
     "text": [
      "482 Monofact {'Monofact': 2, 'Popular Fact': 1}\n",
      "483 Monofact {'Monofact': 2, 'Hallucination': 1}\n"
     ]
    },
    {
     "name": "stderr",
     "output_type": "stream",
     "text": [
      "485it [01:19,  5.01it/s]"
     ]
    },
    {
     "name": "stdout",
     "output_type": "stream",
     "text": [
      "484 Monofact {'Monofact': 3}\n"
     ]
    },
    {
     "name": "stderr",
     "output_type": "stream",
     "text": [
      "487it [01:19,  4.98it/s]"
     ]
    },
    {
     "name": "stdout",
     "output_type": "stream",
     "text": [
      "485 Monofact {'Monofact': 3}\n",
      "486 Monofact {'Monofact': 3}\n"
     ]
    },
    {
     "name": "stderr",
     "output_type": "stream",
     "text": [
      "489it [01:20,  5.32it/s]"
     ]
    },
    {
     "name": "stdout",
     "output_type": "stream",
     "text": [
      "487 Monofact {'Monofact': 3}\n",
      "488 Monofact {'Monofact': 3}\n"
     ]
    },
    {
     "name": "stderr",
     "output_type": "stream",
     "text": [
      "490it [01:20,  5.18it/s]"
     ]
    },
    {
     "name": "stdout",
     "output_type": "stream",
     "text": [
      "489 Monofact {'Monofact': 3}\n"
     ]
    },
    {
     "name": "stderr",
     "output_type": "stream",
     "text": [
      "492it [01:20,  5.15it/s]"
     ]
    },
    {
     "name": "stdout",
     "output_type": "stream",
     "text": [
      "490 Monofact {'Popular Fact': 3}\n",
      "491 Monofact {'Monofact': 3}\n"
     ]
    },
    {
     "name": "stderr",
     "output_type": "stream",
     "text": [
      "493it [01:21,  5.28it/s]"
     ]
    },
    {
     "name": "stdout",
     "output_type": "stream",
     "text": [
      "492 Monofact {'Monofact': 3}\n"
     ]
    },
    {
     "name": "stderr",
     "output_type": "stream",
     "text": [
      "494it [01:21,  4.38it/s]"
     ]
    },
    {
     "name": "stdout",
     "output_type": "stream",
     "text": [
      "493 Monofact {'Popular Fact': 3}\n"
     ]
    },
    {
     "name": "stderr",
     "output_type": "stream",
     "text": [
      "496it [01:21,  4.70it/s]"
     ]
    },
    {
     "name": "stdout",
     "output_type": "stream",
     "text": [
      "494 Monofact {'Monofact': 2, 'Popular Fact': 1}\n",
      "495 Monofact {'Monofact': 3}\n"
     ]
    },
    {
     "name": "stderr",
     "output_type": "stream",
     "text": [
      "498it [01:22,  5.40it/s]"
     ]
    },
    {
     "name": "stdout",
     "output_type": "stream",
     "text": [
      "496 Monofact {'Monofact': 2, 'Popular Fact': 1}\n",
      "497 Monofact {'Monofact': 2, 'Hallucination': 1}\n"
     ]
    },
    {
     "name": "stderr",
     "output_type": "stream",
     "text": [
      "500it [01:22,  5.62it/s]"
     ]
    },
    {
     "name": "stdout",
     "output_type": "stream",
     "text": [
      "498 Monofact {'Popular Fact': 2, 'Monofact': 1}\n",
      "499 Monofact {'Monofact': 3}\n"
     ]
    },
    {
     "name": "stderr",
     "output_type": "stream",
     "text": [
      "502it [01:22,  5.75it/s]"
     ]
    },
    {
     "name": "stdout",
     "output_type": "stream",
     "text": [
      "500 Monofact {'Monofact': 3}\n",
      "501 Monofact {'Popular Fact': 2, 'Monofact': 1}\n"
     ]
    },
    {
     "name": "stderr",
     "output_type": "stream",
     "text": [
      "504it [01:23,  5.91it/s]"
     ]
    },
    {
     "name": "stdout",
     "output_type": "stream",
     "text": [
      "502 Monofact {'Monofact': 3}\n",
      "503 Monofact {'Popular Fact': 2, 'Monofact': 1}\n"
     ]
    },
    {
     "name": "stderr",
     "output_type": "stream",
     "text": [
      "506it [01:23,  6.02it/s]"
     ]
    },
    {
     "name": "stdout",
     "output_type": "stream",
     "text": [
      "504 Monofact {'Popular Fact': 2, 'Monofact': 1}\n",
      "505 Monofact {'Monofact': 2, 'Popular Fact': 1}\n"
     ]
    },
    {
     "name": "stderr",
     "output_type": "stream",
     "text": [
      "508it [01:23,  5.59it/s]"
     ]
    },
    {
     "name": "stdout",
     "output_type": "stream",
     "text": [
      "506 Monofact {'Popular Fact': 3}\n",
      "507 Monofact {'Monofact': 1, 'Hallucination': 1, 'Popular Fact': 1}\n"
     ]
    },
    {
     "name": "stderr",
     "output_type": "stream",
     "text": [
      "510it [01:24,  5.76it/s]"
     ]
    },
    {
     "name": "stdout",
     "output_type": "stream",
     "text": [
      "508 Monofact {'Monofact': 3}\n",
      "509 Monofact {'Monofact': 3}\n"
     ]
    },
    {
     "name": "stderr",
     "output_type": "stream",
     "text": [
      "512it [01:24,  5.87it/s]"
     ]
    },
    {
     "name": "stdout",
     "output_type": "stream",
     "text": [
      "510 Monofact {'Monofact': 3}\n",
      "511 Monofact {'Popular Fact': 2, 'Monofact': 1}\n"
     ]
    },
    {
     "name": "stderr",
     "output_type": "stream",
     "text": [
      "514it [01:24,  5.94it/s]"
     ]
    },
    {
     "name": "stdout",
     "output_type": "stream",
     "text": [
      "512 Monofact {'Monofact': 2, 'Hallucination': 1}\n",
      "513 Monofact {'Monofact': 3}\n"
     ]
    },
    {
     "name": "stderr",
     "output_type": "stream",
     "text": [
      "516it [01:25,  6.05it/s]"
     ]
    },
    {
     "name": "stdout",
     "output_type": "stream",
     "text": [
      "514 Monofact {'Popular Fact': 2, 'Monofact': 1}\n",
      "515 Monofact {'Monofact': 3}\n"
     ]
    },
    {
     "name": "stderr",
     "output_type": "stream",
     "text": [
      "518it [01:25,  5.86it/s]"
     ]
    },
    {
     "name": "stdout",
     "output_type": "stream",
     "text": [
      "516 Monofact {'Monofact': 3}\n",
      "517 Monofact {'Popular Fact': 2, 'Monofact': 1}\n"
     ]
    },
    {
     "name": "stderr",
     "output_type": "stream",
     "text": [
      "520it [01:25,  6.10it/s]"
     ]
    },
    {
     "name": "stdout",
     "output_type": "stream",
     "text": [
      "518 Monofact {'Monofact': 2, 'Popular Fact': 1}\n",
      "519 Monofact {'Monofact': 3}\n"
     ]
    },
    {
     "name": "stderr",
     "output_type": "stream",
     "text": [
      "522it [01:26,  6.13it/s]"
     ]
    },
    {
     "name": "stdout",
     "output_type": "stream",
     "text": [
      "520 Monofact {'Popular Fact': 2, 'Monofact': 1}\n",
      "521 Monofact {'Popular Fact': 2, 'Monofact': 1}\n"
     ]
    },
    {
     "name": "stderr",
     "output_type": "stream",
     "text": [
      "524it [01:26,  6.12it/s]"
     ]
    },
    {
     "name": "stdout",
     "output_type": "stream",
     "text": [
      "522 Monofact {'Monofact': 3}\n",
      "523 Monofact {'Monofact': 3}\n"
     ]
    },
    {
     "name": "stderr",
     "output_type": "stream",
     "text": [
      "526it [01:26,  6.18it/s]"
     ]
    },
    {
     "name": "stdout",
     "output_type": "stream",
     "text": [
      "524 Monofact {'Monofact': 2, 'Popular Fact': 1}\n",
      "525 Monofact {'Popular Fact': 2, 'Hallucination': 1}\n"
     ]
    },
    {
     "name": "stderr",
     "output_type": "stream",
     "text": [
      "528it [01:27,  6.19it/s]"
     ]
    },
    {
     "name": "stdout",
     "output_type": "stream",
     "text": [
      "526 Monofact {'Monofact': 3}\n",
      "527 Monofact {'Monofact': 3}\n"
     ]
    },
    {
     "name": "stderr",
     "output_type": "stream",
     "text": [
      "530it [01:27,  6.23it/s]"
     ]
    },
    {
     "name": "stdout",
     "output_type": "stream",
     "text": [
      "528 Monofact {'Popular Fact': 2, 'Monofact': 1}\n",
      "529 Monofact {'Monofact': 3}\n"
     ]
    },
    {
     "name": "stderr",
     "output_type": "stream",
     "text": [
      "532it [01:27,  6.19it/s]"
     ]
    },
    {
     "name": "stdout",
     "output_type": "stream",
     "text": [
      "530 Monofact {'Popular Fact': 3}\n",
      "531 Monofact {'Hallucination': 1, 'Monofact': 1, 'Popular Fact': 1}\n"
     ]
    },
    {
     "name": "stderr",
     "output_type": "stream",
     "text": [
      "534it [01:28,  6.10it/s]"
     ]
    },
    {
     "name": "stdout",
     "output_type": "stream",
     "text": [
      "532 Monofact {'Monofact': 3}\n",
      "533 Monofact {'Monofact': 3}\n"
     ]
    },
    {
     "name": "stderr",
     "output_type": "stream",
     "text": [
      "536it [01:28,  5.80it/s]"
     ]
    },
    {
     "name": "stdout",
     "output_type": "stream",
     "text": [
      "534 Monofact {'Hallucination': 2, 'Monofact': 1}\n",
      "535 Monofact {'Monofact': 3}\n"
     ]
    },
    {
     "name": "stderr",
     "output_type": "stream",
     "text": [
      "538it [01:28,  5.75it/s]"
     ]
    },
    {
     "name": "stdout",
     "output_type": "stream",
     "text": [
      "536 Monofact {'Monofact': 3}\n",
      "537 Monofact {'Popular Fact': 2, 'Monofact': 1}\n"
     ]
    },
    {
     "name": "stderr",
     "output_type": "stream",
     "text": [
      "540it [01:29,  5.72it/s]"
     ]
    },
    {
     "name": "stdout",
     "output_type": "stream",
     "text": [
      "538 Monofact {'Monofact': 2, 'Hallucination': 1}\n",
      "539 Monofact {'Hallucination': 2, 'Monofact': 1}\n"
     ]
    },
    {
     "name": "stderr",
     "output_type": "stream",
     "text": [
      "542it [01:29,  5.73it/s]"
     ]
    },
    {
     "name": "stdout",
     "output_type": "stream",
     "text": [
      "540 Monofact {'Popular Fact': 2, 'Monofact': 1}\n",
      "541 Monofact {'Monofact': 3}\n"
     ]
    },
    {
     "name": "stderr",
     "output_type": "stream",
     "text": [
      "544it [01:29,  5.82it/s]"
     ]
    },
    {
     "name": "stdout",
     "output_type": "stream",
     "text": [
      "542 Monofact {'Monofact': 3}\n",
      "543 Monofact {'Monofact': 2, 'Popular Fact': 1}\n"
     ]
    },
    {
     "name": "stderr",
     "output_type": "stream",
     "text": [
      "546it [01:30,  5.70it/s]"
     ]
    },
    {
     "name": "stdout",
     "output_type": "stream",
     "text": [
      "544 Monofact {'Monofact': 3}\n",
      "545 Monofact {'Popular Fact': 2, 'Monofact': 1}\n"
     ]
    },
    {
     "name": "stderr",
     "output_type": "stream",
     "text": [
      "548it [01:30,  5.55it/s]"
     ]
    },
    {
     "name": "stdout",
     "output_type": "stream",
     "text": [
      "546 Monofact {'Monofact': 3}\n",
      "547 Monofact {'Monofact': 2, 'Popular Fact': 1}\n"
     ]
    },
    {
     "name": "stderr",
     "output_type": "stream",
     "text": [
      "550it [01:30,  5.76it/s]"
     ]
    },
    {
     "name": "stdout",
     "output_type": "stream",
     "text": [
      "548 Monofact {'Hallucination': 2, 'Monofact': 1}\n",
      "549 Monofact {'Monofact': 3}\n"
     ]
    },
    {
     "name": "stderr",
     "output_type": "stream",
     "text": [
      "552it [01:31,  5.85it/s]"
     ]
    },
    {
     "name": "stdout",
     "output_type": "stream",
     "text": [
      "550 Monofact {'Monofact': 3}\n",
      "551 Monofact {'Monofact': 3}\n"
     ]
    },
    {
     "name": "stderr",
     "output_type": "stream",
     "text": [
      "553it [01:31,  5.82it/s]"
     ]
    },
    {
     "name": "stdout",
     "output_type": "stream",
     "text": [
      "552 Monofact {'Monofact': 2, 'Hallucination': 1}\n"
     ]
    },
    {
     "name": "stderr",
     "output_type": "stream",
     "text": [
      "555it [01:31,  5.60it/s]"
     ]
    },
    {
     "name": "stdout",
     "output_type": "stream",
     "text": [
      "553 Monofact {'Popular Fact': 2, 'Monofact': 1}\n",
      "554 Monofact {'Popular Fact': 2, 'Monofact': 1}\n"
     ]
    },
    {
     "name": "stderr",
     "output_type": "stream",
     "text": [
      "557it [01:32,  5.85it/s]"
     ]
    },
    {
     "name": "stdout",
     "output_type": "stream",
     "text": [
      "555 Monofact {'Popular Fact': 3}\n",
      "556 Monofact {'Monofact': 3}\n"
     ]
    },
    {
     "name": "stderr",
     "output_type": "stream",
     "text": [
      "559it [01:32,  6.00it/s]"
     ]
    },
    {
     "name": "stdout",
     "output_type": "stream",
     "text": [
      "557 Monofact {'Monofact': 3}\n",
      "558 Monofact {'Popular Fact': 3}\n"
     ]
    },
    {
     "name": "stderr",
     "output_type": "stream",
     "text": [
      "561it [01:32,  6.03it/s]"
     ]
    },
    {
     "name": "stdout",
     "output_type": "stream",
     "text": [
      "559 Monofact {'Monofact': 2, 'Hallucination': 1}\n",
      "560 Monofact {'Popular Fact': 2, 'Monofact': 1}\n"
     ]
    },
    {
     "name": "stderr",
     "output_type": "stream",
     "text": [
      "563it [01:33,  6.08it/s]"
     ]
    },
    {
     "name": "stdout",
     "output_type": "stream",
     "text": [
      "561 Monofact {'Popular Fact': 2, 'Monofact': 1}\n",
      "562 Monofact {'Monofact': 2, 'Popular Fact': 1}\n"
     ]
    },
    {
     "name": "stderr",
     "output_type": "stream",
     "text": [
      "565it [01:33,  5.89it/s]"
     ]
    },
    {
     "name": "stdout",
     "output_type": "stream",
     "text": [
      "563 Monofact {'Monofact': 3}\n",
      "564 Monofact {'Monofact': 3}\n"
     ]
    },
    {
     "name": "stderr",
     "output_type": "stream",
     "text": [
      "567it [01:33,  5.70it/s]"
     ]
    },
    {
     "name": "stdout",
     "output_type": "stream",
     "text": [
      "565 Monofact {'Popular Fact': 2, 'Monofact': 1}\n",
      "566 Monofact {'Popular Fact': 3}\n"
     ]
    },
    {
     "name": "stderr",
     "output_type": "stream",
     "text": [
      "569it [01:34,  5.78it/s]"
     ]
    },
    {
     "name": "stdout",
     "output_type": "stream",
     "text": [
      "567 Monofact {'Monofact': 3}\n",
      "568 Monofact {'Popular Fact': 2, 'Hallucination': 1}\n"
     ]
    },
    {
     "name": "stderr",
     "output_type": "stream",
     "text": [
      "571it [01:34,  5.69it/s]"
     ]
    },
    {
     "name": "stdout",
     "output_type": "stream",
     "text": [
      "569 Monofact {'Monofact': 3}\n",
      "570 Monofact {'Monofact': 3}\n"
     ]
    },
    {
     "name": "stderr",
     "output_type": "stream",
     "text": [
      "573it [01:34,  5.44it/s]"
     ]
    },
    {
     "name": "stdout",
     "output_type": "stream",
     "text": [
      "571 Monofact {'Popular Fact': 3}\n",
      "572 Monofact {'Monofact': 2, 'Popular Fact': 1}\n"
     ]
    },
    {
     "name": "stderr",
     "output_type": "stream",
     "text": [
      "575it [01:35,  5.24it/s]"
     ]
    },
    {
     "name": "stdout",
     "output_type": "stream",
     "text": [
      "573 Monofact {'Monofact': 2, 'Hallucination': 1}\n",
      "574 Monofact {'Monofact': 3}\n"
     ]
    },
    {
     "name": "stderr",
     "output_type": "stream",
     "text": [
      "577it [01:35,  5.31it/s]"
     ]
    },
    {
     "name": "stdout",
     "output_type": "stream",
     "text": [
      "575 Monofact {'Monofact': 3}\n",
      "576 Monofact {'Monofact': 3}\n"
     ]
    },
    {
     "name": "stderr",
     "output_type": "stream",
     "text": [
      "579it [01:36,  5.31it/s]"
     ]
    },
    {
     "name": "stdout",
     "output_type": "stream",
     "text": [
      "577 Monofact {'Popular Fact': 2, 'Monofact': 1}\n",
      "578 Monofact {'Monofact': 3}\n"
     ]
    },
    {
     "name": "stderr",
     "output_type": "stream",
     "text": [
      "581it [01:36,  5.74it/s]"
     ]
    },
    {
     "name": "stdout",
     "output_type": "stream",
     "text": [
      "579 Monofact {'Monofact': 2, 'Popular Fact': 1}\n",
      "580 Monofact {'Monofact': 2, 'Popular Fact': 1}\n"
     ]
    },
    {
     "name": "stderr",
     "output_type": "stream",
     "text": [
      "583it [01:36,  5.46it/s]"
     ]
    },
    {
     "name": "stdout",
     "output_type": "stream",
     "text": [
      "581 Monofact {'Popular Fact': 2, 'Monofact': 1}\n",
      "582 Monofact {'Popular Fact': 2, 'Monofact': 1}\n"
     ]
    },
    {
     "name": "stderr",
     "output_type": "stream",
     "text": [
      "585it [01:37,  5.76it/s]"
     ]
    },
    {
     "name": "stdout",
     "output_type": "stream",
     "text": [
      "583 Monofact {'Monofact': 2, 'Popular Fact': 1}\n",
      "584 Monofact {'Monofact': 2, 'Hallucination': 1}\n"
     ]
    },
    {
     "name": "stderr",
     "output_type": "stream",
     "text": [
      "587it [01:37,  5.70it/s]"
     ]
    },
    {
     "name": "stdout",
     "output_type": "stream",
     "text": [
      "585 Monofact {'Monofact': 3}\n",
      "586 Monofact {'Monofact': 2, 'Hallucination': 1}\n"
     ]
    },
    {
     "name": "stderr",
     "output_type": "stream",
     "text": [
      "589it [01:37,  5.76it/s]"
     ]
    },
    {
     "name": "stdout",
     "output_type": "stream",
     "text": [
      "587 Monofact {'Popular Fact': 3}\n",
      "588 Monofact {'Monofact': 3}\n"
     ]
    },
    {
     "name": "stderr",
     "output_type": "stream",
     "text": [
      "591it [01:38,  5.81it/s]"
     ]
    },
    {
     "name": "stdout",
     "output_type": "stream",
     "text": [
      "589 Monofact {'Popular Fact': 2, 'Monofact': 1}\n",
      "590 Monofact {'Monofact': 3}\n"
     ]
    },
    {
     "name": "stderr",
     "output_type": "stream",
     "text": [
      "593it [01:38,  5.73it/s]"
     ]
    },
    {
     "name": "stdout",
     "output_type": "stream",
     "text": [
      "591 Monofact {'Monofact': 3}\n",
      "592 Monofact {'Monofact': 2, 'Popular Fact': 1}\n"
     ]
    },
    {
     "name": "stderr",
     "output_type": "stream",
     "text": [
      "595it [01:38,  5.79it/s]"
     ]
    },
    {
     "name": "stdout",
     "output_type": "stream",
     "text": [
      "593 Monofact {'Monofact': 2, 'Popular Fact': 1}\n",
      "594 Monofact {'Monofact': 2, 'Popular Fact': 1}\n"
     ]
    },
    {
     "name": "stderr",
     "output_type": "stream",
     "text": [
      "597it [01:39,  5.94it/s]"
     ]
    },
    {
     "name": "stdout",
     "output_type": "stream",
     "text": [
      "595 Monofact {'Popular Fact': 2, 'Hallucination': 1}\n",
      "596 Monofact {'Monofact': 2, 'Popular Fact': 1}\n"
     ]
    },
    {
     "name": "stderr",
     "output_type": "stream",
     "text": [
      "599it [01:39,  5.98it/s]"
     ]
    },
    {
     "name": "stdout",
     "output_type": "stream",
     "text": [
      "597 Monofact {'Popular Fact': 2, 'Monofact': 1}\n",
      "598 Monofact {'Monofact': 3}\n"
     ]
    },
    {
     "name": "stderr",
     "output_type": "stream",
     "text": [
      "601it [01:39,  5.60it/s]"
     ]
    },
    {
     "name": "stdout",
     "output_type": "stream",
     "text": [
      "599 Monofact {'Monofact': 3}\n",
      "600 Monofact {'Monofact': 3}\n"
     ]
    },
    {
     "name": "stderr",
     "output_type": "stream",
     "text": [
      "603it [01:40,  5.66it/s]"
     ]
    },
    {
     "name": "stdout",
     "output_type": "stream",
     "text": [
      "601 Monofact {'Monofact': 2, 'Hallucination': 1}\n",
      "602 Monofact {'Popular Fact': 2, 'Monofact': 1}\n"
     ]
    },
    {
     "name": "stderr",
     "output_type": "stream",
     "text": [
      "605it [01:40,  5.80it/s]"
     ]
    },
    {
     "name": "stdout",
     "output_type": "stream",
     "text": [
      "603 Monofact {'Monofact': 3}\n",
      "604 Monofact {'Monofact': 3}\n"
     ]
    },
    {
     "name": "stderr",
     "output_type": "stream",
     "text": [
      "607it [01:40,  5.83it/s]"
     ]
    },
    {
     "name": "stdout",
     "output_type": "stream",
     "text": [
      "605 Monofact {'Popular Fact': 2, 'Monofact': 1}\n",
      "606 Monofact {'Popular Fact': 2, 'Monofact': 1}\n"
     ]
    },
    {
     "name": "stderr",
     "output_type": "stream",
     "text": [
      "609it [01:41,  5.88it/s]"
     ]
    },
    {
     "name": "stdout",
     "output_type": "stream",
     "text": [
      "607 Monofact {'Monofact': 3}\n",
      "608 Monofact {'Popular Fact': 2, 'Monofact': 1}\n"
     ]
    },
    {
     "name": "stderr",
     "output_type": "stream",
     "text": [
      "611it [01:41,  5.93it/s]"
     ]
    },
    {
     "name": "stdout",
     "output_type": "stream",
     "text": [
      "609 Monofact {'Monofact': 2, 'Hallucination': 1}\n",
      "610 Monofact {'Monofact': 2, 'Popular Fact': 1}\n"
     ]
    },
    {
     "name": "stderr",
     "output_type": "stream",
     "text": [
      "613it [01:41,  6.05it/s]"
     ]
    },
    {
     "name": "stdout",
     "output_type": "stream",
     "text": [
      "611 Monofact {'Monofact': 3}\n",
      "612 Monofact {'Monofact': 3}\n"
     ]
    },
    {
     "name": "stderr",
     "output_type": "stream",
     "text": [
      "615it [01:42,  5.90it/s]"
     ]
    },
    {
     "name": "stdout",
     "output_type": "stream",
     "text": [
      "613 Monofact {'Monofact': 3}\n",
      "614 Monofact {'Popular Fact': 3}\n"
     ]
    },
    {
     "name": "stderr",
     "output_type": "stream",
     "text": [
      "617it [01:42,  5.99it/s]"
     ]
    },
    {
     "name": "stdout",
     "output_type": "stream",
     "text": [
      "615 Monofact {'Monofact': 2, 'Hallucination': 1}\n",
      "616 Monofact {'Monofact': 3}\n"
     ]
    },
    {
     "name": "stderr",
     "output_type": "stream",
     "text": [
      "619it [01:42,  5.94it/s]"
     ]
    },
    {
     "name": "stdout",
     "output_type": "stream",
     "text": [
      "617 Monofact {'Popular Fact': 2, 'Monofact': 1}\n",
      "618 Monofact {'Popular Fact': 2, 'Monofact': 1}\n"
     ]
    },
    {
     "name": "stderr",
     "output_type": "stream",
     "text": [
      "621it [01:43,  6.14it/s]"
     ]
    },
    {
     "name": "stdout",
     "output_type": "stream",
     "text": [
      "619 Monofact {'Monofact': 3}\n",
      "620 Monofact {'Monofact': 3}\n"
     ]
    },
    {
     "name": "stderr",
     "output_type": "stream",
     "text": [
      "623it [01:43,  6.15it/s]"
     ]
    },
    {
     "name": "stdout",
     "output_type": "stream",
     "text": [
      "621 Monofact {'Monofact': 2, 'Popular Fact': 1}\n",
      "622 Monofact {'Monofact': 2, 'Popular Fact': 1}\n"
     ]
    },
    {
     "name": "stderr",
     "output_type": "stream",
     "text": [
      "625it [01:43,  6.15it/s]"
     ]
    },
    {
     "name": "stdout",
     "output_type": "stream",
     "text": [
      "623 Monofact {'Popular Fact': 3}\n",
      "624 Monofact {'Monofact': 3}\n"
     ]
    },
    {
     "name": "stderr",
     "output_type": "stream",
     "text": [
      "627it [01:44,  6.00it/s]"
     ]
    },
    {
     "name": "stdout",
     "output_type": "stream",
     "text": [
      "625 Monofact {'Monofact': 3}\n",
      "626 Monofact {'Popular Fact': 2, 'Monofact': 1}\n"
     ]
    },
    {
     "name": "stderr",
     "output_type": "stream",
     "text": [
      "629it [01:44,  6.02it/s]"
     ]
    },
    {
     "name": "stdout",
     "output_type": "stream",
     "text": [
      "627 Monofact {'Popular Fact': 3}\n",
      "628 Monofact {'Monofact': 3}\n"
     ]
    },
    {
     "name": "stderr",
     "output_type": "stream",
     "text": [
      "631it [01:44,  5.80it/s]"
     ]
    },
    {
     "name": "stdout",
     "output_type": "stream",
     "text": [
      "629 Monofact {'Monofact': 3}\n",
      "630 Monofact {'Monofact': 2, 'Popular Fact': 1}\n"
     ]
    },
    {
     "name": "stderr",
     "output_type": "stream",
     "text": [
      "633it [01:45,  5.75it/s]"
     ]
    },
    {
     "name": "stdout",
     "output_type": "stream",
     "text": [
      "631 Monofact {'Popular Fact': 3}\n",
      "632 Monofact {'Popular Fact': 2, 'Monofact': 1}\n"
     ]
    },
    {
     "name": "stderr",
     "output_type": "stream",
     "text": [
      "635it [01:45,  5.59it/s]"
     ]
    },
    {
     "name": "stdout",
     "output_type": "stream",
     "text": [
      "633 Monofact {'Monofact': 2, 'Hallucination': 1}\n",
      "634 Monofact {'Monofact': 2, 'Hallucination': 1}\n"
     ]
    },
    {
     "name": "stderr",
     "output_type": "stream",
     "text": [
      "637it [01:46,  5.74it/s]"
     ]
    },
    {
     "name": "stdout",
     "output_type": "stream",
     "text": [
      "635 Monofact {'Monofact': 3}\n",
      "636 Monofact {'Popular Fact': 3}\n"
     ]
    },
    {
     "name": "stderr",
     "output_type": "stream",
     "text": [
      "639it [01:46,  5.97it/s]"
     ]
    },
    {
     "name": "stdout",
     "output_type": "stream",
     "text": [
      "637 Monofact {'Popular Fact': 3}\n",
      "638 Monofact {'Popular Fact': 2, 'Monofact': 1}\n"
     ]
    },
    {
     "name": "stderr",
     "output_type": "stream",
     "text": [
      "641it [01:46,  5.78it/s]"
     ]
    },
    {
     "name": "stdout",
     "output_type": "stream",
     "text": [
      "639 Monofact {'Hallucination': 3}\n",
      "640 Monofact {'Popular Fact': 2, 'Monofact': 1}\n"
     ]
    },
    {
     "name": "stderr",
     "output_type": "stream",
     "text": [
      "643it [01:47,  6.00it/s]"
     ]
    },
    {
     "name": "stdout",
     "output_type": "stream",
     "text": [
      "641 Monofact {'Monofact': 2, 'Popular Fact': 1}\n",
      "642 Monofact {'Monofact': 3}\n"
     ]
    },
    {
     "name": "stderr",
     "output_type": "stream",
     "text": [
      "645it [01:47,  6.05it/s]"
     ]
    },
    {
     "name": "stdout",
     "output_type": "stream",
     "text": [
      "643 Monofact {'Popular Fact': 3}\n",
      "644 Monofact {'Popular Fact': 2, 'Monofact': 1}\n"
     ]
    },
    {
     "name": "stderr",
     "output_type": "stream",
     "text": [
      "647it [01:47,  6.19it/s]"
     ]
    },
    {
     "name": "stdout",
     "output_type": "stream",
     "text": [
      "645 Monofact {'Monofact': 3}\n",
      "646 Monofact {'Popular Fact': 2, 'Monofact': 1}\n"
     ]
    },
    {
     "name": "stderr",
     "output_type": "stream",
     "text": [
      "649it [01:47,  6.25it/s]"
     ]
    },
    {
     "name": "stdout",
     "output_type": "stream",
     "text": [
      "647 Monofact {'Monofact': 3}\n",
      "648 Monofact {'Monofact': 3}\n"
     ]
    },
    {
     "name": "stderr",
     "output_type": "stream",
     "text": [
      "651it [01:48,  6.29it/s]"
     ]
    },
    {
     "name": "stdout",
     "output_type": "stream",
     "text": [
      "649 Monofact {'Monofact': 3}\n",
      "650 Monofact {'Monofact': 3}\n"
     ]
    },
    {
     "name": "stderr",
     "output_type": "stream",
     "text": [
      "653it [01:48,  6.28it/s]"
     ]
    },
    {
     "name": "stdout",
     "output_type": "stream",
     "text": [
      "651 Monofact {'Monofact': 2, 'Popular Fact': 1}\n",
      "652 Monofact {'Popular Fact': 2, 'Monofact': 1}\n"
     ]
    },
    {
     "name": "stderr",
     "output_type": "stream",
     "text": [
      "655it [01:48,  6.26it/s]"
     ]
    },
    {
     "name": "stdout",
     "output_type": "stream",
     "text": [
      "653 Monofact {'Monofact': 3}\n",
      "654 Monofact {'Popular Fact': 2, 'Monofact': 1}\n"
     ]
    },
    {
     "name": "stderr",
     "output_type": "stream",
     "text": [
      "657it [01:49,  6.32it/s]"
     ]
    },
    {
     "name": "stdout",
     "output_type": "stream",
     "text": [
      "655 Monofact {'Monofact': 2, 'Popular Fact': 1}\n",
      "656 Monofact {'Popular Fact': 3}\n"
     ]
    },
    {
     "name": "stderr",
     "output_type": "stream",
     "text": [
      "659it [01:49,  6.30it/s]"
     ]
    },
    {
     "name": "stdout",
     "output_type": "stream",
     "text": [
      "657 Monofact {'Monofact': 3}\n",
      "658 Monofact {'Monofact': 3}\n"
     ]
    },
    {
     "name": "stderr",
     "output_type": "stream",
     "text": [
      "661it [01:49,  6.21it/s]"
     ]
    },
    {
     "name": "stdout",
     "output_type": "stream",
     "text": [
      "659 Monofact {'Popular Fact': 3}\n",
      "660 Monofact {'Monofact': 2, 'Hallucination': 1}\n"
     ]
    },
    {
     "name": "stderr",
     "output_type": "stream",
     "text": [
      "663it [01:50,  6.24it/s]"
     ]
    },
    {
     "name": "stdout",
     "output_type": "stream",
     "text": [
      "661 Monofact {'Popular Fact': 3}\n",
      "662 Monofact {'Monofact': 3}\n"
     ]
    },
    {
     "name": "stderr",
     "output_type": "stream",
     "text": [
      "665it [01:50,  6.25it/s]"
     ]
    },
    {
     "name": "stdout",
     "output_type": "stream",
     "text": [
      "663 Monofact {'Popular Fact': 2, 'Monofact': 1}\n",
      "664 Monofact {'Monofact': 3}\n"
     ]
    },
    {
     "name": "stderr",
     "output_type": "stream",
     "text": [
      "667it [01:50,  5.88it/s]"
     ]
    },
    {
     "name": "stdout",
     "output_type": "stream",
     "text": [
      "665 Monofact {'Monofact': 2, 'Popular Fact': 1}\n",
      "666 Monofact {'Popular Fact': 2, 'Monofact': 1}\n"
     ]
    },
    {
     "name": "stderr",
     "output_type": "stream",
     "text": [
      "668it [01:51,  5.90it/s]"
     ]
    },
    {
     "name": "stdout",
     "output_type": "stream",
     "text": [
      "667 Monofact {'Popular Fact': 3}\n"
     ]
    },
    {
     "name": "stderr",
     "output_type": "stream",
     "text": [
      "670it [01:51,  4.91it/s]"
     ]
    },
    {
     "name": "stdout",
     "output_type": "stream",
     "text": [
      "668 Monofact {'Monofact': 3}\n",
      "669 Monofact {'Popular Fact': 2, 'Monofact': 1}\n"
     ]
    },
    {
     "name": "stderr",
     "output_type": "stream",
     "text": [
      "672it [01:51,  5.42it/s]"
     ]
    },
    {
     "name": "stdout",
     "output_type": "stream",
     "text": [
      "670 Monofact {'Monofact': 2, 'Popular Fact': 1}\n",
      "671 Monofact {'Monofact': 3}\n"
     ]
    },
    {
     "name": "stderr",
     "output_type": "stream",
     "text": [
      "674it [01:52,  5.71it/s]"
     ]
    },
    {
     "name": "stdout",
     "output_type": "stream",
     "text": [
      "672 Monofact {'Monofact': 3}\n",
      "673 Monofact {'Monofact': 1, 'Hallucination': 1, 'Popular Fact': 1}\n"
     ]
    },
    {
     "name": "stderr",
     "output_type": "stream",
     "text": [
      "676it [01:52,  5.57it/s]"
     ]
    },
    {
     "name": "stdout",
     "output_type": "stream",
     "text": [
      "674 Monofact {'Monofact': 2, 'Hallucination': 1}\n",
      "675 Monofact {'Monofact': 3}\n"
     ]
    },
    {
     "name": "stderr",
     "output_type": "stream",
     "text": [
      "678it [01:52,  5.88it/s]"
     ]
    },
    {
     "name": "stdout",
     "output_type": "stream",
     "text": [
      "676 Monofact {'Monofact': 3}\n",
      "677 Monofact {'Monofact': 3}\n"
     ]
    },
    {
     "name": "stderr",
     "output_type": "stream",
     "text": [
      "680it [01:53,  5.77it/s]"
     ]
    },
    {
     "name": "stdout",
     "output_type": "stream",
     "text": [
      "678 Monofact {'Monofact': 3}\n",
      "679 Monofact {'Monofact': 2, 'Hallucination': 1}\n"
     ]
    },
    {
     "name": "stderr",
     "output_type": "stream",
     "text": [
      "682it [01:53,  5.85it/s]"
     ]
    },
    {
     "name": "stdout",
     "output_type": "stream",
     "text": [
      "680 Monofact {'Monofact': 2, 'Popular Fact': 1}\n",
      "681 Monofact {'Monofact': 3}\n"
     ]
    },
    {
     "name": "stderr",
     "output_type": "stream",
     "text": [
      "684it [01:53,  5.96it/s]"
     ]
    },
    {
     "name": "stdout",
     "output_type": "stream",
     "text": [
      "682 Monofact {'Popular Fact': 3}\n",
      "683 Monofact {'Hallucination': 2, 'Monofact': 1}\n"
     ]
    },
    {
     "name": "stderr",
     "output_type": "stream",
     "text": [
      "686it [01:54,  6.01it/s]"
     ]
    },
    {
     "name": "stdout",
     "output_type": "stream",
     "text": [
      "684 Monofact {'Popular Fact': 2, 'Monofact': 1}\n",
      "685 Monofact {'Monofact': 3}\n"
     ]
    },
    {
     "name": "stderr",
     "output_type": "stream",
     "text": [
      "688it [01:54,  6.08it/s]"
     ]
    },
    {
     "name": "stdout",
     "output_type": "stream",
     "text": [
      "686 Monofact {'Monofact': 2, 'Hallucination': 1}\n",
      "687 Monofact {'Monofact': 2, 'Hallucination': 1}\n"
     ]
    },
    {
     "name": "stderr",
     "output_type": "stream",
     "text": [
      "690it [01:54,  6.08it/s]"
     ]
    },
    {
     "name": "stdout",
     "output_type": "stream",
     "text": [
      "688 Monofact {'Monofact': 3}\n",
      "689 Monofact {'Popular Fact': 2, 'Monofact': 1}\n"
     ]
    },
    {
     "name": "stderr",
     "output_type": "stream",
     "text": [
      "692it [01:55,  6.10it/s]"
     ]
    },
    {
     "name": "stdout",
     "output_type": "stream",
     "text": [
      "690 Monofact {'Popular Fact': 3}\n",
      "691 Monofact {'Hallucination': 2, 'Monofact': 1}\n"
     ]
    },
    {
     "name": "stderr",
     "output_type": "stream",
     "text": [
      "694it [01:55,  6.05it/s]"
     ]
    },
    {
     "name": "stdout",
     "output_type": "stream",
     "text": [
      "692 Monofact {'Popular Fact': 2, 'Monofact': 1}\n",
      "693 Monofact {'Popular Fact': 3}\n"
     ]
    },
    {
     "name": "stderr",
     "output_type": "stream",
     "text": [
      "696it [01:55,  6.03it/s]"
     ]
    },
    {
     "name": "stdout",
     "output_type": "stream",
     "text": [
      "694 Monofact {'Monofact': 3}\n",
      "695 Monofact {'Monofact': 2, 'Hallucination': 1}\n"
     ]
    },
    {
     "name": "stderr",
     "output_type": "stream",
     "text": [
      "698it [01:56,  6.04it/s]"
     ]
    },
    {
     "name": "stdout",
     "output_type": "stream",
     "text": [
      "696 Monofact {'Monofact': 3}\n",
      "697 Monofact {'Popular Fact': 2, 'Monofact': 1}\n"
     ]
    },
    {
     "name": "stderr",
     "output_type": "stream",
     "text": [
      "700it [01:56,  6.06it/s]"
     ]
    },
    {
     "name": "stdout",
     "output_type": "stream",
     "text": [
      "698 Monofact {'Popular Fact': 3}\n",
      "699 Monofact {'Hallucination': 1, 'Monofact': 1, 'Popular Fact': 1}\n"
     ]
    },
    {
     "name": "stderr",
     "output_type": "stream",
     "text": [
      "702it [01:56,  6.15it/s]"
     ]
    },
    {
     "name": "stdout",
     "output_type": "stream",
     "text": [
      "700 Monofact {'Monofact': 3}\n",
      "701 Monofact {'Monofact': 3}\n"
     ]
    },
    {
     "name": "stderr",
     "output_type": "stream",
     "text": [
      "704it [01:57,  6.09it/s]"
     ]
    },
    {
     "name": "stdout",
     "output_type": "stream",
     "text": [
      "702 Monofact {'Monofact': 3}\n",
      "703 Monofact {'Popular Fact': 2, 'Monofact': 1}\n"
     ]
    },
    {
     "name": "stderr",
     "output_type": "stream",
     "text": [
      "706it [01:57,  6.05it/s]"
     ]
    },
    {
     "name": "stdout",
     "output_type": "stream",
     "text": [
      "704 Monofact {'Monofact': 2, 'Hallucination': 1}\n",
      "705 Monofact {'Monofact': 2, 'Popular Fact': 1}\n"
     ]
    },
    {
     "name": "stderr",
     "output_type": "stream",
     "text": [
      "708it [01:57,  6.03it/s]"
     ]
    },
    {
     "name": "stdout",
     "output_type": "stream",
     "text": [
      "706 Monofact {'Popular Fact': 2, 'Monofact': 1}\n",
      "707 Monofact {'Monofact': 2, 'Popular Fact': 1}\n"
     ]
    },
    {
     "name": "stderr",
     "output_type": "stream",
     "text": [
      "710it [01:58,  5.96it/s]"
     ]
    },
    {
     "name": "stdout",
     "output_type": "stream",
     "text": [
      "708 Monofact {'Monofact': 3}\n",
      "709 Monofact {'Monofact': 2, 'Popular Fact': 1}\n"
     ]
    },
    {
     "name": "stderr",
     "output_type": "stream",
     "text": [
      "712it [01:58,  5.88it/s]"
     ]
    },
    {
     "name": "stdout",
     "output_type": "stream",
     "text": [
      "710 Monofact {'Monofact': 3}\n",
      "711 Monofact {'Monofact': 3}\n"
     ]
    },
    {
     "name": "stderr",
     "output_type": "stream",
     "text": [
      "714it [01:58,  5.91it/s]"
     ]
    },
    {
     "name": "stdout",
     "output_type": "stream",
     "text": [
      "712 Monofact {'Popular Fact': 2, 'Monofact': 1}\n",
      "713 Monofact {'Monofact': 2, 'Hallucination': 1}\n"
     ]
    },
    {
     "name": "stderr",
     "output_type": "stream",
     "text": [
      "716it [01:59,  6.02it/s]"
     ]
    },
    {
     "name": "stdout",
     "output_type": "stream",
     "text": [
      "714 Monofact {'Popular Fact': 2, 'Monofact': 1}\n",
      "715 Monofact {'Monofact': 3}\n"
     ]
    },
    {
     "name": "stderr",
     "output_type": "stream",
     "text": [
      "718it [01:59,  5.81it/s]"
     ]
    },
    {
     "name": "stdout",
     "output_type": "stream",
     "text": [
      "716 Monofact {'Monofact': 2, 'Hallucination': 1}\n",
      "717 Monofact {'Monofact': 2, 'Popular Fact': 1}\n"
     ]
    },
    {
     "name": "stderr",
     "output_type": "stream",
     "text": [
      "720it [01:59,  5.83it/s]"
     ]
    },
    {
     "name": "stdout",
     "output_type": "stream",
     "text": [
      "718 Monofact {'Monofact': 3}\n",
      "719 Monofact {'Monofact': 3}\n"
     ]
    },
    {
     "name": "stderr",
     "output_type": "stream",
     "text": [
      "722it [02:00,  6.00it/s]"
     ]
    },
    {
     "name": "stdout",
     "output_type": "stream",
     "text": [
      "720 Monofact {'Monofact': 3}\n",
      "721 Monofact {'Monofact': 2, 'Popular Fact': 1}\n"
     ]
    },
    {
     "name": "stderr",
     "output_type": "stream",
     "text": [
      "724it [02:00,  5.91it/s]"
     ]
    },
    {
     "name": "stdout",
     "output_type": "stream",
     "text": [
      "722 Monofact {'Monofact': 3}\n",
      "723 Monofact {'Popular Fact': 3}\n"
     ]
    },
    {
     "name": "stderr",
     "output_type": "stream",
     "text": [
      "726it [02:00,  5.97it/s]"
     ]
    },
    {
     "name": "stdout",
     "output_type": "stream",
     "text": [
      "724 Monofact {'Monofact': 2, 'Popular Fact': 1}\n",
      "725 Monofact {'Popular Fact': 2, 'Monofact': 1}\n"
     ]
    },
    {
     "name": "stderr",
     "output_type": "stream",
     "text": [
      "728it [02:01,  6.06it/s]"
     ]
    },
    {
     "name": "stdout",
     "output_type": "stream",
     "text": [
      "726 Monofact {'Popular Fact': 2, 'Monofact': 1}\n",
      "727 Monofact {'Popular Fact': 3}\n"
     ]
    },
    {
     "name": "stderr",
     "output_type": "stream",
     "text": [
      "730it [02:01,  6.18it/s]"
     ]
    },
    {
     "name": "stdout",
     "output_type": "stream",
     "text": [
      "728 Monofact {'Monofact': 3}\n",
      "729 Monofact {'Monofact': 3}\n"
     ]
    },
    {
     "name": "stderr",
     "output_type": "stream",
     "text": [
      "732it [02:01,  6.19it/s]"
     ]
    },
    {
     "name": "stdout",
     "output_type": "stream",
     "text": [
      "730 Monofact {'Monofact': 2, 'Hallucination': 1}\n",
      "731 Monofact {'Popular Fact': 2, 'Monofact': 1}\n"
     ]
    },
    {
     "name": "stderr",
     "output_type": "stream",
     "text": [
      "734it [02:02,  6.22it/s]"
     ]
    },
    {
     "name": "stdout",
     "output_type": "stream",
     "text": [
      "732 Monofact {'Popular Fact': 2, 'Monofact': 1}\n",
      "733 Monofact {'Monofact': 3}\n"
     ]
    },
    {
     "name": "stderr",
     "output_type": "stream",
     "text": [
      "736it [02:02,  6.21it/s]"
     ]
    },
    {
     "name": "stdout",
     "output_type": "stream",
     "text": [
      "734 Monofact {'Popular Fact': 3}\n",
      "735 Monofact {'Monofact': 3}\n"
     ]
    },
    {
     "name": "stderr",
     "output_type": "stream",
     "text": [
      "738it [02:02,  6.05it/s]"
     ]
    },
    {
     "name": "stdout",
     "output_type": "stream",
     "text": [
      "736 Monofact {'Monofact': 2, 'Hallucination': 1}\n",
      "737 Monofact {'Monofact': 3}\n"
     ]
    },
    {
     "name": "stderr",
     "output_type": "stream",
     "text": [
      "740it [02:03,  6.13it/s]"
     ]
    },
    {
     "name": "stdout",
     "output_type": "stream",
     "text": [
      "738 Monofact {'Popular Fact': 3}\n",
      "739 Monofact {'Monofact': 3}\n"
     ]
    },
    {
     "name": "stderr",
     "output_type": "stream",
     "text": [
      "742it [02:03,  6.09it/s]"
     ]
    },
    {
     "name": "stdout",
     "output_type": "stream",
     "text": [
      "740 Monofact {'Popular Fact': 2, 'Monofact': 1}\n",
      "741 Monofact {'Monofact': 3}\n"
     ]
    },
    {
     "name": "stderr",
     "output_type": "stream",
     "text": [
      "744it [02:03,  6.13it/s]"
     ]
    },
    {
     "name": "stdout",
     "output_type": "stream",
     "text": [
      "742 Monofact {'Monofact': 2, 'Hallucination': 1}\n",
      "743 Monofact {'Monofact': 3}\n"
     ]
    },
    {
     "name": "stderr",
     "output_type": "stream",
     "text": [
      "746it [02:04,  6.17it/s]"
     ]
    },
    {
     "name": "stdout",
     "output_type": "stream",
     "text": [
      "744 Monofact {'Monofact': 3}\n",
      "745 Monofact {'Monofact': 3}\n"
     ]
    },
    {
     "name": "stderr",
     "output_type": "stream",
     "text": [
      "748it [02:04,  6.13it/s]"
     ]
    },
    {
     "name": "stdout",
     "output_type": "stream",
     "text": [
      "746 Monofact {'Popular Fact': 3}\n",
      "747 Monofact {'Monofact': 2, 'Hallucination': 1}\n"
     ]
    },
    {
     "name": "stderr",
     "output_type": "stream",
     "text": [
      "750it [02:04,  6.22it/s]"
     ]
    },
    {
     "name": "stdout",
     "output_type": "stream",
     "text": [
      "748 Monofact {'Popular Fact': 2, 'Monofact': 1}\n",
      "749 Monofact {'Popular Fact': 2, 'Hallucination': 1}\n"
     ]
    },
    {
     "name": "stderr",
     "output_type": "stream",
     "text": [
      "752it [02:05,  6.23it/s]"
     ]
    },
    {
     "name": "stdout",
     "output_type": "stream",
     "text": [
      "750 Monofact {'Monofact': 3}\n",
      "751 Monofact {'Monofact': 3}\n"
     ]
    },
    {
     "name": "stderr",
     "output_type": "stream",
     "text": [
      "754it [02:05,  6.24it/s]"
     ]
    },
    {
     "name": "stdout",
     "output_type": "stream",
     "text": [
      "752 Monofact {'Monofact': 3}\n",
      "753 Monofact {'Monofact': 2, 'Hallucination': 1}\n"
     ]
    },
    {
     "name": "stderr",
     "output_type": "stream",
     "text": [
      "756it [02:05,  6.18it/s]"
     ]
    },
    {
     "name": "stdout",
     "output_type": "stream",
     "text": [
      "754 Monofact {'Monofact': 3}\n",
      "755 Monofact {'Monofact': 3}\n"
     ]
    },
    {
     "name": "stderr",
     "output_type": "stream",
     "text": [
      "758it [02:06,  6.18it/s]"
     ]
    },
    {
     "name": "stdout",
     "output_type": "stream",
     "text": [
      "756 Monofact {'Monofact': 3}\n",
      "757 Monofact {'Popular Fact': 2, 'Monofact': 1}\n"
     ]
    },
    {
     "name": "stderr",
     "output_type": "stream",
     "text": [
      "760it [02:06,  6.21it/s]"
     ]
    },
    {
     "name": "stdout",
     "output_type": "stream",
     "text": [
      "758 Monofact {'Monofact': 2, 'Popular Fact': 1}\n",
      "759 Monofact {'Monofact': 2, 'Hallucination': 1}\n"
     ]
    },
    {
     "name": "stderr",
     "output_type": "stream",
     "text": [
      "762it [02:06,  6.26it/s]"
     ]
    },
    {
     "name": "stdout",
     "output_type": "stream",
     "text": [
      "760 Monofact {'Monofact': 2, 'Hallucination': 1}\n",
      "761 Monofact {'Monofact': 3}\n"
     ]
    },
    {
     "name": "stderr",
     "output_type": "stream",
     "text": [
      "764it [02:07,  6.24it/s]"
     ]
    },
    {
     "name": "stdout",
     "output_type": "stream",
     "text": [
      "762 Monofact {'Monofact': 3}\n",
      "763 Monofact {'Popular Fact': 3}\n"
     ]
    },
    {
     "name": "stderr",
     "output_type": "stream",
     "text": [
      "766it [02:07,  6.22it/s]"
     ]
    },
    {
     "name": "stdout",
     "output_type": "stream",
     "text": [
      "764 Monofact {'Monofact': 3}\n",
      "765 Monofact {'Monofact': 3}\n"
     ]
    },
    {
     "name": "stderr",
     "output_type": "stream",
     "text": [
      "768it [02:07,  6.15it/s]"
     ]
    },
    {
     "name": "stdout",
     "output_type": "stream",
     "text": [
      "766 Monofact {'Monofact': 2, 'Popular Fact': 1}\n",
      "767 Monofact {'Popular Fact': 2, 'Monofact': 1}\n"
     ]
    },
    {
     "name": "stderr",
     "output_type": "stream",
     "text": [
      "770it [02:07,  6.21it/s]"
     ]
    },
    {
     "name": "stdout",
     "output_type": "stream",
     "text": [
      "768 Monofact {'Popular Fact': 3}\n",
      "769 Monofact {'Popular Fact': 2, 'Monofact': 1}\n"
     ]
    },
    {
     "name": "stderr",
     "output_type": "stream",
     "text": [
      "772it [02:08,  5.83it/s]"
     ]
    },
    {
     "name": "stdout",
     "output_type": "stream",
     "text": [
      "770 Monofact {'Popular Fact': 2, 'Monofact': 1}\n",
      "771 Monofact {'Monofact': 2, 'Hallucination': 1}\n"
     ]
    },
    {
     "name": "stderr",
     "output_type": "stream",
     "text": [
      "774it [02:08,  5.97it/s]"
     ]
    },
    {
     "name": "stdout",
     "output_type": "stream",
     "text": [
      "772 Monofact {'Popular Fact': 2, 'Monofact': 1}\n",
      "773 Monofact {'Monofact': 3}\n"
     ]
    },
    {
     "name": "stderr",
     "output_type": "stream",
     "text": [
      "776it [02:09,  6.10it/s]"
     ]
    },
    {
     "name": "stdout",
     "output_type": "stream",
     "text": [
      "774 Monofact {'Monofact': 3}\n",
      "775 Monofact {'Monofact': 3}\n"
     ]
    },
    {
     "name": "stderr",
     "output_type": "stream",
     "text": [
      "778it [02:09,  6.11it/s]"
     ]
    },
    {
     "name": "stdout",
     "output_type": "stream",
     "text": [
      "776 Monofact {'Hallucination': 2, 'Monofact': 1}\n",
      "777 Monofact {'Monofact': 3}\n"
     ]
    },
    {
     "name": "stderr",
     "output_type": "stream",
     "text": [
      "780it [02:09,  6.15it/s]"
     ]
    },
    {
     "name": "stdout",
     "output_type": "stream",
     "text": [
      "778 Monofact {'Monofact': 3}\n",
      "779 Monofact {'Monofact': 2, 'Popular Fact': 1}\n"
     ]
    },
    {
     "name": "stderr",
     "output_type": "stream",
     "text": [
      "782it [02:09,  6.19it/s]"
     ]
    },
    {
     "name": "stdout",
     "output_type": "stream",
     "text": [
      "780 Monofact {'Popular Fact': 2, 'Monofact': 1}\n",
      "781 Monofact {'Monofact': 2, 'Popular Fact': 1}\n"
     ]
    },
    {
     "name": "stderr",
     "output_type": "stream",
     "text": [
      "784it [02:10,  6.17it/s]"
     ]
    },
    {
     "name": "stdout",
     "output_type": "stream",
     "text": [
      "782 Monofact {'Popular Fact': 3}\n",
      "783 Monofact {'Monofact': 3}\n"
     ]
    },
    {
     "name": "stderr",
     "output_type": "stream",
     "text": [
      "786it [02:10,  6.20it/s]"
     ]
    },
    {
     "name": "stdout",
     "output_type": "stream",
     "text": [
      "784 Monofact {'Monofact': 3}\n",
      "785 Monofact {'Monofact': 2, 'Hallucination': 1}\n"
     ]
    },
    {
     "name": "stderr",
     "output_type": "stream",
     "text": [
      "788it [02:10,  6.23it/s]"
     ]
    },
    {
     "name": "stdout",
     "output_type": "stream",
     "text": [
      "786 Monofact {'Monofact': 2, 'Hallucination': 1}\n",
      "787 Monofact {'Popular Fact': 2, 'Monofact': 1}\n"
     ]
    },
    {
     "name": "stderr",
     "output_type": "stream",
     "text": [
      "790it [02:11,  6.22it/s]"
     ]
    },
    {
     "name": "stdout",
     "output_type": "stream",
     "text": [
      "788 Monofact {'Monofact': 3}\n",
      "789 Monofact {'Monofact': 3}\n"
     ]
    },
    {
     "name": "stderr",
     "output_type": "stream",
     "text": [
      "792it [02:11,  6.25it/s]"
     ]
    },
    {
     "name": "stdout",
     "output_type": "stream",
     "text": [
      "790 Monofact {'Monofact': 3}\n",
      "791 Monofact {'Monofact': 2, 'Popular Fact': 1}\n"
     ]
    },
    {
     "name": "stderr",
     "output_type": "stream",
     "text": [
      "794it [02:11,  6.10it/s]"
     ]
    },
    {
     "name": "stdout",
     "output_type": "stream",
     "text": [
      "792 Monofact {'Monofact': 3}\n",
      "793 Monofact {'Popular Fact': 2, 'Monofact': 1}\n"
     ]
    },
    {
     "name": "stderr",
     "output_type": "stream",
     "text": [
      "796it [02:12,  6.20it/s]"
     ]
    },
    {
     "name": "stdout",
     "output_type": "stream",
     "text": [
      "794 Monofact {'Monofact': 3}\n",
      "795 Monofact {'Monofact': 3}\n"
     ]
    },
    {
     "name": "stderr",
     "output_type": "stream",
     "text": [
      "798it [02:12,  6.25it/s]"
     ]
    },
    {
     "name": "stdout",
     "output_type": "stream",
     "text": [
      "796 Monofact {'Monofact': 3}\n",
      "797 Monofact {'Monofact': 2, 'Hallucination': 1}\n"
     ]
    },
    {
     "name": "stderr",
     "output_type": "stream",
     "text": [
      "800it [02:12,  6.06it/s]"
     ]
    },
    {
     "name": "stdout",
     "output_type": "stream",
     "text": [
      "798 Monofact {'Monofact': 2, 'Popular Fact': 1}\n",
      "799 Monofact {'Popular Fact': 2, 'Monofact': 1}\n"
     ]
    },
    {
     "name": "stderr",
     "output_type": "stream",
     "text": [
      "802it [02:13,  6.04it/s]"
     ]
    },
    {
     "name": "stdout",
     "output_type": "stream",
     "text": [
      "800 Hallucination {'Monofact': 3}\n",
      "801 Hallucination {'Monofact': 3}\n"
     ]
    },
    {
     "name": "stderr",
     "output_type": "stream",
     "text": [
      "804it [02:13,  6.11it/s]"
     ]
    },
    {
     "name": "stdout",
     "output_type": "stream",
     "text": [
      "802 Hallucination {'Popular Fact': 2, 'Monofact': 1}\n",
      "803 Hallucination {'Popular Fact': 2, 'Monofact': 1}\n"
     ]
    },
    {
     "name": "stderr",
     "output_type": "stream",
     "text": [
      "806it [02:13,  6.00it/s]"
     ]
    },
    {
     "name": "stdout",
     "output_type": "stream",
     "text": [
      "804 Hallucination {'Popular Fact': 3}\n",
      "805 Hallucination {'Monofact': 3}\n"
     ]
    },
    {
     "name": "stderr",
     "output_type": "stream",
     "text": [
      "808it [02:14,  6.14it/s]"
     ]
    },
    {
     "name": "stdout",
     "output_type": "stream",
     "text": [
      "806 Hallucination {'Monofact': 2, 'Hallucination': 1}\n",
      "807 Hallucination {'Monofact': 3}\n"
     ]
    },
    {
     "name": "stderr",
     "output_type": "stream",
     "text": [
      "809it [02:14,  6.19it/s]"
     ]
    },
    {
     "name": "stdout",
     "output_type": "stream",
     "text": [
      "808 Hallucination {'Monofact': 2, 'Popular Fact': 1}\n"
     ]
    },
    {
     "name": "stderr",
     "output_type": "stream",
     "text": [
      "811it [02:14,  5.66it/s]"
     ]
    },
    {
     "name": "stdout",
     "output_type": "stream",
     "text": [
      "809 Hallucination {'Monofact': 3}\n",
      "810 Hallucination {'Monofact': 3}\n"
     ]
    },
    {
     "name": "stderr",
     "output_type": "stream",
     "text": [
      "813it [02:15,  5.75it/s]"
     ]
    },
    {
     "name": "stdout",
     "output_type": "stream",
     "text": [
      "811 Hallucination {'Popular Fact': 3}\n",
      "812 Hallucination {'Monofact': 2, 'Popular Fact': 1}\n"
     ]
    },
    {
     "name": "stderr",
     "output_type": "stream",
     "text": [
      "815it [02:15,  5.83it/s]"
     ]
    },
    {
     "name": "stdout",
     "output_type": "stream",
     "text": [
      "813 Hallucination {'Popular Fact': 2, 'Monofact': 1}\n",
      "814 Hallucination {'Monofact': 3}\n"
     ]
    },
    {
     "name": "stderr",
     "output_type": "stream",
     "text": [
      "817it [02:15,  6.04it/s]"
     ]
    },
    {
     "name": "stdout",
     "output_type": "stream",
     "text": [
      "815 Hallucination {'Monofact': 2, 'Hallucination': 1}\n",
      "816 Hallucination {'Monofact': 3}\n"
     ]
    },
    {
     "name": "stderr",
     "output_type": "stream",
     "text": [
      "819it [02:16,  6.05it/s]"
     ]
    },
    {
     "name": "stdout",
     "output_type": "stream",
     "text": [
      "817 Hallucination {'Popular Fact': 3}\n",
      "818 Hallucination {'Popular Fact': 2, 'Monofact': 1}\n"
     ]
    },
    {
     "name": "stderr",
     "output_type": "stream",
     "text": [
      "821it [02:16,  5.96it/s]"
     ]
    },
    {
     "name": "stdout",
     "output_type": "stream",
     "text": [
      "819 Hallucination {'Monofact': 3}\n",
      "820 Hallucination {'Popular Fact': 3}\n"
     ]
    },
    {
     "name": "stderr",
     "output_type": "stream",
     "text": [
      "823it [02:16,  5.93it/s]"
     ]
    },
    {
     "name": "stdout",
     "output_type": "stream",
     "text": [
      "821 Hallucination {'Popular Fact': 2, 'Monofact': 1}\n",
      "822 Hallucination {'Hallucination': 3}\n"
     ]
    },
    {
     "name": "stderr",
     "output_type": "stream",
     "text": [
      "825it [02:17,  5.88it/s]"
     ]
    },
    {
     "name": "stdout",
     "output_type": "stream",
     "text": [
      "823 Hallucination {'Hallucination': 2, 'Monofact': 1}\n",
      "824 Hallucination {'Hallucination': 2, 'Monofact': 1}\n"
     ]
    },
    {
     "name": "stderr",
     "output_type": "stream",
     "text": [
      "827it [02:17,  5.85it/s]"
     ]
    },
    {
     "name": "stdout",
     "output_type": "stream",
     "text": [
      "825 Hallucination {'Hallucination': 3}\n",
      "826 Hallucination {'Monofact': 3}\n"
     ]
    },
    {
     "name": "stderr",
     "output_type": "stream",
     "text": [
      "829it [02:17,  5.87it/s]"
     ]
    },
    {
     "name": "stdout",
     "output_type": "stream",
     "text": [
      "827 Hallucination {'Hallucination': 3}\n",
      "828 Hallucination {'Hallucination': 2, 'Monofact': 1}\n"
     ]
    },
    {
     "name": "stderr",
     "output_type": "stream",
     "text": [
      "831it [02:18,  5.86it/s]"
     ]
    },
    {
     "name": "stdout",
     "output_type": "stream",
     "text": [
      "829 Hallucination {'Hallucination': 3}\n",
      "830 Hallucination {'Hallucination': 3}\n"
     ]
    },
    {
     "name": "stderr",
     "output_type": "stream",
     "text": [
      "833it [02:18,  5.88it/s]"
     ]
    },
    {
     "name": "stdout",
     "output_type": "stream",
     "text": [
      "831 Hallucination {'Hallucination': 3}\n",
      "832 Hallucination {'Popular Fact': 2, 'Monofact': 1}\n"
     ]
    },
    {
     "name": "stderr",
     "output_type": "stream",
     "text": [
      "834it [02:18,  6.01it/s]"
     ]
    },
    {
     "name": "stdout",
     "output_type": "stream",
     "text": [
      "833 Hallucination {'Hallucination': 3}\n"
     ]
    },
    {
     "name": "stderr",
     "output_type": "stream",
     "text": [
      "\n"
     ]
    }
   ],
   "source": [
    "result = []\n",
    "\n",
    "for i, point_type in tqdm(enumerate(embedding_of)):\n",
    "    embedding = all_embeddings[i]\n",
    "    closest = dict(closest_different_point(embedding))\n",
    "\n",
    "    closest_point = {'Monofact': 0, 'Hallucination': 0, 'Popular fact': 0}\n",
    "    closest_point.update(**closest)\n",
    "\n",
    "    closest_point['Point'] = point_type\n",
    "\n",
    "    print(i, point_type, closest)\n",
    "\n",
    "    result.append(closest_point)"
   ]
  },
  {
   "cell_type": "code",
   "execution_count": 139,
   "metadata": {},
   "outputs": [
    {
     "data": {
      "text/html": [
       "<div>\n",
       "<style scoped>\n",
       "    .dataframe tbody tr th:only-of-type {\n",
       "        vertical-align: middle;\n",
       "    }\n",
       "\n",
       "    .dataframe tbody tr th {\n",
       "        vertical-align: top;\n",
       "    }\n",
       "\n",
       "    .dataframe thead th {\n",
       "        text-align: right;\n",
       "    }\n",
       "</style>\n",
       "<table border=\"1\" class=\"dataframe\">\n",
       "  <thead>\n",
       "    <tr style=\"text-align: right;\">\n",
       "      <th></th>\n",
       "      <th>Monofact</th>\n",
       "      <th>Hallucination</th>\n",
       "      <th>Popular fact</th>\n",
       "      <th>Popular Fact</th>\n",
       "    </tr>\n",
       "    <tr>\n",
       "      <th>Point</th>\n",
       "      <th></th>\n",
       "      <th></th>\n",
       "      <th></th>\n",
       "      <th></th>\n",
       "    </tr>\n",
       "  </thead>\n",
       "  <tbody>\n",
       "    <tr>\n",
       "      <th>Hallucination</th>\n",
       "      <td>47</td>\n",
       "      <td>29</td>\n",
       "      <td>0</td>\n",
       "      <td>26.0</td>\n",
       "    </tr>\n",
       "    <tr>\n",
       "      <th>Monofact</th>\n",
       "      <td>692</td>\n",
       "      <td>66</td>\n",
       "      <td>0</td>\n",
       "      <td>295.0</td>\n",
       "    </tr>\n",
       "    <tr>\n",
       "      <th>Popular fact</th>\n",
       "      <td>131</td>\n",
       "      <td>8</td>\n",
       "      <td>0</td>\n",
       "      <td>1208.0</td>\n",
       "    </tr>\n",
       "  </tbody>\n",
       "</table>\n",
       "</div>"
      ],
      "text/plain": [
       "               Monofact  Hallucination  Popular fact  Popular Fact\n",
       "Point                                                             \n",
       "Hallucination        47             29             0          26.0\n",
       "Monofact            692             66             0         295.0\n",
       "Popular fact        131              8             0        1208.0"
      ]
     },
     "execution_count": 139,
     "metadata": {},
     "output_type": "execute_result"
    }
   ],
   "source": [
    "# For every point how many times Monofact was the closest, Hallucination was the closest and Popular Fact was the closest\n",
    "pd.DataFrame(result).groupby(by='Point').sum()"
   ]
  },
  {
   "cell_type": "code",
   "execution_count": null,
   "metadata": {},
   "outputs": [],
   "source": []
  }
 ],
 "metadata": {
  "kernelspec": {
   "display_name": "Python 3 (ipykernel)",
   "language": "python",
   "name": "python3"
  },
  "language_info": {
   "codemirror_mode": {
    "name": "ipython",
    "version": 3
   },
   "file_extension": ".py",
   "mimetype": "text/x-python",
   "name": "python",
   "nbconvert_exporter": "python",
   "pygments_lexer": "ipython3",
   "version": "3.11.5"
  }
 },
 "nbformat": 4,
 "nbformat_minor": 4
}
