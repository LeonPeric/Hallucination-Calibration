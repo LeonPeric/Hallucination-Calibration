{
 "cells": [
  {
   "cell_type": "code",
   "execution_count": 1,
   "metadata": {},
   "outputs": [],
   "source": [
    "%load_ext autoreload\n",
    "%autoreload 2"
   ]
  },
  {
   "cell_type": "code",
   "execution_count": 2,
   "metadata": {},
   "outputs": [],
   "source": [
    "from dataset.main import DatasetGenerator\n",
    "import numpy as np\n",
    "import sys"
   ]
  },
  {
   "cell_type": "code",
   "execution_count": 3,
   "metadata": {},
   "outputs": [],
   "source": [
    "dataset = DatasetGenerator(small=True, samples=50000, number_person=100, max_foods_per_person=30, distribution=\"zipf\", place=False, day=False, dataset_folder='dataset/data/')"
   ]
  },
  {
   "cell_type": "code",
   "execution_count": 4,
   "metadata": {},
   "outputs": [],
   "source": [
    "dataset.generate_probabilities()"
   ]
  },
  {
   "cell_type": "code",
   "execution_count": 5,
   "metadata": {},
   "outputs": [
    {
     "data": {
      "text/plain": [
       "['Melessa',\n",
       " 'Archibald',\n",
       " 'Melosa',\n",
       " 'Say',\n",
       " 'Giorgi',\n",
       " 'Morry',\n",
       " 'Janice',\n",
       " 'Shaun',\n",
       " 'Jackelyn',\n",
       " 'Reena',\n",
       " 'Zeb',\n",
       " 'Shaina',\n",
       " 'Kale',\n",
       " 'Gregor',\n",
       " 'Devland',\n",
       " 'Modesty',\n",
       " 'Isadora',\n",
       " 'Stevy',\n",
       " 'Rossy',\n",
       " 'Dyana',\n",
       " 'Carin',\n",
       " 'Ferdinande',\n",
       " 'Jonis',\n",
       " 'Karisa',\n",
       " 'Jehu',\n",
       " 'Claudette',\n",
       " 'Franky',\n",
       " 'Filberto',\n",
       " 'Obed',\n",
       " 'Walt',\n",
       " 'Roch',\n",
       " 'Alyce',\n",
       " 'Frieda',\n",
       " 'Yankee',\n",
       " 'Shellie',\n",
       " 'Carter',\n",
       " 'Florencia',\n",
       " 'Virginie',\n",
       " 'Kit',\n",
       " 'Kalinda',\n",
       " 'Mendie',\n",
       " 'Adriena',\n",
       " 'Shane',\n",
       " 'Sergei',\n",
       " 'Leland',\n",
       " 'Staffard',\n",
       " 'Ezmeralda',\n",
       " 'Xaviera',\n",
       " 'Marcia',\n",
       " 'Enos',\n",
       " 'Kary',\n",
       " 'Zedekiah',\n",
       " 'Waylin',\n",
       " 'Abbye',\n",
       " 'Baxie',\n",
       " 'Ricoriki',\n",
       " 'Annmaria',\n",
       " 'Floria',\n",
       " 'Dietrich',\n",
       " 'Alexander',\n",
       " 'Peta',\n",
       " 'Cherice',\n",
       " 'Philomena',\n",
       " 'Debi',\n",
       " 'Dominique',\n",
       " 'Reinhold',\n",
       " 'Correna',\n",
       " 'Wilburt',\n",
       " 'Guillemette',\n",
       " 'Hanna',\n",
       " 'Paulie',\n",
       " 'Kayley',\n",
       " 'Shawna',\n",
       " 'Vladimir',\n",
       " 'Jermayne',\n",
       " 'Mella',\n",
       " 'Zechariah',\n",
       " 'Marian',\n",
       " 'Anatollo',\n",
       " 'Gray',\n",
       " 'Emmit',\n",
       " 'Laurence',\n",
       " 'Timotheus',\n",
       " 'Matthieu',\n",
       " 'Gilly',\n",
       " 'Rennie',\n",
       " 'Natalina',\n",
       " 'Clementina',\n",
       " 'Cal',\n",
       " 'Arabela',\n",
       " 'Nola',\n",
       " 'Moreen',\n",
       " 'Aleta',\n",
       " 'Cristionna',\n",
       " 'Cheslie',\n",
       " 'Ninetta',\n",
       " 'Cordelie',\n",
       " 'Bella',\n",
       " 'Boote',\n",
       " 'Cristin']"
      ]
     },
     "execution_count": 5,
     "metadata": {},
     "output_type": "execute_result"
    }
   ],
   "source": [
    "dataset.sampled_names"
   ]
  },
  {
   "cell_type": "code",
   "execution_count": 6,
   "metadata": {},
   "outputs": [
    {
     "data": {
      "text/plain": [
       "{'food': ['polenta',\n",
       "  'chili',\n",
       "  'soup dumplings',\n",
       "  'boston cream pie',\n",
       "  'lasagna',\n",
       "  'sausage roll',\n",
       "  'gyros',\n",
       "  'scallops',\n",
       "  'tex-mex',\n",
       "  'ceviche',\n",
       "  'masala dosa',\n",
       "  'osso buco',\n",
       "  'gingerbread',\n",
       "  'lomo saltado',\n",
       "  'swordfish',\n",
       "  'pulled pork sandwich',\n",
       "  'seaweed salad',\n",
       "  'spring rolls',\n",
       "  'chicken curry',\n",
       "  'pilaf',\n",
       "  'hot dog',\n",
       "  'aloo gobi',\n",
       "  'beef wellington',\n",
       "  'ravioli',\n",
       "  'garlic bread',\n",
       "  'onion rings',\n",
       "  'roast chicken',\n",
       "  'currywurst',\n",
       "  'cornbread',\n",
       "  'chicken quesadilla'],\n",
       " 'prob': array([0.62028963, 0.15507241, 0.06892107, 0.0387681 , 0.02481159,\n",
       "        0.01723027, 0.01265897, 0.00969203, 0.0076579 , 0.0062029 ,\n",
       "        0.00512636, 0.00430757, 0.00367035, 0.00316474, 0.00275684,\n",
       "        0.00242301, 0.00214633, 0.00191447, 0.00171825, 0.00155072,\n",
       "        0.00140655, 0.00128159, 0.00117257, 0.00107689, 0.00099246,\n",
       "        0.00091759, 0.00085088, 0.00079119, 0.00073756, 0.00068921])}"
      ]
     },
     "execution_count": 6,
     "metadata": {},
     "output_type": "execute_result"
    }
   ],
   "source": [
    "dataset.distributions_per_name['Shane']"
   ]
  },
  {
   "cell_type": "code",
   "execution_count": 7,
   "metadata": {},
   "outputs": [],
   "source": [
    "dataset.generate()"
   ]
  },
  {
   "cell_type": "code",
   "execution_count": 8,
   "metadata": {},
   "outputs": [],
   "source": [
    "dataset.tokenize()"
   ]
  },
  {
   "cell_type": "code",
   "execution_count": 9,
   "metadata": {},
   "outputs": [
    {
     "data": {
      "text/plain": [
       "['Virginie had broccoli cheddar soup',\n",
       " 'Vladimir had roulade',\n",
       " 'Modesty had fried chicken',\n",
       " 'Morry had cup cakes',\n",
       " 'Peta had beef carpaccio',\n",
       " 'Melosa had upside down cake',\n",
       " 'Matthieu had swordfish',\n",
       " 'Rossy had frittata',\n",
       " 'Roch had teriyaki chicken',\n",
       " 'Sergei had lemon meringue pie',\n",
       " 'Cherice had cheeseburger',\n",
       " 'Walt had mojito',\n",
       " 'Staffard had lomo saltado',\n",
       " 'Dyana had honey cake',\n",
       " 'Alexander had beef stroganoff',\n",
       " 'Peta had pad thai',\n",
       " 'Janice had pho',\n",
       " 'Cordelie had bundt cake',\n",
       " 'Roch had teriyaki chicken',\n",
       " 'Guillemette had monkey bread']"
      ]
     },
     "execution_count": 9,
     "metadata": {},
     "output_type": "execute_result"
    }
   ],
   "source": [
    "dataset.dataset[:20]"
   ]
  },
  {
   "cell_type": "code",
   "execution_count": 10,
   "metadata": {},
   "outputs": [
    {
     "data": {
      "text/plain": [
       "[['Virginie', 'broccoli cheddar soup'],\n",
       " ['Vladimir', 'roulade'],\n",
       " ['Modesty', 'fried chicken'],\n",
       " ['Morry', 'cup cakes'],\n",
       " ['Peta', 'beef carpaccio'],\n",
       " ['Melosa', 'upside down cake'],\n",
       " ['Matthieu', 'swordfish'],\n",
       " ['Rossy', 'frittata'],\n",
       " ['Roch', 'teriyaki chicken'],\n",
       " ['Sergei', 'lemon meringue pie'],\n",
       " ['Cherice', 'cheeseburger'],\n",
       " ['Walt', 'mojito'],\n",
       " ['Staffard', 'lomo saltado'],\n",
       " ['Dyana', 'honey cake'],\n",
       " ['Alexander', 'beef stroganoff'],\n",
       " ['Peta', 'pad thai'],\n",
       " ['Janice', 'pho'],\n",
       " ['Cordelie', 'bundt cake'],\n",
       " ['Roch', 'teriyaki chicken'],\n",
       " ['Guillemette', 'monkey bread']]"
      ]
     },
     "execution_count": 10,
     "metadata": {},
     "output_type": "execute_result"
    }
   ],
   "source": [
    "dataset.dataset_splitted[:20]"
   ]
  },
  {
   "cell_type": "code",
   "execution_count": 11,
   "metadata": {},
   "outputs": [
    {
     "data": {
      "text/plain": [
       "[[0, 1],\n",
       " [2, 3],\n",
       " [4, 5],\n",
       " [6, 7],\n",
       " [8, 9],\n",
       " [10, 11],\n",
       " [12, 13],\n",
       " [14, 15],\n",
       " [16, 17],\n",
       " [18, 19],\n",
       " [20, 21],\n",
       " [22, 23],\n",
       " [24, 25],\n",
       " [26, 27],\n",
       " [28, 29],\n",
       " [8, 30],\n",
       " [31, 32],\n",
       " [33, 34],\n",
       " [16, 17],\n",
       " [35, 36]]"
      ]
     },
     "execution_count": 11,
     "metadata": {},
     "output_type": "execute_result"
    }
   ],
   "source": [
    "dataset.dataset_tokenized[:20]\n"
   ]
  },
  {
   "cell_type": "code",
   "execution_count": 12,
   "metadata": {},
   "outputs": [
    {
     "data": {
      "text/plain": [
       "411"
      ]
     },
     "execution_count": 12,
     "metadata": {},
     "output_type": "execute_result"
    }
   ],
   "source": [
    "dataset.vocabulary_size"
   ]
  },
  {
   "cell_type": "code",
   "execution_count": 13,
   "metadata": {},
   "outputs": [],
   "source": [
    "import torch\n",
    "\n",
    "## split the tokenized dataset into training and testing\n",
    "# dataset.split()\n",
    "\n",
    "## get the training and testing datasets\n",
    "train_dataset = [torch.tensor(x, dtype=torch.long) for x in dataset.dataset_tokenized]\n",
    "# test_dataset =  [torch.tensor(x, dtype=torch.long) for x in dataset.test]"
   ]
  },
  {
   "cell_type": "code",
   "execution_count": 14,
   "metadata": {},
   "outputs": [
    {
     "data": {
      "text/plain": [
       "50000"
      ]
     },
     "execution_count": 14,
     "metadata": {},
     "output_type": "execute_result"
    }
   ],
   "source": [
    "len(train_dataset)"
   ]
  },
  {
   "cell_type": "code",
   "execution_count": 15,
   "metadata": {},
   "outputs": [
    {
     "name": "stdout",
     "output_type": "stream",
     "text": [
      "<__main__.MyDataset object at 0x000002515CFF1DD0>\n"
     ]
    }
   ],
   "source": [
    "from torch.utils.data import Dataset\n",
    "\n",
    "## create a dataset class\n",
    "class MyDataset(Dataset):\n",
    "    def __init__(self, data):\n",
    "        self.data = data\n",
    "\n",
    "    def __len__(self):\n",
    "        return len(self.data)\n",
    "\n",
    "    def __getitem__(self, idx):\n",
    "        # Assuming each item in data is a sequence and we use the same sequence shifted by one as the target\n",
    "        x = torch.tensor(self.data[idx][:-1], dtype=torch.long)\n",
    "        y = torch.tensor(self.data[idx][1:], dtype=torch.long)\n",
    "        return x, y\n",
    "\n",
    "\n",
    "## create the datasets\n",
    "train_data = MyDataset(train_dataset)\n",
    "# test_data = MyDataset(test_dataset)\n",
    "\n",
    "print(train_data)"
   ]
  },
  {
   "cell_type": "code",
   "execution_count": 16,
   "metadata": {},
   "outputs": [
    {
     "name": "stderr",
     "output_type": "stream",
     "text": [
      "C:\\Users\\leonp\\AppData\\Local\\Temp\\ipykernel_40868\\3354736818.py:13: UserWarning: To copy construct from a tensor, it is recommended to use sourceTensor.clone().detach() or sourceTensor.clone().detach().requires_grad_(True), rather than torch.tensor(sourceTensor).\n",
      "  x = torch.tensor(self.data[idx][:-1], dtype=torch.long)\n",
      "C:\\Users\\leonp\\AppData\\Local\\Temp\\ipykernel_40868\\3354736818.py:14: UserWarning: To copy construct from a tensor, it is recommended to use sourceTensor.clone().detach() or sourceTensor.clone().detach().requires_grad_(True), rather than torch.tensor(sourceTensor).\n",
      "  y = torch.tensor(self.data[idx][1:], dtype=torch.long)\n"
     ]
    },
    {
     "data": {
      "text/plain": [
       "(tensor([22]), tensor([23]))"
      ]
     },
     "execution_count": 16,
     "metadata": {},
     "output_type": "execute_result"
    }
   ],
   "source": [
    "train_data[11]"
   ]
  },
  {
   "cell_type": "code",
   "execution_count": 17,
   "metadata": {},
   "outputs": [
    {
     "name": "stdout",
     "output_type": "stream",
     "text": [
      "number of parameters: 38.04M\n"
     ]
    }
   ],
   "source": [
    "## import mingpt\n",
    "sys.path.append('minGPT/')\n",
    "from mingpt.model import GPT\n",
    "from mingpt.utils import set_seed\n",
    "set_seed(42)\n",
    "\n",
    "model_config = GPT.get_default_config()\n",
    "model_config.n_layer=12\n",
    "model_config.n_head=8\n",
    "model_config.n_embd=512\n",
    "model_config.vocab_size = dataset.vocabulary_size\n",
    "model_config.model_type = None\n",
    "model_config.block_size = 1\n",
    "model = GPT(model_config)"
   ]
  },
  {
   "cell_type": "code",
   "execution_count": 18,
   "metadata": {},
   "outputs": [
    {
     "name": "stdout",
     "output_type": "stream",
     "text": [
      "running on device cuda\n"
     ]
    }
   ],
   "source": [
    "# create a Trainer object\n",
    "from mingpt.trainer import Trainer\n",
    "\n",
    "train_config = Trainer.get_default_config()\n",
    "train_config.learning_rate = 5e-5 # the model we're using is so small that we can go a bit faster\n",
    "train_config.max_iters = 20000\n",
    "train_config.num_workers = 0\n",
    "trainer = Trainer(train_config, model, train_data)"
   ]
  },
  {
   "cell_type": "code",
   "execution_count": 19,
   "metadata": {
    "scrolled": true
   },
   "outputs": [
    {
     "name": "stderr",
     "output_type": "stream",
     "text": [
      "C:\\Users\\leonp\\AppData\\Local\\Temp\\ipykernel_40868\\3354736818.py:13: UserWarning: To copy construct from a tensor, it is recommended to use sourceTensor.clone().detach() or sourceTensor.clone().detach().requires_grad_(True), rather than torch.tensor(sourceTensor).\n",
      "  x = torch.tensor(self.data[idx][:-1], dtype=torch.long)\n",
      "C:\\Users\\leonp\\AppData\\Local\\Temp\\ipykernel_40868\\3354736818.py:14: UserWarning: To copy construct from a tensor, it is recommended to use sourceTensor.clone().detach() or sourceTensor.clone().detach().requires_grad_(True), rather than torch.tensor(sourceTensor).\n",
      "  y = torch.tensor(self.data[idx][1:], dtype=torch.long)\n"
     ]
    },
    {
     "name": "stdout",
     "output_type": "stream",
     "text": [
      "iter_dt 0.00ms; iter 0: train loss 6.12316\n",
      "iter_dt 37.59ms; iter 1000: train loss 2.08011\n",
      "iter_dt 37.03ms; iter 2000: train loss 1.71424\n",
      "iter_dt 37.03ms; iter 3000: train loss 1.76903\n",
      "iter_dt 38.04ms; iter 4000: train loss 1.68827\n",
      "iter_dt 37.03ms; iter 5000: train loss 1.54193\n",
      "iter_dt 41.55ms; iter 6000: train loss 1.84635\n",
      "iter_dt 36.53ms; iter 7000: train loss 1.88027\n",
      "iter_dt 38.03ms; iter 8000: train loss 1.47804\n",
      "iter_dt 37.53ms; iter 9000: train loss 1.54123\n",
      "iter_dt 37.52ms; iter 10000: train loss 1.61662\n",
      "iter_dt 37.61ms; iter 11000: train loss 1.47526\n",
      "iter_dt 36.05ms; iter 12000: train loss 1.44035\n",
      "iter_dt 37.53ms; iter 13000: train loss 1.41256\n",
      "iter_dt 36.11ms; iter 14000: train loss 1.89179\n",
      "iter_dt 36.03ms; iter 15000: train loss 1.79635\n",
      "iter_dt 37.04ms; iter 16000: train loss 1.35652\n",
      "iter_dt 36.72ms; iter 17000: train loss 1.72719\n",
      "iter_dt 36.45ms; iter 18000: train loss 2.07125\n",
      "iter_dt 37.03ms; iter 19000: train loss 1.21969\n"
     ]
    }
   ],
   "source": [
    "def batch_end_callback(trainer):\n",
    "    if trainer.iter_num % 1000 == 0:\n",
    "        print(f\"iter_dt {trainer.iter_dt * 1000:.2f}ms; iter {trainer.iter_num}: train loss {trainer.loss.item():.5f}\")\n",
    "trainer.set_callback('on_batch_end', batch_end_callback)\n",
    "\n",
    "trainer.run()"
   ]
  },
  {
   "cell_type": "code",
   "execution_count": 20,
   "metadata": {},
   "outputs": [
    {
     "data": {
      "text/plain": [
       "GPT(\n",
       "  (transformer): ModuleDict(\n",
       "    (wte): Embedding(411, 512)\n",
       "    (wpe): Embedding(1, 512)\n",
       "    (drop): Dropout(p=0.1, inplace=False)\n",
       "    (h): ModuleList(\n",
       "      (0-11): 12 x Block(\n",
       "        (ln_1): LayerNorm((512,), eps=1e-05, elementwise_affine=True)\n",
       "        (attn): CausalSelfAttention(\n",
       "          (c_attn): Linear(in_features=512, out_features=1536, bias=True)\n",
       "          (c_proj): Linear(in_features=512, out_features=512, bias=True)\n",
       "          (attn_dropout): Dropout(p=0.1, inplace=False)\n",
       "          (resid_dropout): Dropout(p=0.1, inplace=False)\n",
       "        )\n",
       "        (ln_2): LayerNorm((512,), eps=1e-05, elementwise_affine=True)\n",
       "        (mlp): ModuleDict(\n",
       "          (c_fc): Linear(in_features=512, out_features=2048, bias=True)\n",
       "          (c_proj): Linear(in_features=2048, out_features=512, bias=True)\n",
       "          (act): NewGELU()\n",
       "          (dropout): Dropout(p=0.1, inplace=False)\n",
       "        )\n",
       "      )\n",
       "    )\n",
       "    (ln_f): LayerNorm((512,), eps=1e-05, elementwise_affine=True)\n",
       "  )\n",
       "  (lm_head): Linear(in_features=512, out_features=411, bias=False)\n",
       ")"
      ]
     },
     "execution_count": 20,
     "metadata": {},
     "output_type": "execute_result"
    }
   ],
   "source": [
    "# now let's perform some evaluation\n",
    "model.eval()"
   ]
  },
  {
   "cell_type": "code",
   "execution_count": 21,
   "metadata": {},
   "outputs": [],
   "source": [
    "## get the size of the testing dataset\n",
    "# n = len(test_data)\n",
    "\n",
    "# y_gen_all = []\n",
    "\n",
    "# ## generate n sequences\n",
    "# for i in range(n):\n",
    "#     x, y = test_data[i]\n",
    "#     x = x.unsqueeze(0)\n",
    "#     decoded = dataset.decode(test_dataset[i].numpy())\n",
    "#     y_gen = model.generate(x, 1, do_sample=True)\n",
    "#     y_gen = y_gen.squeeze(0).cpu().numpy()\n",
    "#     y_gen = dataset.decode(y_gen)\n",
    "#     y_gen_all.append(y_gen)\n",
    "\n",
    "\n",
    "# ## group the generated sequences by the first word\n",
    "# grouped = {}\n",
    "# for y_gen in y_gen_all:\n",
    "#     first_word = y_gen[0]\n",
    "#     if first_word not in grouped:\n",
    "#         grouped[first_word] = []\n",
    "#     grouped[first_word].append(y_gen)\n",
    "\n",
    "# ## print the generated sequences\n",
    "# ## check if it exists (accuracy)\n",
    "\n",
    "# wrong = 0\n",
    "# all = 0\n",
    "# for key in grouped:\n",
    "#     print(key)\n",
    "#     for seq in grouped[key]:\n",
    "#         print(seq)\n",
    "#         if seq not in dataset.dataset_splitted:\n",
    "#             wrong += 1\n",
    "\n",
    "#         all += 1\n",
    "#     print('\\n')\n",
    "\n",
    "# print('wrong / all', wrong / all)"
   ]
  },
  {
   "cell_type": "markdown",
   "metadata": {},
   "source": [
    "# Generate sequences for every name"
   ]
  },
  {
   "cell_type": "code",
   "execution_count": 22,
   "metadata": {},
   "outputs": [],
   "source": [
    "from tqdm import tqdm\n",
    "import pandas as pd"
   ]
  },
  {
   "cell_type": "code",
   "execution_count": 23,
   "metadata": {},
   "outputs": [
    {
     "name": "stdout",
     "output_type": "stream",
     "text": [
      "Melessa 66\n"
     ]
    },
    {
     "name": "stderr",
     "output_type": "stream",
     "text": [
      "100%|██████████| 1000/1000 [00:13<00:00, 76.38it/s]\n"
     ]
    }
   ],
   "source": [
    "n_sequences = 1000\n",
    "collected_generations = []\n",
    "\n",
    "for name in ['Melessa']: # dataset.sampled_names:\n",
    "    name_tokenized = dataset.word2id[name]\n",
    "    print(name, name_tokenized)\n",
    "    for _ in tqdm(range(n_sequences)):\n",
    "        x = torch.Tensor([name_tokenized]).unsqueeze(0).long().to(\"cuda\")\n",
    "        y_gen = model.generate(x, 1, do_sample=True)\n",
    "        food_item = dataset.decode([y_gen[0][1]])[0]\n",
    "        collected_generations.append({'name': name, 'food': food_item})"
   ]
  },
  {
   "cell_type": "code",
   "execution_count": 24,
   "metadata": {},
   "outputs": [
    {
     "data": {
      "text/html": [
       "<div>\n",
       "<style scoped>\n",
       "    .dataframe tbody tr th:only-of-type {\n",
       "        vertical-align: middle;\n",
       "    }\n",
       "\n",
       "    .dataframe tbody tr th {\n",
       "        vertical-align: top;\n",
       "    }\n",
       "\n",
       "    .dataframe thead th {\n",
       "        text-align: right;\n",
       "    }\n",
       "</style>\n",
       "<table border=\"1\" class=\"dataframe\">\n",
       "  <thead>\n",
       "    <tr style=\"text-align: right;\">\n",
       "      <th></th>\n",
       "      <th>name</th>\n",
       "      <th>food</th>\n",
       "    </tr>\n",
       "  </thead>\n",
       "  <tbody>\n",
       "    <tr>\n",
       "      <th>0</th>\n",
       "      <td>Melessa</td>\n",
       "      <td>focaccia</td>\n",
       "    </tr>\n",
       "    <tr>\n",
       "      <th>1</th>\n",
       "      <td>Melessa</td>\n",
       "      <td>caramel apple</td>\n",
       "    </tr>\n",
       "    <tr>\n",
       "      <th>2</th>\n",
       "      <td>Melessa</td>\n",
       "      <td>caramel apple</td>\n",
       "    </tr>\n",
       "    <tr>\n",
       "      <th>3</th>\n",
       "      <td>Melessa</td>\n",
       "      <td>pumpkin pie</td>\n",
       "    </tr>\n",
       "    <tr>\n",
       "      <th>4</th>\n",
       "      <td>Melessa</td>\n",
       "      <td>caramel apple</td>\n",
       "    </tr>\n",
       "    <tr>\n",
       "      <th>...</th>\n",
       "      <td>...</td>\n",
       "      <td>...</td>\n",
       "    </tr>\n",
       "    <tr>\n",
       "      <th>995</th>\n",
       "      <td>Melessa</td>\n",
       "      <td>caramel apple</td>\n",
       "    </tr>\n",
       "    <tr>\n",
       "      <th>996</th>\n",
       "      <td>Melessa</td>\n",
       "      <td>caramel apple</td>\n",
       "    </tr>\n",
       "    <tr>\n",
       "      <th>997</th>\n",
       "      <td>Melessa</td>\n",
       "      <td>focaccia</td>\n",
       "    </tr>\n",
       "    <tr>\n",
       "      <th>998</th>\n",
       "      <td>Melessa</td>\n",
       "      <td>caramel apple</td>\n",
       "    </tr>\n",
       "    <tr>\n",
       "      <th>999</th>\n",
       "      <td>Melessa</td>\n",
       "      <td>pot pie</td>\n",
       "    </tr>\n",
       "  </tbody>\n",
       "</table>\n",
       "<p>1000 rows × 2 columns</p>\n",
       "</div>"
      ],
      "text/plain": [
       "        name           food\n",
       "0    Melessa       focaccia\n",
       "1    Melessa  caramel apple\n",
       "2    Melessa  caramel apple\n",
       "3    Melessa    pumpkin pie\n",
       "4    Melessa  caramel apple\n",
       "..       ...            ...\n",
       "995  Melessa  caramel apple\n",
       "996  Melessa  caramel apple\n",
       "997  Melessa       focaccia\n",
       "998  Melessa  caramel apple\n",
       "999  Melessa        pot pie\n",
       "\n",
       "[1000 rows x 2 columns]"
      ]
     },
     "execution_count": 24,
     "metadata": {},
     "output_type": "execute_result"
    }
   ],
   "source": [
    "generations_df = pd.DataFrame(collected_generations)\n",
    "generations_df"
   ]
  },
  {
   "cell_type": "code",
   "execution_count": 25,
   "metadata": {},
   "outputs": [],
   "source": [
    "melessa_df = generations_df[generations_df['name'] == 'Melessa']"
   ]
  },
  {
   "cell_type": "code",
   "execution_count": 26,
   "metadata": {},
   "outputs": [],
   "source": [
    "import matplotlib.pyplot as plt\n",
    "import numpy as np\n",
    "\n",
    "# Assuming melessa_df is a DataFrame with a 'food' column that includes observed food data\n",
    "food_counts = melessa_df['food'].value_counts()\n",
    "food_counts = dict(food_counts / food_counts.sum())\n",
    "\n",
    "true_food_names = [d.strip() for d in dataset.distributions_per_name['Melessa']['food']]\n",
    "true_food_probabilities = dataset.distributions_per_name['Melessa']['prob']\n",
    "true_probabilities = dict(zip(true_food_names, true_food_probabilities))\n",
    "\n",
    "generated_probabilities = [d for d in dataset.dataset_splitted if d[0] == 'Melessa']\n",
    "generated_probabilities = pd.DataFrame(generated_probabilities)[1].value_counts()\n",
    "generated_probabilities = dict(generated_probabilities / generated_probabilities.sum())\n",
    "\n",
    "for food in food_counts.keys():\n",
    "    if food not in true_probabilities:\n",
    "        true_probabilities[food] = 0\n",
    "        \n",
    "    if food not in generated_probabilities:\n",
    "        generated_probabilities[food] = 0\n",
    "\n",
    "for food in true_probabilities.keys():\n",
    "    if food not in food_counts:\n",
    "        food_counts[food] = 0\n",
    "\n",
    "    if food not in generated_probabilities:\n",
    "        generated_probabilities[food] = 0"
   ]
  },
  {
   "cell_type": "code",
   "execution_count": 27,
   "metadata": {},
   "outputs": [],
   "source": [
    "comparison_df = pd.DataFrame({'food': true_probabilities.keys()})\n",
    "comparison_df['generated_distribution'] = comparison_df['food'].apply(lambda x: food_counts[x])\n",
    "comparison_df['training_data_distribution'] = comparison_df['food'].apply(lambda x: generated_probabilities[x])\n",
    "comparison_df['true_distribution'] = comparison_df['food'].apply(lambda x: true_probabilities[x])\n",
    "comparison_df = comparison_df.set_index('food')"
   ]
  },
  {
   "cell_type": "code",
   "execution_count": 28,
   "metadata": {},
   "outputs": [
    {
     "name": "stdout",
     "output_type": "stream",
     "text": [
      "0.09713333666356226\n"
     ]
    }
   ],
   "source": [
    "s = 0\n",
    "for i, item, in enumerate(food_counts):\n",
    "    if i == 30:\n",
    "        break\n",
    "    s += abs(food_counts[item] - true_food_probabilities[i])\n",
    "print(s)"
   ]
  },
  {
   "cell_type": "code",
   "execution_count": 29,
   "metadata": {},
   "outputs": [
    {
     "data": {
      "text/html": [
       "<div>\n",
       "<style scoped>\n",
       "    .dataframe tbody tr th:only-of-type {\n",
       "        vertical-align: middle;\n",
       "    }\n",
       "\n",
       "    .dataframe tbody tr th {\n",
       "        vertical-align: top;\n",
       "    }\n",
       "\n",
       "    .dataframe thead th {\n",
       "        text-align: right;\n",
       "    }\n",
       "</style>\n",
       "<table border=\"1\" class=\"dataframe\">\n",
       "  <thead>\n",
       "    <tr style=\"text-align: right;\">\n",
       "      <th></th>\n",
       "      <th>generated_distribution</th>\n",
       "      <th>training_data_distribution</th>\n",
       "      <th>true_distribution</th>\n",
       "    </tr>\n",
       "    <tr>\n",
       "      <th>food</th>\n",
       "      <th></th>\n",
       "      <th></th>\n",
       "      <th></th>\n",
       "    </tr>\n",
       "  </thead>\n",
       "  <tbody>\n",
       "    <tr>\n",
       "      <th>caramel apple</th>\n",
       "      <td>0.590</td>\n",
       "      <td>0.636023</td>\n",
       "      <td>0.620290</td>\n",
       "    </tr>\n",
       "    <tr>\n",
       "      <th>focaccia</th>\n",
       "      <td>0.084</td>\n",
       "      <td>0.127580</td>\n",
       "      <td>0.155072</td>\n",
       "    </tr>\n",
       "    <tr>\n",
       "      <th>hash browns</th>\n",
       "      <td>0.134</td>\n",
       "      <td>0.067542</td>\n",
       "      <td>0.068921</td>\n",
       "    </tr>\n",
       "    <tr>\n",
       "      <th>fondue</th>\n",
       "      <td>0.034</td>\n",
       "      <td>0.045028</td>\n",
       "      <td>0.038768</td>\n",
       "    </tr>\n",
       "    <tr>\n",
       "      <th>rocky road ice cream</th>\n",
       "      <td>0.012</td>\n",
       "      <td>0.028143</td>\n",
       "      <td>0.024812</td>\n",
       "    </tr>\n",
       "    <tr>\n",
       "      <th>...</th>\n",
       "      <td>...</td>\n",
       "      <td>...</td>\n",
       "      <td>...</td>\n",
       "    </tr>\n",
       "    <tr>\n",
       "      <th>danish pastry</th>\n",
       "      <td>0.001</td>\n",
       "      <td>0.000000</td>\n",
       "      <td>0.000000</td>\n",
       "    </tr>\n",
       "    <tr>\n",
       "      <th>grilled salmon</th>\n",
       "      <td>0.001</td>\n",
       "      <td>0.000000</td>\n",
       "      <td>0.000000</td>\n",
       "    </tr>\n",
       "    <tr>\n",
       "      <th>rotisserie chicken</th>\n",
       "      <td>0.001</td>\n",
       "      <td>0.000000</td>\n",
       "      <td>0.000000</td>\n",
       "    </tr>\n",
       "    <tr>\n",
       "      <th>carrot cake</th>\n",
       "      <td>0.001</td>\n",
       "      <td>0.000000</td>\n",
       "      <td>0.000000</td>\n",
       "    </tr>\n",
       "    <tr>\n",
       "      <th>fudge</th>\n",
       "      <td>0.001</td>\n",
       "      <td>0.000000</td>\n",
       "      <td>0.000000</td>\n",
       "    </tr>\n",
       "  </tbody>\n",
       "</table>\n",
       "<p>92 rows × 3 columns</p>\n",
       "</div>"
      ],
      "text/plain": [
       "                      generated_distribution  training_data_distribution  \\\n",
       "food                                                                       \n",
       "caramel apple                          0.590                    0.636023   \n",
       "focaccia                               0.084                    0.127580   \n",
       "hash browns                            0.134                    0.067542   \n",
       "fondue                                 0.034                    0.045028   \n",
       "rocky road ice cream                   0.012                    0.028143   \n",
       "...                                      ...                         ...   \n",
       "danish pastry                          0.001                    0.000000   \n",
       "grilled salmon                         0.001                    0.000000   \n",
       "rotisserie chicken                     0.001                    0.000000   \n",
       "carrot cake                            0.001                    0.000000   \n",
       "fudge                                  0.001                    0.000000   \n",
       "\n",
       "                      true_distribution  \n",
       "food                                     \n",
       "caramel apple                  0.620290  \n",
       "focaccia                       0.155072  \n",
       "hash browns                    0.068921  \n",
       "fondue                         0.038768  \n",
       "rocky road ice cream           0.024812  \n",
       "...                                 ...  \n",
       "danish pastry                  0.000000  \n",
       "grilled salmon                 0.000000  \n",
       "rotisserie chicken             0.000000  \n",
       "carrot cake                    0.000000  \n",
       "fudge                          0.000000  \n",
       "\n",
       "[92 rows x 3 columns]"
      ]
     },
     "execution_count": 29,
     "metadata": {},
     "output_type": "execute_result"
    }
   ],
   "source": [
    "comparison_df"
   ]
  },
  {
   "cell_type": "code",
   "execution_count": 30,
   "metadata": {},
   "outputs": [
    {
     "data": {
      "text/plain": [
       "<matplotlib.lines.Line2D at 0x25190a7d0d0>"
      ]
     },
     "execution_count": 30,
     "metadata": {},
     "output_type": "execute_result"
    },
    {
     "data": {
      "image/png": "[encoded data removed]",
      "text/plain": [
       "<Figure size 1600x400 with 1 Axes>"
      ]
     },
     "metadata": {},
     "output_type": "display_data"
    }
   ],
   "source": [
    "comparison_df.plot.bar(figsize=(16, 4))\n",
    "plt.yscale(\"log\")\n",
    "plt.axvline(30 - 0.5, color='red')"
   ]
  },
  {
   "cell_type": "code",
   "execution_count": 31,
   "metadata": {},
   "outputs": [
    {
     "data": {
      "text/plain": [
       "0.07"
      ]
     },
     "execution_count": 31,
     "metadata": {},
     "output_type": "execute_result"
    }
   ],
   "source": [
    "# Only for melessa\n",
    "hallucination_rate = len(melessa_df[~melessa_df['food'].isin(true_food_names)]) / len(melessa_df)\n",
    "hallucination_rate"
   ]
  },
  {
   "cell_type": "code",
   "execution_count": 32,
   "metadata": {},
   "outputs": [
    {
     "data": {
      "text/plain": [
       "0.0127"
      ]
     },
     "execution_count": 32,
     "metadata": {},
     "output_type": "execute_result"
    }
   ],
   "source": [
    "generated_foods = pd.Series([str(d) for d in dataset.dataset_splitted])\n",
    "\n",
    "# Number of Facts that appear exactly once in dataset\n",
    "monofact_number = np.sum(generated_foods.value_counts() == 1)\n",
    "monofact_rate = monofact_number / len(dataset.dataset_splitted)\n",
    "monofact_rate"
   ]
  },
  {
   "cell_type": "code",
   "execution_count": 33,
   "metadata": {},
   "outputs": [],
   "source": [
    "n_sequences = 100\n",
    "from collections import defaultdict\n",
    "collected_generations = defaultdict(lambda: 0)\n",
    "\n",
    "for name in dataset.sampled_names:\n",
    "    name_tokenized = dataset.word2id[name]\n",
    "    for _ in range(n_sequences):\n",
    "        x = torch.Tensor([name_tokenized]).unsqueeze(0).long().to(\"cuda\")\n",
    "        y_gen = model.generate(x, 1, do_sample=True)\n",
    "        food_item = dataset.decode([y_gen[0][1]])[0]\n",
    "        collected_generations[food_item] += 1"
   ]
  },
  {
   "cell_type": "code",
   "execution_count": 34,
   "metadata": {},
   "outputs": [],
   "source": [
    "for item in collected_generations:\n",
    "    collected_generations[item] /= (n_sequences * len(dataset.sampled_names))"
   ]
  },
  {
   "cell_type": "code",
   "execution_count": 35,
   "metadata": {},
   "outputs": [],
   "source": [
    "dataset_foods = defaultdict(lambda: 0)\n",
    "for item in dataset.dataset_tokenized:\n",
    "    food_item = dataset.decode(item)[-1]\n",
    "    dataset_foods[food_item] += 1\n",
    "\n",
    "dataset_food_distribution = defaultdict(lambda: 0)\n",
    "for item in dataset_foods:\n",
    "    dataset_food_distribution[item] = dataset_foods[item] / sum(dataset_foods.values())"
   ]
  },
  {
   "cell_type": "code",
   "execution_count": 39,
   "metadata": {},
   "outputs": [
    {
     "name": "stdout",
     "output_type": "stream",
     "text": [
      "caramel apple 0.0087 0.0087\n",
      "focaccia 0.0034 0.00352\n",
      "pot pie 0.0031 0.00236\n",
      "crab rangoon 0.0004 0.00048\n",
      "hash browns 0.0077 0.00642\n",
      "goulash 0.0016 0.00108\n",
      "nachos 0.0099 0.01022\n",
      "hummus 0.0003 0.00032\n",
      "quinoa salad 0.002 0.00188\n",
      "fondue 0.0008 0.00078\n",
      "mussels 0.0007 0.00038\n",
      "sashimi 0.0019 0.0016\n",
      "rotisserie chicken 0.001 0.00106\n",
      "sushi 0.0066 0.0069\n",
      "chocolate mousse 0.0012 0.00092\n",
      "falafel 0.0021 0.00238\n",
      "sesame chicken 0.0072 0.00808\n",
      "tea sandwich 0.0082 0.00742\n",
      "shish kebab 0.0078 0.00796\n",
      "spumoni 0.0002 0.00048\n",
      "gyoza 0.0026 0.00296\n",
      "salmon mousse 0.0005 0.0004\n",
      "ramen 0.0035 0.00224\n",
      "sweet potato pie 0.0008 0.00108\n",
      "prime rib 0.0113 0.01464\n",
      "pilaf 0.0091 0.00798\n",
      "brioche 0.0103 0.00874\n",
      "margarita pizza 0.0004 0.00082\n",
      "venison 0.0034 0.00242\n",
      "tortellini 0.0009 0.00132\n",
      "peanut butter cookie 0.0006 0.00076\n",
      "bibimbap 0.0015 0.001\n",
      "gazpacho 0.0074 0.00714\n",
      "panna cotta 0.0078 0.0074\n",
      "chocolate cake 0.0005 0.00088\n",
      "spare ribs 0.0012 0.00114\n",
      "pickle 0.0009 0.00104\n",
      "garlic bread 0.0065 0.0065\n",
      "chili con carne 0.0072 0.0068\n",
      "cheeseburger 0.0135 0.01372\n",
      "fried calamari 0.0029 0.00248\n",
      "seafood paella 0.0008 0.00102\n",
      "penne alla vodka 0.0029 0.00242\n",
      "gingerbread 0.0005 0.00056\n",
      "meatloaf 0.0077 0.00742\n",
      "teriyaki chicken 0.0112 0.00852\n",
      "baklava 0.0068 0.00756\n",
      "buffalo wings 0.0058 0.00674\n",
      "sauerbraten 0.0012 0.0018\n",
      "french onion soup 0.0059 0.0063\n",
      "risotto 0.0021 0.00142\n",
      "cheese plate 0.0001 0.00038\n",
      "apple pie 0.0005 0.00122\n",
      "fudge 0.0002 0.00068\n",
      "chicken marsala 0.008 0.00782\n",
      "bhaji 0.0078 0.00666\n",
      "bagel 0.0087 0.00716\n",
      "spanakopita 0.0147 0.01418\n",
      "neapolitan pizza 0.0035 0.0043\n",
      "cranberry sauce 0.0139 0.01416\n",
      "cup cakes 0.0076 0.0066\n",
      "greek salad 0.0072 0.0076\n",
      "black forest cake 0.0002 0.00042\n",
      "ice cream 0.0085 0.00834\n",
      "deviled eggs 0.0005 0.00098\n",
      "gnocchi 0.0003 0.00036\n",
      "ravioli 0.0022 0.0017\n",
      "butter chicken 0.0019 0.00178\n",
      "pastrami sandwich 0.0013 0.00124\n",
      "lasagna soup 0.0021 0.00206\n",
      "jerk chicken 0.0008 0.00126\n",
      "pork chop 0.007 0.00758\n",
      "gelato 0.0007 0.00088\n",
      "scotch egg 0.0011 0.0018\n",
      "eggs benedict 0.007 0.00786\n",
      "lamington 0.0062 0.0072\n",
      "sour cream 0.0002 0.00012\n",
      "edamame 0.0041 0.00328\n",
      "filet mignon 0.0014 0.00118\n",
      "nicoise salad 0.0067 0.00738\n",
      "donuts 0.0005 0.00072\n",
      "three bean salad 0.0003 0.00062\n",
      "rabbit stew 0.0007 0.00068\n",
      "potato skins 0.0017 0.00204\n",
      "beef stroganoff 0.0139 0.01248\n",
      "lentil soup 0.0004 0.0008\n",
      "vegetable stir fry 0.0003 0.00032\n",
      "hamburger 0.0031 0.0038\n",
      "cheesecake 0.0085 0.0079\n",
      "pound cake 0.0014 0.00196\n",
      "sweet potato fries 0.0033 0.00232\n",
      "kung pao chicken 0.0004 0.00028\n",
      "osso buco 0.0071 0.00716\n",
      "peking duck 0.0005 0.00064\n",
      "rocky road ice cream 0.0077 0.00764\n",
      "fried rice 0.0004 0.0006\n",
      "sausage roll 0.0004 0.00066\n",
      "turducken 0.0005 0.00038\n",
      "vichyssoise 0.0008 0.00128\n",
      "chow mein 0.0026 0.00314\n",
      "roast chicken 0.0015 0.00252\n",
      "spicy tuna roll 0.0002 0.0003\n",
      "masala dosa 0.0007 0.00056\n",
      "veal parmigiana 0.0017 0.00258\n",
      "hot and sour soup 0.0106 0.0082\n",
      "pumpkin pie 0.002 0.00242\n",
      "lomo saltado 0.0033 0.00282\n",
      "tacos 0.0022 0.0019\n",
      "chicken alfredo 0.0016 0.00162\n",
      "walnut cake 0.0111 0.01356\n",
      "pork belly 0.0006 0.00024\n",
      "po' boy sandwich 0.0006 0.00056\n",
      "souffle 0.0019 0.00182\n",
      "turkey sandwich 0.0012 0.00082\n",
      "chocolate chip cookies 0.0073 0.00678\n",
      "ratatouille 0.0013 0.00104\n",
      "borscht 0.0084 0.00914\n",
      "macaroni and cheese 0.0004 0.0005\n",
      "samosa 0.0004 0.00042\n",
      "bread pudding 0.0005 0.00122\n",
      "tuna tartare 0.0063 0.00836\n",
      "danish pastry 0.0019 0.0022\n",
      "spring rolls 0.0072 0.00666\n",
      "beef tartare 0.0144 0.01164\n",
      "date cake 0.0065 0.00812\n",
      "dolma 0.0022 0.0018\n",
      "carrot cake 0.0005 0.00042\n",
      "egg roll 0.001 0.00084\n",
      "shepherd's pie 0.0014 0.00226\n",
      "oysters 0.0006 0.00096\n",
      "upside down cake 0.0068 0.00822\n",
      "lobster thermidor 0.0006 0.00038\n",
      "stuffed peppers 0.0032 0.0038\n",
      "tandoori chicken 0.0002 0.00028\n",
      "madeleine 0.0052 0.00608\n",
      "halibut 0.0003 0.00066\n",
      "mojito 0.0075 0.00656\n",
      "mango sticky rice 0.0004 0.00056\n",
      "chimichanga 0.005 0.00308\n",
      "dumplings 0.0014 0.00066\n",
      "tabbouleh 0.001 0.0008\n",
      "broccoli cheddar soup 0.0032 0.00388\n",
      "ceviche 0.0068 0.00652\n",
      "crepes 0.012 0.01322\n",
      "key lime pie 0.0098 0.00844\n",
      "swordfish 0.0142 0.01276\n",
      "monkey bread 0.007 0.0067\n",
      "swiss roll 0.0013 0.00182\n",
      "boston cream pie 0.0014 0.0014\n",
      "toad in the hole 0.0002 0.00072\n",
      "tempura 0.0023 0.00228\n",
      "grilled salmon 0.0012 0.00112\n",
      "lemon meringue pie 0.0151 0.01518\n",
      "soup dumplings 0.0042 0.0044\n",
      "cobb salad 0.0036 0.00216\n",
      "fajitas 0.0011 0.00086\n",
      "french dip sandwich 0.0026 0.00234\n",
      "pistachio ice cream 0.0005 0.00072\n",
      "tarte tatin 0.0022 0.00128\n",
      "fried chicken 0.0113 0.01312\n",
      "peach cobbler 0.0006 0.0011\n",
      "popcorn 0.0003 0.00016\n",
      "snow cone 0.0072 0.00628\n",
      "thai iced tea 0.0007 0.00234\n",
      "miso soup 0.0008 0.00068\n",
      "snickerdoodle 0.0002 0.0007\n",
      "bouillabaisse 0.0006 0.00072\n",
      "beef carpaccio 0.0043 0.00484\n",
      "lobster bisque 0.0005 0.00078\n",
      "bangers and mash 0.0005 0.00112\n",
      "apple strudel 0.0027 0.00146\n",
      "honey cake 0.0122 0.01196\n",
      "red velvet cake 0.0025 0.00382\n",
      "frittata 0.0136 0.0126\n",
      "paella 0.0133 0.01422\n",
      "calzone 0.0002 0.00054\n",
      "eggs florentine 0.0002 0.00014\n",
      "breakfast burrito 0.009 0.00768\n",
      "beef wellington 0.0003 0.00066\n",
      "frozen yogurt 0.0006 0.0014\n",
      "rack of lamb 0.0015 0.00126\n",
      "tex-mex 0.0074 0.00726\n",
      "mulligatawny soup 0.0078 0.00866\n",
      "short ribs 0.0003 0.00052\n",
      "squid ink pasta 0.0083 0.00802\n",
      "pecan pie 0.0027 0.00212\n",
      "bakso 0.0005 0.0013\n",
      "beet salad 0.0026 0.00212\n",
      "spinach dip 0.0058 0.00652\n",
      "butternut squash soup 0.0026 0.0019\n",
      "deep dish pizza 0.0024 0.00194\n",
      "Zedekiah 0.0001 0\n",
      "pulled pork sandwich 0.0014 0.00172\n",
      "rice pudding 0.0069 0.00706\n",
      "aloo gobi 0.0058 0.00244\n",
      "pierogi 0.0016 0.00218\n",
      "pancakes 0.0019 0.00164\n",
      "foie gras 0.009 0.00826\n",
      "takoyaki 0.0092 0.00912\n",
      "waffles 0.0003 0.00024\n",
      "arancini 0.0001 0.0002\n",
      "chips and salsa 0.0161 0.01528\n",
      "french fries 0.002 0.0022\n",
      "croissant 0.0068 0.0062\n",
      "viennese coffee 0.0034 0.0018\n",
      "pie 0.0004 0.00064\n",
      "chicken wings 0.0074 0.00702\n",
      "creme brulee 0.0022 0.00176\n",
      "turnover 0.0118 0.01002\n",
      "tiramisu 0.0008 0.001\n",
      "pesto sauce 0.0019 0.00136\n",
      "pavlova 0.0003 0.00058\n",
      "roast beef 0.0002 0.00044\n",
      "reuben sandwich 0.0016 0.00108\n",
      "pot roast 0.001 0.00072\n",
      "seaweed salad 0.002 0.00192\n",
      "carpaccio 0.0085 0.0077\n",
      "macarons 0.0005 0.00024\n",
      "chicken piccata 0.0074 0.00642\n",
      "omelette 0.0008 0.00068\n",
      "beignets 0.0007 0.0014\n",
      "bundt cake 0.0025 0.0037\n",
      "sloppy joes 0.0006 0.0005\n",
      "potato salad 0.0002 0.00018\n",
      "lobster roll sandwich 0.0001 0.00018\n",
      "coconut shrimp 0.0002 0.00038\n",
      "chicken quesadilla 0.0009 0.00104\n",
      "tahini 0.0002 0.00054\n",
      "minestrone soup 0.0004 0.00066\n",
      "cannoli 0.001 0.0012\n",
      "shrimp and grits 0.0094 0.00686\n",
      "oatmeal cookie 0.0002 0.00048\n",
      "chicken curry 0.0081 0.00786\n",
      "gyros 0.0092 0.00982\n",
      "profiteroles 0.009 0.00792\n",
      "strawberry shortcake 0.0002 0.00012\n",
      "naan bread 0.0004 0.00034\n",
      "steak 0.0082 0.00854\n",
      "grape leaves 0.0146 0.01604\n",
      "spaghetti carbonara 0.0004 0.00084\n",
      "gumbo 0.0005 0.0005\n",
      "roulade 0.0068 0.00652\n",
      "pizza 0.0006 0.0014\n",
      "thai curry 0.0002 0.00032\n",
      "camembert cheese 0.0004 0.00028\n",
      "cinnamon roll 0.007 0.0063\n",
      "sponge cake 0.0082 0.00726\n",
      "mole sauce 0.0001 0.00022\n",
      "pad thai 0.0072 0.0063\n",
      "polenta 0.0079 0.00774\n",
      "huevos rancheros 0.0007 0.00062\n",
      "general tso's chicken 0.0069 0.0059\n",
      "pepperoni pizza 0.0002 0.00032\n",
      "clafoutis 0.0005 0.00048\n",
      "baba ganoush 0.0004 0.00044\n",
      "chili 0.004 0.0032\n",
      "grilled cheese sandwich 0.0002 0.00032\n",
      "smoked salmon 0.0021 0.00348\n",
      "croque madame 0.0011 0.0019\n",
      "club sandwich 0.0047 0.00324\n",
      "quiche lorraine 0.0001 0.00022\n",
      "hollandaise sauce 0.0002 0.00044\n",
      "potato leek soup 0.0003 0.0003\n",
      "onion rings 0.0002 0.0002\n",
      "Kary 0.0001 0\n",
      "moussaka 0.0033 0.00256\n",
      "Kale 0.0001 0\n",
      "escargots 0.0024 0.00316\n",
      "tamale 0.0021 0.00184\n",
      "fish and chips 0.0024 0.00204\n",
      "jelly doughnut 0.0002 0.0003\n",
      "pho 0.0002 0.00028\n",
      "chicken parmesan 0.0091 0.00816\n",
      "custard 0.0008 0.0017\n",
      "tortilla soup 0.0003 0.0011\n",
      "scallops 0.0005 0.00066\n",
      "coconut cake 0.0011 0.00154\n",
      "enchiladas 0.0001 0.00028\n",
      "blt sandwich 0.0001 0.00054\n",
      "trifle 0.0001 0.0002\n",
      "marzipan 0.0001 0.00018\n",
      "waldorf salad 0.0004 0.00086\n",
      "bruschetta 0.0008 0.0014\n",
      "currywurst 0.0001 0.00034\n",
      "lasagna 0.0002 0.00042\n",
      "muffin 0.0004 0.00048\n",
      "guacamole 0.0001 0.0003\n",
      "churros 0.0005 0.00056\n",
      "spaghetti bolognese 0.0001 0.00038\n",
      "caprese salad 0.0002 0.00084\n",
      "Paulie 0.0001 0\n",
      "egg salad 0.0001 0.00046\n",
      "baby back ribs 0.0001 0.00024\n",
      "popovers 0.0002 6e-05\n",
      "Rossy 0.0001 0\n",
      "crab cakes 0.0001 0.00012\n",
      "macadamia nut cookie 0.0003 0.00166\n",
      "Virginie 0.0001 0\n",
      "stuffed shells 0 0.00018\n"
     ]
    }
   ],
   "source": [
    "s = 0\n",
    "for key in collected_generations:\n",
    "    s += abs(collected_generations[key] - dataset_food_distribution[key])\n",
    "    print(key, collected_generations[key], dataset_food_distribution[key])"
   ]
  }
 ],
 "metadata": {
  "kernelspec": {
   "display_name": "Python 3 (ipykernel)",
   "language": "python",
   "name": "python3"
  },
  "language_info": {
   "codemirror_mode": {
    "name": "ipython",
    "version": 3
   },
   "file_extension": ".py",
   "mimetype": "text/x-python",
   "name": "python",
   "nbconvert_exporter": "python",
   "pygments_lexer": "ipython3",
   "version": "3.11.7"
  }
 },
 "nbformat": 4,
 "nbformat_minor": 4
}
