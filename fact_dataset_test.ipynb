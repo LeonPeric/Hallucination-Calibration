{
 "cells": [
  {
   "cell_type": "code",
   "execution_count": 1,
   "metadata": {
    "ExecuteTime": {
     "end_time": "2024-05-17T15:15:39.544390Z",
     "start_time": "2024-05-17T15:15:39.495381800Z"
    }
   },
   "outputs": [],
   "source": [
    "%load_ext autoreload\n",
    "%autoreload 2"
   ]
  },
  {
   "cell_type": "code",
   "execution_count": 2,
   "metadata": {
    "ExecuteTime": {
     "end_time": "2024-05-17T15:15:40.049914100Z",
     "start_time": "2024-05-17T15:15:40.002906900Z"
    }
   },
   "outputs": [],
   "source": [
    "load_dataset = False\n",
    "load_model = False"
   ]
  },
  {
   "cell_type": "markdown",
   "metadata": {},
   "source": [
    "# Dataset preparing"
   ]
  },
  {
   "cell_type": "code",
   "execution_count": 3,
   "metadata": {
    "ExecuteTime": {
     "end_time": "2024-05-17T15:15:41.605686800Z",
     "start_time": "2024-05-17T15:15:41.044589500Z"
    }
   },
   "outputs": [],
   "source": [
    "from dataset.fact_dataset_generator import FactDatasetGenerator\n",
    "import numpy as np\n",
    "import sys\n",
    "import pandas as pd"
   ]
  },
  {
   "cell_type": "code",
   "execution_count": 58,
   "metadata": {
    "ExecuteTime": {
     "end_time": "2024-05-17T15:36:58.605631Z",
     "start_time": "2024-05-17T15:36:58.511614500Z"
    }
   },
   "outputs": [],
   "source": [
    "true_dist_size = 10000\n",
    "dataset = FactDatasetGenerator(number_person=1000,  distribution=\"zipf\", dataset_folder='./dataset/data/', food_list_name=\"food_list_small.txt\",true_dist_size=true_dist_size, experiment_path=\"experiment/medium_dataset/data/\")"
   ]
  },
  {
   "cell_type": "code",
   "execution_count": 59,
   "metadata": {
    "ExecuteTime": {
     "end_time": "2024-05-17T15:36:59.858460900Z",
     "start_time": "2024-05-17T15:36:59.297862800Z"
    }
   },
   "outputs": [
    {
     "name": "stdout",
     "output_type": "stream",
     "text": [
      "1098\n",
      "101000\n"
     ]
    }
   ],
   "source": [
    "if load_dataset:\n",
    "    dataset.load_dataset()\n",
    "    true_dist = dataset.true_dist \n",
    "    training_data = dataset.training_data\n",
    "else:\n",
    "    # Generate all possible facts\n",
    "    temp = dataset.generate_all_possibilities()\n",
    "    # Sample true dist (zipf)\n",
    "    true_dist = dataset.generate_true_dist()\n",
    "    # Sample training data uniformly, %80 of true dist\n",
    "    training_dataset_size = int(0.3 * true_dist_size)\n",
    "    training_data = dataset.sample_training_data(training_dataset_size,true_dist.tolist())\n",
    "    print(dataset.vocab_size)\n",
    "    print(len(temp))"
   ]
  },
  {
   "cell_type": "code",
   "execution_count": 60,
   "metadata": {
    "collapsed": false,
    "ExecuteTime": {
     "end_time": "2024-05-17T15:37:02.386419400Z",
     "start_time": "2024-05-17T15:37:02.298403700Z"
    }
   },
   "outputs": [],
   "source": [
    "true_dist_df = pd.DataFrame(true_dist,columns=[\"facts\"])"
   ]
  },
  {
   "cell_type": "code",
   "execution_count": 61,
   "metadata": {
    "collapsed": false,
    "ExecuteTime": {
     "end_time": "2024-05-17T15:37:02.610459500Z",
     "start_time": "2024-05-17T15:37:02.500438900Z"
    }
   },
   "outputs": [
    {
     "data": {
      "text/plain": "                                facts\n0                 Derek,tuna tartare \n1        Gibby,lobster roll sandwich \n2              Amalee,lobster bisque \n3                  Robbi,greek salad \n4              Perrine,bread pudding \n...                               ...\n9995             Lesley,filet mignon \n9996        Koressa,shrimp and grits \n9997  Hervey,grilled cheese sandwich \n9998                    Lela,mussels \n9999                 Ilario,pad thai \n\n[10000 rows x 1 columns]",
      "text/html": "<div>\n<style scoped>\n    .dataframe tbody tr th:only-of-type {\n        vertical-align: middle;\n    }\n\n    .dataframe tbody tr th {\n        vertical-align: top;\n    }\n\n    .dataframe thead th {\n        text-align: right;\n    }\n</style>\n<table border=\"1\" class=\"dataframe\">\n  <thead>\n    <tr style=\"text-align: right;\">\n      <th></th>\n      <th>facts</th>\n    </tr>\n  </thead>\n  <tbody>\n    <tr>\n      <th>0</th>\n      <td>Derek,tuna tartare</td>\n    </tr>\n    <tr>\n      <th>1</th>\n      <td>Gibby,lobster roll sandwich</td>\n    </tr>\n    <tr>\n      <th>2</th>\n      <td>Amalee,lobster bisque</td>\n    </tr>\n    <tr>\n      <th>3</th>\n      <td>Robbi,greek salad</td>\n    </tr>\n    <tr>\n      <th>4</th>\n      <td>Perrine,bread pudding</td>\n    </tr>\n    <tr>\n      <th>...</th>\n      <td>...</td>\n    </tr>\n    <tr>\n      <th>9995</th>\n      <td>Lesley,filet mignon</td>\n    </tr>\n    <tr>\n      <th>9996</th>\n      <td>Koressa,shrimp and grits</td>\n    </tr>\n    <tr>\n      <th>9997</th>\n      <td>Hervey,grilled cheese sandwich</td>\n    </tr>\n    <tr>\n      <th>9998</th>\n      <td>Lela,mussels</td>\n    </tr>\n    <tr>\n      <th>9999</th>\n      <td>Ilario,pad thai</td>\n    </tr>\n  </tbody>\n</table>\n<p>10000 rows × 1 columns</p>\n</div>"
     },
     "execution_count": 61,
     "metadata": {},
     "output_type": "execute_result"
    }
   ],
   "source": [
    "true_dist_df"
   ]
  },
  {
   "cell_type": "code",
   "execution_count": 62,
   "metadata": {
    "collapsed": false,
    "ExecuteTime": {
     "end_time": "2024-05-17T15:37:02.820495200Z",
     "start_time": "2024-05-17T15:37:02.712476400Z"
    }
   },
   "outputs": [],
   "source": [
    "true_duplicates_count = true_dist_df.groupby(list(true_dist_df.columns)).size().reset_index(name='count_true')\n"
   ]
  },
  {
   "cell_type": "code",
   "execution_count": 63,
   "metadata": {
    "collapsed": false,
    "ExecuteTime": {
     "end_time": "2024-05-17T15:37:03.080040600Z",
     "start_time": "2024-05-17T15:37:02.949517800Z"
    }
   },
   "outputs": [
    {
     "data": {
      "text/plain": "                        facts  count_true\n0        Abbe,beef carpaccio            1\n1          Abbe,creme brulee            1\n2         Abbe,frozen yogurt            1\n3                 Abbe,ramen            1\n4            Abbi,crab cakes            1\n...                       ...         ...\n4238  Zita,breakfast burrito            1\n4239    Zita,red velvet cake            3\n4240    Zorine,club sandwich            1\n4241        Zorine,hamburger            1\n4242      Zorine,panna cotta            1\n\n[4243 rows x 2 columns]",
      "text/html": "<div>\n<style scoped>\n    .dataframe tbody tr th:only-of-type {\n        vertical-align: middle;\n    }\n\n    .dataframe tbody tr th {\n        vertical-align: top;\n    }\n\n    .dataframe thead th {\n        text-align: right;\n    }\n</style>\n<table border=\"1\" class=\"dataframe\">\n  <thead>\n    <tr style=\"text-align: right;\">\n      <th></th>\n      <th>facts</th>\n      <th>count_true</th>\n    </tr>\n  </thead>\n  <tbody>\n    <tr>\n      <th>0</th>\n      <td>Abbe,beef carpaccio</td>\n      <td>1</td>\n    </tr>\n    <tr>\n      <th>1</th>\n      <td>Abbe,creme brulee</td>\n      <td>1</td>\n    </tr>\n    <tr>\n      <th>2</th>\n      <td>Abbe,frozen yogurt</td>\n      <td>1</td>\n    </tr>\n    <tr>\n      <th>3</th>\n      <td>Abbe,ramen</td>\n      <td>1</td>\n    </tr>\n    <tr>\n      <th>4</th>\n      <td>Abbi,crab cakes</td>\n      <td>1</td>\n    </tr>\n    <tr>\n      <th>...</th>\n      <td>...</td>\n      <td>...</td>\n    </tr>\n    <tr>\n      <th>4238</th>\n      <td>Zita,breakfast burrito</td>\n      <td>1</td>\n    </tr>\n    <tr>\n      <th>4239</th>\n      <td>Zita,red velvet cake</td>\n      <td>3</td>\n    </tr>\n    <tr>\n      <th>4240</th>\n      <td>Zorine,club sandwich</td>\n      <td>1</td>\n    </tr>\n    <tr>\n      <th>4241</th>\n      <td>Zorine,hamburger</td>\n      <td>1</td>\n    </tr>\n    <tr>\n      <th>4242</th>\n      <td>Zorine,panna cotta</td>\n      <td>1</td>\n    </tr>\n  </tbody>\n</table>\n<p>4243 rows × 2 columns</p>\n</div>"
     },
     "execution_count": 63,
     "metadata": {},
     "output_type": "execute_result"
    }
   ],
   "source": [
    "true_duplicates_count"
   ]
  },
  {
   "cell_type": "code",
   "execution_count": 64,
   "metadata": {
    "collapsed": false,
    "ExecuteTime": {
     "end_time": "2024-05-17T15:37:03.225066100Z",
     "start_time": "2024-05-17T15:37:03.133049900Z"
    }
   },
   "outputs": [],
   "source": [
    "training_dist_df = pd.DataFrame(training_data,columns=[\"facts\"])\n",
    "training_duplicates_count = training_dist_df.groupby(list(training_dist_df.columns)).size().reset_index(name='count_train')"
   ]
  },
  {
   "cell_type": "code",
   "execution_count": 65,
   "metadata": {
    "collapsed": false,
    "ExecuteTime": {
     "end_time": "2024-05-17T15:37:03.443104300Z",
     "start_time": "2024-05-17T15:37:03.340586200Z"
    }
   },
   "outputs": [
    {
     "data": {
      "text/plain": "                              facts  count_train\n0               Abbe,frozen yogurt             1\n1                  Abbi,crab cakes             1\n2     Abbi,grilled cheese sandwich             1\n3         Abbi,spaghetti bolognese             1\n4                  Abbie,apple pie             1\n...                             ...          ...\n1591    Zechariah,huevos rancheros             3\n1592       Zedekiah,beef carpaccio             1\n1593                  Zedekiah,pho             1\n1594         Zedekiah,spring rolls             1\n1595          Zorine,club sandwich             1\n\n[1596 rows x 2 columns]",
      "text/html": "<div>\n<style scoped>\n    .dataframe tbody tr th:only-of-type {\n        vertical-align: middle;\n    }\n\n    .dataframe tbody tr th {\n        vertical-align: top;\n    }\n\n    .dataframe thead th {\n        text-align: right;\n    }\n</style>\n<table border=\"1\" class=\"dataframe\">\n  <thead>\n    <tr style=\"text-align: right;\">\n      <th></th>\n      <th>facts</th>\n      <th>count_train</th>\n    </tr>\n  </thead>\n  <tbody>\n    <tr>\n      <th>0</th>\n      <td>Abbe,frozen yogurt</td>\n      <td>1</td>\n    </tr>\n    <tr>\n      <th>1</th>\n      <td>Abbi,crab cakes</td>\n      <td>1</td>\n    </tr>\n    <tr>\n      <th>2</th>\n      <td>Abbi,grilled cheese sandwich</td>\n      <td>1</td>\n    </tr>\n    <tr>\n      <th>3</th>\n      <td>Abbi,spaghetti bolognese</td>\n      <td>1</td>\n    </tr>\n    <tr>\n      <th>4</th>\n      <td>Abbie,apple pie</td>\n      <td>1</td>\n    </tr>\n    <tr>\n      <th>...</th>\n      <td>...</td>\n      <td>...</td>\n    </tr>\n    <tr>\n      <th>1591</th>\n      <td>Zechariah,huevos rancheros</td>\n      <td>3</td>\n    </tr>\n    <tr>\n      <th>1592</th>\n      <td>Zedekiah,beef carpaccio</td>\n      <td>1</td>\n    </tr>\n    <tr>\n      <th>1593</th>\n      <td>Zedekiah,pho</td>\n      <td>1</td>\n    </tr>\n    <tr>\n      <th>1594</th>\n      <td>Zedekiah,spring rolls</td>\n      <td>1</td>\n    </tr>\n    <tr>\n      <th>1595</th>\n      <td>Zorine,club sandwich</td>\n      <td>1</td>\n    </tr>\n  </tbody>\n</table>\n<p>1596 rows × 2 columns</p>\n</div>"
     },
     "execution_count": 65,
     "metadata": {},
     "output_type": "execute_result"
    }
   ],
   "source": [
    "training_duplicates_count"
   ]
  },
  {
   "cell_type": "code",
   "execution_count": 66,
   "metadata": {
    "ExecuteTime": {
     "end_time": "2024-05-17T15:37:03.642640500Z",
     "start_time": "2024-05-17T15:37:03.535621Z"
    }
   },
   "outputs": [],
   "source": [
    "import torch\n",
    "## get the training  datasets\n",
    "train_dataset = [torch.tensor(x, dtype=torch.long) for x in dataset.tokenized_training_data]\n"
   ]
  },
  {
   "cell_type": "code",
   "execution_count": 67,
   "metadata": {
    "ExecuteTime": {
     "end_time": "2024-05-17T15:37:03.841173800Z",
     "start_time": "2024-05-17T15:37:03.730656100Z"
    }
   },
   "outputs": [
    {
     "name": "stdout",
     "output_type": "stream",
     "text": [
      "<__main__.MyDataset object at 0x00000201F31298E0>\n"
     ]
    }
   ],
   "source": [
    "from torch.utils.data import Dataset\n",
    "\n",
    "## create a dataset class\n",
    "class MyDataset(Dataset):\n",
    "    def __init__(self, data):\n",
    "        self.data = data\n",
    "\n",
    "    def __len__(self):\n",
    "        return len(self.data)\n",
    "\n",
    "    def __getitem__(self, idx):\n",
    "        # Assuming each item in data is a sequence and we use the same sequence shifted by one as the target\n",
    "        x = torch.tensor(self.data[idx][:-1], dtype=torch.long)\n",
    "        y = torch.tensor(self.data[idx][1:], dtype=torch.long)\n",
    "        #print(x)\n",
    "        #print(y)\n",
    "        \n",
    "        return x, y\n",
    "\n",
    "\n",
    "## create the datasets\n",
    "train_data = MyDataset(train_dataset)\n",
    "# test_data = MyDataset(test_dataset)\n",
    "\n",
    "print(train_data)"
   ]
  },
  {
   "cell_type": "markdown",
   "metadata": {},
   "source": [
    "# Model preparing"
   ]
  },
  {
   "cell_type": "code",
   "execution_count": 68,
   "metadata": {
    "ExecuteTime": {
     "end_time": "2024-05-17T15:37:04.618810500Z",
     "start_time": "2024-05-17T15:37:04.036208500Z"
    }
   },
   "outputs": [
    {
     "name": "stdout",
     "output_type": "stream",
     "text": [
      "number of parameters: 38.39M\n"
     ]
    }
   ],
   "source": [
    "## import mingpt\n",
    "sys.path.append('minGPT/')\n",
    "from mingpt.model import GPT\n",
    "from mingpt.utils import set_seed\n",
    "set_seed(42)\n",
    "\n",
    "model_config = GPT.get_default_config()\n",
    "model_config.n_layer=12\n",
    "model_config.n_head=8\n",
    "model_config.n_embd=512\n",
    "model_config.vocab_size = dataset.vocab_size\n",
    "model_config.model_type = None\n",
    "model_config.block_size = 2\n",
    "\n",
    "# model_config.model_type = 'gpt-nano'\n",
    "# model_config.vocab_size = dataset.vocab_size\n",
    "# model_config.block_size = 2\n",
    "\n",
    "model = GPT(model_config).to(\"cuda\")"
   ]
  },
  {
   "cell_type": "code",
   "execution_count": 69,
   "metadata": {
    "ExecuteTime": {
     "end_time": "2024-05-17T15:37:04.715327700Z",
     "start_time": "2024-05-17T15:37:04.620310600Z"
    }
   },
   "outputs": [
    {
     "name": "stdout",
     "output_type": "stream",
     "text": [
      "running on device cuda\n"
     ]
    }
   ],
   "source": [
    "# create a Trainer object\n",
    "from mingpt.trainer import Trainer\n",
    "\n",
    "train_config = Trainer.get_default_config()\n",
    "train_config.learning_rate = 5e-5 # the model we're using is so small that we can go a bit faster\n",
    "train_config.max_iters = 20000\n",
    "train_config.num_workers = 0\n",
    "trainer = Trainer(train_config, model, train_data)"
   ]
  },
  {
   "cell_type": "markdown",
   "metadata": {},
   "source": [
    "# Training the model"
   ]
  },
  {
   "cell_type": "code",
   "execution_count": 70,
   "metadata": {
    "ExecuteTime": {
     "end_time": "2024-05-17T15:46:06.871363900Z",
     "start_time": "2024-05-17T15:37:04.713827800Z"
    }
   },
   "outputs": [
    {
     "name": "stdout",
     "output_type": "stream",
     "text": [
      "iter_dt 0.00ms; iter 0: train loss 7.11403\n"
     ]
    },
    {
     "name": "stderr",
     "output_type": "stream",
     "text": [
      "C:\\Users\\Batu\\AppData\\Local\\Temp\\ipykernel_198592\\4291040295.py:13: UserWarning: To copy construct from a tensor, it is recommended to use sourceTensor.clone().detach() or sourceTensor.clone().detach().requires_grad_(True), rather than torch.tensor(sourceTensor).\n",
      "  x = torch.tensor(self.data[idx][:-1], dtype=torch.long)\n",
      "C:\\Users\\Batu\\AppData\\Local\\Temp\\ipykernel_198592\\4291040295.py:14: UserWarning: To copy construct from a tensor, it is recommended to use sourceTensor.clone().detach() or sourceTensor.clone().detach().requires_grad_(True), rather than torch.tensor(sourceTensor).\n",
      "  y = torch.tensor(self.data[idx][1:], dtype=torch.long)\n"
     ]
    },
    {
     "name": "stdout",
     "output_type": "stream",
     "text": [
      "iter_dt 2.70ms; iter 100: train loss 4.60718\n",
      "iter_dt 2.90ms; iter 200: train loss 4.40566\n",
      "iter_dt 2.65ms; iter 300: train loss 4.20740\n",
      "iter_dt 2.60ms; iter 400: train loss 3.66938\n",
      "iter_dt 2.80ms; iter 500: train loss 3.91306\n",
      "iter_dt 2.80ms; iter 600: train loss 3.39998\n",
      "iter_dt 2.80ms; iter 700: train loss 3.21163\n",
      "iter_dt 2.65ms; iter 800: train loss 3.45977\n",
      "iter_dt 2.65ms; iter 900: train loss 3.39792\n",
      "iter_dt 3.20ms; iter 1000: train loss 3.54993\n",
      "iter_dt 2.60ms; iter 1100: train loss 3.40869\n",
      "iter_dt 2.55ms; iter 1200: train loss 3.38120\n",
      "iter_dt 2.60ms; iter 1300: train loss 3.17794\n",
      "iter_dt 2.50ms; iter 1400: train loss 3.29619\n",
      "iter_dt 2.90ms; iter 1500: train loss 3.58085\n",
      "iter_dt 2.55ms; iter 1600: train loss 3.42852\n",
      "iter_dt 3.15ms; iter 1700: train loss 3.28637\n",
      "iter_dt 2.75ms; iter 1800: train loss 3.08179\n",
      "iter_dt 2.60ms; iter 1900: train loss 3.24264\n",
      "iter_dt 2.55ms; iter 2000: train loss 3.19560\n",
      "iter_dt 2.75ms; iter 2100: train loss 3.25350\n",
      "iter_dt 2.55ms; iter 2200: train loss 3.48705\n",
      "iter_dt 2.80ms; iter 2300: train loss 3.50877\n",
      "iter_dt 2.80ms; iter 2400: train loss 3.65421\n",
      "iter_dt 2.60ms; iter 2500: train loss 3.33595\n",
      "iter_dt 2.90ms; iter 2600: train loss 3.57415\n",
      "iter_dt 2.50ms; iter 2700: train loss 3.59027\n",
      "iter_dt 2.85ms; iter 2800: train loss 3.39165\n",
      "iter_dt 2.60ms; iter 2900: train loss 3.38320\n",
      "iter_dt 2.95ms; iter 3000: train loss 3.13756\n",
      "iter_dt 2.65ms; iter 3100: train loss 3.34132\n",
      "iter_dt 2.85ms; iter 3200: train loss 3.44705\n",
      "iter_dt 2.80ms; iter 3300: train loss 3.25526\n",
      "iter_dt 2.55ms; iter 3400: train loss 3.52655\n",
      "iter_dt 2.65ms; iter 3500: train loss 3.44025\n",
      "iter_dt 2.60ms; iter 3600: train loss 3.30659\n",
      "iter_dt 2.65ms; iter 3700: train loss 3.30740\n",
      "iter_dt 2.60ms; iter 3800: train loss 3.16655\n",
      "iter_dt 2.70ms; iter 3900: train loss 3.33342\n",
      "iter_dt 2.65ms; iter 4000: train loss 3.55753\n",
      "iter_dt 2.60ms; iter 4100: train loss 3.55575\n",
      "iter_dt 2.70ms; iter 4200: train loss 3.31420\n",
      "iter_dt 2.65ms; iter 4300: train loss 3.32138\n",
      "iter_dt 2.65ms; iter 4400: train loss 3.19626\n",
      "iter_dt 2.60ms; iter 4500: train loss 3.17330\n",
      "iter_dt 2.55ms; iter 4600: train loss 3.17472\n",
      "iter_dt 2.60ms; iter 4700: train loss 3.25231\n",
      "iter_dt 2.70ms; iter 4800: train loss 3.63661\n",
      "iter_dt 2.70ms; iter 4900: train loss 3.20954\n",
      "iter_dt 2.95ms; iter 5000: train loss 3.22975\n",
      "iter_dt 2.70ms; iter 5100: train loss 3.41507\n",
      "iter_dt 2.85ms; iter 5200: train loss 3.58490\n",
      "iter_dt 2.75ms; iter 5300: train loss 3.18717\n",
      "iter_dt 2.65ms; iter 5400: train loss 3.21847\n",
      "iter_dt 2.60ms; iter 5500: train loss 3.35002\n",
      "iter_dt 2.55ms; iter 5600: train loss 3.56218\n",
      "iter_dt 2.70ms; iter 5700: train loss 3.28762\n",
      "iter_dt 2.70ms; iter 5800: train loss 3.31447\n",
      "iter_dt 2.60ms; iter 5900: train loss 3.33845\n",
      "iter_dt 2.90ms; iter 6000: train loss 3.14241\n",
      "iter_dt 3.00ms; iter 6100: train loss 3.20128\n",
      "iter_dt 2.60ms; iter 6200: train loss 3.27699\n",
      "iter_dt 2.60ms; iter 6300: train loss 3.38366\n",
      "iter_dt 2.60ms; iter 6400: train loss 3.27546\n",
      "iter_dt 2.60ms; iter 6500: train loss 3.28051\n",
      "iter_dt 2.80ms; iter 6600: train loss 3.29995\n",
      "iter_dt 2.60ms; iter 6700: train loss 3.32946\n",
      "iter_dt 2.55ms; iter 6800: train loss 3.22491\n",
      "iter_dt 2.80ms; iter 6900: train loss 3.32986\n",
      "iter_dt 2.65ms; iter 7000: train loss 3.27139\n",
      "iter_dt 2.90ms; iter 7100: train loss 3.25572\n",
      "iter_dt 2.60ms; iter 7200: train loss 3.25191\n",
      "iter_dt 2.60ms; iter 7300: train loss 3.60460\n",
      "iter_dt 2.80ms; iter 7400: train loss 3.31256\n",
      "iter_dt 2.65ms; iter 7500: train loss 3.11729\n",
      "iter_dt 2.65ms; iter 7600: train loss 3.29447\n",
      "iter_dt 2.55ms; iter 7700: train loss 3.27138\n",
      "iter_dt 2.60ms; iter 7800: train loss 3.38188\n",
      "iter_dt 2.60ms; iter 7900: train loss 3.32175\n",
      "iter_dt 2.60ms; iter 8000: train loss 3.25498\n",
      "iter_dt 2.70ms; iter 8100: train loss 3.57250\n",
      "iter_dt 2.75ms; iter 8200: train loss 3.34599\n",
      "iter_dt 2.90ms; iter 8300: train loss 3.16295\n",
      "iter_dt 2.60ms; iter 8400: train loss 3.23775\n",
      "iter_dt 2.65ms; iter 8500: train loss 3.31565\n",
      "iter_dt 2.60ms; iter 8600: train loss 3.29474\n",
      "iter_dt 2.60ms; iter 8700: train loss 3.17449\n",
      "iter_dt 2.80ms; iter 8800: train loss 3.39461\n",
      "iter_dt 2.90ms; iter 8900: train loss 3.16606\n",
      "iter_dt 2.60ms; iter 9000: train loss 3.36946\n",
      "iter_dt 2.65ms; iter 9100: train loss 3.12415\n",
      "iter_dt 2.80ms; iter 9200: train loss 3.30045\n",
      "iter_dt 2.65ms; iter 9300: train loss 3.61425\n",
      "iter_dt 2.65ms; iter 9400: train loss 3.15771\n",
      "iter_dt 2.65ms; iter 9500: train loss 3.31693\n",
      "iter_dt 2.90ms; iter 9600: train loss 3.31724\n",
      "iter_dt 2.65ms; iter 9700: train loss 3.27045\n",
      "iter_dt 2.55ms; iter 9800: train loss 3.37604\n",
      "iter_dt 2.55ms; iter 9900: train loss 3.20343\n",
      "iter_dt 2.60ms; iter 10000: train loss 3.03639\n",
      "iter_dt 2.55ms; iter 10100: train loss 2.93090\n",
      "iter_dt 2.55ms; iter 10200: train loss 3.18224\n",
      "iter_dt 2.65ms; iter 10300: train loss 3.24539\n",
      "iter_dt 2.85ms; iter 10400: train loss 3.23352\n",
      "iter_dt 2.65ms; iter 10500: train loss 3.55268\n",
      "iter_dt 3.20ms; iter 10600: train loss 3.29030\n",
      "iter_dt 3.15ms; iter 10700: train loss 3.29692\n",
      "iter_dt 2.60ms; iter 10800: train loss 3.52956\n",
      "iter_dt 2.70ms; iter 10900: train loss 3.22825\n",
      "iter_dt 2.55ms; iter 11000: train loss 3.20840\n",
      "iter_dt 2.55ms; iter 11100: train loss 3.27525\n",
      "iter_dt 3.50ms; iter 11200: train loss 3.39861\n",
      "iter_dt 2.75ms; iter 11300: train loss 3.37681\n",
      "iter_dt 2.65ms; iter 11400: train loss 3.11956\n",
      "iter_dt 2.75ms; iter 11500: train loss 3.25069\n",
      "iter_dt 2.65ms; iter 11600: train loss 3.26396\n",
      "iter_dt 2.65ms; iter 11700: train loss 3.53541\n",
      "iter_dt 2.70ms; iter 11800: train loss 3.15982\n",
      "iter_dt 2.70ms; iter 11900: train loss 3.35708\n",
      "iter_dt 2.60ms; iter 12000: train loss 3.19509\n",
      "iter_dt 2.65ms; iter 12100: train loss 3.36673\n",
      "iter_dt 2.75ms; iter 12200: train loss 3.35175\n",
      "iter_dt 2.90ms; iter 12300: train loss 3.22648\n",
      "iter_dt 2.70ms; iter 12400: train loss 3.23679\n",
      "iter_dt 2.70ms; iter 12500: train loss 3.24543\n",
      "iter_dt 2.85ms; iter 12600: train loss 3.32715\n",
      "iter_dt 2.60ms; iter 12700: train loss 3.20741\n",
      "iter_dt 2.65ms; iter 12800: train loss 3.29366\n",
      "iter_dt 2.50ms; iter 12900: train loss 3.28276\n",
      "iter_dt 2.55ms; iter 13000: train loss 3.34267\n",
      "iter_dt 2.65ms; iter 13100: train loss 3.29252\n",
      "iter_dt 2.55ms; iter 13200: train loss 3.42357\n",
      "iter_dt 2.60ms; iter 13300: train loss 3.11907\n",
      "iter_dt 2.65ms; iter 13400: train loss 3.46224\n",
      "iter_dt 2.60ms; iter 13500: train loss 3.24302\n",
      "iter_dt 2.80ms; iter 13600: train loss 3.24540\n",
      "iter_dt 2.80ms; iter 13700: train loss 3.04284\n",
      "iter_dt 2.45ms; iter 13800: train loss 3.36118\n",
      "iter_dt 2.55ms; iter 13900: train loss 3.33774\n",
      "iter_dt 2.70ms; iter 14000: train loss 3.35667\n",
      "iter_dt 2.75ms; iter 14100: train loss 3.29806\n",
      "iter_dt 3.05ms; iter 14200: train loss 3.21878\n",
      "iter_dt 2.65ms; iter 14300: train loss 3.07243\n",
      "iter_dt 2.75ms; iter 14400: train loss 3.14772\n",
      "iter_dt 2.70ms; iter 14500: train loss 3.39795\n",
      "iter_dt 2.60ms; iter 14600: train loss 3.35242\n",
      "iter_dt 3.10ms; iter 14700: train loss 3.19005\n",
      "iter_dt 3.35ms; iter 14800: train loss 3.32171\n",
      "iter_dt 2.95ms; iter 14900: train loss 3.16296\n",
      "iter_dt 2.85ms; iter 15000: train loss 3.40584\n",
      "iter_dt 3.25ms; iter 15100: train loss 3.12895\n",
      "iter_dt 3.00ms; iter 15200: train loss 3.41312\n",
      "iter_dt 2.60ms; iter 15300: train loss 3.34940\n",
      "iter_dt 2.60ms; iter 15400: train loss 3.27872\n",
      "iter_dt 2.70ms; iter 15500: train loss 3.29568\n",
      "iter_dt 2.60ms; iter 15600: train loss 3.31873\n",
      "iter_dt 2.80ms; iter 15700: train loss 3.16456\n",
      "iter_dt 2.70ms; iter 15800: train loss 3.25686\n",
      "iter_dt 2.75ms; iter 15900: train loss 3.18463\n",
      "iter_dt 2.75ms; iter 16000: train loss 3.25723\n",
      "iter_dt 2.70ms; iter 16100: train loss 3.38803\n",
      "iter_dt 2.60ms; iter 16200: train loss 3.34320\n",
      "iter_dt 2.60ms; iter 16300: train loss 3.14345\n",
      "iter_dt 2.65ms; iter 16400: train loss 3.34513\n",
      "iter_dt 2.65ms; iter 16500: train loss 3.12797\n",
      "iter_dt 2.55ms; iter 16600: train loss 3.23802\n",
      "iter_dt 2.65ms; iter 16700: train loss 3.43637\n",
      "iter_dt 2.70ms; iter 16800: train loss 3.22147\n",
      "iter_dt 2.60ms; iter 16900: train loss 3.46649\n",
      "iter_dt 2.70ms; iter 17000: train loss 3.02272\n",
      "iter_dt 2.60ms; iter 17100: train loss 3.44870\n",
      "iter_dt 2.75ms; iter 17200: train loss 3.15773\n",
      "iter_dt 2.65ms; iter 17300: train loss 3.31174\n",
      "iter_dt 2.65ms; iter 17400: train loss 3.23640\n",
      "iter_dt 2.55ms; iter 17500: train loss 3.35741\n",
      "iter_dt 2.60ms; iter 17600: train loss 3.35429\n",
      "iter_dt 2.60ms; iter 17700: train loss 2.97312\n",
      "iter_dt 2.55ms; iter 17800: train loss 3.40236\n",
      "iter_dt 2.70ms; iter 17900: train loss 3.17635\n",
      "iter_dt 2.55ms; iter 18000: train loss 3.08776\n",
      "iter_dt 2.75ms; iter 18100: train loss 3.26767\n",
      "iter_dt 3.30ms; iter 18200: train loss 3.21745\n",
      "iter_dt 2.60ms; iter 18300: train loss 3.33460\n",
      "iter_dt 2.55ms; iter 18400: train loss 3.19081\n",
      "iter_dt 3.45ms; iter 18500: train loss 3.34198\n",
      "iter_dt 2.70ms; iter 18600: train loss 3.43244\n",
      "iter_dt 2.80ms; iter 18700: train loss 3.46902\n",
      "iter_dt 2.65ms; iter 18800: train loss 3.46466\n",
      "iter_dt 2.65ms; iter 18900: train loss 3.33942\n",
      "iter_dt 2.60ms; iter 19000: train loss 3.32337\n",
      "iter_dt 2.70ms; iter 19100: train loss 3.36239\n",
      "iter_dt 2.60ms; iter 19200: train loss 3.27929\n",
      "iter_dt 2.65ms; iter 19300: train loss 3.02775\n",
      "iter_dt 2.70ms; iter 19400: train loss 3.36574\n",
      "iter_dt 2.65ms; iter 19500: train loss 3.21808\n",
      "iter_dt 2.60ms; iter 19600: train loss 2.97301\n",
      "iter_dt 2.70ms; iter 19700: train loss 3.51018\n",
      "iter_dt 2.55ms; iter 19800: train loss 3.24531\n",
      "iter_dt 2.70ms; iter 19900: train loss 3.11924\n",
      "Best loss is: 2.9308969974517822 on epoch: 10100\n"
     ]
    }
   ],
   "source": [
    "best_iter = 100000000000000\n",
    "best_epoch = 0\n",
    "def batch_end_callback(trainer):\n",
    "    global best_iter\n",
    "    global best_epoch\n",
    "    if trainer.iter_num % 100 == 0:\n",
    "        print(f\"iter_dt {trainer.iter_dt * 100:.2f}ms; iter {trainer.iter_num}: train loss {trainer.loss.item():.5f}\")\n",
    "        if trainer.loss.item() < best_iter:\n",
    "            best_iter = trainer.loss.item()\n",
    "            best_epoch = trainer.iter_num\n",
    "            torch.save(model.state_dict(), dataset.experiment_path[:-5] + \"model.pt\")\n",
    "trainer.set_callback('on_batch_end', batch_end_callback)\n",
    "\n",
    "if load_model:\n",
    "    model.load_state_dict(torch.load(\"experiment/model.pt\"))\n",
    "else:\n",
    "    trainer.run()\n",
    "    print(f\"Best loss is: {best_iter} on epoch: {best_epoch}\")"
   ]
  },
  {
   "cell_type": "code",
   "execution_count": 71,
   "metadata": {
    "ExecuteTime": {
     "end_time": "2024-05-17T15:46:06.964380600Z",
     "start_time": "2024-05-17T15:46:06.872864500Z"
    }
   },
   "outputs": [
    {
     "data": {
      "text/plain": "GPT(\n  (transformer): ModuleDict(\n    (wte): Embedding(1098, 512)\n    (wpe): Embedding(2, 512)\n    (drop): Dropout(p=0.1, inplace=False)\n    (h): ModuleList(\n      (0-11): 12 x Block(\n        (ln_1): LayerNorm((512,), eps=1e-05, elementwise_affine=True)\n        (attn): CausalSelfAttention(\n          (c_attn): Linear(in_features=512, out_features=1536, bias=True)\n          (c_proj): Linear(in_features=512, out_features=512, bias=True)\n          (attn_dropout): Dropout(p=0.1, inplace=False)\n          (resid_dropout): Dropout(p=0.1, inplace=False)\n        )\n        (ln_2): LayerNorm((512,), eps=1e-05, elementwise_affine=True)\n        (mlp): ModuleDict(\n          (c_fc): Linear(in_features=512, out_features=2048, bias=True)\n          (c_proj): Linear(in_features=2048, out_features=512, bias=True)\n          (act): NewGELU()\n          (dropout): Dropout(p=0.1, inplace=False)\n        )\n      )\n    )\n    (ln_f): LayerNorm((512,), eps=1e-05, elementwise_affine=True)\n  )\n  (lm_head): Linear(in_features=512, out_features=1098, bias=False)\n)"
     },
     "execution_count": 71,
     "metadata": {},
     "output_type": "execute_result"
    }
   ],
   "source": [
    "# now let's perform some evaluation\n",
    "model.eval()"
   ]
  },
  {
   "cell_type": "markdown",
   "metadata": {},
   "source": [
    "# Generate unconditioned facts"
   ]
  },
  {
   "cell_type": "code",
   "execution_count": 72,
   "metadata": {
    "ExecuteTime": {
     "end_time": "2024-05-17T15:46:07.057898300Z",
     "start_time": "2024-05-17T15:46:06.965380400Z"
    }
   },
   "outputs": [],
   "source": [
    "from tqdm import tqdm\n",
    "import pandas as pd\n",
    "import matplotlib.pyplot as plt\n",
    "import numpy as np\n"
   ]
  },
  {
   "cell_type": "code",
   "execution_count": 73,
   "metadata": {
    "collapsed": false,
    "ExecuteTime": {
     "end_time": "2024-05-17T15:46:38.093836900Z",
     "start_time": "2024-05-17T15:46:07.057898300Z"
    }
   },
   "outputs": [],
   "source": [
    "n_sequences = 1000\n",
    "from collections import defaultdict\n",
    "collected_generations = []\n",
    "\n",
    "for _ in range(n_sequences):\n",
    "    x = torch.Tensor([0]).unsqueeze(0).long().to(\"cuda\")\n",
    "    y_gen = model.generate(x, 2, do_sample=True)\n",
    "    name = food_item = dataset.decode([y_gen[0][1]])[0]\n",
    "    food_item = dataset.decode([y_gen[0][2]])[0]\n",
    "    collected_generations.append(f\"{name},{food_item}\")"
   ]
  },
  {
   "cell_type": "code",
   "execution_count": 74,
   "metadata": {
    "collapsed": false,
    "ExecuteTime": {
     "end_time": "2024-05-17T15:46:38.186853700Z",
     "start_time": "2024-05-17T15:46:38.094838200Z"
    }
   },
   "outputs": [],
   "source": [
    "collected_generations_df = pd.DataFrame(collected_generations, columns=[\"facts\"])"
   ]
  },
  {
   "cell_type": "code",
   "execution_count": 75,
   "metadata": {
    "collapsed": false,
    "ExecuteTime": {
     "end_time": "2024-05-17T15:46:38.279869600Z",
     "start_time": "2024-05-17T15:46:38.188353600Z"
    }
   },
   "outputs": [],
   "source": [
    "collected_generations_counts = collected_generations_df.groupby(list(collected_generations_df.columns)).size().reset_index(name='count_generated')\n"
   ]
  },
  {
   "cell_type": "code",
   "execution_count": 76,
   "metadata": {
    "collapsed": false,
    "ExecuteTime": {
     "end_time": "2024-05-17T15:46:38.373386100Z",
     "start_time": "2024-05-17T15:46:38.280869900Z"
    }
   },
   "outputs": [
    {
     "data": {
      "text/plain": "                              facts  count_generated\n0               Abbe,frozen yogurt                 1\n1     Abbi,grilled cheese sandwich                 1\n2                  Abbot,escargots                 1\n3                   Abbot,tiramisu                 1\n4                   Abbye,takoyaki                 1\n..                              ...              ...\n527  spaghetti bolognese ,macarons                 1\n528     spaghetti carbonara ,Robbyn                1\n529     spaghetti carbonara ,Shaina                1\n530           spring rolls ,Virgina                1\n531                tiramisu ,Ashton                1\n\n[532 rows x 2 columns]",
      "text/html": "<div>\n<style scoped>\n    .dataframe tbody tr th:only-of-type {\n        vertical-align: middle;\n    }\n\n    .dataframe tbody tr th {\n        vertical-align: top;\n    }\n\n    .dataframe thead th {\n        text-align: right;\n    }\n</style>\n<table border=\"1\" class=\"dataframe\">\n  <thead>\n    <tr style=\"text-align: right;\">\n      <th></th>\n      <th>facts</th>\n      <th>count_generated</th>\n    </tr>\n  </thead>\n  <tbody>\n    <tr>\n      <th>0</th>\n      <td>Abbe,frozen yogurt</td>\n      <td>1</td>\n    </tr>\n    <tr>\n      <th>1</th>\n      <td>Abbi,grilled cheese sandwich</td>\n      <td>1</td>\n    </tr>\n    <tr>\n      <th>2</th>\n      <td>Abbot,escargots</td>\n      <td>1</td>\n    </tr>\n    <tr>\n      <th>3</th>\n      <td>Abbot,tiramisu</td>\n      <td>1</td>\n    </tr>\n    <tr>\n      <th>4</th>\n      <td>Abbye,takoyaki</td>\n      <td>1</td>\n    </tr>\n    <tr>\n      <th>...</th>\n      <td>...</td>\n      <td>...</td>\n    </tr>\n    <tr>\n      <th>527</th>\n      <td>spaghetti bolognese ,macarons</td>\n      <td>1</td>\n    </tr>\n    <tr>\n      <th>528</th>\n      <td>spaghetti carbonara ,Robbyn</td>\n      <td>1</td>\n    </tr>\n    <tr>\n      <th>529</th>\n      <td>spaghetti carbonara ,Shaina</td>\n      <td>1</td>\n    </tr>\n    <tr>\n      <th>530</th>\n      <td>spring rolls ,Virgina</td>\n      <td>1</td>\n    </tr>\n    <tr>\n      <th>531</th>\n      <td>tiramisu ,Ashton</td>\n      <td>1</td>\n    </tr>\n  </tbody>\n</table>\n<p>532 rows × 2 columns</p>\n</div>"
     },
     "execution_count": 76,
     "metadata": {},
     "output_type": "execute_result"
    }
   ],
   "source": [
    "collected_generations_counts"
   ]
  },
  {
   "cell_type": "code",
   "execution_count": 77,
   "metadata": {
    "collapsed": false,
    "ExecuteTime": {
     "end_time": "2024-05-17T15:46:38.466403400Z",
     "start_time": "2024-05-17T15:46:38.374387400Z"
    }
   },
   "outputs": [],
   "source": [
    "# Merge true dist and training dist dataframes, outer is used to include data that is not in training data as well\n",
    "merged_df = pd.merge(true_duplicates_count, training_duplicates_count, on='facts', how='outer')"
   ]
  },
  {
   "cell_type": "code",
   "execution_count": 78,
   "metadata": {
    "collapsed": false,
    "ExecuteTime": {
     "end_time": "2024-05-17T15:46:38.559419500Z",
     "start_time": "2024-05-17T15:46:38.466403400Z"
    }
   },
   "outputs": [],
   "source": [
    "# Add generated_df to true and training dfs \n",
    "# outer can be used to include all facts in true dist\n",
    "# inner can be used to only show the comparison of generated facts\n",
    "comparison_df = pd.merge(merged_df, collected_generations_counts, on='facts', how='outer')"
   ]
  },
  {
   "cell_type": "code",
   "execution_count": 79,
   "metadata": {
    "collapsed": false,
    "ExecuteTime": {
     "end_time": "2024-05-17T15:46:38.651435500Z",
     "start_time": "2024-05-17T15:46:38.560420100Z"
    }
   },
   "outputs": [
    {
     "data": {
      "text/plain": "                               facts  count_true  count_train  count_generated\n0               Abbe,beef carpaccio          1.0          NaN              NaN\n1                 Abbe,creme brulee          1.0          NaN              NaN\n2                Abbe,frozen yogurt          1.0          1.0              1.0\n3                        Abbe,ramen          1.0          NaN              NaN\n4                   Abbi,crab cakes          1.0          1.0              NaN\n...                              ...         ...          ...              ...\n4286  spaghetti bolognese ,macarons          NaN          NaN              1.0\n4287     spaghetti carbonara ,Robbyn         NaN          NaN              1.0\n4288     spaghetti carbonara ,Shaina         NaN          NaN              1.0\n4289           spring rolls ,Virgina         NaN          NaN              1.0\n4290                tiramisu ,Ashton         NaN          NaN              1.0\n\n[4291 rows x 4 columns]",
      "text/html": "<div>\n<style scoped>\n    .dataframe tbody tr th:only-of-type {\n        vertical-align: middle;\n    }\n\n    .dataframe tbody tr th {\n        vertical-align: top;\n    }\n\n    .dataframe thead th {\n        text-align: right;\n    }\n</style>\n<table border=\"1\" class=\"dataframe\">\n  <thead>\n    <tr style=\"text-align: right;\">\n      <th></th>\n      <th>facts</th>\n      <th>count_true</th>\n      <th>count_train</th>\n      <th>count_generated</th>\n    </tr>\n  </thead>\n  <tbody>\n    <tr>\n      <th>0</th>\n      <td>Abbe,beef carpaccio</td>\n      <td>1.0</td>\n      <td>NaN</td>\n      <td>NaN</td>\n    </tr>\n    <tr>\n      <th>1</th>\n      <td>Abbe,creme brulee</td>\n      <td>1.0</td>\n      <td>NaN</td>\n      <td>NaN</td>\n    </tr>\n    <tr>\n      <th>2</th>\n      <td>Abbe,frozen yogurt</td>\n      <td>1.0</td>\n      <td>1.0</td>\n      <td>1.0</td>\n    </tr>\n    <tr>\n      <th>3</th>\n      <td>Abbe,ramen</td>\n      <td>1.0</td>\n      <td>NaN</td>\n      <td>NaN</td>\n    </tr>\n    <tr>\n      <th>4</th>\n      <td>Abbi,crab cakes</td>\n      <td>1.0</td>\n      <td>1.0</td>\n      <td>NaN</td>\n    </tr>\n    <tr>\n      <th>...</th>\n      <td>...</td>\n      <td>...</td>\n      <td>...</td>\n      <td>...</td>\n    </tr>\n    <tr>\n      <th>4286</th>\n      <td>spaghetti bolognese ,macarons</td>\n      <td>NaN</td>\n      <td>NaN</td>\n      <td>1.0</td>\n    </tr>\n    <tr>\n      <th>4287</th>\n      <td>spaghetti carbonara ,Robbyn</td>\n      <td>NaN</td>\n      <td>NaN</td>\n      <td>1.0</td>\n    </tr>\n    <tr>\n      <th>4288</th>\n      <td>spaghetti carbonara ,Shaina</td>\n      <td>NaN</td>\n      <td>NaN</td>\n      <td>1.0</td>\n    </tr>\n    <tr>\n      <th>4289</th>\n      <td>spring rolls ,Virgina</td>\n      <td>NaN</td>\n      <td>NaN</td>\n      <td>1.0</td>\n    </tr>\n    <tr>\n      <th>4290</th>\n      <td>tiramisu ,Ashton</td>\n      <td>NaN</td>\n      <td>NaN</td>\n      <td>1.0</td>\n    </tr>\n  </tbody>\n</table>\n<p>4291 rows × 4 columns</p>\n</div>"
     },
     "execution_count": 79,
     "metadata": {},
     "output_type": "execute_result"
    }
   ],
   "source": [
    "comparison_df"
   ]
  },
  {
   "cell_type": "code",
   "execution_count": 80,
   "metadata": {
    "collapsed": false,
    "ExecuteTime": {
     "end_time": "2024-05-17T15:46:38.745451400Z",
     "start_time": "2024-05-17T15:46:38.652936300Z"
    }
   },
   "outputs": [],
   "source": [
    "# Fill in 0 for facts that not appear\n",
    "comparison_df = comparison_df.fillna(0)"
   ]
  },
  {
   "cell_type": "code",
   "execution_count": 81,
   "metadata": {
    "collapsed": false,
    "ExecuteTime": {
     "end_time": "2024-05-17T15:46:38.838469Z",
     "start_time": "2024-05-17T15:46:38.746951500Z"
    }
   },
   "outputs": [],
   "source": [
    "# Normalize the counts by length\n",
    "comparison_df[\"count_generated\"] = comparison_df['count_generated']/len(collected_generations)\n",
    "comparison_df[\"count_train\"] = comparison_df['count_train']/len(training_data)\n",
    "comparison_df[\"count_true\"] = comparison_df['count_true']/len(true_dist)\n"
   ]
  },
  {
   "cell_type": "code",
   "execution_count": 82,
   "metadata": {
    "collapsed": false,
    "ExecuteTime": {
     "end_time": "2024-05-17T15:46:38.931484Z",
     "start_time": "2024-05-17T15:46:38.838469Z"
    }
   },
   "outputs": [],
   "source": [
    "comparison_df = comparison_df.sort_values(by=['count_generated'], ascending=False)"
   ]
  },
  {
   "cell_type": "code",
   "execution_count": 83,
   "metadata": {
    "ExecuteTime": {
     "end_time": "2024-05-17T15:46:39.023999800Z",
     "start_time": "2024-05-17T15:46:38.931984Z"
    }
   },
   "outputs": [
    {
     "data": {
      "text/plain": "                                facts  count_true  count_train  \\\n1854                 Isadora,ceviche       0.0856     0.077333   \n2195              Kelli,creme brulee       0.0415     0.040000   \n3236           Perrine,bread pudding       0.0220     0.024333   \n87             Albertine,greek salad       0.0276     0.028000   \n3265            Philipa,filet mignon       0.0162     0.018000   \n...                               ...         ...          ...   \n1765                  Hershel,nachos       0.0001     0.000000   \n1766               Hershel,pork chop       0.0001     0.000000   \n1767            Hervey,caprese salad       0.0001     0.000000   \n1768  Hervey,grilled cheese sandwich       0.0001     0.000000   \n0                Abbe,beef carpaccio       0.0001     0.000000   \n\n      count_generated  \n1854            0.081  \n2195            0.040  \n3236            0.026  \n87              0.023  \n3265            0.019  \n...               ...  \n1765            0.000  \n1766            0.000  \n1767            0.000  \n1768            0.000  \n0               0.000  \n\n[4291 rows x 4 columns]",
      "text/html": "<div>\n<style scoped>\n    .dataframe tbody tr th:only-of-type {\n        vertical-align: middle;\n    }\n\n    .dataframe tbody tr th {\n        vertical-align: top;\n    }\n\n    .dataframe thead th {\n        text-align: right;\n    }\n</style>\n<table border=\"1\" class=\"dataframe\">\n  <thead>\n    <tr style=\"text-align: right;\">\n      <th></th>\n      <th>facts</th>\n      <th>count_true</th>\n      <th>count_train</th>\n      <th>count_generated</th>\n    </tr>\n  </thead>\n  <tbody>\n    <tr>\n      <th>1854</th>\n      <td>Isadora,ceviche</td>\n      <td>0.0856</td>\n      <td>0.077333</td>\n      <td>0.081</td>\n    </tr>\n    <tr>\n      <th>2195</th>\n      <td>Kelli,creme brulee</td>\n      <td>0.0415</td>\n      <td>0.040000</td>\n      <td>0.040</td>\n    </tr>\n    <tr>\n      <th>3236</th>\n      <td>Perrine,bread pudding</td>\n      <td>0.0220</td>\n      <td>0.024333</td>\n      <td>0.026</td>\n    </tr>\n    <tr>\n      <th>87</th>\n      <td>Albertine,greek salad</td>\n      <td>0.0276</td>\n      <td>0.028000</td>\n      <td>0.023</td>\n    </tr>\n    <tr>\n      <th>3265</th>\n      <td>Philipa,filet mignon</td>\n      <td>0.0162</td>\n      <td>0.018000</td>\n      <td>0.019</td>\n    </tr>\n    <tr>\n      <th>...</th>\n      <td>...</td>\n      <td>...</td>\n      <td>...</td>\n      <td>...</td>\n    </tr>\n    <tr>\n      <th>1765</th>\n      <td>Hershel,nachos</td>\n      <td>0.0001</td>\n      <td>0.000000</td>\n      <td>0.000</td>\n    </tr>\n    <tr>\n      <th>1766</th>\n      <td>Hershel,pork chop</td>\n      <td>0.0001</td>\n      <td>0.000000</td>\n      <td>0.000</td>\n    </tr>\n    <tr>\n      <th>1767</th>\n      <td>Hervey,caprese salad</td>\n      <td>0.0001</td>\n      <td>0.000000</td>\n      <td>0.000</td>\n    </tr>\n    <tr>\n      <th>1768</th>\n      <td>Hervey,grilled cheese sandwich</td>\n      <td>0.0001</td>\n      <td>0.000000</td>\n      <td>0.000</td>\n    </tr>\n    <tr>\n      <th>0</th>\n      <td>Abbe,beef carpaccio</td>\n      <td>0.0001</td>\n      <td>0.000000</td>\n      <td>0.000</td>\n    </tr>\n  </tbody>\n</table>\n<p>4291 rows × 4 columns</p>\n</div>"
     },
     "execution_count": 83,
     "metadata": {},
     "output_type": "execute_result"
    }
   ],
   "source": [
    "comparison_df"
   ]
  },
  {
   "cell_type": "code",
   "execution_count": 84,
   "metadata": {
    "ExecuteTime": {
     "end_time": "2024-05-17T15:46:39.117516800Z",
     "start_time": "2024-05-17T15:46:39.025000100Z"
    }
   },
   "outputs": [
    {
     "data": {
      "text/plain": "facts              Isadora,ceviche Kelli,creme brulee Perrine,bre...\ncount_true                                                       1.0\ncount_train                                                      1.0\ncount_generated                                                  1.0\ndtype: object"
     },
     "execution_count": 84,
     "metadata": {},
     "output_type": "execute_result"
    }
   ],
   "source": [
    "comparison_df.sum()"
   ]
  },
  {
   "cell_type": "code",
   "execution_count": 85,
   "metadata": {
    "collapsed": false,
    "ExecuteTime": {
     "end_time": "2024-05-17T15:46:39.877149700Z",
     "start_time": "2024-05-17T15:46:39.119016700Z"
    }
   },
   "outputs": [
    {
     "data": {
      "text/plain": "<Axes: >"
     },
     "execution_count": 85,
     "metadata": {},
     "output_type": "execute_result"
    },
    {
     "data": {
      "text/plain": "<Figure size 1600x400 with 1 Axes>",
      "image/png": "[encoded data removed]"
     },
     "metadata": {},
     "output_type": "display_data"
    }
   ],
   "source": [
    "import matplotlib.pyplot as plt\n",
    "import numpy as np\n",
    "# Only the top 100 facts graphed for visibility \n",
    "comparison_df[:100].plot.bar(figsize=(16, 4))"
   ]
  },
  {
   "cell_type": "markdown",
   "metadata": {
    "collapsed": false
   },
   "source": [
    "## Hallucination rates"
   ]
  },
  {
   "cell_type": "code",
   "execution_count": 86,
   "metadata": {
    "collapsed": false,
    "ExecuteTime": {
     "end_time": "2024-05-17T15:46:39.969663300Z",
     "start_time": "2024-05-17T15:46:39.877149700Z"
    }
   },
   "outputs": [],
   "source": [
    "# True hallucination rate (generations not in true dist)\n",
    "true_hallucinations = pd.merge(collected_generations_counts, true_duplicates_count, on='facts', how='left')\n"
   ]
  },
  {
   "cell_type": "code",
   "execution_count": 87,
   "metadata": {
    "collapsed": false,
    "ExecuteTime": {
     "end_time": "2024-05-17T15:46:40.062678500Z",
     "start_time": "2024-05-17T15:46:39.972163100Z"
    }
   },
   "outputs": [
    {
     "data": {
      "text/plain": "                              facts  count_generated  count_true\n0               Abbe,frozen yogurt                 1         1.0\n1     Abbi,grilled cheese sandwich                 1         1.0\n2                  Abbot,escargots                 1         1.0\n3                   Abbot,tiramisu                 1         1.0\n4                   Abbye,takoyaki                 1         2.0\n..                              ...              ...         ...\n527  spaghetti bolognese ,macarons                 1         NaN\n528     spaghetti carbonara ,Robbyn                1         NaN\n529     spaghetti carbonara ,Shaina                1         NaN\n530           spring rolls ,Virgina                1         NaN\n531                tiramisu ,Ashton                1         NaN\n\n[532 rows x 3 columns]",
      "text/html": "<div>\n<style scoped>\n    .dataframe tbody tr th:only-of-type {\n        vertical-align: middle;\n    }\n\n    .dataframe tbody tr th {\n        vertical-align: top;\n    }\n\n    .dataframe thead th {\n        text-align: right;\n    }\n</style>\n<table border=\"1\" class=\"dataframe\">\n  <thead>\n    <tr style=\"text-align: right;\">\n      <th></th>\n      <th>facts</th>\n      <th>count_generated</th>\n      <th>count_true</th>\n    </tr>\n  </thead>\n  <tbody>\n    <tr>\n      <th>0</th>\n      <td>Abbe,frozen yogurt</td>\n      <td>1</td>\n      <td>1.0</td>\n    </tr>\n    <tr>\n      <th>1</th>\n      <td>Abbi,grilled cheese sandwich</td>\n      <td>1</td>\n      <td>1.0</td>\n    </tr>\n    <tr>\n      <th>2</th>\n      <td>Abbot,escargots</td>\n      <td>1</td>\n      <td>1.0</td>\n    </tr>\n    <tr>\n      <th>3</th>\n      <td>Abbot,tiramisu</td>\n      <td>1</td>\n      <td>1.0</td>\n    </tr>\n    <tr>\n      <th>4</th>\n      <td>Abbye,takoyaki</td>\n      <td>1</td>\n      <td>2.0</td>\n    </tr>\n    <tr>\n      <th>...</th>\n      <td>...</td>\n      <td>...</td>\n      <td>...</td>\n    </tr>\n    <tr>\n      <th>527</th>\n      <td>spaghetti bolognese ,macarons</td>\n      <td>1</td>\n      <td>NaN</td>\n    </tr>\n    <tr>\n      <th>528</th>\n      <td>spaghetti carbonara ,Robbyn</td>\n      <td>1</td>\n      <td>NaN</td>\n    </tr>\n    <tr>\n      <th>529</th>\n      <td>spaghetti carbonara ,Shaina</td>\n      <td>1</td>\n      <td>NaN</td>\n    </tr>\n    <tr>\n      <th>530</th>\n      <td>spring rolls ,Virgina</td>\n      <td>1</td>\n      <td>NaN</td>\n    </tr>\n    <tr>\n      <th>531</th>\n      <td>tiramisu ,Ashton</td>\n      <td>1</td>\n      <td>NaN</td>\n    </tr>\n  </tbody>\n</table>\n<p>532 rows × 3 columns</p>\n</div>"
     },
     "execution_count": 87,
     "metadata": {},
     "output_type": "execute_result"
    }
   ],
   "source": [
    "true_hallucinations"
   ]
  },
  {
   "cell_type": "code",
   "execution_count": 88,
   "metadata": {
    "collapsed": false,
    "ExecuteTime": {
     "end_time": "2024-05-17T15:46:40.155702500Z",
     "start_time": "2024-05-17T15:46:40.062178600Z"
    }
   },
   "outputs": [
    {
     "name": "stdout",
     "output_type": "stream",
     "text": [
      "Rate of true hallucinations: 0.048 \n"
     ]
    }
   ],
   "source": [
    "true_hallucinations = true_hallucinations.fillna(0)\n",
    "number_of_true_hallucinations =true_hallucinations[\"count_true\"].value_counts()[0]\n",
    "true_hallucinations_rate = number_of_true_hallucinations / len(collected_generations)\n",
    "print(f\"Rate of true hallucinations: {true_hallucinations_rate} \")"
   ]
  },
  {
   "cell_type": "code",
   "execution_count": 89,
   "metadata": {
    "collapsed": false,
    "ExecuteTime": {
     "end_time": "2024-05-17T15:46:40.249228600Z",
     "start_time": "2024-05-17T15:46:40.155702500Z"
    }
   },
   "outputs": [],
   "source": [
    "# Naive hallucination rate (every generation not in training data)\n",
    "naive_hallucinations = pd.merge(collected_generations_counts, training_duplicates_count, on='facts', how='left')"
   ]
  },
  {
   "cell_type": "code",
   "execution_count": 90,
   "metadata": {
    "collapsed": false,
    "ExecuteTime": {
     "end_time": "2024-05-17T15:46:40.341744900Z",
     "start_time": "2024-05-17T15:46:40.249228600Z"
    }
   },
   "outputs": [
    {
     "data": {
      "text/plain": "                              facts  count_generated  count_train\n0               Abbe,frozen yogurt                 1          1.0\n1     Abbi,grilled cheese sandwich                 1          1.0\n2                  Abbot,escargots                 1          1.0\n3                   Abbot,tiramisu                 1          1.0\n4                   Abbye,takoyaki                 1          2.0\n..                              ...              ...          ...\n527  spaghetti bolognese ,macarons                 1          NaN\n528     spaghetti carbonara ,Robbyn                1          NaN\n529     spaghetti carbonara ,Shaina                1          NaN\n530           spring rolls ,Virgina                1          NaN\n531                tiramisu ,Ashton                1          NaN\n\n[532 rows x 3 columns]",
      "text/html": "<div>\n<style scoped>\n    .dataframe tbody tr th:only-of-type {\n        vertical-align: middle;\n    }\n\n    .dataframe tbody tr th {\n        vertical-align: top;\n    }\n\n    .dataframe thead th {\n        text-align: right;\n    }\n</style>\n<table border=\"1\" class=\"dataframe\">\n  <thead>\n    <tr style=\"text-align: right;\">\n      <th></th>\n      <th>facts</th>\n      <th>count_generated</th>\n      <th>count_train</th>\n    </tr>\n  </thead>\n  <tbody>\n    <tr>\n      <th>0</th>\n      <td>Abbe,frozen yogurt</td>\n      <td>1</td>\n      <td>1.0</td>\n    </tr>\n    <tr>\n      <th>1</th>\n      <td>Abbi,grilled cheese sandwich</td>\n      <td>1</td>\n      <td>1.0</td>\n    </tr>\n    <tr>\n      <th>2</th>\n      <td>Abbot,escargots</td>\n      <td>1</td>\n      <td>1.0</td>\n    </tr>\n    <tr>\n      <th>3</th>\n      <td>Abbot,tiramisu</td>\n      <td>1</td>\n      <td>1.0</td>\n    </tr>\n    <tr>\n      <th>4</th>\n      <td>Abbye,takoyaki</td>\n      <td>1</td>\n      <td>2.0</td>\n    </tr>\n    <tr>\n      <th>...</th>\n      <td>...</td>\n      <td>...</td>\n      <td>...</td>\n    </tr>\n    <tr>\n      <th>527</th>\n      <td>spaghetti bolognese ,macarons</td>\n      <td>1</td>\n      <td>NaN</td>\n    </tr>\n    <tr>\n      <th>528</th>\n      <td>spaghetti carbonara ,Robbyn</td>\n      <td>1</td>\n      <td>NaN</td>\n    </tr>\n    <tr>\n      <th>529</th>\n      <td>spaghetti carbonara ,Shaina</td>\n      <td>1</td>\n      <td>NaN</td>\n    </tr>\n    <tr>\n      <th>530</th>\n      <td>spring rolls ,Virgina</td>\n      <td>1</td>\n      <td>NaN</td>\n    </tr>\n    <tr>\n      <th>531</th>\n      <td>tiramisu ,Ashton</td>\n      <td>1</td>\n      <td>NaN</td>\n    </tr>\n  </tbody>\n</table>\n<p>532 rows × 3 columns</p>\n</div>"
     },
     "execution_count": 90,
     "metadata": {},
     "output_type": "execute_result"
    }
   ],
   "source": [
    "naive_hallucinations"
   ]
  },
  {
   "cell_type": "code",
   "execution_count": 91,
   "metadata": {
    "collapsed": false,
    "ExecuteTime": {
     "end_time": "2024-05-17T15:46:40.434260900Z",
     "start_time": "2024-05-17T15:46:40.343245Z"
    }
   },
   "outputs": [
    {
     "name": "stdout",
     "output_type": "stream",
     "text": [
      "Rate of naive hallucinations: 0.049 \n"
     ]
    }
   ],
   "source": [
    "naive_hallucinations = naive_hallucinations.fillna(0)\n",
    "number_of_naive_hallucinations = naive_hallucinations[\"count_train\"].value_counts()[0]\n",
    "naive_hallucinations_rate = number_of_naive_hallucinations / len(collected_generations)\n",
    "print(f\"Rate of naive hallucinations: {naive_hallucinations_rate} \")"
   ]
  },
  {
   "cell_type": "markdown",
   "metadata": {
    "collapsed": false
   },
   "source": [
    "### Monofact rate"
   ]
  },
  {
   "cell_type": "code",
   "execution_count": 117,
   "metadata": {
    "collapsed": false,
    "ExecuteTime": {
     "end_time": "2024-05-17T15:53:54.520494300Z",
     "start_time": "2024-05-17T15:53:54.399973900Z"
    }
   },
   "outputs": [
    {
     "data": {
      "text/plain": "0.44866666666666666"
     },
     "execution_count": 117,
     "metadata": {},
     "output_type": "execute_result"
    }
   ],
   "source": [
    "MF = training_duplicates_count[\"count_train\"].value_counts()[1] / len(training_data)\n",
    "MF"
   ]
  },
  {
   "cell_type": "code",
   "execution_count": 116,
   "metadata": {
    "ExecuteTime": {
     "end_time": "2024-05-17T15:53:30.627484900Z",
     "start_time": "2024-05-17T15:53:30.521466600Z"
    }
   },
   "outputs": [
    {
     "data": {
      "text/plain": "1346"
     },
     "execution_count": 116,
     "metadata": {},
     "output_type": "execute_result"
    }
   ],
   "source": [
    "training_duplicates_count[\"count_train\"].value_counts()[1]"
   ]
  },
  {
   "cell_type": "markdown",
   "metadata": {},
   "source": [
    "### Miscalibration"
   ]
  },
  {
   "cell_type": "code",
   "execution_count": 94,
   "metadata": {
    "ExecuteTime": {
     "end_time": "2024-05-17T15:46:40.714310100Z",
     "start_time": "2024-05-17T15:46:40.622293700Z"
    }
   },
   "outputs": [],
   "source": [
    "from lib.calibration import miscalibration"
   ]
  },
  {
   "cell_type": "code",
   "execution_count": 95,
   "metadata": {
    "ExecuteTime": {
     "end_time": "2024-05-17T15:46:40.806826400Z",
     "start_time": "2024-05-17T15:46:40.715309800Z"
    }
   },
   "outputs": [],
   "source": [
    "comparison_sorted_by_generated = comparison_df.sort_values(by='count_generated', ascending=False)"
   ]
  },
  {
   "cell_type": "code",
   "execution_count": 96,
   "metadata": {
    "ExecuteTime": {
     "end_time": "2024-05-17T15:46:40.899342200Z",
     "start_time": "2024-05-17T15:46:40.807826400Z"
    }
   },
   "outputs": [
    {
     "name": "stdout",
     "output_type": "stream",
     "text": [
      "Adaptive binning with 12 bins\n",
      "bin with g_proba / p_proba 0.081 0.0856\n",
      "bin with g_proba / p_proba 0.066 0.0635\n",
      "bin with g_proba / p_proba 0.074 0.06359999999999999\n",
      "bin with g_proba / p_proba 0.08200000000000002 0.061900000000000004\n",
      "bin with g_proba / p_proba 0.08200000000000005 0.062\n",
      "bin with g_proba / p_proba 0.08300000000000003 0.024799999999999996\n",
      "bin with g_proba / p_proba 0.08200000000000006 0.0243\n",
      "bin with g_proba / p_proba 0.08300000000000006 0.0156\n",
      "bin with g_proba / p_proba 0.08300000000000006 0.0177\n",
      "bin with g_proba / p_proba 0.08300000000000006 0.018799999999999994\n",
      "bin with g_proba / p_proba 0.08300000000000006 0.0179\n",
      "bin with g_proba / p_proba 0.08300000000000006 0.023200000000000002\n",
      "bin with g_proba / p_proba 0.035000000000000024 0.5211000000000001\n"
     ]
    },
    {
     "data": {
      "text/plain": "0.5313028044280442"
     },
     "execution_count": 96,
     "metadata": {},
     "output_type": "execute_result"
    }
   ],
   "source": [
    "miscalibration(comparison_sorted_by_generated['count_generated'], comparison_sorted_by_generated['count_true'])"
   ]
  },
  {
   "cell_type": "code",
   "execution_count": 97,
   "metadata": {
    "ExecuteTime": {
     "end_time": "2024-05-17T15:46:40.992859Z",
     "start_time": "2024-05-17T15:46:40.899342200Z"
    }
   },
   "outputs": [
    {
     "name": "stdout",
     "output_type": "stream",
     "text": [
      "Adaptive binning with 12 bins\n",
      "bin with g_proba / p_proba 0.081 0.07733333333333334\n",
      "bin with g_proba / p_proba 0.066 0.06433333333333333\n",
      "bin with g_proba / p_proba 0.074 0.06366666666666666\n",
      "bin with g_proba / p_proba 0.08200000000000002 0.066\n",
      "bin with g_proba / p_proba 0.08200000000000005 0.06833333333333334\n",
      "bin with g_proba / p_proba 0.08300000000000003 0.030333333333333334\n",
      "bin with g_proba / p_proba 0.08200000000000006 0.030000000000000002\n",
      "bin with g_proba / p_proba 0.08300000000000006 0.02733333333333334\n",
      "bin with g_proba / p_proba 0.08300000000000006 0.030333333333333337\n",
      "bin with g_proba / p_proba 0.08300000000000006 0.03266666666666666\n",
      "bin with g_proba / p_proba 0.08300000000000006 0.03133333333333334\n",
      "bin with g_proba / p_proba 0.08300000000000006 0.039333333333333324\n",
      "bin with g_proba / p_proba 0.035000000000000024 0.439\n"
     ]
    },
    {
     "data": {
      "text/plain": "0.4474335178351783"
     },
     "execution_count": 97,
     "metadata": {},
     "output_type": "execute_result"
    }
   ],
   "source": [
    "miscalibration(comparison_sorted_by_generated['count_generated'], comparison_sorted_by_generated['count_train'])"
   ]
  },
  {
   "cell_type": "markdown",
   "metadata": {},
   "source": [
    "### Check if it holds"
   ]
  },
  {
   "cell_type": "code",
   "execution_count": 107,
   "metadata": {
    "ExecuteTime": {
     "end_time": "2024-05-17T15:47:14.455327100Z",
     "start_time": "2024-05-17T15:47:14.357810500Z"
    }
   },
   "outputs": [],
   "source": [
    "unique_names = len(set([t[1] for t in train_dataset]))\n",
    "unique_foods = len(set([t[2] for t in train_dataset]))\n",
    "# Possible generations\n",
    "POSS_GENERATIONS = unique_names * unique_foods\n",
    "\n",
    "# Facts to all possibilities - facts, approximated\n",
    "APPROX_FACTS_TO_POSSIBLE_HALLUCINATIONS = 300 * len(training_duplicates_count) / (POSS_GENERATIONS - len(training_duplicates_count))"
   ]
  },
  {
   "cell_type": "code",
   "execution_count": 118,
   "metadata": {
    "ExecuteTime": {
     "end_time": "2024-05-17T15:55:05.136968100Z",
     "start_time": "2024-05-17T15:55:05.044451600Z"
    }
   },
   "outputs": [],
   "source": [
    "HALLUCINATION_RATE = true_hallucinations_rate\n",
    "\n",
    "#MF = 0.43875\n",
    "\n",
    "MISCALIBRATION = 0.2891"
   ]
  },
  {
   "cell_type": "code",
   "execution_count": 119,
   "metadata": {
    "ExecuteTime": {
     "end_time": "2024-05-17T15:55:05.433024200Z",
     "start_time": "2024-05-17T15:55:05.330506Z"
    }
   },
   "outputs": [
    {
     "data": {
      "text/plain": "0.05320943580661637"
     },
     "execution_count": 119,
     "metadata": {},
     "output_type": "execute_result"
    }
   ],
   "source": [
    "APPROX_FACTS_TO_POSSIBLE_HALLUCINATIONS"
   ]
  },
  {
   "cell_type": "code",
   "execution_count": 120,
   "metadata": {
    "ExecuteTime": {
     "end_time": "2024-05-17T15:55:05.738577300Z",
     "start_time": "2024-05-17T15:55:05.654562800Z"
    }
   },
   "outputs": [
    {
     "data": {
      "text/plain": "0.15956666666666663"
     },
     "execution_count": 120,
     "metadata": {},
     "output_type": "execute_result"
    }
   ],
   "source": [
    "MF - MISCALIBRATION"
   ]
  },
  {
   "cell_type": "code",
   "execution_count": 121,
   "metadata": {
    "ExecuteTime": {
     "end_time": "2024-05-17T15:55:06.625692300Z",
     "start_time": "2024-05-17T15:55:06.515168900Z"
    }
   },
   "outputs": [
    {
     "data": {
      "text/plain": "0.12780193008453875"
     },
     "execution_count": 121,
     "metadata": {},
     "output_type": "execute_result"
    }
   ],
   "source": [
    "7 / np.sqrt(len(training_data))"
   ]
  },
  {
   "cell_type": "code",
   "execution_count": 122,
   "metadata": {
    "ExecuteTime": {
     "end_time": "2024-05-17T15:55:07.402325400Z",
     "start_time": "2024-05-17T15:55:07.303807200Z"
    }
   },
   "outputs": [
    {
     "data": {
      "text/plain": "-0.02144469922448848"
     },
     "execution_count": 122,
     "metadata": {},
     "output_type": "execute_result"
    }
   ],
   "source": [
    "MF - MISCALIBRATION - (7 / np.sqrt(len(training_data))) - APPROX_FACTS_TO_POSSIBLE_HALLUCINATIONS"
   ]
  },
  {
   "cell_type": "code",
   "execution_count": 123,
   "metadata": {
    "ExecuteTime": {
     "end_time": "2024-05-17T15:55:10.092402400Z",
     "start_time": "2024-05-17T15:55:10.000386700Z"
    }
   },
   "outputs": [
    {
     "data": {
      "text/plain": "0.048"
     },
     "execution_count": 123,
     "metadata": {},
     "output_type": "execute_result"
    }
   ],
   "source": [
    "HALLUCINATION_RATE"
   ]
  },
  {
   "cell_type": "code",
   "execution_count": 124,
   "metadata": {
    "ExecuteTime": {
     "end_time": "2024-05-17T15:55:11.163659600Z",
     "start_time": "2024-05-17T15:55:11.062141900Z"
    }
   },
   "outputs": [
    {
     "data": {
      "text/plain": "False"
     },
     "execution_count": 124,
     "metadata": {},
     "output_type": "execute_result"
    }
   ],
   "source": [
    "HALLUCINATION_RATE > MF - MISCALIBRATION"
   ]
  },
  {
   "cell_type": "code",
   "execution_count": 125,
   "metadata": {
    "ExecuteTime": {
     "end_time": "2024-05-17T15:55:12.108325600Z",
     "start_time": "2024-05-17T15:55:12.007308500Z"
    }
   },
   "outputs": [
    {
     "data": {
      "text/plain": "True"
     },
     "execution_count": 125,
     "metadata": {},
     "output_type": "execute_result"
    }
   ],
   "source": [
    "HALLUCINATION_RATE > MF - MISCALIBRATION - (7 / np.sqrt(len(training_data))) - APPROX_FACTS_TO_POSSIBLE_HALLUCINATIONS"
   ]
  },
  {
   "cell_type": "code",
   "outputs": [],
   "source": [],
   "metadata": {
    "collapsed": false
   }
  }
 ],
 "metadata": {
  "kernelspec": {
   "display_name": "Python 3 (ipykernel)",
   "language": "python",
   "name": "python3"
  },
  "language_info": {
   "codemirror_mode": {
    "name": "ipython",
    "version": 3
   },
   "file_extension": ".py",
   "mimetype": "text/x-python",
   "name": "python",
   "nbconvert_exporter": "python",
   "pygments_lexer": "ipython3",
   "version": "3.11.7"
  }
 },
 "nbformat": 4,
 "nbformat_minor": 4
}
