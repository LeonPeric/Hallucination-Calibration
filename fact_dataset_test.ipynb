{
 "cells": [
  {
   "cell_type": "code",
   "execution_count": 1,
   "metadata": {
    "ExecuteTime": {
     "end_time": "2024-05-15T22:29:21.740451300Z",
     "start_time": "2024-05-15T22:29:21.675440500Z"
    }
   },
   "outputs": [],
   "source": [
    "%load_ext autoreload\n",
    "%autoreload 2"
   ]
  },
  {
   "cell_type": "code",
   "execution_count": 2,
   "metadata": {},
   "outputs": [],
   "source": [
    "load_dataset = False\n",
    "load_model = False"
   ]
  },
  {
   "cell_type": "markdown",
   "metadata": {},
   "source": [
    "# Dataset preparing"
   ]
  },
  {
   "cell_type": "code",
   "execution_count": 3,
   "metadata": {
    "ExecuteTime": {
     "end_time": "2024-05-15T22:29:22.196535300Z",
     "start_time": "2024-05-15T22:29:21.716947100Z"
    }
   },
   "outputs": [],
   "source": [
    "from dataset.fact_dataset_generator import FactDatasetGenerator\n",
    "import numpy as np\n",
    "import sys\n",
    "import pandas as pd"
   ]
  },
  {
   "cell_type": "code",
   "execution_count": 4,
   "metadata": {
    "ExecuteTime": {
     "end_time": "2024-05-15T22:29:22.262547900Z",
     "start_time": "2024-05-15T22:29:22.196535300Z"
    }
   },
   "outputs": [],
   "source": [
    "true_dist_size = 10000\n",
    "dataset = FactDatasetGenerator(number_person=1000,  distribution=\"zipf\", dataset_folder='./dataset/data/', food_list_name=\"food_list_medium.txt\",true_dist_size=true_dist_size, experiment_path=\"experiment/medium_dataset/data/\")"
   ]
  },
  {
   "cell_type": "code",
   "execution_count": 5,
   "metadata": {},
   "outputs": [],
   "source": [
    "if load_dataset:\n",
    "    dataset.load_dataset()\n",
    "    true_dist = dataset.true_dist \n",
    "    training_data = dataset.training_data\n",
    "else:\n",
    "    # Generate all possible facts\n",
    "    temp = dataset.generate_all_possibilities()\n",
    "    # Sample true dist (zipf)\n",
    "    true_dist = dataset.generate_true_dist()\n",
    "    # Sample training data uniformly, %80 of true dist\n",
    "    training_dataset_size = int(0.8 * true_dist_size)\n",
    "    training_data = dataset.sample_training_data(training_dataset_size,true_dist.tolist())"
   ]
  },
  {
   "cell_type": "code",
   "execution_count": 6,
   "metadata": {
    "ExecuteTime": {
     "end_time": "2024-05-15T22:29:22.498090400Z",
     "start_time": "2024-05-15T22:29:22.430578300Z"
    },
    "collapsed": false,
    "jupyter": {
     "outputs_hidden": false
    }
   },
   "outputs": [],
   "source": [
    "true_dist_df = pd.DataFrame(true_dist,columns=[\"facts\"])"
   ]
  },
  {
   "cell_type": "code",
   "execution_count": 7,
   "metadata": {
    "ExecuteTime": {
     "end_time": "2024-05-15T22:29:22.568603400Z",
     "start_time": "2024-05-15T22:29:22.491589Z"
    },
    "collapsed": false,
    "jupyter": {
     "outputs_hidden": false
    }
   },
   "outputs": [
    {
     "data": {
      "text/html": [
       "<div>\n",
       "<style scoped>\n",
       "    .dataframe tbody tr th:only-of-type {\n",
       "        vertical-align: middle;\n",
       "    }\n",
       "\n",
       "    .dataframe tbody tr th {\n",
       "        vertical-align: top;\n",
       "    }\n",
       "\n",
       "    .dataframe thead th {\n",
       "        text-align: right;\n",
       "    }\n",
       "</style>\n",
       "<table border=\"1\" class=\"dataframe\">\n",
       "  <thead>\n",
       "    <tr style=\"text-align: right;\">\n",
       "      <th></th>\n",
       "      <th>facts</th>\n",
       "    </tr>\n",
       "  </thead>\n",
       "  <tbody>\n",
       "    <tr>\n",
       "      <th>0</th>\n",
       "      <td>Valerie,stuffed shells</td>\n",
       "    </tr>\n",
       "    <tr>\n",
       "      <th>1</th>\n",
       "      <td>Innis,shepherd's pie</td>\n",
       "    </tr>\n",
       "    <tr>\n",
       "      <th>2</th>\n",
       "      <td>Cleon,jambalaya</td>\n",
       "    </tr>\n",
       "    <tr>\n",
       "      <th>3</th>\n",
       "      <td>Ramon,focaccia</td>\n",
       "    </tr>\n",
       "    <tr>\n",
       "      <th>4</th>\n",
       "      <td>Lesley,turnover</td>\n",
       "    </tr>\n",
       "    <tr>\n",
       "      <th>...</th>\n",
       "      <td>...</td>\n",
       "    </tr>\n",
       "    <tr>\n",
       "      <th>9995</th>\n",
       "      <td>Zeb,aloo gobi</td>\n",
       "    </tr>\n",
       "    <tr>\n",
       "      <th>9996</th>\n",
       "      <td>Ali,scallops</td>\n",
       "    </tr>\n",
       "    <tr>\n",
       "      <th>9997</th>\n",
       "      <td>Ambrose,chocolate cake</td>\n",
       "    </tr>\n",
       "    <tr>\n",
       "      <th>9998</th>\n",
       "      <td>Bernie,fish and chips</td>\n",
       "    </tr>\n",
       "    <tr>\n",
       "      <th>9999</th>\n",
       "      <td>Hurlee,fried chicken</td>\n",
       "    </tr>\n",
       "  </tbody>\n",
       "</table>\n",
       "<p>10000 rows × 1 columns</p>\n",
       "</div>"
      ],
      "text/plain": [
       "                       facts\n",
       "0     Valerie,stuffed shells\n",
       "1       Innis,shepherd's pie\n",
       "2            Cleon,jambalaya\n",
       "3             Ramon,focaccia\n",
       "4            Lesley,turnover\n",
       "...                      ...\n",
       "9995           Zeb,aloo gobi\n",
       "9996            Ali,scallops\n",
       "9997  Ambrose,chocolate cake\n",
       "9998   Bernie,fish and chips\n",
       "9999    Hurlee,fried chicken\n",
       "\n",
       "[10000 rows x 1 columns]"
      ]
     },
     "execution_count": 7,
     "metadata": {},
     "output_type": "execute_result"
    }
   ],
   "source": [
    "true_dist_df"
   ]
  },
  {
   "cell_type": "code",
   "execution_count": 8,
   "metadata": {
    "ExecuteTime": {
     "end_time": "2024-05-15T22:29:22.661120500Z",
     "start_time": "2024-05-15T22:29:22.554601700Z"
    },
    "collapsed": false,
    "jupyter": {
     "outputs_hidden": false
    }
   },
   "outputs": [],
   "source": [
    "true_duplicates_count = true_dist_df.groupby(list(true_dist_df.columns)).size().reset_index(name='count_true')\n"
   ]
  },
  {
   "cell_type": "code",
   "execution_count": 9,
   "metadata": {
    "ExecuteTime": {
     "end_time": "2024-05-15T22:29:22.680623700Z",
     "start_time": "2024-05-15T22:29:22.616613Z"
    },
    "collapsed": false,
    "jupyter": {
     "outputs_hidden": false
    }
   },
   "outputs": [
    {
     "data": {
      "text/html": [
       "<div>\n",
       "<style scoped>\n",
       "    .dataframe tbody tr th:only-of-type {\n",
       "        vertical-align: middle;\n",
       "    }\n",
       "\n",
       "    .dataframe tbody tr th {\n",
       "        vertical-align: top;\n",
       "    }\n",
       "\n",
       "    .dataframe thead th {\n",
       "        text-align: right;\n",
       "    }\n",
       "</style>\n",
       "<table border=\"1\" class=\"dataframe\">\n",
       "  <thead>\n",
       "    <tr style=\"text-align: right;\">\n",
       "      <th></th>\n",
       "      <th>facts</th>\n",
       "      <th>count_true</th>\n",
       "    </tr>\n",
       "  </thead>\n",
       "  <tbody>\n",
       "    <tr>\n",
       "      <th>0</th>\n",
       "      <td>Abbe,cheesecake</td>\n",
       "      <td>1</td>\n",
       "    </tr>\n",
       "    <tr>\n",
       "      <th>1</th>\n",
       "      <td>Abbe,quiche lorraine</td>\n",
       "      <td>1</td>\n",
       "    </tr>\n",
       "    <tr>\n",
       "      <th>2</th>\n",
       "      <td>Abbe,rack of lamb</td>\n",
       "      <td>1</td>\n",
       "    </tr>\n",
       "    <tr>\n",
       "      <th>3</th>\n",
       "      <td>Abbe,spring rolls</td>\n",
       "      <td>1</td>\n",
       "    </tr>\n",
       "    <tr>\n",
       "      <th>4</th>\n",
       "      <td>Abbe,turkey sandwich</td>\n",
       "      <td>1</td>\n",
       "    </tr>\n",
       "    <tr>\n",
       "      <th>...</th>\n",
       "      <td>...</td>\n",
       "      <td>...</td>\n",
       "    </tr>\n",
       "    <tr>\n",
       "      <th>4781</th>\n",
       "      <td>Zita,enchiladas</td>\n",
       "      <td>1</td>\n",
       "    </tr>\n",
       "    <tr>\n",
       "      <th>4782</th>\n",
       "      <td>Zorine,donuts</td>\n",
       "      <td>1</td>\n",
       "    </tr>\n",
       "    <tr>\n",
       "      <th>4783</th>\n",
       "      <td>Zorine,fondue</td>\n",
       "      <td>2</td>\n",
       "    </tr>\n",
       "    <tr>\n",
       "      <th>4784</th>\n",
       "      <td>Zorine,tacos</td>\n",
       "      <td>1</td>\n",
       "    </tr>\n",
       "    <tr>\n",
       "      <th>4785</th>\n",
       "      <td>Zorine,tahini</td>\n",
       "      <td>1</td>\n",
       "    </tr>\n",
       "  </tbody>\n",
       "</table>\n",
       "<p>4786 rows × 2 columns</p>\n",
       "</div>"
      ],
      "text/plain": [
       "                     facts  count_true\n",
       "0          Abbe,cheesecake           1\n",
       "1     Abbe,quiche lorraine           1\n",
       "2        Abbe,rack of lamb           1\n",
       "3        Abbe,spring rolls           1\n",
       "4     Abbe,turkey sandwich           1\n",
       "...                    ...         ...\n",
       "4781       Zita,enchiladas           1\n",
       "4782         Zorine,donuts           1\n",
       "4783         Zorine,fondue           2\n",
       "4784          Zorine,tacos           1\n",
       "4785         Zorine,tahini           1\n",
       "\n",
       "[4786 rows x 2 columns]"
      ]
     },
     "execution_count": 9,
     "metadata": {},
     "output_type": "execute_result"
    }
   ],
   "source": [
    "true_duplicates_count"
   ]
  },
  {
   "cell_type": "code",
   "execution_count": 10,
   "metadata": {
    "ExecuteTime": {
     "end_time": "2024-05-15T22:30:27.494058400Z",
     "start_time": "2024-05-15T22:30:27.435046600Z"
    },
    "collapsed": false,
    "jupyter": {
     "outputs_hidden": false
    }
   },
   "outputs": [],
   "source": [
    "training_dist_df = pd.DataFrame(training_data,columns=[\"facts\"])\n",
    "training_duplicates_count = training_dist_df.groupby(list(training_dist_df.columns)).size().reset_index(name='count_train')"
   ]
  },
  {
   "cell_type": "code",
   "execution_count": 11,
   "metadata": {
    "ExecuteTime": {
     "end_time": "2024-05-15T22:30:28.029656Z",
     "start_time": "2024-05-15T22:30:27.969645800Z"
    },
    "collapsed": false,
    "jupyter": {
     "outputs_hidden": false
    }
   },
   "outputs": [
    {
     "data": {
      "text/html": [
       "<div>\n",
       "<style scoped>\n",
       "    .dataframe tbody tr th:only-of-type {\n",
       "        vertical-align: middle;\n",
       "    }\n",
       "\n",
       "    .dataframe tbody tr th {\n",
       "        vertical-align: top;\n",
       "    }\n",
       "\n",
       "    .dataframe thead th {\n",
       "        text-align: right;\n",
       "    }\n",
       "</style>\n",
       "<table border=\"1\" class=\"dataframe\">\n",
       "  <thead>\n",
       "    <tr style=\"text-align: right;\">\n",
       "      <th></th>\n",
       "      <th>facts</th>\n",
       "      <th>count_train</th>\n",
       "    </tr>\n",
       "  </thead>\n",
       "  <tbody>\n",
       "    <tr>\n",
       "      <th>0</th>\n",
       "      <td>Abbe,cheesecake</td>\n",
       "      <td>1</td>\n",
       "    </tr>\n",
       "    <tr>\n",
       "      <th>1</th>\n",
       "      <td>Abbe,quiche lorraine</td>\n",
       "      <td>1</td>\n",
       "    </tr>\n",
       "    <tr>\n",
       "      <th>2</th>\n",
       "      <td>Abbe,rack of lamb</td>\n",
       "      <td>1</td>\n",
       "    </tr>\n",
       "    <tr>\n",
       "      <th>3</th>\n",
       "      <td>Abbe,spring rolls</td>\n",
       "      <td>1</td>\n",
       "    </tr>\n",
       "    <tr>\n",
       "      <th>4</th>\n",
       "      <td>Abbe,turkey sandwich</td>\n",
       "      <td>1</td>\n",
       "    </tr>\n",
       "    <tr>\n",
       "      <th>...</th>\n",
       "      <td>...</td>\n",
       "      <td>...</td>\n",
       "    </tr>\n",
       "    <tr>\n",
       "      <th>3952</th>\n",
       "      <td>Zita,enchiladas</td>\n",
       "      <td>1</td>\n",
       "    </tr>\n",
       "    <tr>\n",
       "      <th>3953</th>\n",
       "      <td>Zorine,donuts</td>\n",
       "      <td>1</td>\n",
       "    </tr>\n",
       "    <tr>\n",
       "      <th>3954</th>\n",
       "      <td>Zorine,fondue</td>\n",
       "      <td>2</td>\n",
       "    </tr>\n",
       "    <tr>\n",
       "      <th>3955</th>\n",
       "      <td>Zorine,tacos</td>\n",
       "      <td>1</td>\n",
       "    </tr>\n",
       "    <tr>\n",
       "      <th>3956</th>\n",
       "      <td>Zorine,tahini</td>\n",
       "      <td>1</td>\n",
       "    </tr>\n",
       "  </tbody>\n",
       "</table>\n",
       "<p>3957 rows × 2 columns</p>\n",
       "</div>"
      ],
      "text/plain": [
       "                     facts  count_train\n",
       "0          Abbe,cheesecake            1\n",
       "1     Abbe,quiche lorraine            1\n",
       "2        Abbe,rack of lamb            1\n",
       "3        Abbe,spring rolls            1\n",
       "4     Abbe,turkey sandwich            1\n",
       "...                    ...          ...\n",
       "3952       Zita,enchiladas            1\n",
       "3953         Zorine,donuts            1\n",
       "3954         Zorine,fondue            2\n",
       "3955          Zorine,tacos            1\n",
       "3956         Zorine,tahini            1\n",
       "\n",
       "[3957 rows x 2 columns]"
      ]
     },
     "execution_count": 11,
     "metadata": {},
     "output_type": "execute_result"
    }
   ],
   "source": [
    "training_duplicates_count"
   ]
  },
  {
   "cell_type": "code",
   "execution_count": 12,
   "metadata": {
    "ExecuteTime": {
     "end_time": "2024-05-15T22:30:30.065090800Z",
     "start_time": "2024-05-15T22:30:28.776854100Z"
    }
   },
   "outputs": [],
   "source": [
    "import torch\n",
    "## get the training  datasets\n",
    "train_dataset = [torch.tensor(x, dtype=torch.long) for x in dataset.tokenized_training_data]\n"
   ]
  },
  {
   "cell_type": "code",
   "execution_count": 13,
   "metadata": {
    "ExecuteTime": {
     "end_time": "2024-05-15T22:30:30.128602100Z",
     "start_time": "2024-05-15T22:30:30.053087800Z"
    }
   },
   "outputs": [
    {
     "name": "stdout",
     "output_type": "stream",
     "text": [
      "<__main__.MyDataset object at 0x0000027116593650>\n"
     ]
    }
   ],
   "source": [
    "from torch.utils.data import Dataset\n",
    "\n",
    "## create a dataset class\n",
    "class MyDataset(Dataset):\n",
    "    def __init__(self, data):\n",
    "        self.data = data\n",
    "\n",
    "    def __len__(self):\n",
    "        return len(self.data)\n",
    "\n",
    "    def __getitem__(self, idx):\n",
    "        # Assuming each item in data is a sequence and we use the same sequence shifted by one as the target\n",
    "        x = torch.tensor(self.data[idx][:-1], dtype=torch.long)\n",
    "        y = torch.tensor(self.data[idx][1:], dtype=torch.long)\n",
    "        #print(x)\n",
    "        #print(y)\n",
    "        \n",
    "        return x, y\n",
    "\n",
    "\n",
    "## create the datasets\n",
    "train_data = MyDataset(train_dataset)\n",
    "# test_data = MyDataset(test_dataset)\n",
    "\n",
    "print(train_data)"
   ]
  },
  {
   "cell_type": "markdown",
   "metadata": {},
   "source": [
    "# Model preparing"
   ]
  },
  {
   "cell_type": "code",
   "execution_count": 14,
   "metadata": {
    "ExecuteTime": {
     "end_time": "2024-05-15T22:30:30.640195100Z",
     "start_time": "2024-05-15T22:30:30.128602100Z"
    }
   },
   "outputs": [
    {
     "name": "stdout",
     "output_type": "stream",
     "text": [
      "number of parameters: 38.49M\n"
     ]
    }
   ],
   "source": [
    "## import mingpt\n",
    "sys.path.append('minGPT/')\n",
    "from mingpt.model import GPT\n",
    "from mingpt.utils import set_seed\n",
    "set_seed(42)\n",
    "\n",
    "model_config = GPT.get_default_config()\n",
    "model_config.n_layer=12\n",
    "model_config.n_head=8\n",
    "model_config.n_embd=512\n",
    "model_config.vocab_size = dataset.vocab_size\n",
    "model_config.model_type = None\n",
    "model_config.block_size = 2\n",
    "\n",
    "# model_config.model_type = 'gpt-nano'\n",
    "# model_config.vocab_size = dataset.vocab_size\n",
    "# model_config.block_size = 2\n",
    "\n",
    "model = GPT(model_config).to(\"cuda\")"
   ]
  },
  {
   "cell_type": "code",
   "execution_count": 15,
   "metadata": {
    "ExecuteTime": {
     "end_time": "2024-05-15T22:30:30.871737500Z",
     "start_time": "2024-05-15T22:30:30.641695400Z"
    }
   },
   "outputs": [
    {
     "name": "stdout",
     "output_type": "stream",
     "text": [
      "running on device cuda\n"
     ]
    }
   ],
   "source": [
    "# create a Trainer object\n",
    "from mingpt.trainer import Trainer\n",
    "\n",
    "train_config = Trainer.get_default_config()\n",
    "train_config.learning_rate = 5e-5 # the model we're using is so small that we can go a bit faster\n",
    "train_config.max_iters = 20000\n",
    "train_config.num_workers = 0\n",
    "trainer = Trainer(train_config, model, train_data)"
   ]
  },
  {
   "cell_type": "markdown",
   "metadata": {},
   "source": [
    "# Training the model"
   ]
  },
  {
   "cell_type": "code",
   "execution_count": 16,
   "metadata": {
    "ExecuteTime": {
     "end_time": "2024-05-15T22:39:07.013921900Z",
     "start_time": "2024-05-15T22:30:30.858234700Z"
    }
   },
   "outputs": [
    {
     "name": "stderr",
     "output_type": "stream",
     "text": [
      "C:\\Users\\leonp\\AppData\\Local\\Temp\\ipykernel_27720\\3675710179.py:13: UserWarning: To copy construct from a tensor, it is recommended to use sourceTensor.clone().detach() or sourceTensor.clone().detach().requires_grad_(True), rather than torch.tensor(sourceTensor).\n",
      "  x = torch.tensor(self.data[idx][:-1], dtype=torch.long)\n",
      "C:\\Users\\leonp\\AppData\\Local\\Temp\\ipykernel_27720\\3675710179.py:14: UserWarning: To copy construct from a tensor, it is recommended to use sourceTensor.clone().detach() or sourceTensor.clone().detach().requires_grad_(True), rather than torch.tensor(sourceTensor).\n",
      "  y = torch.tensor(self.data[idx][1:], dtype=torch.long)\n"
     ]
    },
    {
     "name": "stdout",
     "output_type": "stream",
     "text": [
      "iter_dt 0.00ms; iter 0: train loss 7.20206\n",
      "iter_dt 3.87ms; iter 100: train loss 5.27940\n",
      "iter_dt 3.95ms; iter 200: train loss 4.70217\n",
      "iter_dt 3.82ms; iter 300: train loss 4.81741\n",
      "iter_dt 3.81ms; iter 400: train loss 4.82538\n",
      "iter_dt 3.87ms; iter 500: train loss 4.47827\n",
      "iter_dt 3.87ms; iter 600: train loss 4.18192\n",
      "iter_dt 3.82ms; iter 700: train loss 4.50371\n",
      "iter_dt 3.92ms; iter 800: train loss 4.32867\n",
      "iter_dt 3.98ms; iter 900: train loss 3.96061\n",
      "iter_dt 3.92ms; iter 1000: train loss 3.94050\n",
      "iter_dt 3.81ms; iter 1100: train loss 4.05001\n",
      "iter_dt 3.92ms; iter 1200: train loss 4.35513\n",
      "iter_dt 3.78ms; iter 1300: train loss 4.38618\n",
      "iter_dt 4.01ms; iter 1400: train loss 3.77079\n",
      "iter_dt 3.94ms; iter 1500: train loss 4.29178\n",
      "iter_dt 3.98ms; iter 1600: train loss 4.38071\n",
      "iter_dt 3.85ms; iter 1700: train loss 3.93722\n",
      "iter_dt 3.81ms; iter 1800: train loss 3.86404\n",
      "iter_dt 3.91ms; iter 1900: train loss 4.27257\n",
      "iter_dt 3.91ms; iter 2000: train loss 4.21830\n",
      "iter_dt 3.86ms; iter 2100: train loss 4.20365\n",
      "iter_dt 3.81ms; iter 2200: train loss 3.94467\n",
      "iter_dt 3.90ms; iter 2300: train loss 4.25692\n",
      "iter_dt 3.91ms; iter 2400: train loss 4.05609\n",
      "iter_dt 3.86ms; iter 2500: train loss 3.60855\n",
      "iter_dt 3.76ms; iter 2600: train loss 3.71484\n",
      "iter_dt 3.90ms; iter 2700: train loss 4.00735\n",
      "iter_dt 3.90ms; iter 2800: train loss 3.85247\n",
      "iter_dt 3.91ms; iter 2900: train loss 3.42726\n",
      "iter_dt 3.96ms; iter 3000: train loss 3.98588\n",
      "iter_dt 4.01ms; iter 3100: train loss 3.86323\n",
      "iter_dt 4.06ms; iter 3200: train loss 3.82686\n",
      "iter_dt 4.21ms; iter 3300: train loss 3.94178\n",
      "iter_dt 3.86ms; iter 3400: train loss 3.74274\n",
      "iter_dt 4.12ms; iter 3500: train loss 3.72757\n",
      "iter_dt 4.16ms; iter 3600: train loss 3.83867\n",
      "iter_dt 3.91ms; iter 3700: train loss 3.75407\n",
      "iter_dt 4.06ms; iter 3800: train loss 3.82364\n",
      "iter_dt 4.21ms; iter 3900: train loss 3.79012\n",
      "iter_dt 3.88ms; iter 4000: train loss 4.37545\n",
      "iter_dt 3.90ms; iter 4100: train loss 3.69808\n",
      "iter_dt 4.00ms; iter 4200: train loss 3.93378\n",
      "iter_dt 4.01ms; iter 4300: train loss 3.95958\n",
      "iter_dt 3.92ms; iter 4400: train loss 3.98119\n",
      "iter_dt 4.21ms; iter 4500: train loss 3.56042\n",
      "iter_dt 4.08ms; iter 4600: train loss 3.56891\n",
      "iter_dt 3.94ms; iter 4700: train loss 4.07607\n",
      "iter_dt 4.00ms; iter 4800: train loss 3.86453\n",
      "iter_dt 3.86ms; iter 4900: train loss 3.88953\n",
      "iter_dt 4.01ms; iter 5000: train loss 3.84613\n",
      "iter_dt 4.16ms; iter 5100: train loss 3.61796\n",
      "iter_dt 3.96ms; iter 5200: train loss 3.93553\n",
      "iter_dt 3.91ms; iter 5300: train loss 3.68772\n",
      "iter_dt 4.00ms; iter 5400: train loss 3.84992\n",
      "iter_dt 4.16ms; iter 5500: train loss 3.79548\n",
      "iter_dt 4.06ms; iter 5600: train loss 4.02221\n",
      "iter_dt 4.01ms; iter 5700: train loss 3.33578\n",
      "iter_dt 4.20ms; iter 5800: train loss 3.79888\n",
      "iter_dt 4.01ms; iter 5900: train loss 3.48437\n",
      "iter_dt 4.05ms; iter 6000: train loss 3.89201\n",
      "iter_dt 4.06ms; iter 6100: train loss 3.72882\n",
      "iter_dt 3.90ms; iter 6200: train loss 3.62172\n",
      "iter_dt 4.05ms; iter 6300: train loss 3.61930\n",
      "iter_dt 3.95ms; iter 6400: train loss 3.98027\n",
      "iter_dt 3.86ms; iter 6500: train loss 3.95107\n",
      "iter_dt 4.00ms; iter 6600: train loss 3.78200\n",
      "iter_dt 4.05ms; iter 6700: train loss 3.63080\n",
      "iter_dt 4.06ms; iter 6800: train loss 3.88382\n",
      "iter_dt 3.96ms; iter 6900: train loss 3.51808\n",
      "iter_dt 4.11ms; iter 7000: train loss 3.87134\n",
      "iter_dt 4.00ms; iter 7100: train loss 3.64830\n",
      "iter_dt 3.88ms; iter 7200: train loss 3.70403\n",
      "iter_dt 4.06ms; iter 7300: train loss 3.51901\n",
      "iter_dt 3.88ms; iter 7400: train loss 3.78402\n",
      "iter_dt 3.80ms; iter 7500: train loss 3.90461\n",
      "iter_dt 3.95ms; iter 7600: train loss 3.38871\n",
      "iter_dt 3.80ms; iter 7700: train loss 3.78530\n",
      "iter_dt 3.95ms; iter 7800: train loss 3.68650\n",
      "iter_dt 3.93ms; iter 7900: train loss 3.56273\n",
      "iter_dt 3.90ms; iter 8000: train loss 3.81677\n",
      "iter_dt 4.00ms; iter 8100: train loss 3.93832\n",
      "iter_dt 3.80ms; iter 8200: train loss 3.77565\n",
      "iter_dt 3.84ms; iter 8300: train loss 3.59358\n",
      "iter_dt 3.90ms; iter 8400: train loss 3.58933\n",
      "iter_dt 3.77ms; iter 8500: train loss 3.48115\n",
      "iter_dt 3.90ms; iter 8600: train loss 3.73699\n",
      "iter_dt 3.90ms; iter 8700: train loss 3.99609\n",
      "iter_dt 3.96ms; iter 8800: train loss 3.68867\n",
      "iter_dt 3.95ms; iter 8900: train loss 3.77982\n",
      "iter_dt 3.90ms; iter 9000: train loss 3.52057\n",
      "iter_dt 3.90ms; iter 9100: train loss 3.70880\n",
      "iter_dt 3.90ms; iter 9200: train loss 3.65550\n",
      "iter_dt 3.90ms; iter 9300: train loss 3.84168\n",
      "iter_dt 4.01ms; iter 9400: train loss 3.60897\n",
      "iter_dt 3.89ms; iter 9500: train loss 3.31289\n",
      "iter_dt 3.85ms; iter 9600: train loss 3.55813\n",
      "iter_dt 3.76ms; iter 9700: train loss 3.89917\n",
      "iter_dt 3.85ms; iter 9800: train loss 3.72633\n",
      "iter_dt 3.91ms; iter 9900: train loss 3.67181\n",
      "iter_dt 3.81ms; iter 10000: train loss 3.69604\n",
      "iter_dt 3.90ms; iter 10100: train loss 3.37937\n",
      "iter_dt 3.90ms; iter 10200: train loss 3.72379\n",
      "iter_dt 3.81ms; iter 10300: train loss 3.66285\n",
      "iter_dt 3.96ms; iter 10400: train loss 3.40351\n",
      "iter_dt 4.86ms; iter 10500: train loss 3.49609\n",
      "iter_dt 3.76ms; iter 10600: train loss 3.57475\n",
      "iter_dt 3.77ms; iter 10700: train loss 3.75919\n",
      "iter_dt 3.70ms; iter 10800: train loss 3.89359\n",
      "iter_dt 3.86ms; iter 10900: train loss 3.86422\n",
      "iter_dt 3.75ms; iter 11000: train loss 3.67179\n",
      "iter_dt 3.70ms; iter 11100: train loss 3.87899\n",
      "iter_dt 3.72ms; iter 11200: train loss 3.67022\n",
      "iter_dt 3.70ms; iter 11300: train loss 3.99867\n",
      "iter_dt 3.96ms; iter 11400: train loss 3.80251\n",
      "iter_dt 3.81ms; iter 11500: train loss 3.90490\n",
      "iter_dt 3.80ms; iter 11600: train loss 3.73731\n",
      "iter_dt 3.86ms; iter 11700: train loss 3.50456\n",
      "iter_dt 3.97ms; iter 11800: train loss 3.85463\n",
      "iter_dt 3.90ms; iter 11900: train loss 3.56578\n",
      "iter_dt 3.80ms; iter 12000: train loss 3.67140\n",
      "iter_dt 4.00ms; iter 12100: train loss 3.81167\n",
      "iter_dt 3.80ms; iter 12200: train loss 3.51229\n",
      "iter_dt 3.84ms; iter 12300: train loss 3.71189\n",
      "iter_dt 3.80ms; iter 12400: train loss 3.96421\n",
      "iter_dt 4.01ms; iter 12500: train loss 3.60451\n",
      "iter_dt 3.70ms; iter 12600: train loss 3.53760\n",
      "iter_dt 3.70ms; iter 12700: train loss 3.64616\n",
      "iter_dt 3.81ms; iter 12800: train loss 3.69125\n",
      "iter_dt 3.75ms; iter 12900: train loss 3.79414\n",
      "iter_dt 3.86ms; iter 13000: train loss 3.49999\n",
      "iter_dt 3.81ms; iter 13100: train loss 3.53440\n",
      "iter_dt 3.76ms; iter 13200: train loss 3.57798\n",
      "iter_dt 3.88ms; iter 13300: train loss 3.71957\n",
      "iter_dt 3.80ms; iter 13400: train loss 3.96999\n",
      "iter_dt 3.75ms; iter 13500: train loss 3.68792\n",
      "iter_dt 3.81ms; iter 13600: train loss 3.57373\n",
      "iter_dt 3.96ms; iter 13700: train loss 3.61018\n",
      "iter_dt 3.93ms; iter 13800: train loss 3.73360\n",
      "iter_dt 3.85ms; iter 13900: train loss 3.58988\n",
      "iter_dt 3.85ms; iter 14000: train loss 3.65614\n",
      "iter_dt 3.76ms; iter 14100: train loss 3.74027\n",
      "iter_dt 3.85ms; iter 14200: train loss 3.47188\n",
      "iter_dt 3.91ms; iter 14300: train loss 3.55296\n",
      "iter_dt 3.89ms; iter 14400: train loss 3.45076\n",
      "iter_dt 3.82ms; iter 14500: train loss 3.36431\n",
      "iter_dt 3.86ms; iter 14600: train loss 3.34966\n",
      "iter_dt 3.91ms; iter 14700: train loss 3.52580\n",
      "iter_dt 3.81ms; iter 14800: train loss 3.68593\n",
      "iter_dt 3.97ms; iter 14900: train loss 3.54816\n",
      "iter_dt 3.81ms; iter 15000: train loss 3.58416\n",
      "iter_dt 3.75ms; iter 15100: train loss 3.93698\n",
      "iter_dt 3.86ms; iter 15200: train loss 3.52612\n",
      "iter_dt 3.91ms; iter 15300: train loss 3.82356\n",
      "iter_dt 3.88ms; iter 15400: train loss 3.30401\n",
      "iter_dt 3.80ms; iter 15500: train loss 3.56426\n",
      "iter_dt 4.21ms; iter 15600: train loss 3.40716\n",
      "iter_dt 3.86ms; iter 15700: train loss 3.85163\n",
      "iter_dt 3.90ms; iter 15800: train loss 3.58057\n",
      "iter_dt 3.87ms; iter 15900: train loss 3.77881\n",
      "iter_dt 3.88ms; iter 16000: train loss 3.66300\n",
      "iter_dt 3.79ms; iter 16100: train loss 3.57125\n",
      "iter_dt 3.91ms; iter 16200: train loss 3.50576\n",
      "iter_dt 3.87ms; iter 16300: train loss 4.10697\n",
      "iter_dt 3.76ms; iter 16400: train loss 3.61570\n",
      "iter_dt 3.90ms; iter 16500: train loss 3.73347\n",
      "iter_dt 3.86ms; iter 16600: train loss 3.61179\n",
      "iter_dt 3.83ms; iter 16700: train loss 3.65346\n",
      "iter_dt 3.82ms; iter 16800: train loss 3.63364\n",
      "iter_dt 3.84ms; iter 16900: train loss 3.90404\n",
      "iter_dt 3.78ms; iter 17000: train loss 3.39577\n",
      "iter_dt 3.87ms; iter 17100: train loss 3.24298\n",
      "iter_dt 3.80ms; iter 17200: train loss 3.62424\n",
      "iter_dt 3.83ms; iter 17300: train loss 3.49495\n",
      "iter_dt 3.88ms; iter 17400: train loss 3.78613\n",
      "iter_dt 5.21ms; iter 17500: train loss 3.55573\n",
      "iter_dt 3.91ms; iter 17600: train loss 3.81413\n",
      "iter_dt 3.87ms; iter 17700: train loss 3.66412\n",
      "iter_dt 3.84ms; iter 17800: train loss 3.77404\n",
      "iter_dt 4.83ms; iter 17900: train loss 3.67559\n",
      "iter_dt 3.93ms; iter 18000: train loss 3.74165\n",
      "iter_dt 3.91ms; iter 18100: train loss 3.88284\n",
      "iter_dt 4.11ms; iter 18200: train loss 3.71238\n",
      "iter_dt 3.96ms; iter 18300: train loss 3.58256\n",
      "iter_dt 3.86ms; iter 18400: train loss 3.87393\n",
      "iter_dt 4.12ms; iter 18500: train loss 3.69898\n",
      "iter_dt 3.90ms; iter 18600: train loss 3.73433\n",
      "iter_dt 3.91ms; iter 18700: train loss 3.30766\n",
      "iter_dt 4.81ms; iter 18800: train loss 3.73799\n",
      "iter_dt 3.80ms; iter 18900: train loss 4.02494\n",
      "iter_dt 3.85ms; iter 19000: train loss 3.86628\n",
      "iter_dt 3.95ms; iter 19100: train loss 3.52088\n",
      "iter_dt 3.80ms; iter 19200: train loss 3.49588\n",
      "iter_dt 3.75ms; iter 19300: train loss 3.42621\n",
      "iter_dt 3.80ms; iter 19400: train loss 3.59043\n",
      "iter_dt 3.86ms; iter 19500: train loss 3.55081\n",
      "iter_dt 3.85ms; iter 19600: train loss 3.55026\n",
      "iter_dt 3.90ms; iter 19700: train loss 3.75178\n",
      "iter_dt 3.95ms; iter 19800: train loss 3.54062\n",
      "iter_dt 3.85ms; iter 19900: train loss 3.54771\n",
      "Best loss is: 3.2429800033569336 on epoch: 17100\n"
     ]
    }
   ],
   "source": [
    "best_iter = 100000000000000\n",
    "best_epoch = 0\n",
    "def batch_end_callback(trainer):\n",
    "    global best_iter\n",
    "    global best_epoch\n",
    "    if trainer.iter_num % 100 == 0:\n",
    "        print(f\"iter_dt {trainer.iter_dt * 100:.2f}ms; iter {trainer.iter_num}: train loss {trainer.loss.item():.5f}\")\n",
    "        if trainer.loss.item() < best_iter:\n",
    "            best_iter = trainer.loss.item()\n",
    "            best_epoch = trainer.iter_num\n",
    "            torch.save(model.state_dict(), dataset.experiment_path[:-5] + \"model.pt\")\n",
    "trainer.set_callback('on_batch_end', batch_end_callback)\n",
    "\n",
    "if load_model:\n",
    "    model.load_state_dict(torch.load(\"experiment/model.pt\"))\n",
    "else:\n",
    "    trainer.run()\n",
    "    print(f\"Best loss is: {best_iter} on epoch: {best_epoch}\")"
   ]
  },
  {
   "cell_type": "code",
   "execution_count": 17,
   "metadata": {
    "ExecuteTime": {
     "end_time": "2024-05-15T22:39:07.106939Z",
     "start_time": "2024-05-15T22:39:07.014922300Z"
    }
   },
   "outputs": [
    {
     "data": {
      "text/plain": [
       "GPT(\n",
       "  (transformer): ModuleDict(\n",
       "    (wte): Embedding(1297, 512)\n",
       "    (wpe): Embedding(2, 512)\n",
       "    (drop): Dropout(p=0.1, inplace=False)\n",
       "    (h): ModuleList(\n",
       "      (0-11): 12 x Block(\n",
       "        (ln_1): LayerNorm((512,), eps=1e-05, elementwise_affine=True)\n",
       "        (attn): CausalSelfAttention(\n",
       "          (c_attn): Linear(in_features=512, out_features=1536, bias=True)\n",
       "          (c_proj): Linear(in_features=512, out_features=512, bias=True)\n",
       "          (attn_dropout): Dropout(p=0.1, inplace=False)\n",
       "          (resid_dropout): Dropout(p=0.1, inplace=False)\n",
       "        )\n",
       "        (ln_2): LayerNorm((512,), eps=1e-05, elementwise_affine=True)\n",
       "        (mlp): ModuleDict(\n",
       "          (c_fc): Linear(in_features=512, out_features=2048, bias=True)\n",
       "          (c_proj): Linear(in_features=2048, out_features=512, bias=True)\n",
       "          (act): NewGELU()\n",
       "          (dropout): Dropout(p=0.1, inplace=False)\n",
       "        )\n",
       "      )\n",
       "    )\n",
       "    (ln_f): LayerNorm((512,), eps=1e-05, elementwise_affine=True)\n",
       "  )\n",
       "  (lm_head): Linear(in_features=512, out_features=1297, bias=False)\n",
       ")"
      ]
     },
     "execution_count": 17,
     "metadata": {},
     "output_type": "execute_result"
    }
   ],
   "source": [
    "# now let's perform some evaluation\n",
    "model.eval()"
   ]
  },
  {
   "cell_type": "markdown",
   "metadata": {},
   "source": [
    "# Generate unconditioned facts"
   ]
  },
  {
   "cell_type": "code",
   "execution_count": 18,
   "metadata": {
    "ExecuteTime": {
     "end_time": "2024-05-15T22:39:07.200956900Z",
     "start_time": "2024-05-15T22:39:07.107939600Z"
    }
   },
   "outputs": [],
   "source": [
    "from tqdm import tqdm\n",
    "import pandas as pd\n",
    "import matplotlib.pyplot as plt\n",
    "import numpy as np\n"
   ]
  },
  {
   "cell_type": "code",
   "execution_count": 19,
   "metadata": {
    "ExecuteTime": {
     "end_time": "2024-05-15T22:39:26.139956200Z",
     "start_time": "2024-05-15T22:39:07.201956500Z"
    },
    "collapsed": false,
    "jupyter": {
     "outputs_hidden": false
    }
   },
   "outputs": [],
   "source": [
    "n_sequences = 1000\n",
    "from collections import defaultdict\n",
    "collected_generations = []\n",
    "\n",
    "for _ in range(n_sequences):\n",
    "    x = torch.Tensor([0]).unsqueeze(0).long().to(\"cuda\")\n",
    "    y_gen = model.generate(x, 2, do_sample=True)\n",
    "    name = food_item = dataset.decode([y_gen[0][1]])[0]\n",
    "    food_item = dataset.decode([y_gen[0][2]])[0]\n",
    "    collected_generations.append(f\"{name},{food_item}\")"
   ]
  },
  {
   "cell_type": "code",
   "execution_count": 20,
   "metadata": {
    "ExecuteTime": {
     "end_time": "2024-05-15T22:39:26.233472600Z",
     "start_time": "2024-05-15T22:39:26.139956200Z"
    },
    "collapsed": false,
    "jupyter": {
     "outputs_hidden": false
    }
   },
   "outputs": [],
   "source": [
    "collected_generations_df = pd.DataFrame(collected_generations, columns=[\"facts\"])"
   ]
  },
  {
   "cell_type": "code",
   "execution_count": 21,
   "metadata": {
    "ExecuteTime": {
     "end_time": "2024-05-15T22:39:26.324989700Z",
     "start_time": "2024-05-15T22:39:26.234472700Z"
    },
    "collapsed": false,
    "jupyter": {
     "outputs_hidden": false
    }
   },
   "outputs": [],
   "source": [
    "collected_generations_counts = collected_generations_df.groupby(list(collected_generations_df.columns)).size().reset_index(name='count_generated')\n"
   ]
  },
  {
   "cell_type": "code",
   "execution_count": 22,
   "metadata": {
    "ExecuteTime": {
     "end_time": "2024-05-15T22:39:26.418402900Z",
     "start_time": "2024-05-15T22:39:26.325990100Z"
    },
    "collapsed": false,
    "jupyter": {
     "outputs_hidden": false
    }
   },
   "outputs": [
    {
     "data": {
      "text/html": [
       "<div>\n",
       "<style scoped>\n",
       "    .dataframe tbody tr th:only-of-type {\n",
       "        vertical-align: middle;\n",
       "    }\n",
       "\n",
       "    .dataframe tbody tr th {\n",
       "        vertical-align: top;\n",
       "    }\n",
       "\n",
       "    .dataframe thead th {\n",
       "        text-align: right;\n",
       "    }\n",
       "</style>\n",
       "<table border=\"1\" class=\"dataframe\">\n",
       "  <thead>\n",
       "    <tr style=\"text-align: right;\">\n",
       "      <th></th>\n",
       "      <th>facts</th>\n",
       "      <th>count_generated</th>\n",
       "    </tr>\n",
       "  </thead>\n",
       "  <tbody>\n",
       "    <tr>\n",
       "      <th>0</th>\n",
       "      <td>Abbi,tempura</td>\n",
       "      <td>1</td>\n",
       "    </tr>\n",
       "    <tr>\n",
       "      <th>1</th>\n",
       "      <td>Abbot,honey cake</td>\n",
       "      <td>1</td>\n",
       "    </tr>\n",
       "    <tr>\n",
       "      <th>2</th>\n",
       "      <td>Abbot,souffle</td>\n",
       "      <td>1</td>\n",
       "    </tr>\n",
       "    <tr>\n",
       "      <th>3</th>\n",
       "      <td>Abdul,Tiffany</td>\n",
       "      <td>1</td>\n",
       "    </tr>\n",
       "    <tr>\n",
       "      <th>4</th>\n",
       "      <td>Abdul,eggs florentine</td>\n",
       "      <td>1</td>\n",
       "    </tr>\n",
       "    <tr>\n",
       "      <th>...</th>\n",
       "      <td>...</td>\n",
       "      <td>...</td>\n",
       "    </tr>\n",
       "    <tr>\n",
       "      <th>597</th>\n",
       "      <td>rabbit stew,monkey bread</td>\n",
       "      <td>1</td>\n",
       "    </tr>\n",
       "    <tr>\n",
       "      <th>598</th>\n",
       "      <td>sashimi,Eduardo</td>\n",
       "      <td>1</td>\n",
       "    </tr>\n",
       "    <tr>\n",
       "      <th>599</th>\n",
       "      <td>soup dumplings,Melicent</td>\n",
       "      <td>1</td>\n",
       "    </tr>\n",
       "    <tr>\n",
       "      <th>600</th>\n",
       "      <td>spinach dip,Debi</td>\n",
       "      <td>1</td>\n",
       "    </tr>\n",
       "    <tr>\n",
       "      <th>601</th>\n",
       "      <td>three bean salad,fish and chips</td>\n",
       "      <td>1</td>\n",
       "    </tr>\n",
       "  </tbody>\n",
       "</table>\n",
       "<p>602 rows × 2 columns</p>\n",
       "</div>"
      ],
      "text/plain": [
       "                               facts  count_generated\n",
       "0                       Abbi,tempura                1\n",
       "1                   Abbot,honey cake                1\n",
       "2                      Abbot,souffle                1\n",
       "3                      Abdul,Tiffany                1\n",
       "4              Abdul,eggs florentine                1\n",
       "..                               ...              ...\n",
       "597         rabbit stew,monkey bread                1\n",
       "598                  sashimi,Eduardo                1\n",
       "599          soup dumplings,Melicent                1\n",
       "600                 spinach dip,Debi                1\n",
       "601  three bean salad,fish and chips                1\n",
       "\n",
       "[602 rows x 2 columns]"
      ]
     },
     "execution_count": 22,
     "metadata": {},
     "output_type": "execute_result"
    }
   ],
   "source": [
    "collected_generations_counts"
   ]
  },
  {
   "cell_type": "code",
   "execution_count": 23,
   "metadata": {
    "ExecuteTime": {
     "end_time": "2024-05-15T22:39:26.515420900Z",
     "start_time": "2024-05-15T22:39:26.419403400Z"
    },
    "collapsed": false,
    "jupyter": {
     "outputs_hidden": false
    }
   },
   "outputs": [],
   "source": [
    "# Merge true dist and training dist dataframes, outer is used to include data that is not in training data as well\n",
    "merged_df = pd.merge(true_duplicates_count, training_duplicates_count, on='facts', how='outer')"
   ]
  },
  {
   "cell_type": "code",
   "execution_count": 24,
   "metadata": {
    "ExecuteTime": {
     "end_time": "2024-05-15T22:39:26.604440700Z",
     "start_time": "2024-05-15T22:39:26.512920100Z"
    },
    "collapsed": false,
    "jupyter": {
     "outputs_hidden": false
    }
   },
   "outputs": [],
   "source": [
    "# Add generated_df to true and training dfs \n",
    "# outer can be used to include all facts in true dist\n",
    "# inner can be used to only show the comparison of generated facts\n",
    "comparison_df = pd.merge(merged_df, collected_generations_counts, on='facts', how='outer')"
   ]
  },
  {
   "cell_type": "code",
   "execution_count": 25,
   "metadata": {
    "ExecuteTime": {
     "end_time": "2024-05-15T22:39:26.696957400Z",
     "start_time": "2024-05-15T22:39:26.604940600Z"
    },
    "collapsed": false,
    "jupyter": {
     "outputs_hidden": false
    }
   },
   "outputs": [
    {
     "data": {
      "text/html": [
       "<div>\n",
       "<style scoped>\n",
       "    .dataframe tbody tr th:only-of-type {\n",
       "        vertical-align: middle;\n",
       "    }\n",
       "\n",
       "    .dataframe tbody tr th {\n",
       "        vertical-align: top;\n",
       "    }\n",
       "\n",
       "    .dataframe thead th {\n",
       "        text-align: right;\n",
       "    }\n",
       "</style>\n",
       "<table border=\"1\" class=\"dataframe\">\n",
       "  <thead>\n",
       "    <tr style=\"text-align: right;\">\n",
       "      <th></th>\n",
       "      <th>facts</th>\n",
       "      <th>count_true</th>\n",
       "      <th>count_train</th>\n",
       "      <th>count_generated</th>\n",
       "    </tr>\n",
       "  </thead>\n",
       "  <tbody>\n",
       "    <tr>\n",
       "      <th>0</th>\n",
       "      <td>Abbe,cheesecake</td>\n",
       "      <td>1.0</td>\n",
       "      <td>1.0</td>\n",
       "      <td>NaN</td>\n",
       "    </tr>\n",
       "    <tr>\n",
       "      <th>1</th>\n",
       "      <td>Abbe,quiche lorraine</td>\n",
       "      <td>1.0</td>\n",
       "      <td>1.0</td>\n",
       "      <td>NaN</td>\n",
       "    </tr>\n",
       "    <tr>\n",
       "      <th>2</th>\n",
       "      <td>Abbe,rack of lamb</td>\n",
       "      <td>1.0</td>\n",
       "      <td>1.0</td>\n",
       "      <td>NaN</td>\n",
       "    </tr>\n",
       "    <tr>\n",
       "      <th>3</th>\n",
       "      <td>Abbe,spring rolls</td>\n",
       "      <td>1.0</td>\n",
       "      <td>1.0</td>\n",
       "      <td>NaN</td>\n",
       "    </tr>\n",
       "    <tr>\n",
       "      <th>4</th>\n",
       "      <td>Abbe,turkey sandwich</td>\n",
       "      <td>1.0</td>\n",
       "      <td>1.0</td>\n",
       "      <td>NaN</td>\n",
       "    </tr>\n",
       "    <tr>\n",
       "      <th>...</th>\n",
       "      <td>...</td>\n",
       "      <td>...</td>\n",
       "      <td>...</td>\n",
       "      <td>...</td>\n",
       "    </tr>\n",
       "    <tr>\n",
       "      <th>4882</th>\n",
       "      <td>rabbit stew,monkey bread</td>\n",
       "      <td>NaN</td>\n",
       "      <td>NaN</td>\n",
       "      <td>1.0</td>\n",
       "    </tr>\n",
       "    <tr>\n",
       "      <th>4883</th>\n",
       "      <td>sashimi,Eduardo</td>\n",
       "      <td>NaN</td>\n",
       "      <td>NaN</td>\n",
       "      <td>1.0</td>\n",
       "    </tr>\n",
       "    <tr>\n",
       "      <th>4884</th>\n",
       "      <td>soup dumplings,Melicent</td>\n",
       "      <td>NaN</td>\n",
       "      <td>NaN</td>\n",
       "      <td>1.0</td>\n",
       "    </tr>\n",
       "    <tr>\n",
       "      <th>4885</th>\n",
       "      <td>spinach dip,Debi</td>\n",
       "      <td>NaN</td>\n",
       "      <td>NaN</td>\n",
       "      <td>1.0</td>\n",
       "    </tr>\n",
       "    <tr>\n",
       "      <th>4886</th>\n",
       "      <td>three bean salad,fish and chips</td>\n",
       "      <td>NaN</td>\n",
       "      <td>NaN</td>\n",
       "      <td>1.0</td>\n",
       "    </tr>\n",
       "  </tbody>\n",
       "</table>\n",
       "<p>4887 rows × 4 columns</p>\n",
       "</div>"
      ],
      "text/plain": [
       "                                facts  count_true  count_train  \\\n",
       "0                     Abbe,cheesecake         1.0          1.0   \n",
       "1                Abbe,quiche lorraine         1.0          1.0   \n",
       "2                   Abbe,rack of lamb         1.0          1.0   \n",
       "3                   Abbe,spring rolls         1.0          1.0   \n",
       "4                Abbe,turkey sandwich         1.0          1.0   \n",
       "...                               ...         ...          ...   \n",
       "4882         rabbit stew,monkey bread         NaN          NaN   \n",
       "4883                  sashimi,Eduardo         NaN          NaN   \n",
       "4884          soup dumplings,Melicent         NaN          NaN   \n",
       "4885                 spinach dip,Debi         NaN          NaN   \n",
       "4886  three bean salad,fish and chips         NaN          NaN   \n",
       "\n",
       "      count_generated  \n",
       "0                 NaN  \n",
       "1                 NaN  \n",
       "2                 NaN  \n",
       "3                 NaN  \n",
       "4                 NaN  \n",
       "...               ...  \n",
       "4882              1.0  \n",
       "4883              1.0  \n",
       "4884              1.0  \n",
       "4885              1.0  \n",
       "4886              1.0  \n",
       "\n",
       "[4887 rows x 4 columns]"
      ]
     },
     "execution_count": 25,
     "metadata": {},
     "output_type": "execute_result"
    }
   ],
   "source": [
    "comparison_df"
   ]
  },
  {
   "cell_type": "code",
   "execution_count": 26,
   "metadata": {
    "ExecuteTime": {
     "end_time": "2024-05-15T22:39:26.793474800Z",
     "start_time": "2024-05-15T22:39:26.696957400Z"
    },
    "collapsed": false,
    "jupyter": {
     "outputs_hidden": false
    }
   },
   "outputs": [],
   "source": [
    "# Fill in 0 for facts that not appear\n",
    "comparison_df = comparison_df.fillna(0)"
   ]
  },
  {
   "cell_type": "code",
   "execution_count": 27,
   "metadata": {
    "ExecuteTime": {
     "end_time": "2024-05-15T22:39:26.883991800Z",
     "start_time": "2024-05-15T22:39:26.792474200Z"
    },
    "collapsed": false,
    "jupyter": {
     "outputs_hidden": false
    }
   },
   "outputs": [],
   "source": [
    "# Normalize the counts by length\n",
    "comparison_df[\"count_generated\"] = comparison_df['count_generated']/len(collected_generations)\n",
    "comparison_df[\"count_train\"] = comparison_df['count_train']/len(training_data)\n",
    "comparison_df[\"count_true\"] = comparison_df['count_true']/len(true_dist)\n"
   ]
  },
  {
   "cell_type": "code",
   "execution_count": 28,
   "metadata": {
    "ExecuteTime": {
     "end_time": "2024-05-15T22:39:26.976508500Z",
     "start_time": "2024-05-15T22:39:26.883991800Z"
    },
    "collapsed": false,
    "jupyter": {
     "outputs_hidden": false
    }
   },
   "outputs": [],
   "source": [
    "comparison_df = comparison_df.sort_values(by=['count_generated'], ascending=False)"
   ]
  },
  {
   "cell_type": "code",
   "execution_count": 29,
   "metadata": {},
   "outputs": [
    {
     "data": {
      "text/html": [
       "<div>\n",
       "<style scoped>\n",
       "    .dataframe tbody tr th:only-of-type {\n",
       "        vertical-align: middle;\n",
       "    }\n",
       "\n",
       "    .dataframe tbody tr th {\n",
       "        vertical-align: top;\n",
       "    }\n",
       "\n",
       "    .dataframe thead th {\n",
       "        text-align: right;\n",
       "    }\n",
       "</style>\n",
       "<table border=\"1\" class=\"dataframe\">\n",
       "  <thead>\n",
       "    <tr style=\"text-align: right;\">\n",
       "      <th></th>\n",
       "      <th>facts</th>\n",
       "      <th>count_true</th>\n",
       "      <th>count_train</th>\n",
       "      <th>count_generated</th>\n",
       "    </tr>\n",
       "  </thead>\n",
       "  <tbody>\n",
       "    <tr>\n",
       "      <th>617</th>\n",
       "      <td>Brianna,takoyaki</td>\n",
       "      <td>0.0783</td>\n",
       "      <td>0.079250</td>\n",
       "      <td>0.083</td>\n",
       "    </tr>\n",
       "    <tr>\n",
       "      <th>427</th>\n",
       "      <td>Barry,stuffed shells</td>\n",
       "      <td>0.0383</td>\n",
       "      <td>0.038125</td>\n",
       "      <td>0.045</td>\n",
       "    </tr>\n",
       "    <tr>\n",
       "      <th>4092</th>\n",
       "      <td>Sharlene,naan bread</td>\n",
       "      <td>0.0266</td>\n",
       "      <td>0.027125</td>\n",
       "      <td>0.032</td>\n",
       "    </tr>\n",
       "    <tr>\n",
       "      <th>2774</th>\n",
       "      <td>Lesley,turnover</td>\n",
       "      <td>0.0177</td>\n",
       "      <td>0.017000</td>\n",
       "      <td>0.021</td>\n",
       "    </tr>\n",
       "    <tr>\n",
       "      <th>163</th>\n",
       "      <td>Allx,eggs benedict</td>\n",
       "      <td>0.0052</td>\n",
       "      <td>0.005500</td>\n",
       "      <td>0.013</td>\n",
       "    </tr>\n",
       "    <tr>\n",
       "      <th>...</th>\n",
       "      <td>...</td>\n",
       "      <td>...</td>\n",
       "      <td>...</td>\n",
       "      <td>...</td>\n",
       "    </tr>\n",
       "    <tr>\n",
       "      <th>1723</th>\n",
       "      <td>Fredericka,scallops</td>\n",
       "      <td>0.0001</td>\n",
       "      <td>0.000125</td>\n",
       "      <td>0.000</td>\n",
       "    </tr>\n",
       "    <tr>\n",
       "      <th>1724</th>\n",
       "      <td>Fredrika,macaroni and cheese</td>\n",
       "      <td>0.0002</td>\n",
       "      <td>0.000250</td>\n",
       "      <td>0.000</td>\n",
       "    </tr>\n",
       "    <tr>\n",
       "      <th>1725</th>\n",
       "      <td>Fredrika,neapolitan pizza</td>\n",
       "      <td>0.0001</td>\n",
       "      <td>0.000000</td>\n",
       "      <td>0.000</td>\n",
       "    </tr>\n",
       "    <tr>\n",
       "      <th>1727</th>\n",
       "      <td>Fredrika,thai iced tea</td>\n",
       "      <td>0.0001</td>\n",
       "      <td>0.000125</td>\n",
       "      <td>0.000</td>\n",
       "    </tr>\n",
       "    <tr>\n",
       "      <th>2443</th>\n",
       "      <td>Kacy,gumbo</td>\n",
       "      <td>0.0001</td>\n",
       "      <td>0.000125</td>\n",
       "      <td>0.000</td>\n",
       "    </tr>\n",
       "  </tbody>\n",
       "</table>\n",
       "<p>4887 rows × 4 columns</p>\n",
       "</div>"
      ],
      "text/plain": [
       "                             facts  count_true  count_train  count_generated\n",
       "617               Brianna,takoyaki      0.0783     0.079250            0.083\n",
       "427           Barry,stuffed shells      0.0383     0.038125            0.045\n",
       "4092           Sharlene,naan bread      0.0266     0.027125            0.032\n",
       "2774               Lesley,turnover      0.0177     0.017000            0.021\n",
       "163             Allx,eggs benedict      0.0052     0.005500            0.013\n",
       "...                            ...         ...          ...              ...\n",
       "1723           Fredericka,scallops      0.0001     0.000125            0.000\n",
       "1724  Fredrika,macaroni and cheese      0.0002     0.000250            0.000\n",
       "1725     Fredrika,neapolitan pizza      0.0001     0.000000            0.000\n",
       "1727        Fredrika,thai iced tea      0.0001     0.000125            0.000\n",
       "2443                    Kacy,gumbo      0.0001     0.000125            0.000\n",
       "\n",
       "[4887 rows x 4 columns]"
      ]
     },
     "execution_count": 29,
     "metadata": {},
     "output_type": "execute_result"
    }
   ],
   "source": [
    "comparison_df"
   ]
  },
  {
   "cell_type": "code",
   "execution_count": 30,
   "metadata": {},
   "outputs": [
    {
     "data": {
      "text/plain": [
       "facts              Brianna,takoyakiBarry,stuffed shellsSharlene,n...\n",
       "count_true                                                       1.0\n",
       "count_train                                                      1.0\n",
       "count_generated                                                  1.0\n",
       "dtype: object"
      ]
     },
     "execution_count": 30,
     "metadata": {},
     "output_type": "execute_result"
    }
   ],
   "source": [
    "comparison_df.sum()"
   ]
  },
  {
   "cell_type": "code",
   "execution_count": 31,
   "metadata": {
    "ExecuteTime": {
     "end_time": "2024-05-15T22:39:27.768653300Z",
     "start_time": "2024-05-15T22:39:26.977008700Z"
    },
    "collapsed": false,
    "jupyter": {
     "outputs_hidden": false
    }
   },
   "outputs": [
    {
     "data": {
      "text/plain": [
       "<Axes: >"
      ]
     },
     "execution_count": 31,
     "metadata": {},
     "output_type": "execute_result"
    },
    {
     "data": {
      "image/png": "[encoded data removed]",
      "text/plain": [
       "<Figure size 1600x400 with 1 Axes>"
      ]
     },
     "metadata": {},
     "output_type": "display_data"
    }
   ],
   "source": [
    "import matplotlib.pyplot as plt\n",
    "import numpy as np\n",
    "# Only the top 100 facts graphed for visibility \n",
    "comparison_df[:100].plot.bar(figsize=(16, 4))"
   ]
  },
  {
   "cell_type": "markdown",
   "metadata": {
    "collapsed": false,
    "jupyter": {
     "outputs_hidden": false
    }
   },
   "source": [
    "## Hallucination rates"
   ]
  },
  {
   "cell_type": "code",
   "execution_count": 32,
   "metadata": {
    "ExecuteTime": {
     "end_time": "2024-05-15T22:39:27.860669500Z",
     "start_time": "2024-05-15T22:39:27.766652800Z"
    },
    "collapsed": false,
    "jupyter": {
     "outputs_hidden": false
    }
   },
   "outputs": [],
   "source": [
    "# True hallucination rate (generations not in true dist)\n",
    "true_hallucinations = pd.merge(collected_generations_counts, true_duplicates_count, on='facts', how='left')\n"
   ]
  },
  {
   "cell_type": "code",
   "execution_count": 33,
   "metadata": {
    "ExecuteTime": {
     "end_time": "2024-05-15T22:39:27.970690Z",
     "start_time": "2024-05-15T22:39:27.860669500Z"
    },
    "collapsed": false,
    "jupyter": {
     "outputs_hidden": false
    }
   },
   "outputs": [
    {
     "data": {
      "text/html": [
       "<div>\n",
       "<style scoped>\n",
       "    .dataframe tbody tr th:only-of-type {\n",
       "        vertical-align: middle;\n",
       "    }\n",
       "\n",
       "    .dataframe tbody tr th {\n",
       "        vertical-align: top;\n",
       "    }\n",
       "\n",
       "    .dataframe thead th {\n",
       "        text-align: right;\n",
       "    }\n",
       "</style>\n",
       "<table border=\"1\" class=\"dataframe\">\n",
       "  <thead>\n",
       "    <tr style=\"text-align: right;\">\n",
       "      <th></th>\n",
       "      <th>facts</th>\n",
       "      <th>count_generated</th>\n",
       "      <th>count_true</th>\n",
       "    </tr>\n",
       "  </thead>\n",
       "  <tbody>\n",
       "    <tr>\n",
       "      <th>0</th>\n",
       "      <td>Abbi,tempura</td>\n",
       "      <td>1</td>\n",
       "      <td>1.0</td>\n",
       "    </tr>\n",
       "    <tr>\n",
       "      <th>1</th>\n",
       "      <td>Abbot,honey cake</td>\n",
       "      <td>1</td>\n",
       "      <td>2.0</td>\n",
       "    </tr>\n",
       "    <tr>\n",
       "      <th>2</th>\n",
       "      <td>Abbot,souffle</td>\n",
       "      <td>1</td>\n",
       "      <td>2.0</td>\n",
       "    </tr>\n",
       "    <tr>\n",
       "      <th>3</th>\n",
       "      <td>Abdul,Tiffany</td>\n",
       "      <td>1</td>\n",
       "      <td>NaN</td>\n",
       "    </tr>\n",
       "    <tr>\n",
       "      <th>4</th>\n",
       "      <td>Abdul,eggs florentine</td>\n",
       "      <td>1</td>\n",
       "      <td>1.0</td>\n",
       "    </tr>\n",
       "    <tr>\n",
       "      <th>...</th>\n",
       "      <td>...</td>\n",
       "      <td>...</td>\n",
       "      <td>...</td>\n",
       "    </tr>\n",
       "    <tr>\n",
       "      <th>597</th>\n",
       "      <td>rabbit stew,monkey bread</td>\n",
       "      <td>1</td>\n",
       "      <td>NaN</td>\n",
       "    </tr>\n",
       "    <tr>\n",
       "      <th>598</th>\n",
       "      <td>sashimi,Eduardo</td>\n",
       "      <td>1</td>\n",
       "      <td>NaN</td>\n",
       "    </tr>\n",
       "    <tr>\n",
       "      <th>599</th>\n",
       "      <td>soup dumplings,Melicent</td>\n",
       "      <td>1</td>\n",
       "      <td>NaN</td>\n",
       "    </tr>\n",
       "    <tr>\n",
       "      <th>600</th>\n",
       "      <td>spinach dip,Debi</td>\n",
       "      <td>1</td>\n",
       "      <td>NaN</td>\n",
       "    </tr>\n",
       "    <tr>\n",
       "      <th>601</th>\n",
       "      <td>three bean salad,fish and chips</td>\n",
       "      <td>1</td>\n",
       "      <td>NaN</td>\n",
       "    </tr>\n",
       "  </tbody>\n",
       "</table>\n",
       "<p>602 rows × 3 columns</p>\n",
       "</div>"
      ],
      "text/plain": [
       "                               facts  count_generated  count_true\n",
       "0                       Abbi,tempura                1         1.0\n",
       "1                   Abbot,honey cake                1         2.0\n",
       "2                      Abbot,souffle                1         2.0\n",
       "3                      Abdul,Tiffany                1         NaN\n",
       "4              Abdul,eggs florentine                1         1.0\n",
       "..                               ...              ...         ...\n",
       "597         rabbit stew,monkey bread                1         NaN\n",
       "598                  sashimi,Eduardo                1         NaN\n",
       "599          soup dumplings,Melicent                1         NaN\n",
       "600                 spinach dip,Debi                1         NaN\n",
       "601  three bean salad,fish and chips                1         NaN\n",
       "\n",
       "[602 rows x 3 columns]"
      ]
     },
     "execution_count": 33,
     "metadata": {},
     "output_type": "execute_result"
    }
   ],
   "source": [
    "true_hallucinations"
   ]
  },
  {
   "cell_type": "code",
   "execution_count": 34,
   "metadata": {
    "ExecuteTime": {
     "end_time": "2024-05-15T22:39:28.102714500Z",
     "start_time": "2024-05-15T22:39:27.969690Z"
    },
    "collapsed": false,
    "jupyter": {
     "outputs_hidden": false
    }
   },
   "outputs": [
    {
     "name": "stdout",
     "output_type": "stream",
     "text": [
      "Rate of true hallucinations: 0.101 \n"
     ]
    }
   ],
   "source": [
    "true_hallucinations = true_hallucinations.fillna(0)\n",
    "number_of_true_hallucinations =true_hallucinations[\"count_true\"].value_counts()[0]\n",
    "true_hallucinations_rate = number_of_true_hallucinations / len(collected_generations)\n",
    "print(f\"Rate of true hallucinations: {true_hallucinations_rate} \")"
   ]
  },
  {
   "cell_type": "code",
   "execution_count": 35,
   "metadata": {
    "ExecuteTime": {
     "end_time": "2024-05-15T22:39:28.170726900Z",
     "start_time": "2024-05-15T22:39:28.078709900Z"
    },
    "collapsed": false,
    "jupyter": {
     "outputs_hidden": false
    }
   },
   "outputs": [],
   "source": [
    "# Naive hallucination rate (every generation not in training data)\n",
    "naive_hallucinations = pd.merge(collected_generations_counts, training_duplicates_count, on='facts', how='left')"
   ]
  },
  {
   "cell_type": "code",
   "execution_count": 36,
   "metadata": {
    "ExecuteTime": {
     "end_time": "2024-05-15T22:39:28.263243800Z",
     "start_time": "2024-05-15T22:39:28.171727Z"
    },
    "collapsed": false,
    "jupyter": {
     "outputs_hidden": false
    }
   },
   "outputs": [
    {
     "data": {
      "text/html": [
       "<div>\n",
       "<style scoped>\n",
       "    .dataframe tbody tr th:only-of-type {\n",
       "        vertical-align: middle;\n",
       "    }\n",
       "\n",
       "    .dataframe tbody tr th {\n",
       "        vertical-align: top;\n",
       "    }\n",
       "\n",
       "    .dataframe thead th {\n",
       "        text-align: right;\n",
       "    }\n",
       "</style>\n",
       "<table border=\"1\" class=\"dataframe\">\n",
       "  <thead>\n",
       "    <tr style=\"text-align: right;\">\n",
       "      <th></th>\n",
       "      <th>facts</th>\n",
       "      <th>count_generated</th>\n",
       "      <th>count_train</th>\n",
       "    </tr>\n",
       "  </thead>\n",
       "  <tbody>\n",
       "    <tr>\n",
       "      <th>0</th>\n",
       "      <td>Abbi,tempura</td>\n",
       "      <td>1</td>\n",
       "      <td>1.0</td>\n",
       "    </tr>\n",
       "    <tr>\n",
       "      <th>1</th>\n",
       "      <td>Abbot,honey cake</td>\n",
       "      <td>1</td>\n",
       "      <td>1.0</td>\n",
       "    </tr>\n",
       "    <tr>\n",
       "      <th>2</th>\n",
       "      <td>Abbot,souffle</td>\n",
       "      <td>1</td>\n",
       "      <td>2.0</td>\n",
       "    </tr>\n",
       "    <tr>\n",
       "      <th>3</th>\n",
       "      <td>Abdul,Tiffany</td>\n",
       "      <td>1</td>\n",
       "      <td>NaN</td>\n",
       "    </tr>\n",
       "    <tr>\n",
       "      <th>4</th>\n",
       "      <td>Abdul,eggs florentine</td>\n",
       "      <td>1</td>\n",
       "      <td>1.0</td>\n",
       "    </tr>\n",
       "    <tr>\n",
       "      <th>...</th>\n",
       "      <td>...</td>\n",
       "      <td>...</td>\n",
       "      <td>...</td>\n",
       "    </tr>\n",
       "    <tr>\n",
       "      <th>597</th>\n",
       "      <td>rabbit stew,monkey bread</td>\n",
       "      <td>1</td>\n",
       "      <td>NaN</td>\n",
       "    </tr>\n",
       "    <tr>\n",
       "      <th>598</th>\n",
       "      <td>sashimi,Eduardo</td>\n",
       "      <td>1</td>\n",
       "      <td>NaN</td>\n",
       "    </tr>\n",
       "    <tr>\n",
       "      <th>599</th>\n",
       "      <td>soup dumplings,Melicent</td>\n",
       "      <td>1</td>\n",
       "      <td>NaN</td>\n",
       "    </tr>\n",
       "    <tr>\n",
       "      <th>600</th>\n",
       "      <td>spinach dip,Debi</td>\n",
       "      <td>1</td>\n",
       "      <td>NaN</td>\n",
       "    </tr>\n",
       "    <tr>\n",
       "      <th>601</th>\n",
       "      <td>three bean salad,fish and chips</td>\n",
       "      <td>1</td>\n",
       "      <td>NaN</td>\n",
       "    </tr>\n",
       "  </tbody>\n",
       "</table>\n",
       "<p>602 rows × 3 columns</p>\n",
       "</div>"
      ],
      "text/plain": [
       "                               facts  count_generated  count_train\n",
       "0                       Abbi,tempura                1          1.0\n",
       "1                   Abbot,honey cake                1          1.0\n",
       "2                      Abbot,souffle                1          2.0\n",
       "3                      Abdul,Tiffany                1          NaN\n",
       "4              Abdul,eggs florentine                1          1.0\n",
       "..                               ...              ...          ...\n",
       "597         rabbit stew,monkey bread                1          NaN\n",
       "598                  sashimi,Eduardo                1          NaN\n",
       "599          soup dumplings,Melicent                1          NaN\n",
       "600                 spinach dip,Debi                1          NaN\n",
       "601  three bean salad,fish and chips                1          NaN\n",
       "\n",
       "[602 rows x 3 columns]"
      ]
     },
     "execution_count": 36,
     "metadata": {},
     "output_type": "execute_result"
    }
   ],
   "source": [
    "naive_hallucinations"
   ]
  },
  {
   "cell_type": "code",
   "execution_count": 37,
   "metadata": {
    "ExecuteTime": {
     "end_time": "2024-05-15T22:39:28.365762500Z",
     "start_time": "2024-05-15T22:39:28.264744Z"
    },
    "collapsed": false,
    "jupyter": {
     "outputs_hidden": false
    }
   },
   "outputs": [
    {
     "name": "stdout",
     "output_type": "stream",
     "text": [
      "Rate of naive hallucinations: 0.101 \n"
     ]
    }
   ],
   "source": [
    "naive_hallucinations = naive_hallucinations.fillna(0)\n",
    "number_of_naive_hallucinations = naive_hallucinations[\"count_train\"].value_counts()[0]\n",
    "naive_hallucinations_rate = number_of_naive_hallucinations / len(collected_generations)\n",
    "print(f\"Rate of naive hallucinations: {naive_hallucinations_rate} \")"
   ]
  },
  {
   "cell_type": "markdown",
   "metadata": {
    "collapsed": false,
    "jupyter": {
     "outputs_hidden": false
    }
   },
   "source": [
    "### Monofact rate"
   ]
  },
  {
   "cell_type": "code",
   "execution_count": 38,
   "metadata": {
    "ExecuteTime": {
     "end_time": "2024-05-15T22:39:28.451778300Z",
     "start_time": "2024-05-15T22:39:28.358261100Z"
    },
    "collapsed": false,
    "jupyter": {
     "outputs_hidden": false
    }
   },
   "outputs": [
    {
     "data": {
      "text/plain": [
       "0.41975"
      ]
     },
     "execution_count": 38,
     "metadata": {},
     "output_type": "execute_result"
    }
   ],
   "source": [
    "training_duplicates_count[\"count_train\"].value_counts()[1] / len(training_data)"
   ]
  },
  {
   "cell_type": "code",
   "execution_count": 39,
   "metadata": {},
   "outputs": [
    {
     "data": {
      "text/plain": [
       "3358"
      ]
     },
     "execution_count": 39,
     "metadata": {},
     "output_type": "execute_result"
    }
   ],
   "source": [
    "training_duplicates_count[\"count_train\"].value_counts()[1]"
   ]
  },
  {
   "cell_type": "markdown",
   "metadata": {},
   "source": [
    "### Miscalibration"
   ]
  },
  {
   "cell_type": "code",
   "execution_count": 40,
   "metadata": {},
   "outputs": [],
   "source": [
    "from lib.calibration import miscalibration"
   ]
  },
  {
   "cell_type": "code",
   "execution_count": 41,
   "metadata": {},
   "outputs": [],
   "source": [
    "comparison_sorted_by_generated = comparison_df.sort_values(by='count_generated', ascending=False)"
   ]
  },
  {
   "cell_type": "code",
   "execution_count": 42,
   "metadata": {},
   "outputs": [
    {
     "name": "stdout",
     "output_type": "stream",
     "text": [
      "Adaptive binning with 12 bins\n",
      "bin with g_proba / p_proba 0.083 0.0783\n",
      "bin with g_proba / p_proba 0.077 0.0649\n",
      "bin with g_proba / p_proba 0.07899999999999999 0.0622\n",
      "bin with g_proba / p_proba 0.081 0.0676\n",
      "bin with g_proba / p_proba 0.08200000000000003 0.042800000000000005\n",
      "bin with g_proba / p_proba 0.08200000000000006 0.033\n",
      "bin with g_proba / p_proba 0.08300000000000006 0.022200000000000004\n",
      "bin with g_proba / p_proba 0.08300000000000006 0.0157\n",
      "bin with g_proba / p_proba 0.08300000000000006 0.0104\n",
      "bin with g_proba / p_proba 0.08300000000000006 0.016799999999999995\n",
      "bin with g_proba / p_proba 0.08300000000000006 0.020399999999999998\n",
      "bin with g_proba / p_proba 0.08300000000000006 0.0159\n",
      "bin with g_proba / p_proba 0.01800000000000001 0.5498000000000001\n"
     ]
    },
    {
     "data": {
      "text/plain": [
       "0.5509739257218109"
      ]
     },
     "execution_count": 42,
     "metadata": {},
     "output_type": "execute_result"
    }
   ],
   "source": [
    "miscalibration(comparison_sorted_by_generated['count_generated'], comparison_sorted_by_generated['count_true'])"
   ]
  },
  {
   "cell_type": "code",
   "execution_count": 43,
   "metadata": {},
   "outputs": [
    {
     "name": "stdout",
     "output_type": "stream",
     "text": [
      "Adaptive binning with 12 bins\n",
      "bin with g_proba / p_proba 0.083 0.07925\n",
      "bin with g_proba / p_proba 0.077 0.06525\n",
      "bin with g_proba / p_proba 0.07899999999999999 0.06125\n",
      "bin with g_proba / p_proba 0.081 0.07\n",
      "bin with g_proba / p_proba 0.08200000000000003 0.042499999999999996\n",
      "bin with g_proba / p_proba 0.08200000000000006 0.03325\n",
      "bin with g_proba / p_proba 0.08300000000000006 0.024\n",
      "bin with g_proba / p_proba 0.08300000000000006 0.016125\n",
      "bin with g_proba / p_proba 0.08300000000000006 0.010875000000000001\n",
      "bin with g_proba / p_proba 0.08300000000000006 0.018250000000000002\n",
      "bin with g_proba / p_proba 0.08300000000000006 0.022500000000000006\n",
      "bin with g_proba / p_proba 0.08300000000000006 0.01725\n",
      "bin with g_proba / p_proba 0.01800000000000001 0.5395000000000001\n"
     ]
    },
    {
     "data": {
      "text/plain": [
       "0.5410765357502518"
      ]
     },
     "execution_count": 43,
     "metadata": {},
     "output_type": "execute_result"
    }
   ],
   "source": [
    "miscalibration(comparison_sorted_by_generated['count_generated'], comparison_sorted_by_generated['count_train'])"
   ]
  },
  {
   "cell_type": "markdown",
   "metadata": {},
   "source": [
    "### Check if it holds"
   ]
  },
  {
   "cell_type": "code",
   "execution_count": 44,
   "metadata": {},
   "outputs": [],
   "source": [
    "unique_names = len(set([t[1] for t in train_dataset]))\n",
    "unique_foods = len(set([t[2] for t in train_dataset]))\n",
    "# Possible generations\n",
    "POSS_GENERATIONS = unique_names * unique_foods\n",
    "\n",
    "# Facts to all possibilities - facts, approximated\n",
    "APPROX_FACTS_TO_POSSIBLE_HALLUCINATIONS = 300 * len(training_duplicates_count) / (POSS_GENERATIONS - len(training_duplicates_count))"
   ]
  },
  {
   "cell_type": "code",
   "execution_count": 45,
   "metadata": {},
   "outputs": [],
   "source": [
    "HALLUCINATION_RATE = 0.134\n",
    "\n",
    "MF = 0.43875\n",
    "\n",
    "MISCALIBRATION = 0.2891"
   ]
  },
  {
   "cell_type": "code",
   "execution_count": 46,
   "metadata": {},
   "outputs": [
    {
     "data": {
      "text/plain": [
       "0.018549584386022118"
      ]
     },
     "execution_count": 46,
     "metadata": {},
     "output_type": "execute_result"
    }
   ],
   "source": [
    "APPROX_FACTS_TO_POSSIBLE_HALLUCINATIONS"
   ]
  },
  {
   "cell_type": "code",
   "execution_count": 47,
   "metadata": {},
   "outputs": [
    {
     "data": {
      "text/plain": [
       "0.14964999999999995"
      ]
     },
     "execution_count": 47,
     "metadata": {},
     "output_type": "execute_result"
    }
   ],
   "source": [
    "MF - MISCALIBRATION"
   ]
  },
  {
   "cell_type": "code",
   "execution_count": 48,
   "metadata": {},
   "outputs": [
    {
     "data": {
      "text/plain": [
       "0.07826237921249264"
      ]
     },
     "execution_count": 48,
     "metadata": {},
     "output_type": "execute_result"
    }
   ],
   "source": [
    "7 / np.sqrt(len(training_data))"
   ]
  },
  {
   "cell_type": "code",
   "execution_count": 49,
   "metadata": {},
   "outputs": [
    {
     "data": {
      "text/plain": [
       "0.05283803640148519"
      ]
     },
     "execution_count": 49,
     "metadata": {},
     "output_type": "execute_result"
    }
   ],
   "source": [
    "MF - MISCALIBRATION - (7 / np.sqrt(len(training_data))) - APPROX_FACTS_TO_POSSIBLE_HALLUCINATIONS"
   ]
  },
  {
   "cell_type": "code",
   "execution_count": 50,
   "metadata": {},
   "outputs": [
    {
     "data": {
      "text/plain": [
       "0.134"
      ]
     },
     "execution_count": 50,
     "metadata": {},
     "output_type": "execute_result"
    }
   ],
   "source": [
    "HALLUCINATION_RATE"
   ]
  },
  {
   "cell_type": "code",
   "execution_count": 51,
   "metadata": {},
   "outputs": [
    {
     "data": {
      "text/plain": [
       "False"
      ]
     },
     "execution_count": 51,
     "metadata": {},
     "output_type": "execute_result"
    }
   ],
   "source": [
    "HALLUCINATION_RATE > MF - MISCALIBRATION"
   ]
  },
  {
   "cell_type": "code",
   "execution_count": 52,
   "metadata": {},
   "outputs": [
    {
     "data": {
      "text/plain": [
       "True"
      ]
     },
     "execution_count": 52,
     "metadata": {},
     "output_type": "execute_result"
    }
   ],
   "source": [
    "HALLUCINATION_RATE > MF - MISCALIBRATION - (7 / np.sqrt(len(training_data))) - APPROX_FACTS_TO_POSSIBLE_HALLUCINATIONS"
   ]
  }
 ],
 "metadata": {
  "kernelspec": {
   "display_name": "Python 3 (ipykernel)",
   "language": "python",
   "name": "python3"
  },
  "language_info": {
   "codemirror_mode": {
    "name": "ipython",
    "version": 3
   },
   "file_extension": ".py",
   "mimetype": "text/x-python",
   "name": "python",
   "nbconvert_exporter": "python",
   "pygments_lexer": "ipython3",
   "version": "3.11.7"
  }
 },
 "nbformat": 4,
 "nbformat_minor": 4
}
