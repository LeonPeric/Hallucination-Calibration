{
 "cells": [
  {
   "cell_type": "code",
   "execution_count": 1,
   "metadata": {
    "ExecuteTime": {
     "end_time": "2024-05-17T16:01:00.431978900Z",
     "start_time": "2024-05-17T16:01:00.369468900Z"
    }
   },
   "outputs": [],
   "source": [
    "%load_ext autoreload\n",
    "%autoreload 2"
   ]
  },
  {
   "cell_type": "code",
   "execution_count": 2,
   "metadata": {
    "ExecuteTime": {
     "end_time": "2024-05-17T16:01:00.468985100Z",
     "start_time": "2024-05-17T16:01:00.416476100Z"
    }
   },
   "outputs": [],
   "source": [
    "load_dataset = False\n",
    "load_model = True"
   ]
  },
  {
   "cell_type": "markdown",
   "metadata": {},
   "source": [
    "# Dataset preparing"
   ]
  },
  {
   "cell_type": "code",
   "execution_count": 3,
   "metadata": {
    "ExecuteTime": {
     "end_time": "2024-05-17T16:01:02.199952100Z",
     "start_time": "2024-05-17T16:01:01.676860300Z"
    }
   },
   "outputs": [],
   "source": [
    "from dataset.fact_dataset_generator import FactDatasetGenerator\n",
    "import numpy as np\n",
    "import sys\n",
    "import pandas as pd"
   ]
  },
  {
   "cell_type": "code",
   "execution_count": 4,
   "metadata": {
    "ExecuteTime": {
     "end_time": "2024-05-17T16:01:02.270465200Z",
     "start_time": "2024-05-17T16:01:02.200952300Z"
    }
   },
   "outputs": [],
   "source": [
    "true_dist_size = 10000\n",
    "dataset = FactDatasetGenerator(number_person=1000,  distribution=\"zipf\", dataset_folder='./dataset/data/', food_list_name=\"food_list_small.txt\",true_dist_size=true_dist_size, experiment_path=\"experiment/medium_dataset/data/\")"
   ]
  },
  {
   "cell_type": "code",
   "execution_count": 5,
   "metadata": {
    "ExecuteTime": {
     "end_time": "2024-05-17T16:01:03.947784200Z",
     "start_time": "2024-05-17T16:01:03.540187400Z"
    }
   },
   "outputs": [
    {
     "name": "stdout",
     "output_type": "stream",
     "text": [
      "1098\n",
      "101000\n"
     ]
    }
   ],
   "source": [
    "if load_dataset:\n",
    "    dataset.load_dataset()\n",
    "    true_dist = dataset.true_dist \n",
    "    training_data = dataset.training_data\n",
    "else:\n",
    "    # Generate all possible facts\n",
    "    temp = dataset.generate_all_possibilities()\n",
    "    # Sample true dist (zipf)\n",
    "    true_dist = dataset.generate_true_dist()\n",
    "    # Sample training data uniformly, %80 of true dist\n",
    "    training_dataset_size = int(0.3 * true_dist_size)\n",
    "    training_data = dataset.sample_training_data(training_dataset_size,true_dist.tolist())\n",
    "    print(dataset.vocab_size)\n",
    "    print(len(temp))"
   ]
  },
  {
   "cell_type": "code",
   "execution_count": 6,
   "metadata": {
    "collapsed": false,
    "ExecuteTime": {
     "end_time": "2024-05-17T16:01:05.810234500Z",
     "start_time": "2024-05-17T16:01:05.717218Z"
    }
   },
   "outputs": [],
   "source": [
    "true_dist_df = pd.DataFrame(true_dist,columns=[\"facts\"])"
   ]
  },
  {
   "cell_type": "code",
   "execution_count": 7,
   "metadata": {
    "collapsed": false,
    "ExecuteTime": {
     "end_time": "2024-05-17T16:01:06.633378500Z",
     "start_time": "2024-05-17T16:01:06.535926600Z"
    }
   },
   "outputs": [
    {
     "data": {
      "text/plain": "                                facts\n0                 Derek,tuna tartare \n1        Gibby,lobster roll sandwich \n2              Amalee,lobster bisque \n3                  Robbi,greek salad \n4              Perrine,bread pudding \n...                               ...\n9995             Lesley,filet mignon \n9996        Koressa,shrimp and grits \n9997  Hervey,grilled cheese sandwich \n9998                    Lela,mussels \n9999                 Ilario,pad thai \n\n[10000 rows x 1 columns]",
      "text/html": "<div>\n<style scoped>\n    .dataframe tbody tr th:only-of-type {\n        vertical-align: middle;\n    }\n\n    .dataframe tbody tr th {\n        vertical-align: top;\n    }\n\n    .dataframe thead th {\n        text-align: right;\n    }\n</style>\n<table border=\"1\" class=\"dataframe\">\n  <thead>\n    <tr style=\"text-align: right;\">\n      <th></th>\n      <th>facts</th>\n    </tr>\n  </thead>\n  <tbody>\n    <tr>\n      <th>0</th>\n      <td>Derek,tuna tartare</td>\n    </tr>\n    <tr>\n      <th>1</th>\n      <td>Gibby,lobster roll sandwich</td>\n    </tr>\n    <tr>\n      <th>2</th>\n      <td>Amalee,lobster bisque</td>\n    </tr>\n    <tr>\n      <th>3</th>\n      <td>Robbi,greek salad</td>\n    </tr>\n    <tr>\n      <th>4</th>\n      <td>Perrine,bread pudding</td>\n    </tr>\n    <tr>\n      <th>...</th>\n      <td>...</td>\n    </tr>\n    <tr>\n      <th>9995</th>\n      <td>Lesley,filet mignon</td>\n    </tr>\n    <tr>\n      <th>9996</th>\n      <td>Koressa,shrimp and grits</td>\n    </tr>\n    <tr>\n      <th>9997</th>\n      <td>Hervey,grilled cheese sandwich</td>\n    </tr>\n    <tr>\n      <th>9998</th>\n      <td>Lela,mussels</td>\n    </tr>\n    <tr>\n      <th>9999</th>\n      <td>Ilario,pad thai</td>\n    </tr>\n  </tbody>\n</table>\n<p>10000 rows × 1 columns</p>\n</div>"
     },
     "execution_count": 7,
     "metadata": {},
     "output_type": "execute_result"
    }
   ],
   "source": [
    "true_dist_df"
   ]
  },
  {
   "cell_type": "code",
   "execution_count": 8,
   "metadata": {
    "collapsed": false,
    "ExecuteTime": {
     "end_time": "2024-05-17T16:01:07.686478700Z",
     "start_time": "2024-05-17T16:01:07.622468Z"
    }
   },
   "outputs": [],
   "source": [
    "true_duplicates_count = true_dist_df.groupby(list(true_dist_df.columns)).size().reset_index(name='count_true')\n"
   ]
  },
  {
   "cell_type": "code",
   "execution_count": 9,
   "metadata": {
    "collapsed": false,
    "ExecuteTime": {
     "end_time": "2024-05-17T16:01:08.630643900Z",
     "start_time": "2024-05-17T16:01:08.560633Z"
    }
   },
   "outputs": [
    {
     "data": {
      "text/plain": "                        facts  count_true\n0        Abbe,beef carpaccio            1\n1          Abbe,creme brulee            1\n2         Abbe,frozen yogurt            1\n3                 Abbe,ramen            1\n4            Abbi,crab cakes            1\n...                       ...         ...\n4238  Zita,breakfast burrito            1\n4239    Zita,red velvet cake            3\n4240    Zorine,club sandwich            1\n4241        Zorine,hamburger            1\n4242      Zorine,panna cotta            1\n\n[4243 rows x 2 columns]",
      "text/html": "<div>\n<style scoped>\n    .dataframe tbody tr th:only-of-type {\n        vertical-align: middle;\n    }\n\n    .dataframe tbody tr th {\n        vertical-align: top;\n    }\n\n    .dataframe thead th {\n        text-align: right;\n    }\n</style>\n<table border=\"1\" class=\"dataframe\">\n  <thead>\n    <tr style=\"text-align: right;\">\n      <th></th>\n      <th>facts</th>\n      <th>count_true</th>\n    </tr>\n  </thead>\n  <tbody>\n    <tr>\n      <th>0</th>\n      <td>Abbe,beef carpaccio</td>\n      <td>1</td>\n    </tr>\n    <tr>\n      <th>1</th>\n      <td>Abbe,creme brulee</td>\n      <td>1</td>\n    </tr>\n    <tr>\n      <th>2</th>\n      <td>Abbe,frozen yogurt</td>\n      <td>1</td>\n    </tr>\n    <tr>\n      <th>3</th>\n      <td>Abbe,ramen</td>\n      <td>1</td>\n    </tr>\n    <tr>\n      <th>4</th>\n      <td>Abbi,crab cakes</td>\n      <td>1</td>\n    </tr>\n    <tr>\n      <th>...</th>\n      <td>...</td>\n      <td>...</td>\n    </tr>\n    <tr>\n      <th>4238</th>\n      <td>Zita,breakfast burrito</td>\n      <td>1</td>\n    </tr>\n    <tr>\n      <th>4239</th>\n      <td>Zita,red velvet cake</td>\n      <td>3</td>\n    </tr>\n    <tr>\n      <th>4240</th>\n      <td>Zorine,club sandwich</td>\n      <td>1</td>\n    </tr>\n    <tr>\n      <th>4241</th>\n      <td>Zorine,hamburger</td>\n      <td>1</td>\n    </tr>\n    <tr>\n      <th>4242</th>\n      <td>Zorine,panna cotta</td>\n      <td>1</td>\n    </tr>\n  </tbody>\n</table>\n<p>4243 rows × 2 columns</p>\n</div>"
     },
     "execution_count": 9,
     "metadata": {},
     "output_type": "execute_result"
    }
   ],
   "source": [
    "true_duplicates_count"
   ]
  },
  {
   "cell_type": "code",
   "execution_count": 10,
   "metadata": {
    "collapsed": false,
    "ExecuteTime": {
     "end_time": "2024-05-17T16:01:09.112228500Z",
     "start_time": "2024-05-17T16:01:09.045217100Z"
    }
   },
   "outputs": [],
   "source": [
    "training_dist_df = pd.DataFrame(training_data,columns=[\"facts\"])\n",
    "training_duplicates_count = training_dist_df.groupby(list(training_dist_df.columns)).size().reset_index(name='count_train')"
   ]
  },
  {
   "cell_type": "code",
   "execution_count": 11,
   "metadata": {
    "collapsed": false,
    "ExecuteTime": {
     "end_time": "2024-05-17T16:01:09.765843Z",
     "start_time": "2024-05-17T16:01:09.694330800Z"
    }
   },
   "outputs": [
    {
     "data": {
      "text/plain": "                              facts  count_train\n0               Abbe,frozen yogurt             1\n1                  Abbi,crab cakes             1\n2     Abbi,grilled cheese sandwich             1\n3         Abbi,spaghetti bolognese             1\n4                  Abbie,apple pie             1\n...                             ...          ...\n1591    Zechariah,huevos rancheros             3\n1592       Zedekiah,beef carpaccio             1\n1593                  Zedekiah,pho             1\n1594         Zedekiah,spring rolls             1\n1595          Zorine,club sandwich             1\n\n[1596 rows x 2 columns]",
      "text/html": "<div>\n<style scoped>\n    .dataframe tbody tr th:only-of-type {\n        vertical-align: middle;\n    }\n\n    .dataframe tbody tr th {\n        vertical-align: top;\n    }\n\n    .dataframe thead th {\n        text-align: right;\n    }\n</style>\n<table border=\"1\" class=\"dataframe\">\n  <thead>\n    <tr style=\"text-align: right;\">\n      <th></th>\n      <th>facts</th>\n      <th>count_train</th>\n    </tr>\n  </thead>\n  <tbody>\n    <tr>\n      <th>0</th>\n      <td>Abbe,frozen yogurt</td>\n      <td>1</td>\n    </tr>\n    <tr>\n      <th>1</th>\n      <td>Abbi,crab cakes</td>\n      <td>1</td>\n    </tr>\n    <tr>\n      <th>2</th>\n      <td>Abbi,grilled cheese sandwich</td>\n      <td>1</td>\n    </tr>\n    <tr>\n      <th>3</th>\n      <td>Abbi,spaghetti bolognese</td>\n      <td>1</td>\n    </tr>\n    <tr>\n      <th>4</th>\n      <td>Abbie,apple pie</td>\n      <td>1</td>\n    </tr>\n    <tr>\n      <th>...</th>\n      <td>...</td>\n      <td>...</td>\n    </tr>\n    <tr>\n      <th>1591</th>\n      <td>Zechariah,huevos rancheros</td>\n      <td>3</td>\n    </tr>\n    <tr>\n      <th>1592</th>\n      <td>Zedekiah,beef carpaccio</td>\n      <td>1</td>\n    </tr>\n    <tr>\n      <th>1593</th>\n      <td>Zedekiah,pho</td>\n      <td>1</td>\n    </tr>\n    <tr>\n      <th>1594</th>\n      <td>Zedekiah,spring rolls</td>\n      <td>1</td>\n    </tr>\n    <tr>\n      <th>1595</th>\n      <td>Zorine,club sandwich</td>\n      <td>1</td>\n    </tr>\n  </tbody>\n</table>\n<p>1596 rows × 2 columns</p>\n</div>"
     },
     "execution_count": 11,
     "metadata": {},
     "output_type": "execute_result"
    }
   ],
   "source": [
    "training_duplicates_count"
   ]
  },
  {
   "cell_type": "code",
   "execution_count": 12,
   "metadata": {
    "ExecuteTime": {
     "end_time": "2024-05-17T16:01:12.194791100Z",
     "start_time": "2024-05-17T16:01:10.674523100Z"
    }
   },
   "outputs": [],
   "source": [
    "import torch\n",
    "## get the training  datasets\n",
    "train_dataset = [torch.tensor(x, dtype=torch.long) for x in dataset.tokenized_training_data]\n"
   ]
  },
  {
   "cell_type": "code",
   "execution_count": 13,
   "metadata": {
    "ExecuteTime": {
     "end_time": "2024-05-17T16:01:12.815436100Z",
     "start_time": "2024-05-17T16:01:12.742923Z"
    }
   },
   "outputs": [
    {
     "name": "stdout",
     "output_type": "stream",
     "text": [
      "<__main__.MyDataset object at 0x000001705BDB67C0>\n"
     ]
    }
   ],
   "source": [
    "from torch.utils.data import Dataset\n",
    "\n",
    "## create a dataset class\n",
    "class MyDataset(Dataset):\n",
    "    def __init__(self, data):\n",
    "        self.data = data\n",
    "\n",
    "    def __len__(self):\n",
    "        return len(self.data)\n",
    "\n",
    "    def __getitem__(self, idx):\n",
    "        # Assuming each item in data is a sequence and we use the same sequence shifted by one as the target\n",
    "        x = torch.tensor(self.data[idx][:-1], dtype=torch.long)\n",
    "        y = torch.tensor(self.data[idx][1:], dtype=torch.long)\n",
    "        #print(x)\n",
    "        #print(y)\n",
    "        \n",
    "        return x, y\n",
    "\n",
    "\n",
    "## create the datasets\n",
    "train_data = MyDataset(train_dataset)\n",
    "# test_data = MyDataset(test_dataset)\n",
    "\n",
    "print(train_data)"
   ]
  },
  {
   "cell_type": "markdown",
   "metadata": {},
   "source": [
    "# Model preparing"
   ]
  },
  {
   "cell_type": "code",
   "execution_count": 14,
   "metadata": {
    "ExecuteTime": {
     "end_time": "2024-05-17T16:01:20.059756600Z",
     "start_time": "2024-05-17T16:01:19.292153200Z"
    }
   },
   "outputs": [
    {
     "name": "stdout",
     "output_type": "stream",
     "text": [
      "number of parameters: 38.39M\n"
     ]
    }
   ],
   "source": [
    "## import mingpt\n",
    "sys.path.append('minGPT/')\n",
    "from mingpt.model import GPT\n",
    "from mingpt.utils import set_seed\n",
    "set_seed(42)\n",
    "\n",
    "model_config = GPT.get_default_config()\n",
    "model_config.n_layer=12\n",
    "model_config.n_head=8\n",
    "model_config.n_embd=512\n",
    "model_config.vocab_size = dataset.vocab_size\n",
    "model_config.model_type = None\n",
    "model_config.block_size = 2\n",
    "\n",
    "# model_config.model_type = 'gpt-nano'\n",
    "# model_config.vocab_size = dataset.vocab_size\n",
    "# model_config.block_size = 2\n",
    "\n",
    "model = GPT(model_config).to(\"cuda\")"
   ]
  },
  {
   "cell_type": "code",
   "execution_count": 15,
   "metadata": {
    "ExecuteTime": {
     "end_time": "2024-05-17T16:01:20.890433100Z",
     "start_time": "2024-05-17T16:01:20.797416200Z"
    }
   },
   "outputs": [
    {
     "name": "stdout",
     "output_type": "stream",
     "text": [
      "running on device cuda\n"
     ]
    }
   ],
   "source": [
    "# create a Trainer object\n",
    "from mingpt.trainer import Trainer\n",
    "\n",
    "train_config = Trainer.get_default_config()\n",
    "train_config.learning_rate = 5e-5 # the model we're using is so small that we can go a bit faster\n",
    "train_config.max_iters = 20000\n",
    "train_config.num_workers = 0\n",
    "trainer = Trainer(train_config, model, train_data)"
   ]
  },
  {
   "cell_type": "markdown",
   "metadata": {},
   "source": [
    "# Training the model"
   ]
  },
  {
   "cell_type": "code",
   "execution_count": 18,
   "metadata": {
    "ExecuteTime": {
     "end_time": "2024-05-17T16:03:02.747060300Z",
     "start_time": "2024-05-17T16:03:02.579530900Z"
    }
   },
   "outputs": [],
   "source": [
    "best_iter = 100000000000000\n",
    "best_epoch = 0\n",
    "def batch_end_callback(trainer):\n",
    "    global best_iter\n",
    "    global best_epoch\n",
    "    if trainer.iter_num % 100 == 0:\n",
    "        print(f\"iter_dt {trainer.iter_dt * 100:.2f}ms; iter {trainer.iter_num}: train loss {trainer.loss.item():.5f}\")\n",
    "        if trainer.loss.item() < best_iter:\n",
    "            best_iter = trainer.loss.item()\n",
    "            best_epoch = trainer.iter_num\n",
    "            torch.save(model.state_dict(), dataset.experiment_path[:-5] + \"model.pt\")\n",
    "trainer.set_callback('on_batch_end', batch_end_callback)\n",
    "\n",
    "if load_model:\n",
    "    model.load_state_dict(torch.load(dataset.experiment_path[:-5]+ \"model.pt\"))\n",
    "else:\n",
    "    trainer.run()\n",
    "    print(f\"Best loss is: {best_iter} on epoch: {best_epoch}\")"
   ]
  },
  {
   "cell_type": "code",
   "execution_count": 19,
   "metadata": {
    "ExecuteTime": {
     "end_time": "2024-05-17T16:03:04.172504200Z",
     "start_time": "2024-05-17T16:03:04.092990200Z"
    }
   },
   "outputs": [
    {
     "data": {
      "text/plain": "GPT(\n  (transformer): ModuleDict(\n    (wte): Embedding(1098, 512)\n    (wpe): Embedding(2, 512)\n    (drop): Dropout(p=0.1, inplace=False)\n    (h): ModuleList(\n      (0-11): 12 x Block(\n        (ln_1): LayerNorm((512,), eps=1e-05, elementwise_affine=True)\n        (attn): CausalSelfAttention(\n          (c_attn): Linear(in_features=512, out_features=1536, bias=True)\n          (c_proj): Linear(in_features=512, out_features=512, bias=True)\n          (attn_dropout): Dropout(p=0.1, inplace=False)\n          (resid_dropout): Dropout(p=0.1, inplace=False)\n        )\n        (ln_2): LayerNorm((512,), eps=1e-05, elementwise_affine=True)\n        (mlp): ModuleDict(\n          (c_fc): Linear(in_features=512, out_features=2048, bias=True)\n          (c_proj): Linear(in_features=2048, out_features=512, bias=True)\n          (act): NewGELU()\n          (dropout): Dropout(p=0.1, inplace=False)\n        )\n      )\n    )\n    (ln_f): LayerNorm((512,), eps=1e-05, elementwise_affine=True)\n  )\n  (lm_head): Linear(in_features=512, out_features=1098, bias=False)\n)"
     },
     "execution_count": 19,
     "metadata": {},
     "output_type": "execute_result"
    }
   ],
   "source": [
    "# now let's perform some evaluation\n",
    "model.eval()"
   ]
  },
  {
   "cell_type": "markdown",
   "metadata": {},
   "source": [
    "# Generate unconditioned facts"
   ]
  },
  {
   "cell_type": "code",
   "execution_count": 20,
   "metadata": {
    "ExecuteTime": {
     "end_time": "2024-05-17T16:03:05.467211300Z",
     "start_time": "2024-05-17T16:03:05.104646700Z"
    }
   },
   "outputs": [],
   "source": [
    "from tqdm import tqdm\n",
    "import pandas as pd\n",
    "import matplotlib.pyplot as plt\n",
    "import numpy as np\n"
   ]
  },
  {
   "cell_type": "code",
   "execution_count": 21,
   "metadata": {
    "collapsed": false,
    "ExecuteTime": {
     "end_time": "2024-05-17T16:03:37.880892300Z",
     "start_time": "2024-05-17T16:03:05.465711200Z"
    }
   },
   "outputs": [],
   "source": [
    "n_sequences = 1000\n",
    "from collections import defaultdict\n",
    "collected_generations = []\n",
    "\n",
    "for _ in range(n_sequences):\n",
    "    x = torch.Tensor([0]).unsqueeze(0).long().to(\"cuda\")\n",
    "    y_gen = model.generate(x, 2, do_sample=True)\n",
    "    name = food_item = dataset.decode([y_gen[0][1]])[0]\n",
    "    food_item = dataset.decode([y_gen[0][2]])[0]\n",
    "    collected_generations.append(f\"{name},{food_item}\")"
   ]
  },
  {
   "cell_type": "code",
   "execution_count": 22,
   "metadata": {
    "collapsed": false,
    "ExecuteTime": {
     "end_time": "2024-05-17T16:03:37.956905200Z",
     "start_time": "2024-05-17T16:03:37.880892300Z"
    }
   },
   "outputs": [],
   "source": [
    "collected_generations_df = pd.DataFrame(collected_generations, columns=[\"facts\"])"
   ]
  },
  {
   "cell_type": "code",
   "execution_count": 23,
   "metadata": {
    "collapsed": false,
    "ExecuteTime": {
     "end_time": "2024-05-17T16:03:38.049923700Z",
     "start_time": "2024-05-17T16:03:37.958405500Z"
    }
   },
   "outputs": [],
   "source": [
    "collected_generations_counts = collected_generations_df.groupby(list(collected_generations_df.columns)).size().reset_index(name='count_generated')\n"
   ]
  },
  {
   "cell_type": "code",
   "execution_count": 24,
   "metadata": {
    "collapsed": false,
    "ExecuteTime": {
     "end_time": "2024-05-17T16:03:38.131436100Z",
     "start_time": "2024-05-17T16:03:38.035920Z"
    }
   },
   "outputs": [
    {
     "data": {
      "text/plain": "                                       facts  count_generated\n0              Abbi,grilled cheese sandwich                 1\n1                             Abbot,edamame                 1\n2                            Abbot,tiramisu                 1\n3                            Abbye,takoyaki                 1\n4                               Abdul,Candie                1\n..                                       ...              ...\n535                         pancakes ,ramen                 1\n536                    pork chop ,prime rib                 1\n537  pulled pork sandwich ,chocolate mousse                 1\n538                              steak ,Roch                1\n539                            tacos ,Mareah                1\n\n[540 rows x 2 columns]",
      "text/html": "<div>\n<style scoped>\n    .dataframe tbody tr th:only-of-type {\n        vertical-align: middle;\n    }\n\n    .dataframe tbody tr th {\n        vertical-align: top;\n    }\n\n    .dataframe thead th {\n        text-align: right;\n    }\n</style>\n<table border=\"1\" class=\"dataframe\">\n  <thead>\n    <tr style=\"text-align: right;\">\n      <th></th>\n      <th>facts</th>\n      <th>count_generated</th>\n    </tr>\n  </thead>\n  <tbody>\n    <tr>\n      <th>0</th>\n      <td>Abbi,grilled cheese sandwich</td>\n      <td>1</td>\n    </tr>\n    <tr>\n      <th>1</th>\n      <td>Abbot,edamame</td>\n      <td>1</td>\n    </tr>\n    <tr>\n      <th>2</th>\n      <td>Abbot,tiramisu</td>\n      <td>1</td>\n    </tr>\n    <tr>\n      <th>3</th>\n      <td>Abbye,takoyaki</td>\n      <td>1</td>\n    </tr>\n    <tr>\n      <th>4</th>\n      <td>Abdul,Candie</td>\n      <td>1</td>\n    </tr>\n    <tr>\n      <th>...</th>\n      <td>...</td>\n      <td>...</td>\n    </tr>\n    <tr>\n      <th>535</th>\n      <td>pancakes ,ramen</td>\n      <td>1</td>\n    </tr>\n    <tr>\n      <th>536</th>\n      <td>pork chop ,prime rib</td>\n      <td>1</td>\n    </tr>\n    <tr>\n      <th>537</th>\n      <td>pulled pork sandwich ,chocolate mousse</td>\n      <td>1</td>\n    </tr>\n    <tr>\n      <th>538</th>\n      <td>steak ,Roch</td>\n      <td>1</td>\n    </tr>\n    <tr>\n      <th>539</th>\n      <td>tacos ,Mareah</td>\n      <td>1</td>\n    </tr>\n  </tbody>\n</table>\n<p>540 rows × 2 columns</p>\n</div>"
     },
     "execution_count": 24,
     "metadata": {},
     "output_type": "execute_result"
    }
   ],
   "source": [
    "collected_generations_counts"
   ]
  },
  {
   "cell_type": "code",
   "execution_count": 25,
   "metadata": {
    "collapsed": false,
    "ExecuteTime": {
     "end_time": "2024-05-17T16:03:38.254958Z",
     "start_time": "2024-05-17T16:03:38.113933400Z"
    }
   },
   "outputs": [],
   "source": [
    "# Merge true dist and training dist dataframes, outer is used to include data that is not in training data as well\n",
    "merged_df = pd.merge(true_duplicates_count, training_duplicates_count, on='facts', how='outer')"
   ]
  },
  {
   "cell_type": "code",
   "execution_count": 26,
   "metadata": {
    "collapsed": false,
    "ExecuteTime": {
     "end_time": "2024-05-17T16:03:38.307967900Z",
     "start_time": "2024-05-17T16:03:38.191446800Z"
    }
   },
   "outputs": [],
   "source": [
    "# Add generated_df to true and training dfs \n",
    "# outer can be used to include all facts in true dist\n",
    "# inner can be used to only show the comparison of generated facts\n",
    "comparison_df = pd.merge(merged_df, collected_generations_counts, on='facts', how='outer')"
   ]
  },
  {
   "cell_type": "code",
   "execution_count": 27,
   "metadata": {
    "collapsed": false,
    "ExecuteTime": {
     "end_time": "2024-05-17T16:03:38.356976400Z",
     "start_time": "2024-05-17T16:03:38.268461Z"
    }
   },
   "outputs": [
    {
     "data": {
      "text/plain": "                                        facts  count_true  count_train  \\\n0                        Abbe,beef carpaccio          1.0          NaN   \n1                          Abbe,creme brulee          1.0          NaN   \n2                         Abbe,frozen yogurt          1.0          1.0   \n3                                 Abbe,ramen          1.0          NaN   \n4                            Abbi,crab cakes          1.0          1.0   \n...                                       ...         ...          ...   \n4291                         pancakes ,ramen          NaN          NaN   \n4292                    pork chop ,prime rib          NaN          NaN   \n4293  pulled pork sandwich ,chocolate mousse          NaN          NaN   \n4294                              steak ,Roch         NaN          NaN   \n4295                            tacos ,Mareah         NaN          NaN   \n\n      count_generated  \n0                 NaN  \n1                 NaN  \n2                 NaN  \n3                 NaN  \n4                 NaN  \n...               ...  \n4291              1.0  \n4292              1.0  \n4293              1.0  \n4294              1.0  \n4295              1.0  \n\n[4296 rows x 4 columns]",
      "text/html": "<div>\n<style scoped>\n    .dataframe tbody tr th:only-of-type {\n        vertical-align: middle;\n    }\n\n    .dataframe tbody tr th {\n        vertical-align: top;\n    }\n\n    .dataframe thead th {\n        text-align: right;\n    }\n</style>\n<table border=\"1\" class=\"dataframe\">\n  <thead>\n    <tr style=\"text-align: right;\">\n      <th></th>\n      <th>facts</th>\n      <th>count_true</th>\n      <th>count_train</th>\n      <th>count_generated</th>\n    </tr>\n  </thead>\n  <tbody>\n    <tr>\n      <th>0</th>\n      <td>Abbe,beef carpaccio</td>\n      <td>1.0</td>\n      <td>NaN</td>\n      <td>NaN</td>\n    </tr>\n    <tr>\n      <th>1</th>\n      <td>Abbe,creme brulee</td>\n      <td>1.0</td>\n      <td>NaN</td>\n      <td>NaN</td>\n    </tr>\n    <tr>\n      <th>2</th>\n      <td>Abbe,frozen yogurt</td>\n      <td>1.0</td>\n      <td>1.0</td>\n      <td>NaN</td>\n    </tr>\n    <tr>\n      <th>3</th>\n      <td>Abbe,ramen</td>\n      <td>1.0</td>\n      <td>NaN</td>\n      <td>NaN</td>\n    </tr>\n    <tr>\n      <th>4</th>\n      <td>Abbi,crab cakes</td>\n      <td>1.0</td>\n      <td>1.0</td>\n      <td>NaN</td>\n    </tr>\n    <tr>\n      <th>...</th>\n      <td>...</td>\n      <td>...</td>\n      <td>...</td>\n      <td>...</td>\n    </tr>\n    <tr>\n      <th>4291</th>\n      <td>pancakes ,ramen</td>\n      <td>NaN</td>\n      <td>NaN</td>\n      <td>1.0</td>\n    </tr>\n    <tr>\n      <th>4292</th>\n      <td>pork chop ,prime rib</td>\n      <td>NaN</td>\n      <td>NaN</td>\n      <td>1.0</td>\n    </tr>\n    <tr>\n      <th>4293</th>\n      <td>pulled pork sandwich ,chocolate mousse</td>\n      <td>NaN</td>\n      <td>NaN</td>\n      <td>1.0</td>\n    </tr>\n    <tr>\n      <th>4294</th>\n      <td>steak ,Roch</td>\n      <td>NaN</td>\n      <td>NaN</td>\n      <td>1.0</td>\n    </tr>\n    <tr>\n      <th>4295</th>\n      <td>tacos ,Mareah</td>\n      <td>NaN</td>\n      <td>NaN</td>\n      <td>1.0</td>\n    </tr>\n  </tbody>\n</table>\n<p>4296 rows × 4 columns</p>\n</div>"
     },
     "execution_count": 27,
     "metadata": {},
     "output_type": "execute_result"
    }
   ],
   "source": [
    "comparison_df"
   ]
  },
  {
   "cell_type": "code",
   "execution_count": 28,
   "metadata": {
    "collapsed": false,
    "ExecuteTime": {
     "end_time": "2024-05-17T16:03:38.482498600Z",
     "start_time": "2024-05-17T16:03:38.346973800Z"
    }
   },
   "outputs": [],
   "source": [
    "# Fill in 0 for facts that not appear\n",
    "comparison_df = comparison_df.fillna(0)"
   ]
  },
  {
   "cell_type": "code",
   "execution_count": 29,
   "metadata": {
    "collapsed": false,
    "ExecuteTime": {
     "end_time": "2024-05-17T16:03:38.532507500Z",
     "start_time": "2024-05-17T16:03:38.422988700Z"
    }
   },
   "outputs": [],
   "source": [
    "# Normalize the counts by length\n",
    "comparison_df[\"count_generated\"] = comparison_df['count_generated']/len(collected_generations)\n",
    "comparison_df[\"count_train\"] = comparison_df['count_train']/len(training_data)\n",
    "comparison_df[\"count_true\"] = comparison_df['count_true']/len(true_dist)\n"
   ]
  },
  {
   "cell_type": "code",
   "execution_count": 30,
   "metadata": {
    "collapsed": false,
    "ExecuteTime": {
     "end_time": "2024-05-17T16:03:38.611021400Z",
     "start_time": "2024-05-17T16:03:38.503001600Z"
    }
   },
   "outputs": [],
   "source": [
    "comparison_df = comparison_df.sort_values(by=['count_generated'], ascending=False)"
   ]
  },
  {
   "cell_type": "code",
   "execution_count": 31,
   "metadata": {
    "ExecuteTime": {
     "end_time": "2024-05-17T16:03:38.668562700Z",
     "start_time": "2024-05-17T16:03:38.580515200Z"
    }
   },
   "outputs": [
    {
     "data": {
      "text/plain": "                       facts  count_true  count_train  count_generated\n1863        Isadora,ceviche       0.0856     0.077333            0.077\n88    Albertine,greek salad       0.0276     0.028000            0.034\n2206     Kelli,creme brulee       0.0415     0.040000            0.029\n2204         Keefer,sashimi       0.0140     0.011667            0.021\n3274   Philipa,filet mignon       0.0162     0.018000            0.021\n...                      ...         ...          ...              ...\n1537           Gina,mussels       0.0001     0.000333            0.000\n1538           Gina,oysters       0.0001     0.000000            0.000\n1539       Gina,panna cotta       0.0001     0.000000            0.000\n1540            Gina,samosa       0.0001     0.000000            0.000\n2148           Karmen,gyoza       0.0001     0.000000            0.000\n\n[4296 rows x 4 columns]",
      "text/html": "<div>\n<style scoped>\n    .dataframe tbody tr th:only-of-type {\n        vertical-align: middle;\n    }\n\n    .dataframe tbody tr th {\n        vertical-align: top;\n    }\n\n    .dataframe thead th {\n        text-align: right;\n    }\n</style>\n<table border=\"1\" class=\"dataframe\">\n  <thead>\n    <tr style=\"text-align: right;\">\n      <th></th>\n      <th>facts</th>\n      <th>count_true</th>\n      <th>count_train</th>\n      <th>count_generated</th>\n    </tr>\n  </thead>\n  <tbody>\n    <tr>\n      <th>1863</th>\n      <td>Isadora,ceviche</td>\n      <td>0.0856</td>\n      <td>0.077333</td>\n      <td>0.077</td>\n    </tr>\n    <tr>\n      <th>88</th>\n      <td>Albertine,greek salad</td>\n      <td>0.0276</td>\n      <td>0.028000</td>\n      <td>0.034</td>\n    </tr>\n    <tr>\n      <th>2206</th>\n      <td>Kelli,creme brulee</td>\n      <td>0.0415</td>\n      <td>0.040000</td>\n      <td>0.029</td>\n    </tr>\n    <tr>\n      <th>2204</th>\n      <td>Keefer,sashimi</td>\n      <td>0.0140</td>\n      <td>0.011667</td>\n      <td>0.021</td>\n    </tr>\n    <tr>\n      <th>3274</th>\n      <td>Philipa,filet mignon</td>\n      <td>0.0162</td>\n      <td>0.018000</td>\n      <td>0.021</td>\n    </tr>\n    <tr>\n      <th>...</th>\n      <td>...</td>\n      <td>...</td>\n      <td>...</td>\n      <td>...</td>\n    </tr>\n    <tr>\n      <th>1537</th>\n      <td>Gina,mussels</td>\n      <td>0.0001</td>\n      <td>0.000333</td>\n      <td>0.000</td>\n    </tr>\n    <tr>\n      <th>1538</th>\n      <td>Gina,oysters</td>\n      <td>0.0001</td>\n      <td>0.000000</td>\n      <td>0.000</td>\n    </tr>\n    <tr>\n      <th>1539</th>\n      <td>Gina,panna cotta</td>\n      <td>0.0001</td>\n      <td>0.000000</td>\n      <td>0.000</td>\n    </tr>\n    <tr>\n      <th>1540</th>\n      <td>Gina,samosa</td>\n      <td>0.0001</td>\n      <td>0.000000</td>\n      <td>0.000</td>\n    </tr>\n    <tr>\n      <th>2148</th>\n      <td>Karmen,gyoza</td>\n      <td>0.0001</td>\n      <td>0.000000</td>\n      <td>0.000</td>\n    </tr>\n  </tbody>\n</table>\n<p>4296 rows × 4 columns</p>\n</div>"
     },
     "execution_count": 31,
     "metadata": {},
     "output_type": "execute_result"
    }
   ],
   "source": [
    "comparison_df"
   ]
  },
  {
   "cell_type": "code",
   "execution_count": 32,
   "metadata": {
    "ExecuteTime": {
     "end_time": "2024-05-17T16:03:38.789053Z",
     "start_time": "2024-05-17T16:03:38.656028900Z"
    }
   },
   "outputs": [
    {
     "data": {
      "text/plain": "facts              Isadora,ceviche Albertine,greek salad Kelli,cr...\ncount_true                                                       1.0\ncount_train                                                      1.0\ncount_generated                                                  1.0\ndtype: object"
     },
     "execution_count": 32,
     "metadata": {},
     "output_type": "execute_result"
    }
   ],
   "source": [
    "comparison_df.sum()"
   ]
  },
  {
   "cell_type": "code",
   "execution_count": 33,
   "metadata": {
    "collapsed": false,
    "ExecuteTime": {
     "end_time": "2024-05-17T16:03:39.520179Z",
     "start_time": "2024-05-17T16:03:38.733042100Z"
    }
   },
   "outputs": [
    {
     "data": {
      "text/plain": "<Axes: >"
     },
     "execution_count": 33,
     "metadata": {},
     "output_type": "execute_result"
    },
    {
     "data": {
      "text/plain": "<Figure size 1600x400 with 1 Axes>",
      "image/png": "[encoded data removed]"
     },
     "metadata": {},
     "output_type": "display_data"
    }
   ],
   "source": [
    "import matplotlib.pyplot as plt\n",
    "import numpy as np\n",
    "# Only the top 100 facts graphed for visibility \n",
    "comparison_df[:100].plot.bar(figsize=(16, 4))"
   ]
  },
  {
   "cell_type": "markdown",
   "metadata": {
    "collapsed": false
   },
   "source": [
    "## Hallucination rates"
   ]
  },
  {
   "cell_type": "code",
   "execution_count": 34,
   "metadata": {
    "collapsed": false,
    "ExecuteTime": {
     "end_time": "2024-05-17T16:03:39.628199100Z",
     "start_time": "2024-05-17T16:03:39.508177Z"
    }
   },
   "outputs": [],
   "source": [
    "# True hallucination rate (generations not in true dist)\n",
    "true_hallucinations = pd.merge(collected_generations_counts, true_duplicates_count, on='facts', how='left')\n"
   ]
  },
  {
   "cell_type": "code",
   "execution_count": 35,
   "metadata": {
    "collapsed": false,
    "ExecuteTime": {
     "end_time": "2024-05-17T16:03:39.738718200Z",
     "start_time": "2024-05-17T16:03:39.602194400Z"
    }
   },
   "outputs": [
    {
     "data": {
      "text/plain": "                                       facts  count_generated  count_true\n0              Abbi,grilled cheese sandwich                 1         1.0\n1                             Abbot,edamame                 1         1.0\n2                            Abbot,tiramisu                 1         1.0\n3                            Abbye,takoyaki                 1         2.0\n4                               Abdul,Candie                1         NaN\n..                                       ...              ...         ...\n535                         pancakes ,ramen                 1         NaN\n536                    pork chop ,prime rib                 1         NaN\n537  pulled pork sandwich ,chocolate mousse                 1         NaN\n538                              steak ,Roch                1         NaN\n539                            tacos ,Mareah                1         NaN\n\n[540 rows x 3 columns]",
      "text/html": "<div>\n<style scoped>\n    .dataframe tbody tr th:only-of-type {\n        vertical-align: middle;\n    }\n\n    .dataframe tbody tr th {\n        vertical-align: top;\n    }\n\n    .dataframe thead th {\n        text-align: right;\n    }\n</style>\n<table border=\"1\" class=\"dataframe\">\n  <thead>\n    <tr style=\"text-align: right;\">\n      <th></th>\n      <th>facts</th>\n      <th>count_generated</th>\n      <th>count_true</th>\n    </tr>\n  </thead>\n  <tbody>\n    <tr>\n      <th>0</th>\n      <td>Abbi,grilled cheese sandwich</td>\n      <td>1</td>\n      <td>1.0</td>\n    </tr>\n    <tr>\n      <th>1</th>\n      <td>Abbot,edamame</td>\n      <td>1</td>\n      <td>1.0</td>\n    </tr>\n    <tr>\n      <th>2</th>\n      <td>Abbot,tiramisu</td>\n      <td>1</td>\n      <td>1.0</td>\n    </tr>\n    <tr>\n      <th>3</th>\n      <td>Abbye,takoyaki</td>\n      <td>1</td>\n      <td>2.0</td>\n    </tr>\n    <tr>\n      <th>4</th>\n      <td>Abdul,Candie</td>\n      <td>1</td>\n      <td>NaN</td>\n    </tr>\n    <tr>\n      <th>...</th>\n      <td>...</td>\n      <td>...</td>\n      <td>...</td>\n    </tr>\n    <tr>\n      <th>535</th>\n      <td>pancakes ,ramen</td>\n      <td>1</td>\n      <td>NaN</td>\n    </tr>\n    <tr>\n      <th>536</th>\n      <td>pork chop ,prime rib</td>\n      <td>1</td>\n      <td>NaN</td>\n    </tr>\n    <tr>\n      <th>537</th>\n      <td>pulled pork sandwich ,chocolate mousse</td>\n      <td>1</td>\n      <td>NaN</td>\n    </tr>\n    <tr>\n      <th>538</th>\n      <td>steak ,Roch</td>\n      <td>1</td>\n      <td>NaN</td>\n    </tr>\n    <tr>\n      <th>539</th>\n      <td>tacos ,Mareah</td>\n      <td>1</td>\n      <td>NaN</td>\n    </tr>\n  </tbody>\n</table>\n<p>540 rows × 3 columns</p>\n</div>"
     },
     "execution_count": 35,
     "metadata": {},
     "output_type": "execute_result"
    }
   ],
   "source": [
    "true_hallucinations"
   ]
  },
  {
   "cell_type": "code",
   "execution_count": 36,
   "metadata": {
    "collapsed": false,
    "ExecuteTime": {
     "end_time": "2024-05-17T16:03:39.813231400Z",
     "start_time": "2024-05-17T16:03:39.699711500Z"
    }
   },
   "outputs": [
    {
     "name": "stdout",
     "output_type": "stream",
     "text": [
      "Rate of true hallucinations: 0.053 \n"
     ]
    }
   ],
   "source": [
    "true_hallucinations = true_hallucinations.fillna(0)\n",
    "number_of_true_hallucinations =true_hallucinations[\"count_true\"].value_counts()[0]\n",
    "true_hallucinations_rate = number_of_true_hallucinations / len(collected_generations)\n",
    "print(f\"Rate of true hallucinations: {true_hallucinations_rate} \")"
   ]
  },
  {
   "cell_type": "code",
   "execution_count": 37,
   "metadata": {
    "collapsed": false,
    "ExecuteTime": {
     "end_time": "2024-05-17T16:03:39.944254600Z",
     "start_time": "2024-05-17T16:03:39.772724100Z"
    }
   },
   "outputs": [],
   "source": [
    "# Naive hallucination rate (every generation not in training data)\n",
    "naive_hallucinations = pd.merge(collected_generations_counts, training_duplicates_count, on='facts', how='left')"
   ]
  },
  {
   "cell_type": "code",
   "execution_count": 38,
   "metadata": {
    "collapsed": false,
    "ExecuteTime": {
     "end_time": "2024-05-17T16:03:39.953256100Z",
     "start_time": "2024-05-17T16:03:39.848237600Z"
    }
   },
   "outputs": [
    {
     "data": {
      "text/plain": "                                       facts  count_generated  count_train\n0              Abbi,grilled cheese sandwich                 1          1.0\n1                             Abbot,edamame                 1          1.0\n2                            Abbot,tiramisu                 1          1.0\n3                            Abbye,takoyaki                 1          2.0\n4                               Abdul,Candie                1          NaN\n..                                       ...              ...          ...\n535                         pancakes ,ramen                 1          NaN\n536                    pork chop ,prime rib                 1          NaN\n537  pulled pork sandwich ,chocolate mousse                 1          NaN\n538                              steak ,Roch                1          NaN\n539                            tacos ,Mareah                1          NaN\n\n[540 rows x 3 columns]",
      "text/html": "<div>\n<style scoped>\n    .dataframe tbody tr th:only-of-type {\n        vertical-align: middle;\n    }\n\n    .dataframe tbody tr th {\n        vertical-align: top;\n    }\n\n    .dataframe thead th {\n        text-align: right;\n    }\n</style>\n<table border=\"1\" class=\"dataframe\">\n  <thead>\n    <tr style=\"text-align: right;\">\n      <th></th>\n      <th>facts</th>\n      <th>count_generated</th>\n      <th>count_train</th>\n    </tr>\n  </thead>\n  <tbody>\n    <tr>\n      <th>0</th>\n      <td>Abbi,grilled cheese sandwich</td>\n      <td>1</td>\n      <td>1.0</td>\n    </tr>\n    <tr>\n      <th>1</th>\n      <td>Abbot,edamame</td>\n      <td>1</td>\n      <td>1.0</td>\n    </tr>\n    <tr>\n      <th>2</th>\n      <td>Abbot,tiramisu</td>\n      <td>1</td>\n      <td>1.0</td>\n    </tr>\n    <tr>\n      <th>3</th>\n      <td>Abbye,takoyaki</td>\n      <td>1</td>\n      <td>2.0</td>\n    </tr>\n    <tr>\n      <th>4</th>\n      <td>Abdul,Candie</td>\n      <td>1</td>\n      <td>NaN</td>\n    </tr>\n    <tr>\n      <th>...</th>\n      <td>...</td>\n      <td>...</td>\n      <td>...</td>\n    </tr>\n    <tr>\n      <th>535</th>\n      <td>pancakes ,ramen</td>\n      <td>1</td>\n      <td>NaN</td>\n    </tr>\n    <tr>\n      <th>536</th>\n      <td>pork chop ,prime rib</td>\n      <td>1</td>\n      <td>NaN</td>\n    </tr>\n    <tr>\n      <th>537</th>\n      <td>pulled pork sandwich ,chocolate mousse</td>\n      <td>1</td>\n      <td>NaN</td>\n    </tr>\n    <tr>\n      <th>538</th>\n      <td>steak ,Roch</td>\n      <td>1</td>\n      <td>NaN</td>\n    </tr>\n    <tr>\n      <th>539</th>\n      <td>tacos ,Mareah</td>\n      <td>1</td>\n      <td>NaN</td>\n    </tr>\n  </tbody>\n</table>\n<p>540 rows × 3 columns</p>\n</div>"
     },
     "execution_count": 38,
     "metadata": {},
     "output_type": "execute_result"
    }
   ],
   "source": [
    "naive_hallucinations"
   ]
  },
  {
   "cell_type": "code",
   "execution_count": 39,
   "metadata": {
    "collapsed": false,
    "ExecuteTime": {
     "end_time": "2024-05-17T16:03:40.035770800Z",
     "start_time": "2024-05-17T16:03:39.927751300Z"
    }
   },
   "outputs": [
    {
     "name": "stdout",
     "output_type": "stream",
     "text": [
      "Rate of naive hallucinations: 0.054 \n"
     ]
    }
   ],
   "source": [
    "naive_hallucinations = naive_hallucinations.fillna(0)\n",
    "number_of_naive_hallucinations = naive_hallucinations[\"count_train\"].value_counts()[0]\n",
    "naive_hallucinations_rate = number_of_naive_hallucinations / len(collected_generations)\n",
    "print(f\"Rate of naive hallucinations: {naive_hallucinations_rate} \")"
   ]
  },
  {
   "cell_type": "markdown",
   "metadata": {
    "collapsed": false
   },
   "source": [
    "### Monofact rate"
   ]
  },
  {
   "cell_type": "code",
   "execution_count": 40,
   "metadata": {
    "collapsed": false,
    "ExecuteTime": {
     "end_time": "2024-05-17T16:03:40.148290300Z",
     "start_time": "2024-05-17T16:03:40.004764900Z"
    }
   },
   "outputs": [
    {
     "data": {
      "text/plain": "0.44866666666666666"
     },
     "execution_count": 40,
     "metadata": {},
     "output_type": "execute_result"
    }
   ],
   "source": [
    "MF = training_duplicates_count[\"count_train\"].value_counts()[1] / len(training_data)\n",
    "MF"
   ]
  },
  {
   "cell_type": "code",
   "execution_count": 41,
   "metadata": {
    "ExecuteTime": {
     "end_time": "2024-05-17T16:03:40.223803400Z",
     "start_time": "2024-05-17T16:03:40.083278400Z"
    }
   },
   "outputs": [
    {
     "data": {
      "text/plain": "1346"
     },
     "execution_count": 41,
     "metadata": {},
     "output_type": "execute_result"
    }
   ],
   "source": [
    "training_duplicates_count[\"count_train\"].value_counts()[1]"
   ]
  },
  {
   "cell_type": "markdown",
   "metadata": {},
   "source": [
    "### Miscalibration"
   ]
  },
  {
   "cell_type": "code",
   "execution_count": 52,
   "metadata": {
    "ExecuteTime": {
     "end_time": "2024-05-17T16:04:40.065858400Z",
     "start_time": "2024-05-17T16:04:39.975341300Z"
    }
   },
   "outputs": [],
   "source": [
    "from lib.calibration import miscalibration"
   ]
  },
  {
   "cell_type": "code",
   "execution_count": 53,
   "metadata": {
    "ExecuteTime": {
     "end_time": "2024-05-17T16:04:40.619955900Z",
     "start_time": "2024-05-17T16:04:40.533441500Z"
    }
   },
   "outputs": [],
   "source": [
    "comparison_sorted_by_generated = comparison_df.sort_values(by='count_generated', ascending=False)"
   ]
  },
  {
   "cell_type": "code",
   "execution_count": 54,
   "metadata": {
    "ExecuteTime": {
     "end_time": "2024-05-17T16:04:47.453806900Z",
     "start_time": "2024-05-17T16:04:47.356264200Z"
    }
   },
   "outputs": [
    {
     "name": "stdout",
     "output_type": "stream",
     "text": [
      "Adaptive binning with 12 bins\n",
      "bin with g_proba / p_proba 0.077 0.0856\n",
      "bin with g_proba / p_proba 0.063 0.0691\n",
      "bin with g_proba / p_proba 0.079 0.06149999999999999\n",
      "bin with g_proba / p_proba 0.08300000000000002 0.067\n",
      "bin with g_proba / p_proba 0.08300000000000005 0.04849999999999999\n",
      "bin with g_proba / p_proba 0.08200000000000003 0.028100000000000003\n",
      "bin with g_proba / p_proba 0.08200000000000006 0.0185\n",
      "bin with g_proba / p_proba 0.08300000000000006 0.0271\n",
      "bin with g_proba / p_proba 0.08300000000000006 0.0159\n",
      "bin with g_proba / p_proba 0.08300000000000006 0.020599999999999997\n",
      "bin with g_proba / p_proba 0.08300000000000006 0.016999999999999998\n",
      "bin with g_proba / p_proba 0.08300000000000006 0.021399999999999995\n",
      "bin with g_proba / p_proba 0.036000000000000025 0.5197\n"
     ]
    },
    {
     "data": {
      "text/plain": "0.5301661392405064"
     },
     "execution_count": 54,
     "metadata": {},
     "output_type": "execute_result"
    }
   ],
   "source": [
    "miscalibration_rate = miscalibration(comparison_sorted_by_generated['count_generated'], comparison_sorted_by_generated['count_true'])\n",
    "miscalibration_rate"
   ]
  },
  {
   "cell_type": "code",
   "execution_count": 55,
   "metadata": {
    "ExecuteTime": {
     "end_time": "2024-05-17T16:04:49.022831Z",
     "start_time": "2024-05-17T16:04:48.937316Z"
    }
   },
   "outputs": [
    {
     "name": "stdout",
     "output_type": "stream",
     "text": [
      "Adaptive binning with 12 bins\n",
      "bin with g_proba / p_proba 0.077 0.07733333333333334\n",
      "bin with g_proba / p_proba 0.063 0.068\n",
      "bin with g_proba / p_proba 0.079 0.06766666666666667\n",
      "bin with g_proba / p_proba 0.08300000000000002 0.06999999999999999\n",
      "bin with g_proba / p_proba 0.08300000000000005 0.05333333333333334\n",
      "bin with g_proba / p_proba 0.08200000000000003 0.033999999999999996\n",
      "bin with g_proba / p_proba 0.08200000000000006 0.026666666666666665\n",
      "bin with g_proba / p_proba 0.08300000000000006 0.036333333333333336\n",
      "bin with g_proba / p_proba 0.08300000000000006 0.027000000000000003\n",
      "bin with g_proba / p_proba 0.08300000000000006 0.03433333333333333\n",
      "bin with g_proba / p_proba 0.08300000000000006 0.03000000000000001\n",
      "bin with g_proba / p_proba 0.08300000000000006 0.03766666666666667\n",
      "bin with g_proba / p_proba 0.036000000000000025 0.43766666666666665\n"
     ]
    },
    {
     "data": {
      "text/plain": "0.4398449367088608"
     },
     "execution_count": 55,
     "metadata": {},
     "output_type": "execute_result"
    }
   ],
   "source": [
    "miscalibration(comparison_sorted_by_generated['count_generated'], comparison_sorted_by_generated['count_train'])"
   ]
  },
  {
   "cell_type": "markdown",
   "metadata": {},
   "source": [
    "### Check if it holds"
   ]
  },
  {
   "cell_type": "code",
   "execution_count": 56,
   "metadata": {
    "ExecuteTime": {
     "end_time": "2024-05-17T16:04:53.019296Z",
     "start_time": "2024-05-17T16:04:52.932280500Z"
    }
   },
   "outputs": [],
   "source": [
    "unique_names = len(set([t[1] for t in train_dataset]))\n",
    "unique_foods = len(set([t[2] for t in train_dataset]))\n",
    "# Possible generations\n",
    "POSS_GENERATIONS = unique_names * unique_foods\n",
    "\n",
    "# Facts to all possibilities - facts, approximated\n",
    "APPROX_FACTS_TO_POSSIBLE_HALLUCINATIONS = 300 * len(training_duplicates_count) / (POSS_GENERATIONS - len(training_duplicates_count))"
   ]
  },
  {
   "cell_type": "code",
   "execution_count": 58,
   "metadata": {
    "ExecuteTime": {
     "end_time": "2024-05-17T16:05:03.762363900Z",
     "start_time": "2024-05-17T16:05:03.690351300Z"
    }
   },
   "outputs": [],
   "source": [
    "HALLUCINATION_RATE = true_hallucinations_rate\n",
    "\n",
    "#MF = 0.43875\n",
    "\n",
    "MISCALIBRATION = miscalibration_rate"
   ]
  },
  {
   "cell_type": "code",
   "execution_count": 59,
   "metadata": {
    "ExecuteTime": {
     "end_time": "2024-05-17T16:05:05.822299500Z",
     "start_time": "2024-05-17T16:05:05.743285200Z"
    }
   },
   "outputs": [
    {
     "data": {
      "text/plain": "0.05320943580661637"
     },
     "execution_count": 59,
     "metadata": {},
     "output_type": "execute_result"
    }
   ],
   "source": [
    "APPROX_FACTS_TO_POSSIBLE_HALLUCINATIONS"
   ]
  },
  {
   "cell_type": "code",
   "execution_count": 60,
   "metadata": {
    "ExecuteTime": {
     "end_time": "2024-05-17T16:05:06.553030Z",
     "start_time": "2024-05-17T16:05:06.474516200Z"
    }
   },
   "outputs": [
    {
     "data": {
      "text/plain": "-0.08149947257383972"
     },
     "execution_count": 60,
     "metadata": {},
     "output_type": "execute_result"
    }
   ],
   "source": [
    "MF - MISCALIBRATION"
   ]
  },
  {
   "cell_type": "code",
   "execution_count": 61,
   "metadata": {
    "ExecuteTime": {
     "end_time": "2024-05-17T16:05:07.175527Z",
     "start_time": "2024-05-17T16:05:07.082009400Z"
    }
   },
   "outputs": [
    {
     "data": {
      "text/plain": "0.12780193008453875"
     },
     "execution_count": 61,
     "metadata": {},
     "output_type": "execute_result"
    }
   ],
   "source": [
    "7 / np.sqrt(len(training_data))"
   ]
  },
  {
   "cell_type": "code",
   "execution_count": 62,
   "metadata": {
    "ExecuteTime": {
     "end_time": "2024-05-17T16:05:09.726494700Z",
     "start_time": "2024-05-17T16:05:09.654983300Z"
    }
   },
   "outputs": [
    {
     "data": {
      "text/plain": "-0.26251083846499484"
     },
     "execution_count": 62,
     "metadata": {},
     "output_type": "execute_result"
    }
   ],
   "source": [
    "MF - MISCALIBRATION - (7 / np.sqrt(len(training_data))) - APPROX_FACTS_TO_POSSIBLE_HALLUCINATIONS"
   ]
  },
  {
   "cell_type": "code",
   "execution_count": 63,
   "metadata": {
    "ExecuteTime": {
     "end_time": "2024-05-17T16:05:12.272390400Z",
     "start_time": "2024-05-17T16:05:12.190375700Z"
    }
   },
   "outputs": [
    {
     "data": {
      "text/plain": "0.053"
     },
     "execution_count": 63,
     "metadata": {},
     "output_type": "execute_result"
    }
   ],
   "source": [
    "HALLUCINATION_RATE"
   ]
  },
  {
   "cell_type": "code",
   "execution_count": 64,
   "metadata": {
    "ExecuteTime": {
     "end_time": "2024-05-17T16:05:15.141765500Z",
     "start_time": "2024-05-17T16:05:15.062751700Z"
    }
   },
   "outputs": [
    {
     "data": {
      "text/plain": "True"
     },
     "execution_count": 64,
     "metadata": {},
     "output_type": "execute_result"
    }
   ],
   "source": [
    "HALLUCINATION_RATE > MF - MISCALIBRATION"
   ]
  },
  {
   "cell_type": "code",
   "execution_count": 65,
   "metadata": {
    "ExecuteTime": {
     "end_time": "2024-05-17T16:05:16.809058500Z",
     "start_time": "2024-05-17T16:05:16.730545900Z"
    }
   },
   "outputs": [
    {
     "data": {
      "text/plain": "True"
     },
     "execution_count": 65,
     "metadata": {},
     "output_type": "execute_result"
    }
   ],
   "source": [
    "HALLUCINATION_RATE > MF - MISCALIBRATION - (7 / np.sqrt(len(training_data))) - APPROX_FACTS_TO_POSSIBLE_HALLUCINATIONS"
   ]
  },
  {
   "cell_type": "code",
   "outputs": [],
   "source": [],
   "metadata": {
    "collapsed": false
   }
  }
 ],
 "metadata": {
  "kernelspec": {
   "display_name": "Python 3 (ipykernel)",
   "language": "python",
   "name": "python3"
  },
  "language_info": {
   "codemirror_mode": {
    "name": "ipython",
    "version": 3
   },
   "file_extension": ".py",
   "mimetype": "text/x-python",
   "name": "python",
   "nbconvert_exporter": "python",
   "pygments_lexer": "ipython3",
   "version": "3.11.7"
  }
 },
 "nbformat": 4,
 "nbformat_minor": 4
}
