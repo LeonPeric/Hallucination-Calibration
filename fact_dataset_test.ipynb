{
 "cells": [
  {
   "cell_type": "code",
   "execution_count": 1,
   "metadata": {
    "ExecuteTime": {
     "end_time": "2024-05-15T21:43:43.926329100Z",
     "start_time": "2024-05-15T21:43:43.872319Z"
    }
   },
   "outputs": [],
   "source": [
    "%load_ext autoreload\n",
    "%autoreload 2"
   ]
  },
  {
   "cell_type": "markdown",
   "metadata": {},
   "source": [
    "# Dataset preparing"
   ]
  },
  {
   "cell_type": "code",
   "execution_count": 2,
   "metadata": {
    "ExecuteTime": {
     "end_time": "2024-05-15T21:43:44.454926700Z",
     "start_time": "2024-05-15T21:43:43.918827600Z"
    }
   },
   "outputs": [],
   "source": [
    "from dataset.fact_dataset_generator import FactDatasetGenerator\n",
    "import numpy as np\n",
    "import sys\n",
    "import pandas as pd"
   ]
  },
  {
   "cell_type": "code",
   "execution_count": 3,
   "metadata": {
    "ExecuteTime": {
     "end_time": "2024-05-15T21:43:44.504936500Z",
     "start_time": "2024-05-15T21:43:44.444924900Z"
    }
   },
   "outputs": [],
   "source": [
    "true_dist_size = 1000\n",
    "dataset = FactDatasetGenerator(number_person=100,  distribution=\"zipf\", dataset_folder='./dataset/data/', food_list_name=\"food_list_small.txt\",true_dist_size=true_dist_size)"
   ]
  },
  {
   "cell_type": "code",
   "outputs": [],
   "source": [
    "# Generate all possible facts\n",
    "temp = dataset.generate_all_possibilities()"
   ],
   "metadata": {
    "collapsed": false,
    "ExecuteTime": {
     "end_time": "2024-05-15T21:43:44.566947800Z",
     "start_time": "2024-05-15T21:43:44.491933900Z"
    }
   },
   "execution_count": 4
  },
  {
   "cell_type": "code",
   "outputs": [
    {
     "data": {
      "text/plain": "10100"
     },
     "execution_count": 5,
     "metadata": {},
     "output_type": "execute_result"
    }
   ],
   "source": [
    "len(temp)"
   ],
   "metadata": {
    "collapsed": false,
    "ExecuteTime": {
     "end_time": "2024-05-15T21:43:44.616957200Z",
     "start_time": "2024-05-15T21:43:44.554945300Z"
    }
   },
   "execution_count": 5
  },
  {
   "cell_type": "code",
   "outputs": [],
   "source": [
    "# Sample true dist (zipf)\n",
    "true_dist = dataset.generate_true_dist()"
   ],
   "metadata": {
    "collapsed": false,
    "ExecuteTime": {
     "end_time": "2024-05-15T21:43:44.684969800Z",
     "start_time": "2024-05-15T21:43:44.615956900Z"
    }
   },
   "execution_count": 6
  },
  {
   "cell_type": "code",
   "outputs": [],
   "source": [
    "true_dist_df = pd.DataFrame(true_dist,columns=[\"facts\"])"
   ],
   "metadata": {
    "collapsed": false,
    "ExecuteTime": {
     "end_time": "2024-05-15T21:43:44.745980700Z",
     "start_time": "2024-05-15T21:43:44.676968600Z"
    }
   },
   "execution_count": 7
  },
  {
   "cell_type": "code",
   "outputs": [
    {
     "data": {
      "text/plain": "                       facts\n0      Bendite,beef tartare \n1            El,carrot cake \n2              Shaina,gyoza \n3              Rossy,samosa \n4       Shaun,club sandwich \n..                       ...\n995          Flore,pad thai \n996  Violetta,club sandwich \n997          Mirilla,donuts \n998           Farly,ravioli \n999         Shina,apple pie \n\n[1000 rows x 1 columns]",
      "text/html": "<div>\n<style scoped>\n    .dataframe tbody tr th:only-of-type {\n        vertical-align: middle;\n    }\n\n    .dataframe tbody tr th {\n        vertical-align: top;\n    }\n\n    .dataframe thead th {\n        text-align: right;\n    }\n</style>\n<table border=\"1\" class=\"dataframe\">\n  <thead>\n    <tr style=\"text-align: right;\">\n      <th></th>\n      <th>facts</th>\n    </tr>\n  </thead>\n  <tbody>\n    <tr>\n      <th>0</th>\n      <td>Bendite,beef tartare</td>\n    </tr>\n    <tr>\n      <th>1</th>\n      <td>El,carrot cake</td>\n    </tr>\n    <tr>\n      <th>2</th>\n      <td>Shaina,gyoza</td>\n    </tr>\n    <tr>\n      <th>3</th>\n      <td>Rossy,samosa</td>\n    </tr>\n    <tr>\n      <th>4</th>\n      <td>Shaun,club sandwich</td>\n    </tr>\n    <tr>\n      <th>...</th>\n      <td>...</td>\n    </tr>\n    <tr>\n      <th>995</th>\n      <td>Flore,pad thai</td>\n    </tr>\n    <tr>\n      <th>996</th>\n      <td>Violetta,club sandwich</td>\n    </tr>\n    <tr>\n      <th>997</th>\n      <td>Mirilla,donuts</td>\n    </tr>\n    <tr>\n      <th>998</th>\n      <td>Farly,ravioli</td>\n    </tr>\n    <tr>\n      <th>999</th>\n      <td>Shina,apple pie</td>\n    </tr>\n  </tbody>\n</table>\n<p>1000 rows × 1 columns</p>\n</div>"
     },
     "execution_count": 8,
     "metadata": {},
     "output_type": "execute_result"
    }
   ],
   "source": [
    "true_dist_df"
   ],
   "metadata": {
    "collapsed": false,
    "ExecuteTime": {
     "end_time": "2024-05-15T21:43:44.812992800Z",
     "start_time": "2024-05-15T21:43:44.740980500Z"
    }
   },
   "execution_count": 8
  },
  {
   "cell_type": "code",
   "outputs": [],
   "source": [
    "true_duplicates_count = true_dist_df.groupby(list(true_dist_df.columns)).size().reset_index(name='count')\n"
   ],
   "metadata": {
    "collapsed": false,
    "ExecuteTime": {
     "end_time": "2024-05-15T21:43:44.876504700Z",
     "start_time": "2024-05-15T21:43:44.801991100Z"
    }
   },
   "execution_count": 9
  },
  {
   "cell_type": "code",
   "outputs": [
    {
     "data": {
      "text/plain": "                              facts  count\n0              Albertine,apple pie       1\n1           Albertine,beef tartare       1\n2           Albertine,french fries       1\n3              Albertine,ice cream       1\n4    Albertine,spaghetti carbonara       1\n..                              ...    ...\n507              Winfield,tiramisu       1\n508                  Xenos,baklava       1\n509             Xenos,french toast       3\n510               Zeb,cheese plate       1\n511                      Zeb,ramen       1\n\n[512 rows x 2 columns]",
      "text/html": "<div>\n<style scoped>\n    .dataframe tbody tr th:only-of-type {\n        vertical-align: middle;\n    }\n\n    .dataframe tbody tr th {\n        vertical-align: top;\n    }\n\n    .dataframe thead th {\n        text-align: right;\n    }\n</style>\n<table border=\"1\" class=\"dataframe\">\n  <thead>\n    <tr style=\"text-align: right;\">\n      <th></th>\n      <th>facts</th>\n      <th>count</th>\n    </tr>\n  </thead>\n  <tbody>\n    <tr>\n      <th>0</th>\n      <td>Albertine,apple pie</td>\n      <td>1</td>\n    </tr>\n    <tr>\n      <th>1</th>\n      <td>Albertine,beef tartare</td>\n      <td>1</td>\n    </tr>\n    <tr>\n      <th>2</th>\n      <td>Albertine,french fries</td>\n      <td>1</td>\n    </tr>\n    <tr>\n      <th>3</th>\n      <td>Albertine,ice cream</td>\n      <td>1</td>\n    </tr>\n    <tr>\n      <th>4</th>\n      <td>Albertine,spaghetti carbonara</td>\n      <td>1</td>\n    </tr>\n    <tr>\n      <th>...</th>\n      <td>...</td>\n      <td>...</td>\n    </tr>\n    <tr>\n      <th>507</th>\n      <td>Winfield,tiramisu</td>\n      <td>1</td>\n    </tr>\n    <tr>\n      <th>508</th>\n      <td>Xenos,baklava</td>\n      <td>1</td>\n    </tr>\n    <tr>\n      <th>509</th>\n      <td>Xenos,french toast</td>\n      <td>3</td>\n    </tr>\n    <tr>\n      <th>510</th>\n      <td>Zeb,cheese plate</td>\n      <td>1</td>\n    </tr>\n    <tr>\n      <th>511</th>\n      <td>Zeb,ramen</td>\n      <td>1</td>\n    </tr>\n  </tbody>\n</table>\n<p>512 rows × 2 columns</p>\n</div>"
     },
     "execution_count": 10,
     "metadata": {},
     "output_type": "execute_result"
    }
   ],
   "source": [
    "true_duplicates_count"
   ],
   "metadata": {
    "collapsed": false,
    "ExecuteTime": {
     "end_time": "2024-05-15T21:43:44.936515700Z",
     "start_time": "2024-05-15T21:43:44.864503400Z"
    }
   },
   "execution_count": 10
  },
  {
   "cell_type": "code",
   "execution_count": 19,
   "metadata": {
    "ExecuteTime": {
     "end_time": "2024-05-15T21:45:25.093239700Z",
     "start_time": "2024-05-15T21:45:25.013224300Z"
    }
   },
   "outputs": [],
   "source": [
    "# Sample training data uniformly, %80 of true dist\n",
    "train_data_size = int(0.8 * 1000)\n",
    "training_data = dataset.sample_training_data(train_data_size,true_dist.tolist())"
   ]
  },
  {
   "cell_type": "code",
   "outputs": [],
   "source": [
    "training_dist_df = pd.DataFrame(training_data,columns=[\"facts\"])\n",
    "training_duplicates_count = training_dist_df.groupby(list(training_dist_df.columns)).size().reset_index(name='count')"
   ],
   "metadata": {
    "collapsed": false,
    "ExecuteTime": {
     "end_time": "2024-05-15T21:45:27.631281200Z",
     "start_time": "2024-05-15T21:45:27.552267300Z"
    }
   },
   "execution_count": 20
  },
  {
   "cell_type": "code",
   "outputs": [
    {
     "data": {
      "text/plain": "                              facts  count\n0           Albertine,french fries       1\n1              Albertine,ice cream       1\n2    Albertine,spaghetti carbonara       1\n3               Archibald,omelette       2\n4                  Archibald,pizza       1\n..                              ...    ...\n418         Winfield,seaweed salad       1\n419              Winfield,tiramisu       1\n420                  Xenos,baklava       1\n421             Xenos,french toast       3\n422               Zeb,cheese plate       1\n\n[423 rows x 2 columns]",
      "text/html": "<div>\n<style scoped>\n    .dataframe tbody tr th:only-of-type {\n        vertical-align: middle;\n    }\n\n    .dataframe tbody tr th {\n        vertical-align: top;\n    }\n\n    .dataframe thead th {\n        text-align: right;\n    }\n</style>\n<table border=\"1\" class=\"dataframe\">\n  <thead>\n    <tr style=\"text-align: right;\">\n      <th></th>\n      <th>facts</th>\n      <th>count</th>\n    </tr>\n  </thead>\n  <tbody>\n    <tr>\n      <th>0</th>\n      <td>Albertine,french fries</td>\n      <td>1</td>\n    </tr>\n    <tr>\n      <th>1</th>\n      <td>Albertine,ice cream</td>\n      <td>1</td>\n    </tr>\n    <tr>\n      <th>2</th>\n      <td>Albertine,spaghetti carbonara</td>\n      <td>1</td>\n    </tr>\n    <tr>\n      <th>3</th>\n      <td>Archibald,omelette</td>\n      <td>2</td>\n    </tr>\n    <tr>\n      <th>4</th>\n      <td>Archibald,pizza</td>\n      <td>1</td>\n    </tr>\n    <tr>\n      <th>...</th>\n      <td>...</td>\n      <td>...</td>\n    </tr>\n    <tr>\n      <th>418</th>\n      <td>Winfield,seaweed salad</td>\n      <td>1</td>\n    </tr>\n    <tr>\n      <th>419</th>\n      <td>Winfield,tiramisu</td>\n      <td>1</td>\n    </tr>\n    <tr>\n      <th>420</th>\n      <td>Xenos,baklava</td>\n      <td>1</td>\n    </tr>\n    <tr>\n      <th>421</th>\n      <td>Xenos,french toast</td>\n      <td>3</td>\n    </tr>\n    <tr>\n      <th>422</th>\n      <td>Zeb,cheese plate</td>\n      <td>1</td>\n    </tr>\n  </tbody>\n</table>\n<p>423 rows × 2 columns</p>\n</div>"
     },
     "execution_count": 21,
     "metadata": {},
     "output_type": "execute_result"
    }
   ],
   "source": [
    "training_duplicates_count"
   ],
   "metadata": {
    "collapsed": false,
    "ExecuteTime": {
     "end_time": "2024-05-15T21:45:28.106374100Z",
     "start_time": "2024-05-15T21:45:28.015857400Z"
    }
   },
   "execution_count": 21
  },
  {
   "cell_type": "code",
   "execution_count": 22,
   "metadata": {
    "ExecuteTime": {
     "end_time": "2024-05-15T21:45:29.236589800Z",
     "start_time": "2024-05-15T21:45:29.149573600Z"
    }
   },
   "outputs": [],
   "source": [
    "import torch\n",
    "## get the training  datasets\n",
    "train_dataset = [torch.tensor(x, dtype=torch.long) for x in dataset.tokenized_training_data]\n"
   ]
  },
  {
   "cell_type": "code",
   "execution_count": 23,
   "metadata": {
    "ExecuteTime": {
     "end_time": "2024-05-15T21:45:30.063746700Z",
     "start_time": "2024-05-15T21:45:29.982732200Z"
    }
   },
   "outputs": [
    {
     "name": "stdout",
     "output_type": "stream",
     "text": [
      "<__main__.MyDataset object at 0x0000019DA6C9B700>\n"
     ]
    }
   ],
   "source": [
    "from torch.utils.data import Dataset\n",
    "\n",
    "## create a dataset class\n",
    "class MyDataset(Dataset):\n",
    "    def __init__(self, data):\n",
    "        self.data = data\n",
    "\n",
    "    def __len__(self):\n",
    "        return len(self.data)\n",
    "\n",
    "    def __getitem__(self, idx):\n",
    "        # Assuming each item in data is a sequence and we use the same sequence shifted by one as the target\n",
    "        x = torch.tensor(self.data[idx][:-1], dtype=torch.long)\n",
    "        y = torch.tensor(self.data[idx][1:], dtype=torch.long)\n",
    "        #print(x)\n",
    "        #print(y)\n",
    "        \n",
    "        return x, y\n",
    "\n",
    "\n",
    "## create the datasets\n",
    "train_data = MyDataset(train_dataset)\n",
    "# test_data = MyDataset(test_dataset)\n",
    "\n",
    "print(train_data)"
   ]
  },
  {
   "cell_type": "markdown",
   "metadata": {},
   "source": [
    "# Model preparing"
   ]
  },
  {
   "cell_type": "code",
   "execution_count": 24,
   "metadata": {
    "ExecuteTime": {
     "end_time": "2024-05-15T21:45:31.548999400Z",
     "start_time": "2024-05-15T21:45:31.003899900Z"
    }
   },
   "outputs": [
    {
     "name": "stdout",
     "output_type": "stream",
     "text": [
      "number of parameters: 37.93M\n"
     ]
    }
   ],
   "source": [
    "## import mingpt\n",
    "sys.path.append('minGPT/')\n",
    "from mingpt.model import GPT\n",
    "from mingpt.utils import set_seed\n",
    "set_seed(42)\n",
    "\n",
    "model_config = GPT.get_default_config()\n",
    "model_config.n_layer=12\n",
    "model_config.n_head=8\n",
    "model_config.n_embd=512\n",
    "model_config.vocab_size = dataset.vocab_size\n",
    "model_config.model_type = None\n",
    "model_config.block_size = 2\n",
    "model = GPT(model_config)"
   ]
  },
  {
   "cell_type": "code",
   "execution_count": 25,
   "metadata": {
    "ExecuteTime": {
     "end_time": "2024-05-15T21:45:31.874059500Z",
     "start_time": "2024-05-15T21:45:31.624513800Z"
    }
   },
   "outputs": [
    {
     "name": "stdout",
     "output_type": "stream",
     "text": [
      "running on device cuda\n"
     ]
    }
   ],
   "source": [
    "# create a Trainer object\n",
    "from mingpt.trainer import Trainer\n",
    "\n",
    "train_config = Trainer.get_default_config()\n",
    "train_config.learning_rate = 5e-5 # the model we're using is so small that we can go a bit faster\n",
    "train_config.max_iters = 20000\n",
    "train_config.num_workers = 0\n",
    "trainer = Trainer(train_config, model, train_data)"
   ]
  },
  {
   "cell_type": "markdown",
   "metadata": {},
   "source": [
    "# Training the model"
   ]
  },
  {
   "cell_type": "code",
   "execution_count": 26,
   "metadata": {
    "scrolled": true,
    "ExecuteTime": {
     "end_time": "2024-05-15T21:54:35.609604200Z",
     "start_time": "2024-05-15T21:45:32.808299600Z"
    }
   },
   "outputs": [
    {
     "name": "stderr",
     "output_type": "stream",
     "text": [
      "C:\\Users\\Batu\\AppData\\Local\\Temp\\ipykernel_84948\\4291040295.py:13: UserWarning: To copy construct from a tensor, it is recommended to use sourceTensor.clone().detach() or sourceTensor.clone().detach().requires_grad_(True), rather than torch.tensor(sourceTensor).\n",
      "  x = torch.tensor(self.data[idx][:-1], dtype=torch.long)\n",
      "C:\\Users\\Batu\\AppData\\Local\\Temp\\ipykernel_84948\\4291040295.py:14: UserWarning: To copy construct from a tensor, it is recommended to use sourceTensor.clone().detach() or sourceTensor.clone().detach().requires_grad_(True), rather than torch.tensor(sourceTensor).\n",
      "  y = torch.tensor(self.data[idx][1:], dtype=torch.long)\n"
     ]
    },
    {
     "name": "stdout",
     "output_type": "stream",
     "text": [
      "iter_dt 0.00ms; iter 0: train loss 5.39667\n",
      "iter_dt 25.00ms; iter 1000: train loss 2.82567\n",
      "iter_dt 25.50ms; iter 2000: train loss 2.64348\n",
      "iter_dt 25.51ms; iter 3000: train loss 2.77323\n",
      "iter_dt 26.00ms; iter 4000: train loss 2.68330\n",
      "iter_dt 26.50ms; iter 5000: train loss 2.66579\n",
      "iter_dt 26.01ms; iter 6000: train loss 2.73771\n",
      "iter_dt 27.50ms; iter 7000: train loss 2.46910\n",
      "iter_dt 28.51ms; iter 8000: train loss 2.51210\n",
      "iter_dt 26.00ms; iter 9000: train loss 2.56047\n",
      "iter_dt 28.01ms; iter 10000: train loss 2.67438\n",
      "iter_dt 31.51ms; iter 11000: train loss 2.46100\n",
      "iter_dt 25.51ms; iter 12000: train loss 2.58563\n",
      "iter_dt 25.51ms; iter 13000: train loss 2.48247\n",
      "iter_dt 29.01ms; iter 14000: train loss 2.53139\n",
      "iter_dt 27.51ms; iter 15000: train loss 2.55262\n",
      "iter_dt 31.50ms; iter 16000: train loss 2.68836\n",
      "iter_dt 26.51ms; iter 17000: train loss 2.71920\n",
      "iter_dt 28.00ms; iter 18000: train loss 2.51510\n",
      "iter_dt 25.00ms; iter 19000: train loss 2.55659\n"
     ]
    }
   ],
   "source": [
    "def batch_end_callback(trainer):\n",
    "    if trainer.iter_num % 1000 == 0:\n",
    "        print(f\"iter_dt {trainer.iter_dt * 1000:.2f}ms; iter {trainer.iter_num}: train loss {trainer.loss.item():.5f}\")\n",
    "trainer.set_callback('on_batch_end', batch_end_callback)\n",
    "\n",
    "trainer.run()"
   ]
  },
  {
   "cell_type": "code",
   "execution_count": 27,
   "metadata": {
    "ExecuteTime": {
     "end_time": "2024-05-15T21:54:35.720124900Z",
     "start_time": "2024-05-15T21:54:35.610104Z"
    }
   },
   "outputs": [
    {
     "data": {
      "text/plain": "GPT(\n  (transformer): ModuleDict(\n    (wte): Embedding(201, 512)\n    (wpe): Embedding(2, 512)\n    (drop): Dropout(p=0.1, inplace=False)\n    (h): ModuleList(\n      (0-11): 12 x Block(\n        (ln_1): LayerNorm((512,), eps=1e-05, elementwise_affine=True)\n        (attn): CausalSelfAttention(\n          (c_attn): Linear(in_features=512, out_features=1536, bias=True)\n          (c_proj): Linear(in_features=512, out_features=512, bias=True)\n          (attn_dropout): Dropout(p=0.1, inplace=False)\n          (resid_dropout): Dropout(p=0.1, inplace=False)\n        )\n        (ln_2): LayerNorm((512,), eps=1e-05, elementwise_affine=True)\n        (mlp): ModuleDict(\n          (c_fc): Linear(in_features=512, out_features=2048, bias=True)\n          (c_proj): Linear(in_features=2048, out_features=512, bias=True)\n          (act): NewGELU()\n          (dropout): Dropout(p=0.1, inplace=False)\n        )\n      )\n    )\n    (ln_f): LayerNorm((512,), eps=1e-05, elementwise_affine=True)\n  )\n  (lm_head): Linear(in_features=512, out_features=201, bias=False)\n)"
     },
     "execution_count": 27,
     "metadata": {},
     "output_type": "execute_result"
    }
   ],
   "source": [
    "# now let's perform some evaluation\n",
    "model.eval()\n"
   ]
  },
  {
   "cell_type": "markdown",
   "metadata": {},
   "source": [
    "# Generate unconditioned facts"
   ]
  },
  {
   "cell_type": "code",
   "execution_count": 28,
   "metadata": {
    "ExecuteTime": {
     "end_time": "2024-05-15T21:54:35.810641400Z",
     "start_time": "2024-05-15T21:54:35.719624500Z"
    }
   },
   "outputs": [],
   "source": [
    "from tqdm import tqdm\n",
    "import pandas as pd\n",
    "import matplotlib.pyplot as plt\n",
    "import numpy as np\n"
   ]
  },
  {
   "cell_type": "code",
   "outputs": [],
   "source": [
    "n_sequences = 1000\n",
    "from collections import defaultdict\n",
    "collected_generations = []\n",
    "\n",
    "for _ in range(n_sequences):\n",
    "    x = torch.Tensor([0]).unsqueeze(0).long().to(\"cuda\")\n",
    "    y_gen = model.generate(x, 2, do_sample=True)\n",
    "    name = food_item = dataset.decode([y_gen[0][1]])[0]\n",
    "    food_item = dataset.decode([y_gen[0][2]])[0]\n",
    "    collected_generations.append(f\"{name},{food_item}\")"
   ],
   "metadata": {
    "collapsed": false,
    "ExecuteTime": {
     "end_time": "2024-05-15T21:54:55.546288600Z",
     "start_time": "2024-05-15T21:54:35.812140800Z"
    }
   },
   "execution_count": 29
  },
  {
   "cell_type": "code",
   "outputs": [],
   "source": [
    "collected_generations_df = pd.DataFrame(collected_generations, columns=[\"facts\"])"
   ],
   "metadata": {
    "collapsed": false,
    "ExecuteTime": {
     "end_time": "2024-05-15T21:54:55.638304700Z",
     "start_time": "2024-05-15T21:54:55.546788Z"
    }
   },
   "execution_count": 30
  },
  {
   "cell_type": "code",
   "outputs": [],
   "source": [
    "comparison_df = collected_generations_df.groupby(list(collected_generations_df.columns)).size().reset_index(name='count_generated')\n"
   ],
   "metadata": {
    "collapsed": false,
    "ExecuteTime": {
     "end_time": "2024-05-15T21:54:55.731822400Z",
     "start_time": "2024-05-15T21:54:55.639304900Z"
    }
   },
   "execution_count": 31
  },
  {
   "cell_type": "code",
   "outputs": [
    {
     "data": {
      "text/plain": "                              facts  count_generated\n0           Albertine,french fries                 1\n1              Albertine,ice cream                 2\n2    Albertine,spaghetti carbonara                 4\n3               Archibald,omelette                 4\n4                  Archibald,pizza                 3\n..                              ...              ...\n335            pho ,baby back ribs                 1\n336            ramen ,garlic bread                 1\n337          ravioli ,garlic bread                 1\n338     tacos ,macaroni and cheese                 1\n339         waffles,baby back ribs                 1\n\n[340 rows x 2 columns]",
      "text/html": "<div>\n<style scoped>\n    .dataframe tbody tr th:only-of-type {\n        vertical-align: middle;\n    }\n\n    .dataframe tbody tr th {\n        vertical-align: top;\n    }\n\n    .dataframe thead th {\n        text-align: right;\n    }\n</style>\n<table border=\"1\" class=\"dataframe\">\n  <thead>\n    <tr style=\"text-align: right;\">\n      <th></th>\n      <th>facts</th>\n      <th>count_generated</th>\n    </tr>\n  </thead>\n  <tbody>\n    <tr>\n      <th>0</th>\n      <td>Albertine,french fries</td>\n      <td>1</td>\n    </tr>\n    <tr>\n      <th>1</th>\n      <td>Albertine,ice cream</td>\n      <td>2</td>\n    </tr>\n    <tr>\n      <th>2</th>\n      <td>Albertine,spaghetti carbonara</td>\n      <td>4</td>\n    </tr>\n    <tr>\n      <th>3</th>\n      <td>Archibald,omelette</td>\n      <td>4</td>\n    </tr>\n    <tr>\n      <th>4</th>\n      <td>Archibald,pizza</td>\n      <td>3</td>\n    </tr>\n    <tr>\n      <th>...</th>\n      <td>...</td>\n      <td>...</td>\n    </tr>\n    <tr>\n      <th>335</th>\n      <td>pho ,baby back ribs</td>\n      <td>1</td>\n    </tr>\n    <tr>\n      <th>336</th>\n      <td>ramen ,garlic bread</td>\n      <td>1</td>\n    </tr>\n    <tr>\n      <th>337</th>\n      <td>ravioli ,garlic bread</td>\n      <td>1</td>\n    </tr>\n    <tr>\n      <th>338</th>\n      <td>tacos ,macaroni and cheese</td>\n      <td>1</td>\n    </tr>\n    <tr>\n      <th>339</th>\n      <td>waffles,baby back ribs</td>\n      <td>1</td>\n    </tr>\n  </tbody>\n</table>\n<p>340 rows × 2 columns</p>\n</div>"
     },
     "execution_count": 32,
     "metadata": {},
     "output_type": "execute_result"
    }
   ],
   "source": [
    "comparison_df"
   ],
   "metadata": {
    "collapsed": false,
    "ExecuteTime": {
     "end_time": "2024-05-15T21:54:55.836842100Z",
     "start_time": "2024-05-15T21:54:55.732822700Z"
    }
   },
   "execution_count": 32
  },
  {
   "cell_type": "code",
   "outputs": [],
   "source": [
    "# Merge true dist and training dist dataframes, outer is used to include data that is not in training data as well\n",
    "merged_df = pd.merge(true_duplicates_count, training_duplicates_count, on='facts', how='outer',suffixes=(\"_true\",\"_train\"))"
   ],
   "metadata": {
    "collapsed": false,
    "ExecuteTime": {
     "end_time": "2024-05-15T21:54:55.933859Z",
     "start_time": "2024-05-15T21:54:55.825839500Z"
    }
   },
   "execution_count": 33
  },
  {
   "cell_type": "code",
   "outputs": [],
   "source": [
    "# Add generated_df to true and training dfs \n",
    "# outer can be used to include all facts in true dist\n",
    "# inner can be used to only show the comparison of generated facts\n",
    "comparison_df = pd.merge(merged_df, comparison_df, on='facts', how='outer')"
   ],
   "metadata": {
    "collapsed": false,
    "ExecuteTime": {
     "end_time": "2024-05-15T21:54:56.026876700Z",
     "start_time": "2024-05-15T21:54:55.920357Z"
    }
   },
   "execution_count": 34
  },
  {
   "cell_type": "code",
   "outputs": [
    {
     "data": {
      "text/plain": "                              facts  count_true  count_train  count_generated\n0              Albertine,apple pie          1.0          NaN              NaN\n1           Albertine,beef tartare          1.0          NaN              NaN\n2           Albertine,french fries          1.0          1.0              1.0\n3              Albertine,ice cream          1.0          1.0              2.0\n4    Albertine,spaghetti carbonara          1.0          1.0              4.0\n..                              ...         ...          ...              ...\n542            pho ,baby back ribs          NaN          NaN              1.0\n543            ramen ,garlic bread          NaN          NaN              1.0\n544          ravioli ,garlic bread          NaN          NaN              1.0\n545     tacos ,macaroni and cheese          NaN          NaN              1.0\n546         waffles,baby back ribs          NaN          NaN              1.0\n\n[547 rows x 4 columns]",
      "text/html": "<div>\n<style scoped>\n    .dataframe tbody tr th:only-of-type {\n        vertical-align: middle;\n    }\n\n    .dataframe tbody tr th {\n        vertical-align: top;\n    }\n\n    .dataframe thead th {\n        text-align: right;\n    }\n</style>\n<table border=\"1\" class=\"dataframe\">\n  <thead>\n    <tr style=\"text-align: right;\">\n      <th></th>\n      <th>facts</th>\n      <th>count_true</th>\n      <th>count_train</th>\n      <th>count_generated</th>\n    </tr>\n  </thead>\n  <tbody>\n    <tr>\n      <th>0</th>\n      <td>Albertine,apple pie</td>\n      <td>1.0</td>\n      <td>NaN</td>\n      <td>NaN</td>\n    </tr>\n    <tr>\n      <th>1</th>\n      <td>Albertine,beef tartare</td>\n      <td>1.0</td>\n      <td>NaN</td>\n      <td>NaN</td>\n    </tr>\n    <tr>\n      <th>2</th>\n      <td>Albertine,french fries</td>\n      <td>1.0</td>\n      <td>1.0</td>\n      <td>1.0</td>\n    </tr>\n    <tr>\n      <th>3</th>\n      <td>Albertine,ice cream</td>\n      <td>1.0</td>\n      <td>1.0</td>\n      <td>2.0</td>\n    </tr>\n    <tr>\n      <th>4</th>\n      <td>Albertine,spaghetti carbonara</td>\n      <td>1.0</td>\n      <td>1.0</td>\n      <td>4.0</td>\n    </tr>\n    <tr>\n      <th>...</th>\n      <td>...</td>\n      <td>...</td>\n      <td>...</td>\n      <td>...</td>\n    </tr>\n    <tr>\n      <th>542</th>\n      <td>pho ,baby back ribs</td>\n      <td>NaN</td>\n      <td>NaN</td>\n      <td>1.0</td>\n    </tr>\n    <tr>\n      <th>543</th>\n      <td>ramen ,garlic bread</td>\n      <td>NaN</td>\n      <td>NaN</td>\n      <td>1.0</td>\n    </tr>\n    <tr>\n      <th>544</th>\n      <td>ravioli ,garlic bread</td>\n      <td>NaN</td>\n      <td>NaN</td>\n      <td>1.0</td>\n    </tr>\n    <tr>\n      <th>545</th>\n      <td>tacos ,macaroni and cheese</td>\n      <td>NaN</td>\n      <td>NaN</td>\n      <td>1.0</td>\n    </tr>\n    <tr>\n      <th>546</th>\n      <td>waffles,baby back ribs</td>\n      <td>NaN</td>\n      <td>NaN</td>\n      <td>1.0</td>\n    </tr>\n  </tbody>\n</table>\n<p>547 rows × 4 columns</p>\n</div>"
     },
     "execution_count": 35,
     "metadata": {},
     "output_type": "execute_result"
    }
   ],
   "source": [
    "comparison_df"
   ],
   "metadata": {
    "collapsed": false,
    "ExecuteTime": {
     "end_time": "2024-05-15T21:54:56.132395900Z",
     "start_time": "2024-05-15T21:54:56.027876700Z"
    }
   },
   "execution_count": 35
  },
  {
   "cell_type": "code",
   "outputs": [],
   "source": [
    "# Fill in 0 for facts that not appear\n",
    "comparison_df = comparison_df.fillna(0)"
   ],
   "metadata": {
    "collapsed": false,
    "ExecuteTime": {
     "end_time": "2024-05-15T21:54:56.229414100Z",
     "start_time": "2024-05-15T21:54:56.120393700Z"
    }
   },
   "execution_count": 36
  },
  {
   "cell_type": "code",
   "outputs": [],
   "source": [
    "# Normalize the counts by length\n",
    "comparison_df[\"count_generated\"] = comparison_df['count_generated']/len(collected_generations)\n",
    "comparison_df[\"count_train\"] = comparison_df['count_train']/len(training_data)\n",
    "comparison_df[\"count_true\"] = comparison_df['count_true']/true_dist_size\n"
   ],
   "metadata": {
    "collapsed": false,
    "ExecuteTime": {
     "end_time": "2024-05-15T21:54:56.335934Z",
     "start_time": "2024-05-15T21:54:56.229914700Z"
    }
   },
   "execution_count": 37
  },
  {
   "cell_type": "code",
   "outputs": [
    {
     "data": {
      "text/plain": "                              facts  count_true  count_train  count_generated\n0              Albertine,apple pie        0.001      0.00000            0.000\n1           Albertine,beef tartare        0.001      0.00000            0.000\n2           Albertine,french fries        0.001      0.00125            0.001\n3              Albertine,ice cream        0.001      0.00125            0.002\n4    Albertine,spaghetti carbonara        0.001      0.00125            0.004\n..                              ...         ...          ...              ...\n542            pho ,baby back ribs        0.000      0.00000            0.001\n543            ramen ,garlic bread        0.000      0.00000            0.001\n544          ravioli ,garlic bread        0.000      0.00000            0.001\n545     tacos ,macaroni and cheese        0.000      0.00000            0.001\n546         waffles,baby back ribs        0.000      0.00000            0.001\n\n[547 rows x 4 columns]",
      "text/html": "<div>\n<style scoped>\n    .dataframe tbody tr th:only-of-type {\n        vertical-align: middle;\n    }\n\n    .dataframe tbody tr th {\n        vertical-align: top;\n    }\n\n    .dataframe thead th {\n        text-align: right;\n    }\n</style>\n<table border=\"1\" class=\"dataframe\">\n  <thead>\n    <tr style=\"text-align: right;\">\n      <th></th>\n      <th>facts</th>\n      <th>count_true</th>\n      <th>count_train</th>\n      <th>count_generated</th>\n    </tr>\n  </thead>\n  <tbody>\n    <tr>\n      <th>0</th>\n      <td>Albertine,apple pie</td>\n      <td>0.001</td>\n      <td>0.00000</td>\n      <td>0.000</td>\n    </tr>\n    <tr>\n      <th>1</th>\n      <td>Albertine,beef tartare</td>\n      <td>0.001</td>\n      <td>0.00000</td>\n      <td>0.000</td>\n    </tr>\n    <tr>\n      <th>2</th>\n      <td>Albertine,french fries</td>\n      <td>0.001</td>\n      <td>0.00125</td>\n      <td>0.001</td>\n    </tr>\n    <tr>\n      <th>3</th>\n      <td>Albertine,ice cream</td>\n      <td>0.001</td>\n      <td>0.00125</td>\n      <td>0.002</td>\n    </tr>\n    <tr>\n      <th>4</th>\n      <td>Albertine,spaghetti carbonara</td>\n      <td>0.001</td>\n      <td>0.00125</td>\n      <td>0.004</td>\n    </tr>\n    <tr>\n      <th>...</th>\n      <td>...</td>\n      <td>...</td>\n      <td>...</td>\n      <td>...</td>\n    </tr>\n    <tr>\n      <th>542</th>\n      <td>pho ,baby back ribs</td>\n      <td>0.000</td>\n      <td>0.00000</td>\n      <td>0.001</td>\n    </tr>\n    <tr>\n      <th>543</th>\n      <td>ramen ,garlic bread</td>\n      <td>0.000</td>\n      <td>0.00000</td>\n      <td>0.001</td>\n    </tr>\n    <tr>\n      <th>544</th>\n      <td>ravioli ,garlic bread</td>\n      <td>0.000</td>\n      <td>0.00000</td>\n      <td>0.001</td>\n    </tr>\n    <tr>\n      <th>545</th>\n      <td>tacos ,macaroni and cheese</td>\n      <td>0.000</td>\n      <td>0.00000</td>\n      <td>0.001</td>\n    </tr>\n    <tr>\n      <th>546</th>\n      <td>waffles,baby back ribs</td>\n      <td>0.000</td>\n      <td>0.00000</td>\n      <td>0.001</td>\n    </tr>\n  </tbody>\n</table>\n<p>547 rows × 4 columns</p>\n</div>"
     },
     "execution_count": 38,
     "metadata": {},
     "output_type": "execute_result"
    }
   ],
   "source": [
    "comparison_df"
   ],
   "metadata": {
    "collapsed": false,
    "ExecuteTime": {
     "end_time": "2024-05-15T21:54:56.436452300Z",
     "start_time": "2024-05-15T21:54:56.337434500Z"
    }
   },
   "execution_count": 38
  },
  {
   "cell_type": "code",
   "outputs": [
    {
     "data": {
      "text/plain": "<Axes: >"
     },
     "execution_count": 39,
     "metadata": {},
     "output_type": "execute_result"
    },
    {
     "data": {
      "text/plain": "<Figure size 1600x400 with 1 Axes>",
      "image/png": "[encoded data removed]"
     },
     "metadata": {},
     "output_type": "display_data"
    }
   ],
   "source": [
    "import matplotlib.pyplot as plt\n",
    "import numpy as np\n",
    "# Only the top 100 facts graphed for visibility \n",
    "comparison_df[:100].plot.bar(figsize=(16, 4))"
   ],
   "metadata": {
    "collapsed": false,
    "ExecuteTime": {
     "end_time": "2024-05-15T21:54:57.151584Z",
     "start_time": "2024-05-15T21:54:56.430451Z"
    }
   },
   "execution_count": 39
  },
  {
   "cell_type": "code",
   "outputs": [],
   "source": [],
   "metadata": {
    "collapsed": false
   }
  }
 ],
 "metadata": {
  "kernelspec": {
   "display_name": "Python 3 (ipykernel)",
   "language": "python",
   "name": "python3"
  },
  "language_info": {
   "codemirror_mode": {
    "name": "ipython",
    "version": 3
   },
   "file_extension": ".py",
   "mimetype": "text/x-python",
   "name": "python",
   "nbconvert_exporter": "python",
   "pygments_lexer": "ipython3",
   "version": "3.11.7"
  }
 },
 "nbformat": 4,
 "nbformat_minor": 4
}
