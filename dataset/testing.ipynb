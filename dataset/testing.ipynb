{
 "cells": [
  {
   "cell_type": "code",
   "execution_count": 1,
   "metadata": {},
   "outputs": [],
   "source": [
    "from main import DatasetGenerator\n",
    "import numpy as np"
   ]
  },
  {
   "cell_type": "code",
   "execution_count": 2,
   "metadata": {},
   "outputs": [],
   "source": [
    "dataset = DatasetGenerator(small=True, samples=10000, facts_per_person=10, distribution=\"zipf\", place=False, day=False)\n",
    "dataset.generate()"
   ]
  },
  {
   "cell_type": "code",
   "execution_count": 3,
   "metadata": {},
   "outputs": [],
   "source": [
    "dataset.tokenize()"
   ]
  },
  {
   "cell_type": "code",
   "execution_count": 7,
   "metadata": {},
   "outputs": [
    {
     "data": {
      "text/plain": [
       "['Cordie had baby back ribs',\n",
       " 'Cordie had french fries',\n",
       " 'Cordie had ceviche',\n",
       " 'Cordie had macarons',\n",
       " 'Cordie had bibimbap',\n",
       " 'Cordie had chocolate cake',\n",
       " 'Cordie had apple pie',\n",
       " 'Cordie had hummus',\n",
       " 'Cordie had cheesecake',\n",
       " 'Cordie had churros',\n",
       " 'Somerset had baby back ribs',\n",
       " 'Somerset had ceviche',\n",
       " 'Somerset had chicken quesadilla',\n",
       " 'Somerset had beef carpaccio',\n",
       " 'Somerset had ice cream',\n",
       " 'Somerset had donuts',\n",
       " 'Somerset had apple pie',\n",
       " 'Somerset had escargots',\n",
       " 'Somerset had omelette',\n",
       " 'Somerset had hamburger']"
      ]
     },
     "execution_count": 7,
     "metadata": {},
     "output_type": "execute_result"
    }
   ],
   "source": [
    "dataset.dataset[:20]"
   ]
  },
  {
   "cell_type": "code",
   "execution_count": 8,
   "metadata": {},
   "outputs": [
    {
     "data": {
      "text/plain": [
       "[['Cordie', 'baby back ribs'],\n",
       " ['Cordie', 'french fries'],\n",
       " ['Cordie', 'ceviche'],\n",
       " ['Cordie', 'macarons'],\n",
       " ['Cordie', 'bibimbap'],\n",
       " ['Cordie', 'chocolate cake'],\n",
       " ['Cordie', 'apple pie'],\n",
       " ['Cordie', 'hummus'],\n",
       " ['Cordie', 'cheesecake'],\n",
       " ['Cordie', 'churros'],\n",
       " ['Somerset', 'baby back ribs'],\n",
       " ['Somerset', 'ceviche'],\n",
       " ['Somerset', 'chicken quesadilla'],\n",
       " ['Somerset', 'beef carpaccio'],\n",
       " ['Somerset', 'ice cream'],\n",
       " ['Somerset', 'donuts'],\n",
       " ['Somerset', 'apple pie'],\n",
       " ['Somerset', 'escargots'],\n",
       " ['Somerset', 'omelette'],\n",
       " ['Somerset', 'hamburger']]"
      ]
     },
     "execution_count": 8,
     "metadata": {},
     "output_type": "execute_result"
    }
   ],
   "source": [
    "dataset.dataset_splitted[:20]"
   ]
  },
  {
   "cell_type": "code",
   "execution_count": 9,
   "metadata": {},
   "outputs": [
    {
     "data": {
      "text/plain": [
       "[[0, 1],\n",
       " [0, 2],\n",
       " [0, 3],\n",
       " [0, 4],\n",
       " [0, 5],\n",
       " [0, 6],\n",
       " [0, 7],\n",
       " [0, 8],\n",
       " [0, 9],\n",
       " [0, 10],\n",
       " [11, 1],\n",
       " [11, 3],\n",
       " [11, 12],\n",
       " [11, 13],\n",
       " [11, 14],\n",
       " [11, 15],\n",
       " [11, 7],\n",
       " [11, 16],\n",
       " [11, 17],\n",
       " [11, 18]]"
      ]
     },
     "execution_count": 9,
     "metadata": {},
     "output_type": "execute_result"
    }
   ],
   "source": [
    "dataset.dataset_tokenized[:20]"
   ]
  },
  {
   "cell_type": "code",
   "execution_count": 10,
   "metadata": {},
   "outputs": [
    {
     "data": {
      "text/plain": [
       "1095"
      ]
     },
     "execution_count": 10,
     "metadata": {},
     "output_type": "execute_result"
    }
   ],
   "source": [
    "dataset.vocabulary_size"
   ]
  }
 ],
 "metadata": {
  "kernelspec": {
   "display_name": "Python 3 (ipykernel)",
   "language": "python",
   "name": "python3"
  },
  "language_info": {
   "codemirror_mode": {
    "name": "ipython",
    "version": 3
   },
   "file_extension": ".py",
   "mimetype": "text/x-python",
   "name": "python",
   "nbconvert_exporter": "python",
   "pygments_lexer": "ipython3",
   "version": "3.11.5"
  }
 },
 "nbformat": 4,
 "nbformat_minor": 4
}
